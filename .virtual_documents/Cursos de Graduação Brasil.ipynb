








import pandas as pd
import numpy as np
import matplotlib.pyplot as plt
  import seaborn as sns
import os
import gdown





!pip install gdown


url = 'https://drive.google.com/file/d/11z9j5YM_fFH6UFWusgEBmbQHpPhaUTvi/view?usp=sharing'
output = 'dataset_ies.csv'
gdown.download(url, output, quiet=False, fuzzy=True)
print('Arquivo baixado:', os.path.exists(output))








df = pd.read_csv('dataset_ies.csv')


df.head()


df.shape


df.columns


df.dtypes





df.nunique()








df['AREA_OCDE'].unique()


df['AREA_OCDE_CINE'].unique()








df = df.drop(columns=['CODIGO_IES',
                      'CODIGO_CURSO',
                      'AREA_OCDE',
                      'CODIGO_AREA_OCDE_CINE',
                      'AREA_OCDE_CINE',
                      'CODIGO_MUNICIPIO'])





df.columns


df.shape








df['NOME_CURSO'].unique()


df['CATEGORIA_ADMINISTRATIVA'].unique()


df['ORGANIZACAO_ACADEMICA'].unique()


df['GRAU'].unique()


df['MODALIDADE'].unique()


df['SITUACAO_CURSO'].unique()


df['UF'].unique()





df[df['UF'] == 'ZZ'][['UF', 'REGIAO', 'MUNICIPIO']].head()





df[df['UF']=='ZZ'].nunique()





df['REGIAO'].unique()


df[df['REGIAO']=='IGNORADO/EXTERIOR'].nunique()





df = df.drop(df[subs(df['UF'] == 'ZZ') & (df['REGIAO'] == 'IGNORADO/EXTERIOR')].index)





df.info()


df.isnull().sum()














df_ea = df[df['SITUACAO_CURSO'] == 'Em atividade'] # df_ea = dataframe apenas com cursos em atividades





cursos_ti = [
    'TECNOLOGIA DA INFORMAÇÃO',
    'CIÊNCIA DA COMPUTAÇÃO',
    'CIÊNCIAS DA COMPUTAÇÃO',
    'ENGENHARIA DA COMPUTAÇÃO',
    'ENGENHARIA DE COMPUTAÇÃO',
    'ENGENHARIA DE SOFTWARE',
    'ANÁLISE E DESENVOLVIMENTO DE SISTEMAS',
    'SISTEMAS DE INFORMAÇÃO',
    'GESTÃO DA TECNOLOGIA DA INFORMAÇÃO',
    'ENGENHARIA DE TELECOMUNICAÇÕES',
    'REDES DE COMPUTADORES',
    'ENGENHARIA MECATRÔNICA',
    'ENGENHARIA DE CONTROLE E AUTOMAÇÃO',
    'SISTEMAS PARA INTERNET',
    'BANCO DE DADOS',
    'JOGOS DIGITAIS'
]

dfti = df_ea[df_ea['NOME_CURSO'].isin(cursos_ti)] # dfti é o dataframe com os cursos de TI Em Atividade listados acima.





dfti['NOME_CURSO'] = dfti['NOME_CURSO'].replace('CIÊNCIAS DA COMPUTAÇÃO', 'CIÊNCIA DA COMPUTAÇÃO')
dfti['NOME_CURSO'] = dfti['NOME_CURSO'].replace('CIêNCIAS DE COMPUTAçãO', 'CIÊNCIA DA COMPUTAÇÃO')

dfti['NOME_CURSO'] = dfti['NOME_CURSO'].replace('ENGENHARIA DA COMPUTAÇÃO', 'ENGENHARIA DE COMPUTAÇÃO')

dfti['NOME_CURSO'] = dfti['NOME_CURSO'].replace('GESTÃO EM TECNOLOGIA DA INFORMAÇÃO', 'GESTÃO DA TECNOLOGIA DA INFORMAÇÃO')
dfti['NOME_CURSO'] = dfti['NOME_CURSO'].replace('GESTÃO DE TECNOLOGIA DA INFORMAÇÃO', 'GESTÃO DA TECNOLOGIA DA INFORMAÇÃO')





plt.figure(figsize=(40,1))
plt.boxplot(dfti['QT_VAGAS_AUTORIZADAS'], vert=False)
plt.xlabel('Quantidade de vagas autorizadas')
plt.ylabel('Cursos')
plt.title('Distribuição de Vagas Autorizadas para os Cursos de TI')

plt.show()


dfti[['QT_VAGAS_AUTORIZADAS', 'NOME_CURSO', 'NOME_IES', 'MODALIDADE', 'MUNICIPIO']].sort_values(by=['QT_VAGAS_AUTORIZADAS'], ascending=False).head(10)


dfti[['QT_VAGAS_AUTORIZADAS', 'NOME_CURSO', 'NOME_IES', 'MODALIDADE', 'MUNICIPIO']].sort_values(by=['QT_VAGAS_AUTORIZADAS'], ascending=True).head(10)











dfti_limpo_qtv = dfti[
    (dfti['QT_VAGAS_AUTORIZADAS'] > dfti['QT_VAGAS_AUTORIZADAS'].quantile(0.001)) &
    (dfti['QT_VAGAS_AUTORIZADAS'] < dfti['QT_VAGAS_AUTORIZADAS'].quantile(0.600))]

# dfti_limpo_qtv = dataframe ti em atividade limpo para quantidade de vagas


dfti_limpo_qtv['QT_VAGAS_AUTORIZADAS'] = np.where(
                                  dfti_limpo_qtv['QT_VAGAS_AUTORIZADAS'] >= dfti_limpo_qtv['QT_VAGAS_AUTORIZADAS'].quantile(0.600),
                                  dfti_limpo_qtv[(dfti_limpo_qtv['QT_VAGAS_AUTORIZADAS'] > dfti_limpo_qtv['QT_VAGAS_AUTORIZADAS'].quantile(0.001)) & (dfti_limpo_qtv['QT_VAGAS_AUTORIZADAS'] < dfti_limpo_qtv['QT_VAGAS_AUTORIZADAS'].quantile(0.600))]['QT_VAGAS_AUTORIZADAS'].mean(),
                                  dfti_limpo_qtv['QT_VAGAS_AUTORIZADAS'])


dfti_limpo_qtv[['QT_VAGAS_AUTORIZADAS', 'NOME_CURSO', 'NOME_IES', 'MODALIDADE', 'MUNICIPIO']].sort_values(by=['QT_VAGAS_AUTORIZADAS'], ascending=False).head()


dfti_limpo_qtv[['QT_VAGAS_AUTORIZADAS', 'NOME_CURSO', 'NOME_IES', 'MODALIDADE', 'MUNICIPIO']].sort_values(by=['QT_VAGAS_AUTORIZADAS'], ascending=True).head()





plt.figure(figsize=(100,1))
plt.boxplot(dfti['CARGA_HORARIA'], vert=False)
plt.xlabel('Carga horária')
plt.ylabel('Cursos')
plt.title('Distribuição de Carga Horária Individual para Cada Curso de TI')

plt.show()


dfti[['CARGA_HORARIA', 'NOME_CURSO', 'NOME_IES', 'MODALIDADE', 'MUNICIPIO']].sort_values(by=['CARGA_HORARIA'], ascending=False).head()





dfti[['CARGA_HORARIA', 'NOME_CURSO', 'NOME_IES', 'MODALIDADE', 'MUNICIPIO']].sort_values(by=['CARGA_HORARIA'], ascending=True).head()








dfti_limpo_ch = dfti[
    (dfti['CARGA_HORARIA'] > dfti['CARGA_HORARIA'].quantile(0.001)) &
    (dfti['CARGA_HORARIA'] < dfti['CARGA_HORARIA'].quantile(0.985))]

# dfti_limpo_ch = dataframe ti em atividade limpo para carga horária


dfti_limpo_ch['CARGA_HORARIA'] = np.where(
                                  dfti_limpo_ch['CARGA_HORARIA'] >= dfti_limpo_ch['CARGA_HORARIA'].quantile(0.985),
                                  dfti_limpo_ch[(dfti_limpo_ch['CARGA_HORARIA'] > dfti_limpo_ch['CARGA_HORARIA'].quantile(0.001))
                                  & (dfti_limpo_ch['CARGA_HORARIA'] < dfti_limpo_ch['CARGA_HORARIA'].quantile(0.985))]['CARGA_HORARIA'].mean(),
                                  dfti_limpo_ch['CARGA_HORARIA'])


dfti_limpo_ch[['CARGA_HORARIA', 'NOME_CURSO', 'NOME_IES', 'MODALIDADE', 'MUNICIPIO']].sort_values(by=['CARGA_HORARIA'], ascending=False).head()


dfti_limpo_ch[['CARGA_HORARIA', 'NOME_CURSO', 'NOME_IES', 'MODALIDADE', 'MUNICIPIO']].sort_values(by=['CARGA_HORARIA'], ascending=True).head()











df['NOME_CURSO'].value_counts().sort_values(ascending=False).head(10).plot.barh(figsize=(5, 3))
plt.title('Os 10 Cursos mais Frequentes no Brasil')
plt.xlabel('Quantidade')
plt.ylabel('Curso')
plt.show()





df_ea.shape # df_ea = dataframe apenas com cursos em atividade





df.shape











df_earn = df_ea[df_ea['UF'] == 'RN'] # df_earn = cursos do RN em atividade











df_ea['REGIAO'].value_counts()


df_ea['REGIAO'].value_counts().plot.barh(figsize=(6, 2))
plt.title('Regiões com mais Cursos Em Atividade')
plt.xlabel('Quantidade de cursos')
plt.ylabel('Região')
plt.show()


plt.figure(figsize=(4,4))

qt_regiao = df_ea['REGIAO'].value_counts()

plt.pie(qt_regiao, labels=qt_regiao.index, autopct='%1.1f%%', startangle=140)
plt.title('Distribuição dos Cursos Em Atividade por Região')
plt.show()


dados_pb = {
  'REGIAO': ['NORTE', 'NORDESTE', 'CENTRO-OESTE', 'SUDESTE', 'SUL'],
  'POPULACAO': [17349619, 54644582, 16287809, 84847187, 29933315]
}

df_pb = pd.DataFrame(dados_pb) # df_pb = DataFrame População Brasil





df_pb.head()


df_pbsorted = df_pb.sort_values(by='POPULACAO', ascending=False)

plt.figure(figsize=(6,2))
plt.barh(df_pbsorted['REGIAO'], df_pbsorted['POPULACAO'])

plt.xlabel('Região')
plt.ylabel('População')
plt.title('Distribuição da População Brasileira por Região')
plt.show()


df_ea['REGIAO'].value_counts().plot.barh(figsize=(6, 2))
plt.title('Regiões com mais Cursos Em Atividade')
plt.xlabel('Quantidade de cursos')
plt.ylabel('Região')
plt.show()














df_ea['UF'].value_counts()


df_ea['UF'].value_counts().plot.barh(figsize=(6, 7))
plt.title('Estados com mais Cursos Em Atividade')
plt.xlabel('Quantidade de cursos')
plt.ylabel('Estado')
plt.show()





df_earn['MUNICIPIO'].value_counts().head(15)


df_earn['MUNICIPIO'].value_counts().head(15).plot.barh(figsize=(6, 6))
plt.title('Os 15 Municípios do RN com mais Cursos Em Atividade')
plt.xlabel('Quantidade de cursos')
plt.ylabel('Município')
plt.show()








df_ea['MODALIDADE'].value_counts()


value_counts = df_ea['MODALIDADE'].value_counts()

plt.figure(figsize=(6,6))
plt.pie(value_counts, labels=value_counts.index, autopct='%1.1f%%', startangle=90)
plt.title('Distribuição dos Cursos Em Atividade por Modalidade de Ensino')
plt.show()





df_ea.groupby('REGIAO')['MODALIDADE'].value_counts().sort_values(ascending=False)


presencial_por_regiao = df_ea[df_ea['MODALIDADE'] == 'Educação Presencial'].groupby('REGIAO')['MODALIDADE'].count().sort_values(ascending=False)

ead_por_regiao = df_ea[df_ea['MODALIDADE'] == 'Educação a Distância'].groupby('REGIAO')['MODALIDADE'].count().sort_values(ascending=False)

fig, axs = plt.subplots(1, 2, figsize=(16, 6))

presencial_por_regiao.plot(kind='bar', ax=axs[0])
axs[0].set_title('Quantidade de Cursos Presenciais por Região')
axs[0].set_xlabel('Região')
axs[0].set_ylabel('Quantidade de cursos')
axs[0].tick_params(axis='x', rotation=45)

ead_por_regiao.plot(kind='bar', ax=axs[1], color='green')
axs[1].set_title('Quantidade de Cursos EaD por Região')
axs[1].set_xlabel('Região')
axs[1].set_ylabel('Quantidade de cursos')
axs[1].tick_params(axis='x', rotation=45)

plt.tight_layout()

plt.show()








df_ea[df_ea['MODALIDADE'] == 'Educação Presencial'].groupby('UF')['MODALIDADE'].count().sort_values(ascending=False)


df_ea[df_ea['MODALIDADE'] == 'Educação a Distância'].groupby('UF')['MODALIDADE'].count().sort_values(ascending=False)


presencial_por_estado = df_ea[df_ea['MODALIDADE'] == 'Educação Presencial'].groupby('UF')['MODALIDADE'].count().sort_values(ascending=False)

ead_por_estado = df_ea[df_ea['MODALIDADE'] == 'Educação a Distância'].groupby('UF')['MODALIDADE'].count().sort_values(ascending=False)

fig, axs = plt.subplots(1, 2, figsize=(16, 6))

presencial_por_estado.plot(kind='bar', ax=axs[0])
axs[0].set_title('Quantidade de Cursos Presenciais por Estado')
axs[0].set_xlabel('Estado')
axs[0].set_ylabel('Quantidade de cursos')
axs[0].tick_params(axis='x', rotation=45)

ead_por_estado.plot(kind='bar', ax=axs[1], color='green')
axs[1].set_title('Quantidade de Cursos EaD por Estado')
axs[1].set_xlabel('Estado')
axs[1].set_ylabel('Quantidade de cursos')
axs[1].tick_params(axis='x', rotation=45)

plt.tight_layout()

plt.show()


df_earn_presencial = df_earn[df_earn['MODALIDADE'] == 'Educação Presencial']
df_earn_ead = df_earn[df_earn['MODALIDADE'] == 'Educação a Distância']

fig, axs = plt.subplots(1, 2, figsize=(12, 6))

df_earn_presencial['MUNICIPIO'].value_counts().head(15).plot.barh(ax=axs[0])
axs[0].set_title('Quantidade de Cursos Presenciais por Municípios do RN')
axs[0].set_xlabel('Quantidade de cursos')
axs[0].set_ylabel('Município')

df_earn_ead['MUNICIPIO'].value_counts().head(15).plot.barh(ax=axs[1], color='green')
axs[1].set_title('Quantidade de Cursos EaD por Municípios do RN')
axs[1].set_xlabel('Quantidade de cursos')
axs[1].set_ylabel('Município')

plt.tight_layout()

plt.show()





df_ea[df_ea['MODALIDADE'] == 'Educação Presencial'].groupby('GRAU')['MODALIDADE'].count().sort_values(ascending=False)


df_ea_presencial_modalidade_grau = df_ea[df_ea['MODALIDADE'] == 'Educação Presencial']

df_ea_presencial_modalidade_grau_counts = df_ea_presencial_modalidade_grau.groupby('GRAU')['MODALIDADE'].count().sort_values(ascending=False)

plt.figure(figsize=(5,6))
plt.pie(df_ea_presencial_modalidade_grau_counts, labels=df_ea_presencial_modalidade_grau_counts.index, autopct='%1.1f%%', startangle=140)
plt.title('Distribuição de Cursos Presenciais por Grau')
plt.axis('equal')

plt.show()


df_ea[df_ea['MODALIDADE'] == 'Educação a Distância'].groupby('GRAU')['MODALIDADE'].count().sort_values(ascending=False)


df_ea_presencial_modalidade_grau = df_ea[df_ea['MODALIDADE'] == 'Educação a Distância']

df_ea_presencial_modalidade_grau_counts = df_ea_presencial_modalidade_grau.groupby('GRAU')['MODALIDADE'].count().sort_values(ascending=False)

plt.figure(figsize=(5,6))
plt.pie(df_ea_presencial_modalidade_grau_counts, labels=df_ea_presencial_modalidade_grau_counts.index, autopct='%1.1f%%', startangle=140)
plt.title('Distribuição de Cursos EaD por Grau')
plt.axis('equal')

plt.show()





df_earn[df_earn['MODALIDADE'] == 'Educação Presencial'].groupby('GRAU')['MODALIDADE'].count().sort_values(ascending=False)


df_earn_presencial_modalidade_grau = df_earn[df_earn['MODALIDADE'] == 'Educação Presencial']

df_earn_presencial_modalidade_grau_counts = df_earn_presencial_modalidade_grau.groupby('GRAU')['MODALIDADE'].count().sort_values(ascending=False)

plt.figure(figsize=(5,6))
plt.pie(df_earn_presencial_modalidade_grau_counts, labels=df_earn_presencial_modalidade_grau_counts.index, autopct='%1.1f%%', startangle=140)
plt.title('Distribuição de Cursos Presenciais por Grau no RN')
plt.axis('equal')

plt.show()


df_earn[df_earn['MODALIDADE'] == 'Educação a Distância'].groupby('GRAU')['MODALIDADE'].count().sort_values(ascending=False)


df_earn_ead_modalidade_grau = df_earn[df_earn['MODALIDADE'] == 'Educação a Distância']

df_earn_ead_modalidade_grau_counts = df_earn_ead_modalidade_grau.groupby('GRAU')['MODALIDADE'].count().sort_values(ascending=False)

plt.figure(figsize=(5,6))
plt.pie(df_earn_ead_modalidade_grau_counts, labels=df_earn_ead_modalidade_grau_counts.index, autopct='%1.1f%%', startangle=140)
plt.title('Distribuição de Cursos EaD por Grau no RN')
plt.axis('equal')

plt.show()





df_ea[df_ea['MODALIDADE'] == 'Educação Presencial'].groupby('CATEGORIA_ADMINISTRATIVA')['MODALIDADE'].count().sort_values(ascending=False)


df_ea_presencial_cat = df_ea[df_ea['MODALIDADE'] == 'Educação Presencial']

grouped_data = df_ea_presencial_cat.groupby('CATEGORIA_ADMINISTRATIVA')['MODALIDADE'].count()

sorted_data = grouped_data.sort_values(ascending=False)

plt.figure(figsize=(10, 6))
plt.pie(sorted_data, labels=sorted_data.index, autopct='%1.1f%%', startangle=140)
plt.title('Distribuição por Categoria Administrativa (Educação Presencial)')
plt.axis('equal')
plt.show()





df_ea[df_ea['MODALIDADE'] == 'Educação a Distância'].groupby('CATEGORIA_ADMINISTRATIVA')['MODALIDADE'].count().sort_values(ascending=False)


df_ea_ead_cat = df_ea[df_ea['MODALIDADE'] == 'Educação a Distância']

grouped_data = df_ea_ead_cat.groupby('CATEGORIA_ADMINISTRATIVA')['MODALIDADE'].count()

sorted_data = grouped_data.sort_values(ascending=False)

threshold = sorted_data.sum() * 0.01
aggregated_data = sorted_data[sorted_data >= threshold]
aggregated_data['Outros'] = sorted_data[sorted_data < threshold].sum()

plt.figure(figsize=(10, 6))
plt.pie(aggregated_data, labels=aggregated_data.index, autopct='%1.1f%%', startangle=140)
plt.title('Distribuição por Categoria Administrativa (EaD)')
plt.axis('equal')
plt.show()








df_ea[df_ea['CATEGORIA_ADMINISTRATIVA'] == 'Especial'].sort_values(by='CATEGORIA_ADMINISTRATIVA', ascending=False).head(10)








df_ea[df_ea['MODALIDADE'] == 'Educação Presencial']['NOME_CURSO'].value_counts().head(30)





df_ea[df_ea['MODALIDADE'] == 'Educação a Distância']['NOME_CURSO'].value_counts().head(30)








df['SITUACAO_CURSO'].unique()





df['SITUACAO_CURSO'].value_counts()


sc_value_counts = df['SITUACAO_CURSO'].value_counts()

plt.figure(figsize=(6, 6))
plt.pie(sc_value_counts.values, labels=sc_value_counts.index,
        autopct='%1.1f%%', shadow=True, startangle=140)

plt.title('Situação dos Cursos')
plt.axis('equal')
plt.show()


plt.figure(figsize=(5, 5))

dfsituacao = df['SITUACAO_CURSO'].value_counts()
cores = sns.color_palette("deep", len(dfsituacao))

dfsituacao.plot(kind='bar', color=cores)

plt.title('Situação dos cursos')
plt.xlabel('Situação')
plt.ylabel('Quantidade')

plt.xticks(rotation=45)

plt.show()








df_rn = df[df['UF'] == 'RN'] # df_rn = cursos do RN em geral


df_rn['SITUACAO_CURSO'].value_counts()


sc_value_counts = df_rn['SITUACAO_CURSO'].value_counts()

plt.figure(figsize=(6, 6))
plt.pie(sc_value_counts.values, labels=sc_value_counts.index,
        autopct='%1.1f%%', shadow=True, startangle=140)

plt.title('Situação dos Cursos do RN')
plt.axis('equal')
plt.show()





df.groupby(['SITUACAO_CURSO', 'MODALIDADE']).size().unstack()


df[df['MODALIDADE'] == 'Educação Presencial'].groupby('SITUACAO_CURSO')['MODALIDADE'].count().sort_values(ascending=False)


labels = df[df['MODALIDADE'] == 'Educação Presencial']['SITUACAO_CURSO'].value_counts().index
sizes = df[df['MODALIDADE'] == 'Educação Presencial']['SITUACAO_CURSO'].value_counts().values
cores = sns.color_palette("tab10", len(labels))

plt.figure(figsize=(5, 5))
plt.pie(sizes, labels=labels, colors=cores, autopct='%1.1f%%', startangle=140)

plt.title('Distribuição da Situação dos Cursos de Educação Presencial')

plt.show()





df[df['MODALIDADE'] == 'Educação a Distância'].groupby('SITUACAO_CURSO')['MODALIDADE'].count().sort_values(ascending=False)


labels = df[df['MODALIDADE'] == 'Educação a Distância']['SITUACAO_CURSO'].value_counts().index
sizes = df[df['MODALIDADE'] == 'Educação a Distância']['SITUACAO_CURSO'].value_counts().values
cores = sns.color_palette("tab10", len(labels))

plt.figure(figsize=(5, 5))
plt.pie(sizes, labels=labels, colors=cores, autopct='%1.1f%%', startangle=140)

plt.title('Distribuição da Situação dos Cursos de Educação a Distância')

plt.show()








df.groupby(['SITUACAO_CURSO', 'CATEGORIA_ADMINISTRATIVA']).size().unstack()


grouped_stcat = df.groupby(['SITUACAO_CURSO', 'CATEGORIA_ADMINISTRATIVA']).size().unstack()

def plot_pie_for_situacao(situacao, threshold=0.05):
    values = grouped_stcat.loc[situacao].dropna()
    total = values.sum()
    labels = values.index
    sizes = values.values

    other_values = values[values/total < threshold]
    main_values = values[values/total >= threshold]

    if len(other_values) > 0:
        main_values['Outros'] = other_values.sum()

    labels = main_values.index
    sizes = main_values.values

    plt.figure(figsize=(5, 5))
    plt.pie(sizes, labels=labels, autopct='%1.1f%%', shadow=True, startangle=140)
    plt.title(f'Situação dos Cursos ({situacao})')
    plt.axis('equal')
    plt.show()

situacoes = grouped_stcat.index
for situacao in situacoes:
    plot_pie_for_situacao(situacao)





df.groupby(['SITUACAO_CURSO', 'REGIAO']).size().unstack()


dados_agrupados_streg = df.groupby(['SITUACAO_CURSO', 'REGIAO']).size().unstack()

situacoes = list(dados_agrupados_streg.columns)

fig, axs = plt.subplots(2, 3, figsize=(15, 10))

for i, (regiao, dados) in enumerate(dados_agrupados_streg.iterrows()):
    axs[i // 3, i % 3].pie(dados, labels=situacoes, autopct='%1.1f%%', startangle=90)
    axs[i // 3, i % 3].set_title(regiao)

for ax in axs.flat[len(dados_agrupados_streg):]:
    ax.remove()

plt.suptitle('Distribuição das Situações de Curso por Região', fontsize=16)

plt.tight_layout()
plt.show()











dfti.head()





dfti[(dfti['NOME_IES'] == 'UNIVERSIDADE FEDERAL DO RIO GRANDE DO NORTE') & (dfti['NOME_CURSO'] == 'TECNOLOGIA DA INFORMAÇÃO')]





dfti['NOME_CURSO'].value_counts()


dfti[dfti['NOME_CURSO'] == 'TECNOLOGIA DA INFORMAÇÃO'].head(14)








dfti['NOME_CURSO'].value_counts()


dfti['NOME_CURSO'].value_counts().plot.barh(figsize=(5, 5))
plt.title('Distribuição dos cursos de TI no Brasil')
plt.xlabel('Quantidade')
plt.ylabel('Região')
plt.show()


dfti['REGIAO'].value_counts().plot.barh(figsize=(6, 2))
plt.title('Distribuição dos Cursos de TI no Brasil por Região')
plt.xlabel('Quantidade de cursos')
plt.ylabel('Região')
plt.show()


dfti['UF'].value_counts().plot.barh(figsize=(6, 7))
plt.title('Distribuição dos Cursos de TI no Brasil por Estado')
plt.xlabel('Quantidade de cursos')
plt.ylabel('Estado')
plt.show()


cursos_ti_rn = dfti[dfti['UF'] == 'RN']


cursos_ti_rn['NOME_CURSO'].value_counts()


cursos_ti_rn['MUNICIPIO'].value_counts().head(15).plot.barh(figsize=(5, 6))
plt.title('Os 15 Municípios do RN com mais Cursos de TI')
plt.xlabel('Quantidade de cursos')
plt.ylabel('Município')
plt.show()





dfti['MODALIDADE'].value_counts()


value_counts = dfti['MODALIDADE'].value_counts()

plt.figure(figsize=(6,6))
plt.pie(value_counts, labels=value_counts.index, autopct='%1.1f%%', startangle=90)
plt.title('Distribuição dos Cursos de TI Em Atividade por Modalidade de Ensino')
plt.show()


dfti.groupby('NOME_CURSO')['MODALIDADE'].value_counts().sort_values(ascending=False)


dfti[dfti['MODALIDADE'] == 'Educação Presencial'].groupby(['NOME_CURSO', 'MODALIDADE']).size().sort_values(ascending=False)


dfti[dfti['MODALIDADE'] == 'Educação a Distância'].groupby(['NOME_CURSO', 'MODALIDADE']).size().sort_values(ascending=False)


presencial = dfti[dfti['MODALIDADE'] == 'Educação Presencial'].groupby(['NOME_CURSO', 'MODALIDADE']).size().sort_values(ascending=False)
distancia = dfti[dfti['MODALIDADE'] == 'Educação a Distância'].groupby(['NOME_CURSO', 'MODALIDADE']).size().sort_values(ascending=False)

fig, axs = plt.subplots(1, 2, figsize=(18, 9))

axs[0].barh(presencial.index.get_level_values(0), presencial)
axs[0].set_title('Distribuição dos Cursos de TI Modalidade Presencial')
axs[0].set_xlabel('Quantidade')
axs[0].set_ylabel('Nome do Curso')

axs[1].barh(distancia.index.get_level_values(0), distancia, color='green')
axs[1].set_title('Distribuição dos Cursos de TI Modalidade a Distância')
axs[1].set_xlabel('Quantidade')
axs[1].set_ylabel('Nome do Curso')

plt.tight_layout()
plt.show()





dftig = df[df['NOME_CURSO'].isin(cursos_ti)] # dataframe ti geral que inclui todos os cursos incluindos os extintos e em extinçao


dftig['NOME_CURSO'] = dftig['NOME_CURSO'].replace('CIÊNCIAS DA COMPUTAÇÃO', 'CIÊNCIA DA COMPUTAÇÃO')
dftig['NOME_CURSO'] = dftig['NOME_CURSO'].replace('CIêNCIAS DE COMPUTAçãO', 'CIÊNCIA DA COMPUTAÇÃO')

dftig['NOME_CURSO'] = dftig['NOME_CURSO'].replace('ENGENHARIA DA COMPUTAÇÃO', 'ENGENHARIA DE COMPUTAÇÃO')

dftig['NOME_CURSO'] = dftig['NOME_CURSO'].replace('GESTÃO EM TECNOLOGIA DA INFORMAÇÃO', 'GESTÃO DA TECNOLOGIA DA INFORMAÇÃO')
dftig['NOME_CURSO'] = dftig['NOME_CURSO'].replace('GESTÃO DE TECNOLOGIA DA INFORMAÇÃO', 'GESTÃO DA TECNOLOGIA DA INFORMAÇÃO')


dftig['SITUACAO_CURSO'].value_counts()


scti_value_counts = df['SITUACAO_CURSO'].value_counts()

plt.figure(figsize=(6, 6))
plt.pie(scti_value_counts.values, labels=scti_value_counts.index,
        autopct='%1.1f%%', shadow=True, startangle=140)

plt.title('Situação dos Cursos de TI')
plt.axis('equal')
plt.show()


dftig[dftig['SITUACAO_CURSO'] == 'Extinto']['NOME_CURSO'].value_counts().head(14)


dftig[dftig['SITUACAO_CURSO'] == 'Em extinção']['NOME_CURSO'].value_counts().head(14)


extinto = dftig[dftig['SITUACAO_CURSO'] == 'Extinto']['NOME_CURSO'].value_counts().head(14)
em_extincao = dftig[dftig['SITUACAO_CURSO'] == 'Em extinção']['NOME_CURSO'].value_counts().head(14)

fig, axs = plt.subplots(1, 2, figsize=(18, 9))

axs[0].barh(extinto.index, extinto, color='#FF6961')
axs[0].set_title('Cursos Extintos')
axs[0].set_xlabel('Quantidade')
axs[0].set_ylabel('Nome do Curso')

axs[1].barh(em_extincao.index, em_extincao, color='orange')
axs[1].set_title('Cursos Em Extinção')
axs[1].set_xlabel('Quantidade')
axs[1].set_ylabel('Nome do Curso')

plt.tight_layout()
plt.show()





dfti_limpo_qtv.groupby('NOME_CURSO')['QT_VAGAS_AUTORIZADAS'].sum().reset_index().sort_values(by='QT_VAGAS_AUTORIZADAS', ascending=False)


vagas_por_curso = dfti_limpo_qtv.groupby('NOME_CURSO')['QT_VAGAS_AUTORIZADAS'].sum().reset_index()

vagas_por_curso_ordenadas = vagas_por_curso.sort_values(by='QT_VAGAS_AUTORIZADAS', ascending=False)

plt.figure(figsize=(10, 6))
plt.barh(vagas_por_curso_ordenadas['NOME_CURSO'], vagas_por_curso_ordenadas['QT_VAGAS_AUTORIZADAS'])
plt.xlabel('Total de Vagas Autorizadas')
plt.ylabel('Nome do Curso')
plt.title('Total de Vagas Autorizadas por Curso')
#plt.gca().invert_yaxis()  # Inverte o eixo y para que o curso com mais vagas fique no topo
plt.tight_layout()
plt.show()





media_carga_horaria_cursos = dfti_limpo_ch.groupby('NOME_CURSO')['CARGA_HORARIA'].mean().reset_index().sort_values(by='CARGA_HORARIA', ascending=False)
media_carga_horaria_cursos


plt.figure(figsize=(7, 5))
plt.barh(media_carga_horaria_cursos['NOME_CURSO'], media_carga_horaria_cursos['CARGA_HORARIA'])
plt.xlabel('Média da Carga Horária')
plt.ylabel('Nome do Curso')
plt.title('Média da Carga Horária por Curso')
plt.show()









