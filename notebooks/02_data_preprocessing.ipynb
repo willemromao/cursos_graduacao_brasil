{
 "cells": [
  {
   "cell_type": "markdown",
   "id": "eb9509da",
   "metadata": {},
   "source": [
    "# **Pré-Processamento**"
   ]
  },
  {
   "cell_type": "code",
   "execution_count": 1,
   "id": "399a2a68",
   "metadata": {},
   "outputs": [],
   "source": [
    "import pandas as pd\n",
    "import numpy as np\n",
    "import matplotlib.pyplot as plt\n",
    "import seaborn as sns\n",
    "\n",
    "from imblearn.under_sampling import RandomUnderSampler\n",
    "from collections import Counter\n",
    "from sklearn.preprocessing import OneHotEncoder, OrdinalEncoder\n",
    "from sklearn.compose import ColumnTransformer\n",
    "import pickle"
   ]
  },
  {
   "cell_type": "code",
   "execution_count": 2,
   "id": "faf29a05",
   "metadata": {},
   "outputs": [],
   "source": [
    "df = pd.read_csv('/home/willemromao/Downloads/TI/projetos_graduacao/ciencia_de_dados/cursos_graduacao_brasil/data/clean.csv')"
   ]
  },
  {
   "cell_type": "code",
   "execution_count": 3,
   "id": "3cd3deca",
   "metadata": {},
   "outputs": [
    {
     "data": {
      "text/html": [
       "<div>\n",
       "<style scoped>\n",
       "    .dataframe tbody tr th:only-of-type {\n",
       "        vertical-align: middle;\n",
       "    }\n",
       "\n",
       "    .dataframe tbody tr th {\n",
       "        vertical-align: top;\n",
       "    }\n",
       "\n",
       "    .dataframe thead th {\n",
       "        text-align: right;\n",
       "    }\n",
       "</style>\n",
       "<table border=\"1\" class=\"dataframe\">\n",
       "  <thead>\n",
       "    <tr style=\"text-align: right;\">\n",
       "      <th></th>\n",
       "      <th>NOME_CURSO</th>\n",
       "      <th>GRAU</th>\n",
       "      <th>MODALIDADE</th>\n",
       "      <th>CATEGORIA_ADMINISTRATIVA</th>\n",
       "      <th>ORGANIZACAO_ACADEMICA</th>\n",
       "      <th>MUNICIPIO</th>\n",
       "      <th>UF</th>\n",
       "      <th>REGIAO</th>\n",
       "      <th>QT_VAGAS_AUTORIZADAS</th>\n",
       "      <th>CARGA_HORARIA</th>\n",
       "      <th>SITUACAO_CURSO</th>\n",
       "    </tr>\n",
       "  </thead>\n",
       "  <tbody>\n",
       "    <tr>\n",
       "      <th>0</th>\n",
       "      <td>ENGENHARIA AGRONÔMICA</td>\n",
       "      <td>Bacharelado</td>\n",
       "      <td>Educação a Distância</td>\n",
       "      <td>Privada com fins lucrativos</td>\n",
       "      <td>Centro Universitário</td>\n",
       "      <td>Presidente Prudente</td>\n",
       "      <td>SP</td>\n",
       "      <td>SUDESTE</td>\n",
       "      <td>1000</td>\n",
       "      <td>4400</td>\n",
       "      <td>Em atividade</td>\n",
       "    </tr>\n",
       "    <tr>\n",
       "      <th>1</th>\n",
       "      <td>LETRAS</td>\n",
       "      <td>Licenciatura</td>\n",
       "      <td>Educação a Distância</td>\n",
       "      <td>Privada com fins lucrativos</td>\n",
       "      <td>Centro Universitário</td>\n",
       "      <td>Sousa</td>\n",
       "      <td>PB</td>\n",
       "      <td>NORDESTE</td>\n",
       "      <td>3000</td>\n",
       "      <td>3992</td>\n",
       "      <td>Em atividade</td>\n",
       "    </tr>\n",
       "    <tr>\n",
       "      <th>2</th>\n",
       "      <td>GEOGRAFIA</td>\n",
       "      <td>Licenciatura</td>\n",
       "      <td>Educação a Distância</td>\n",
       "      <td>Privada com fins lucrativos</td>\n",
       "      <td>Centro Universitário</td>\n",
       "      <td>Aracaju</td>\n",
       "      <td>SE</td>\n",
       "      <td>NORDESTE</td>\n",
       "      <td>7620</td>\n",
       "      <td>3500</td>\n",
       "      <td>Em atividade</td>\n",
       "    </tr>\n",
       "    <tr>\n",
       "      <th>3</th>\n",
       "      <td>EDUCAÇÃO FÍSICA</td>\n",
       "      <td>Bacharelado</td>\n",
       "      <td>Educação a Distância</td>\n",
       "      <td>Privada com fins lucrativos</td>\n",
       "      <td>Universidade</td>\n",
       "      <td>Lapa</td>\n",
       "      <td>PR</td>\n",
       "      <td>SUL</td>\n",
       "      <td>1200</td>\n",
       "      <td>3200</td>\n",
       "      <td>Em atividade</td>\n",
       "    </tr>\n",
       "    <tr>\n",
       "      <th>4</th>\n",
       "      <td>SERVIÇOS PENAIS</td>\n",
       "      <td>Tecnológico</td>\n",
       "      <td>Educação a Distância</td>\n",
       "      <td>Privada com fins lucrativos</td>\n",
       "      <td>Centro Universitário</td>\n",
       "      <td>Belo Jardim</td>\n",
       "      <td>PE</td>\n",
       "      <td>NORDESTE</td>\n",
       "      <td>1500</td>\n",
       "      <td>1980</td>\n",
       "      <td>Em atividade</td>\n",
       "    </tr>\n",
       "  </tbody>\n",
       "</table>\n",
       "</div>"
      ],
      "text/plain": [
       "              NOME_CURSO          GRAU            MODALIDADE  \\\n",
       "0  ENGENHARIA AGRONÔMICA   Bacharelado  Educação a Distância   \n",
       "1                 LETRAS  Licenciatura  Educação a Distância   \n",
       "2              GEOGRAFIA  Licenciatura  Educação a Distância   \n",
       "3        EDUCAÇÃO FÍSICA   Bacharelado  Educação a Distância   \n",
       "4        SERVIÇOS PENAIS   Tecnológico  Educação a Distância   \n",
       "\n",
       "      CATEGORIA_ADMINISTRATIVA ORGANIZACAO_ACADEMICA            MUNICIPIO  UF  \\\n",
       "0  Privada com fins lucrativos  Centro Universitário  Presidente Prudente  SP   \n",
       "1  Privada com fins lucrativos  Centro Universitário                Sousa  PB   \n",
       "2  Privada com fins lucrativos  Centro Universitário              Aracaju  SE   \n",
       "3  Privada com fins lucrativos          Universidade                 Lapa  PR   \n",
       "4  Privada com fins lucrativos  Centro Universitário          Belo Jardim  PE   \n",
       "\n",
       "     REGIAO  QT_VAGAS_AUTORIZADAS  CARGA_HORARIA SITUACAO_CURSO  \n",
       "0   SUDESTE                  1000           4400   Em atividade  \n",
       "1  NORDESTE                  3000           3992   Em atividade  \n",
       "2  NORDESTE                  7620           3500   Em atividade  \n",
       "3       SUL                  1200           3200   Em atividade  \n",
       "4  NORDESTE                  1500           1980   Em atividade  "
      ]
     },
     "execution_count": 3,
     "metadata": {},
     "output_type": "execute_result"
    }
   ],
   "source": [
    "df.head()"
   ]
  },
  {
   "cell_type": "code",
   "execution_count": 4,
   "id": "a39cf6f6",
   "metadata": {},
   "outputs": [
    {
     "name": "stdout",
     "output_type": "stream",
     "text": [
      "<class 'pandas.core.frame.DataFrame'>\n",
      "RangeIndex: 824759 entries, 0 to 824758\n",
      "Data columns (total 11 columns):\n",
      " #   Column                    Non-Null Count   Dtype \n",
      "---  ------                    --------------   ----- \n",
      " 0   NOME_CURSO                824759 non-null  object\n",
      " 1   GRAU                      824759 non-null  object\n",
      " 2   MODALIDADE                824759 non-null  object\n",
      " 3   CATEGORIA_ADMINISTRATIVA  824759 non-null  object\n",
      " 4   ORGANIZACAO_ACADEMICA     824759 non-null  object\n",
      " 5   MUNICIPIO                 824759 non-null  object\n",
      " 6   UF                        824759 non-null  object\n",
      " 7   REGIAO                    824759 non-null  object\n",
      " 8   QT_VAGAS_AUTORIZADAS      824759 non-null  int64 \n",
      " 9   CARGA_HORARIA             824759 non-null  int64 \n",
      " 10  SITUACAO_CURSO            824759 non-null  object\n",
      "dtypes: int64(2), object(9)\n",
      "memory usage: 69.2+ MB\n"
     ]
    }
   ],
   "source": [
    "df.info()"
   ]
  },
  {
   "cell_type": "code",
   "execution_count": 3,
   "id": "0f5c1f5f",
   "metadata": {},
   "outputs": [
    {
     "name": "stdout",
     "output_type": "stream",
     "text": [
      "Categorias de SITUACAO_CURSO antes da transformação:\n",
      "['Em atividade' 'Em extinção' 'Extinto']\n",
      "\n",
      "Categorias depois da transformação:\n",
      "['Não' 'Sim']\n"
     ]
    }
   ],
   "source": [
    "# Tornar feature alvo em um problema binário ao invés de multiclasse \n",
    "\n",
    "print(\"Categorias de SITUACAO_CURSO antes da transformação:\")\n",
    "print(df['SITUACAO_CURSO'].unique())\n",
    "\n",
    "df = df.rename(columns={'SITUACAO_CURSO': 'EXTINTO'})\n",
    "\n",
    "df['EXTINTO'] = df['EXTINTO'].replace(['Em extinção', 'Extinto'], 'Sim')\n",
    "df['EXTINTO'] = df['EXTINTO'].replace(['Em atividade'], 'Não')  \n",
    "\n",
    "print(\"\\nCategorias depois da transformação:\")\n",
    "print(df['EXTINTO'].unique())"
   ]
  },
  {
   "cell_type": "code",
   "execution_count": 4,
   "id": "d2613b80",
   "metadata": {},
   "outputs": [],
   "source": [
    "# Discretização de CARGA_HORARIA\n",
    "\n",
    "bins_carga = [0, 1000, 2000, 3000, 4000, 5000, float('inf')]\n",
    "labels_carga = ['Até 1000h', '1001-2000h', '2001-3000h', '3001-4000h', '4001-5000h', 'Mais de 5000h']\n",
    "\n",
    "df['CARGA_HORARIA'] = pd.cut(\n",
    "    df['CARGA_HORARIA'], \n",
    "    bins=bins_carga,\n",
    "    labels=labels_carga\n",
    ")"
   ]
  },
  {
   "cell_type": "code",
   "execution_count": null,
   "id": "5efba3f7",
   "metadata": {},
   "outputs": [
    {
     "data": {
      "image/png": "[encoded data removed]",
      "text/plain": [
       "<Figure size 700x600 with 1 Axes>"
      ]
     },
     "metadata": {},
     "output_type": "display_data"
    }
   ],
   "source": [
    "# Visualizar graficamente distribuição da CARGA_HORARIA\n",
    "\n",
    "plt.figure(figsize=(7, 6))\n",
    "sns.countplot(x='CARGA_HORARIA', data=df, order=labels_carga)\n",
    "plt.title('Distribuição da Carga Horária')\n",
    "plt.xlabel('Faixa de Carga Horária')\n",
    "plt.ylabel('Quantidade de Cursos')\n",
    "plt.xticks(rotation=45)\n",
    "plt.tight_layout()\n",
    "plt.show()"
   ]
  },
  {
   "cell_type": "code",
   "execution_count": null,
   "id": "3e2f31de",
   "metadata": {},
   "outputs": [
    {
     "data": {
      "text/plain": [
       "CARGA_HORARIA\n",
       "1001-2000h       301690\n",
       "3001-4000h       280970\n",
       "2001-3000h       202230\n",
       "4001-5000h        32602\n",
       "Mais de 5000h      5178\n",
       "Até 1000h          1624\n",
       "Name: count, dtype: int64"
      ]
     },
     "execution_count": 8,
     "metadata": {},
     "output_type": "execute_result"
    }
   ],
   "source": [
    "# Quantidade de cursos por faixa de CARGA_HORARIA\n",
    "\n",
    "df['CARGA_HORARIA'].value_counts()"
   ]
  },
  {
   "cell_type": "code",
   "execution_count": 5,
   "id": "c33cf3b9",
   "metadata": {},
   "outputs": [],
   "source": [
    "# Discretização de QT_VAGAS_AUTORIZADAS\n",
    "\n",
    "bins_vagas = [0, 50, 100, 200, 500, 1000, float('inf')]\n",
    "labels_vagas = ['Até 50', '51-100', '101-200', '201-500', '501-1000', 'Mais de 1000']\n",
    "\n",
    "df['QT_VAGAS_AUTORIZADAS'] = pd.cut(\n",
    "    df['QT_VAGAS_AUTORIZADAS'], \n",
    "    bins=bins_vagas,\n",
    "    labels=labels_vagas\n",
    ")"
   ]
  },
  {
   "cell_type": "code",
   "execution_count": 10,
   "id": "67636512",
   "metadata": {},
   "outputs": [
    {
     "data": {
      "text/plain": [
       "QT_VAGAS_AUTORIZADAS\n",
       "Mais de 1000    481327\n",
       "501-1000        157706\n",
       "201-500          89386\n",
       "101-200          40605\n",
       "51-100           30583\n",
       "Até 50           20295\n",
       "Name: count, dtype: int64"
      ]
     },
     "execution_count": 10,
     "metadata": {},
     "output_type": "execute_result"
    }
   ],
   "source": [
    "df['QT_VAGAS_AUTORIZADAS'].value_counts()"
   ]
  },
  {
   "cell_type": "code",
   "execution_count": null,
   "id": "ad16e14c",
   "metadata": {},
   "outputs": [
    {
     "data": {
      "image/png": "[encoded data removed]",
      "text/plain": [
       "<Figure size 700x600 with 1 Axes>"
      ]
     },
     "metadata": {},
     "output_type": "display_data"
    }
   ],
   "source": [
    "# Visualizar graficamente distribuição de QT_VAGAS_AUTORIZADAS\n",
    "\n",
    "plt.figure(figsize=(7, 6))\n",
    "sns.countplot(x='QT_VAGAS_AUTORIZADAS', data=df, order=labels_vagas)\n",
    "plt.title('Distribuição de Vagas Autorizadas')\n",
    "plt.xlabel('Faixa de Vagas')\n",
    "plt.ylabel('Quantidade de Cursos')\n",
    "plt.xticks(rotation=45)\n",
    "plt.tight_layout()\n",
    "plt.show()"
   ]
  },
  {
   "cell_type": "code",
   "execution_count": 12,
   "id": "8408a36c",
   "metadata": {},
   "outputs": [
    {
     "data": {
      "text/plain": [
       "NOME_CURSO                     0\n",
       "GRAU                           0\n",
       "MODALIDADE                     0\n",
       "CATEGORIA_ADMINISTRATIVA       0\n",
       "ORGANIZACAO_ACADEMICA          0\n",
       "MUNICIPIO                      0\n",
       "UF                             0\n",
       "REGIAO                         0\n",
       "QT_VAGAS_AUTORIZADAS        4857\n",
       "CARGA_HORARIA                465\n",
       "EXTINTO                        0\n",
       "dtype: int64"
      ]
     },
     "execution_count": 12,
     "metadata": {},
     "output_type": "execute_result"
    }
   ],
   "source": [
    "# Verificar valores nulos\n",
    "\n",
    "df.isnull().sum()"
   ]
  },
  {
   "cell_type": "code",
   "execution_count": 6,
   "id": "8d1620aa",
   "metadata": {},
   "outputs": [],
   "source": [
    "# Remover nulos\n",
    "\n",
    "df = df.dropna()"
   ]
  },
  {
   "cell_type": "code",
   "execution_count": 14,
   "id": "65c75ac7",
   "metadata": {},
   "outputs": [
    {
     "data": {
      "text/plain": [
       "NOME_CURSO                  0\n",
       "GRAU                        0\n",
       "MODALIDADE                  0\n",
       "CATEGORIA_ADMINISTRATIVA    0\n",
       "ORGANIZACAO_ACADEMICA       0\n",
       "MUNICIPIO                   0\n",
       "UF                          0\n",
       "REGIAO                      0\n",
       "QT_VAGAS_AUTORIZADAS        0\n",
       "CARGA_HORARIA               0\n",
       "EXTINTO                     0\n",
       "dtype: int64"
      ]
     },
     "execution_count": 14,
     "metadata": {},
     "output_type": "execute_result"
    }
   ],
   "source": [
    "# Verificar nulos após remoção\n",
    "\n",
    "df.isnull().sum()"
   ]
  },
  {
   "cell_type": "code",
   "execution_count": 7,
   "id": "57c27357",
   "metadata": {},
   "outputs": [
    {
     "name": "stdout",
     "output_type": "stream",
     "text": [
      "Distribuição original:\n",
      "\n",
      "EXTINTO\n",
      "Não    774923\n",
      "Sim     44746\n",
      "Name: count, dtype: int64\n",
      "\n",
      "EXTINTO\n",
      "Não    0.94541\n",
      "Sim    0.05459\n",
      "Name: proportion, dtype: float64\n",
      "\n",
      "Após balanceamento\n",
      "Counter({'Não': 44746, 'Sim': 44746})\n",
      "\n",
      "Shape do DataFrame balanceado: (89492, 11)\n"
     ]
    }
   ],
   "source": [
    "# Balancemento da variável alvo com Undersampling\n",
    "\n",
    "# Visualizar a distribuição da feature alvo antes do undersampling\n",
    "print(\"Distribuição original:\\n\")\n",
    "print(df['EXTINTO'].value_counts())\n",
    "print()\n",
    "print(df['EXTINTO'].value_counts(normalize=True))\n",
    "\n",
    "# Separar features e target\n",
    "X = df.drop('EXTINTO', axis=1)\n",
    "y = df['EXTINTO']\n",
    "\n",
    "# Aplicar Undersampling\n",
    "rus = RandomUnderSampler(sampling_strategy='auto', random_state=1)\n",
    "X_res_random, y_res_random = rus.fit_resample(X, y)\n",
    "\n",
    "# Comparar distribuições antes e depois\n",
    "print(\"\\nApós balanceamento\")\n",
    "print(Counter(y_res_random))\n",
    "\n",
    "# Dataframe balanceado\n",
    "df = pd.concat([X_res_random.reset_index(drop=True), \n",
    "                        pd.Series(y_res_random, name='EXTINTO').reset_index(drop=True)], \n",
    "                        axis=1)\n",
    "\n",
    "print(\"\\nShape do DataFrame balanceado:\", df.shape)"
   ]
  },
  {
   "cell_type": "code",
   "execution_count": 16,
   "id": "655a0397",
   "metadata": {},
   "outputs": [
    {
     "data": {
      "text/plain": [
       "Index(['NOME_CURSO', 'GRAU', 'MODALIDADE', 'CATEGORIA_ADMINISTRATIVA',\n",
       "       'ORGANIZACAO_ACADEMICA', 'MUNICIPIO', 'UF', 'REGIAO',\n",
       "       'QT_VAGAS_AUTORIZADAS', 'CARGA_HORARIA', 'EXTINTO'],\n",
       "      dtype='object')"
      ]
     },
     "execution_count": 16,
     "metadata": {},
     "output_type": "execute_result"
    }
   ],
   "source": [
    "# Verificar colunas do DataFrame\n",
    "\n",
    "df.columns"
   ]
  },
  {
   "cell_type": "code",
   "execution_count": 8,
   "id": "05698a54",
   "metadata": {},
   "outputs": [
    {
     "name": "stdout",
     "output_type": "stream",
     "text": [
      "Antes da remoção das colunas NOME_CURSO, UF e MUNICIPIO:\n",
      "\n",
      "Index(['NOME_CURSO', 'GRAU', 'MODALIDADE', 'CATEGORIA_ADMINISTRATIVA',\n",
      "       'ORGANIZACAO_ACADEMICA', 'MUNICIPIO', 'UF', 'REGIAO',\n",
      "       'QT_VAGAS_AUTORIZADAS', 'CARGA_HORARIA', 'EXTINTO'],\n",
      "      dtype='object')\n",
      "\n",
      "Depois da remoção:\n",
      "\n",
      "Index(['GRAU', 'MODALIDADE', 'CATEGORIA_ADMINISTRATIVA',\n",
      "       'ORGANIZACAO_ACADEMICA', 'REGIAO', 'QT_VAGAS_AUTORIZADAS',\n",
      "       'CARGA_HORARIA', 'EXTINTO'],\n",
      "      dtype='object')\n"
     ]
    }
   ],
   "source": [
    "# Remoção de variáveis desnecessárias\n",
    "\n",
    "print(\"Antes da remoção das colunas NOME_CURSO, UF e MUNICIPIO:\\n\")\n",
    "print(df.columns)\n",
    "\n",
    "df = df.drop(columns=['NOME_CURSO', 'UF','MUNICIPIO'])\n",
    "print(\"\\nDepois da remoção:\\n\")\n",
    "print(df.columns)"
   ]
  },
  {
   "cell_type": "code",
   "execution_count": 18,
   "id": "e2b6d72d",
   "metadata": {},
   "outputs": [
    {
     "name": "stdout",
     "output_type": "stream",
     "text": [
      "GRAU\n",
      "Tecnológico                      38035\n",
      "Bacharelado                      27927\n",
      "Licenciatura                     23091\n",
      "Sequencial                         430\n",
      "Área Básica de Ingresso (ABI)        9\n",
      "Name: count, dtype: int64\n",
      "----------------------------------------\n",
      "MODALIDADE\n",
      "Educação a Distância    61190\n",
      "Educação Presencial     28302\n",
      "Name: count, dtype: int64\n",
      "----------------------------------------\n",
      "CATEGORIA_ADMINISTRATIVA\n",
      "Privada com fins lucrativos    60845\n",
      "Privada sem fins lucrativos    21030\n",
      "Pública Federal                 3939\n",
      "Pública Estadual                3044\n",
      "Pública Municipal                446\n",
      "Especial                         188\n",
      "Name: count, dtype: int64\n",
      "----------------------------------------\n",
      "ORGANIZACAO_ACADEMICA\n",
      "Centro Universitário                                   40755\n",
      "Universidade                                           36730\n",
      "Faculdade                                              11447\n",
      "Instituto Federal de Educação, Ciência e Tecnologia      552\n",
      "Centro Federal de Educação Tecnológica                     8\n",
      "Name: count, dtype: int64\n",
      "----------------------------------------\n",
      "REGIAO\n",
      "SUDESTE         37501\n",
      "SUL             18866\n",
      "NORDESTE        18110\n",
      "CENTRO-OESTE     7905\n",
      "NORTE            7110\n",
      "Name: count, dtype: int64\n",
      "----------------------------------------\n",
      "QT_VAGAS_AUTORIZADAS\n",
      "Mais de 1000    33057\n",
      "501-1000        13679\n",
      "201-500         11678\n",
      "51-100          11534\n",
      "101-200          9849\n",
      "Até 50           9695\n",
      "Name: count, dtype: int64\n",
      "----------------------------------------\n",
      "CARGA_HORARIA\n",
      "3001-4000h       32375\n",
      "1001-2000h       27547\n",
      "2001-3000h       25120\n",
      "4001-5000h        3729\n",
      "Mais de 5000h      369\n",
      "Até 1000h          352\n",
      "Name: count, dtype: int64\n",
      "----------------------------------------\n",
      "EXTINTO\n",
      "Não    44746\n",
      "Sim    44746\n",
      "Name: count, dtype: int64\n",
      "----------------------------------------\n"
     ]
    }
   ],
   "source": [
    "# Verificar a distribuição de valores de cada coluna\n",
    "\n",
    "for coluna in df.columns:\n",
    "    print(df[coluna].value_counts())\n",
    "    print(\"-\" * 40)"
   ]
  },
  {
   "cell_type": "code",
   "execution_count": null,
   "id": "c1227e78",
   "metadata": {},
   "outputs": [
    {
     "name": "stdout",
     "output_type": "stream",
     "text": [
      "Dimensões do DataFrame transformado: (89492, 21)\n",
      "\n",
      "Primeiras linhas do DataFrame transformado:\n",
      "   GRAU_Licenciatura  GRAU_Sequencial  GRAU_Tecnológico  \\\n",
      "0                1.0              0.0               0.0   \n",
      "1                1.0              0.0               0.0   \n",
      "2                1.0              0.0               0.0   \n",
      "3                0.0              0.0               0.0   \n",
      "4                1.0              0.0               0.0   \n",
      "\n",
      "   GRAU_Área Básica de Ingresso (ABI)  MODALIDADE_Educação a Distância  \\\n",
      "0                                 0.0                              1.0   \n",
      "1                                 0.0                              1.0   \n",
      "2                                 0.0                              1.0   \n",
      "3                                 0.0                              1.0   \n",
      "4                                 0.0                              1.0   \n",
      "\n",
      "   CATEGORIA_ADMINISTRATIVA_Privada com fins lucrativos  \\\n",
      "0                                                1.0      \n",
      "1                                                0.0      \n",
      "2                                                1.0      \n",
      "3                                                1.0      \n",
      "4                                                0.0      \n",
      "\n",
      "   CATEGORIA_ADMINISTRATIVA_Privada sem fins lucrativos  \\\n",
      "0                                                0.0      \n",
      "1                                                1.0      \n",
      "2                                                0.0      \n",
      "3                                                0.0      \n",
      "4                                                1.0      \n",
      "\n",
      "   CATEGORIA_ADMINISTRATIVA_Pública Estadual  \\\n",
      "0                                        0.0   \n",
      "1                                        0.0   \n",
      "2                                        0.0   \n",
      "3                                        0.0   \n",
      "4                                        0.0   \n",
      "\n",
      "   CATEGORIA_ADMINISTRATIVA_Pública Federal  \\\n",
      "0                                       0.0   \n",
      "1                                       0.0   \n",
      "2                                       0.0   \n",
      "3                                       0.0   \n",
      "4                                       0.0   \n",
      "\n",
      "   CATEGORIA_ADMINISTRATIVA_Pública Municipal  ...  \\\n",
      "0                                         0.0  ...   \n",
      "1                                         0.0  ...   \n",
      "2                                         0.0  ...   \n",
      "3                                         0.0  ...   \n",
      "4                                         0.0  ...   \n",
      "\n",
      "   ORGANIZACAO_ACADEMICA_Faculdade  \\\n",
      "0                              0.0   \n",
      "1                              0.0   \n",
      "2                              0.0   \n",
      "3                              0.0   \n",
      "4                              0.0   \n",
      "\n",
      "   ORGANIZACAO_ACADEMICA_Instituto Federal de Educação, Ciência e Tecnologia  \\\n",
      "0                                                0.0                           \n",
      "1                                                0.0                           \n",
      "2                                                0.0                           \n",
      "3                                                0.0                           \n",
      "4                                                0.0                           \n",
      "\n",
      "   ORGANIZACAO_ACADEMICA_Universidade  REGIAO_NORDESTE  REGIAO_NORTE  \\\n",
      "0                                 0.0              1.0           0.0   \n",
      "1                                 1.0              0.0           0.0   \n",
      "2                                 1.0              0.0           0.0   \n",
      "3                                 0.0              1.0           0.0   \n",
      "4                                 1.0              0.0           0.0   \n",
      "\n",
      "   REGIAO_SUDESTE  REGIAO_SUL  QT_VAGAS_AUTORIZADAS  CARGA_HORARIA  EXTINTO  \n",
      "0             0.0         0.0                   5.0            3.0      0.0  \n",
      "1             1.0         0.0                   3.0            3.0      0.0  \n",
      "2             1.0         0.0                   5.0            3.0      0.0  \n",
      "3             0.0         0.0                   5.0            2.0      0.0  \n",
      "4             0.0         1.0                   5.0            3.0      0.0  \n",
      "\n",
      "[5 rows x 21 columns]\n",
      "Número de colunas após a transformação: 21\n"
     ]
    }
   ],
   "source": [
    "# Codificação das variáveis categóricas\n",
    "\n",
    "# Definir quais colunas são categóricas nominais e quais são ordinais\n",
    "colunas_nominais = ['GRAU', 'MODALIDADE', 'CATEGORIA_ADMINISTRATIVA', \n",
    "                    'ORGANIZACAO_ACADEMICA', 'REGIAO']\n",
    "\n",
    "colunas_ordinais = ['QT_VAGAS_AUTORIZADAS', 'CARGA_HORARIA']\n",
    "\n",
    "# Definir as categorias ordenadas para as colunas ordinais\n",
    "categorias_vagas = ['Até 50', '51-100', '101-200', '201-500', '501-1000', 'Mais de 1000']\n",
    "categorias_carga = ['Até 1000h', '1001-2000h', '2001-3000h', '3001-4000h', '4001-5000h', 'Mais de 5000h']\n",
    "\n",
    "# Criar o transformador de colunas\n",
    "preprocessor = ColumnTransformer(\n",
    "    transformers=[\n",
    "        ('onehot', OneHotEncoder(sparse_output=False, drop='first'), colunas_nominais),\n",
    "        ('ordinal', OrdinalEncoder(categories=[categorias_vagas, categorias_carga]), colunas_ordinais),\n",
    "    ],\n",
    "    remainder='passthrough'  # manter outras colunas que não foram especificadas\n",
    ")\n",
    "\n",
    "# Tranformar a variável alvo EXTINTO para numérica\n",
    "df['EXTINTO'] = df['EXTINTO'].map({'Sim': 1, 'Não': 0})\n",
    "\n",
    "# Aplicar as transformações\n",
    "X_transformed = preprocessor.fit_transform(df)\n",
    "\n",
    "# Obter os nomes das colunas após one-hot encoding\n",
    "onehot_cols = []\n",
    "for i, col in enumerate(colunas_nominais):\n",
    "    # Obter as categorias da coluna atual\n",
    "    categories = preprocessor.transformers_[0][1].categories_[i]\n",
    "    # Pular a primeira categoria que foi dropada (drop='first')\n",
    "    onehot_cols.extend([f\"{col}_{cat}\" for cat in categories[1:]])\n",
    "\n",
    "# Nomes das colunas ordinais\n",
    "ordinal_cols = colunas_ordinais\n",
    "\n",
    "# Nomes de outras colunas que foram mantidas\n",
    "outras_colunas = [col for col in df.columns if col not in colunas_nominais and col not in colunas_ordinais]\n",
    "\n",
    "# Criar DataFrame com as colunas transformadas\n",
    "colunas_finais = onehot_cols + ordinal_cols + outras_colunas\n",
    "df = pd.DataFrame(X_transformed, columns=colunas_finais, index=df.index)\n",
    "\n",
    "# Mostrar o resultado\n",
    "print(\"Dimensões do DataFrame transformado:\", df.shape)\n",
    "print(\"\\nPrimeiras linhas do DataFrame transformado:\")\n",
    "print(df.head())\n",
    "\n",
    "print(\"Número de colunas após a transformação:\", len(df.columns))"
   ]
  },
  {
   "cell_type": "code",
   "execution_count": 10,
   "id": "3a13217d",
   "metadata": {},
   "outputs": [
    {
     "name": "stdout",
     "output_type": "stream",
     "text": [
      "<class 'pandas.core.frame.DataFrame'>\n",
      "RangeIndex: 89492 entries, 0 to 89491\n",
      "Data columns (total 21 columns):\n",
      " #   Column                                                                     Non-Null Count  Dtype  \n",
      "---  ------                                                                     --------------  -----  \n",
      " 0   GRAU_Licenciatura                                                          89492 non-null  float64\n",
      " 1   GRAU_Sequencial                                                            89492 non-null  float64\n",
      " 2   GRAU_Tecnológico                                                           89492 non-null  float64\n",
      " 3   GRAU_Área Básica de Ingresso (ABI)                                         89492 non-null  float64\n",
      " 4   MODALIDADE_Educação a Distância                                            89492 non-null  float64\n",
      " 5   CATEGORIA_ADMINISTRATIVA_Privada com fins lucrativos                       89492 non-null  float64\n",
      " 6   CATEGORIA_ADMINISTRATIVA_Privada sem fins lucrativos                       89492 non-null  float64\n",
      " 7   CATEGORIA_ADMINISTRATIVA_Pública Estadual                                  89492 non-null  float64\n",
      " 8   CATEGORIA_ADMINISTRATIVA_Pública Federal                                   89492 non-null  float64\n",
      " 9   CATEGORIA_ADMINISTRATIVA_Pública Municipal                                 89492 non-null  float64\n",
      " 10  ORGANIZACAO_ACADEMICA_Centro Universitário                                 89492 non-null  float64\n",
      " 11  ORGANIZACAO_ACADEMICA_Faculdade                                            89492 non-null  float64\n",
      " 12  ORGANIZACAO_ACADEMICA_Instituto Federal de Educação, Ciência e Tecnologia  89492 non-null  float64\n",
      " 13  ORGANIZACAO_ACADEMICA_Universidade                                         89492 non-null  float64\n",
      " 14  REGIAO_NORDESTE                                                            89492 non-null  float64\n",
      " 15  REGIAO_NORTE                                                               89492 non-null  float64\n",
      " 16  REGIAO_SUDESTE                                                             89492 non-null  float64\n",
      " 17  REGIAO_SUL                                                                 89492 non-null  float64\n",
      " 18  QT_VAGAS_AUTORIZADAS                                                       89492 non-null  float64\n",
      " 19  CARGA_HORARIA                                                              89492 non-null  float64\n",
      " 20  EXTINTO                                                                    89492 non-null  float64\n",
      "dtypes: float64(21)\n",
      "memory usage: 14.3 MB\n"
     ]
    }
   ],
   "source": [
    "df.info()"
   ]
  },
  {
   "cell_type": "code",
   "execution_count": 11,
   "id": "193c2c9e",
   "metadata": {},
   "outputs": [],
   "source": [
    "# Salvar DataFrame pré-processado\n",
    "\n",
    "df.to_csv(\"/home/willemromao/Downloads/TI/projetos_graduacao/ciencia_de_dados/cursos_graduacao_brasil/data/preprocessed.csv\", index=False)"
   ]
  },
  {
   "cell_type": "code",
   "execution_count": 12,
   "id": "569309eb",
   "metadata": {},
   "outputs": [
    {
     "name": "stdout",
     "output_type": "stream",
     "text": [
      "Preprocessor salvo em /home/willemromao/Downloads/TI/projetos_graduacao/ciencia_de_dados/cursos_graduacao_brasil/models/pipelines/preprocessor.pkl\n"
     ]
    }
   ],
   "source": [
    "# Salvar o preprocessor para uso futuro como por exemplo em pipelines de machine learning e as etapas de transformação de dados\n",
    "\n",
    "preprocessor_path = f\"/home/willemromao/Downloads/TI/projetos_graduacao/ciencia_de_dados/cursos_graduacao_brasil/models/pipelines/preprocessor.pkl\"\n",
    "with open(preprocessor_path, 'wb') as file:\n",
    "    pickle.dump(preprocessor, file)\n",
    "print(f\"Preprocessor salvo em {preprocessor_path}\")"
   ]
  }
 ],
 "metadata": {
  "kernelspec": {
   "display_name": "base",
   "language": "python",
   "name": "python3"
  },
  "language_info": {
   "codemirror_mode": {
    "name": "ipython",
    "version": 3
   },
   "file_extension": ".py",
   "mimetype": "text/x-python",
   "name": "python",
   "nbconvert_exporter": "python",
   "pygments_lexer": "ipython3",
   "version": "3.12.8"
  }
 },
 "nbformat": 4,
 "nbformat_minor": 5
}
