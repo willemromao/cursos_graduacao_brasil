{
  "nbformat": 4,
  "nbformat_minor": 0,
  "metadata": {
    "colab": {
      "provenance": [],
      "toc_visible": true
    },
    "kernelspec": {
      "name": "python3",
      "display_name": "Python 3"
    },
    "language_info": {
      "name": "python"
    }
  },
  "cells": [
    {
      "cell_type": "markdown",
      "source": [
        "# **Aplicação de Aprendizado de Máquina na Classificação de Extinção de Cursos de Graduação**"
      ],
      "metadata": {
        "id": "f8TFOHdsKq5I"
      }
    },
    {
      "cell_type": "markdown",
      "source": [
        "***Autor:*** *Francisco Willem Romão Moreira*"
      ],
      "metadata": {
        "id": "DNRpeGaW4Cjy"
      }
    },
    {
      "cell_type": "markdown",
      "source": [
        "Este projeto visa fazer uma classificação do \"risco\" de extinção de um curso de graduação no Brasil com base na variável SITUAÇÃO_CURSO que possui as categorias: *Em atividade*, *Extinto* e *Em extinção*.\n",
        "\n",
        "Os dados utilizados nesse projeto foram extraídos da página: [Dados Abertos MEC](<https://dadosabertos.mec.gov.br/indicadores-sobre-ensino-superior/item/183-cursos-de-graduacao-do-brasil>)."
      ],
      "metadata": {
        "id": "p6O-AbFiK2PR"
      }
    },
    {
      "cell_type": "markdown",
      "source": [
        "# **Bibliotecas**"
      ],
      "metadata": {
        "id": "iuvygEavLn2p"
      }
    },
    {
      "cell_type": "markdown",
      "source": [
        "Manipulação e visualização de dados:"
      ],
      "metadata": {
        "id": "oSKEWPLueScp"
      }
    },
    {
      "cell_type": "code",
      "source": [
        "import pandas as pd\n",
        "import numpy as np\n",
        "import matplotlib.pyplot as plt\n",
        "import seaborn as sns\n",
        "import os\n",
        "import gdown"
      ],
      "metadata": {
        "id": "pk7nJNtYLnZ7"
      },
      "execution_count": null,
      "outputs": []
    },
    {
      "cell_type": "markdown",
      "source": [
        "Transformação de dados:"
      ],
      "metadata": {
        "id": "XELkP1MyeZXP"
      }
    },
    {
      "cell_type": "code",
      "source": [
        "from sklearn.utils import resample\n",
        "from sklearn.preprocessing import MinMaxScaler, LabelEncoder, OneHotEncoder\n",
        "from sklearn.compose import ColumnTransformer"
      ],
      "metadata": {
        "id": "t_wRiVF0fTMr"
      },
      "execution_count": null,
      "outputs": []
    },
    {
      "cell_type": "code",
      "source": [
        "!pip install category_encoders"
      ],
      "metadata": {
        "colab": {
          "base_uri": "https://localhost:8080/"
        },
        "id": "W_19wjEQ52w8",
        "outputId": "06eb3a6a-cdcb-4ff0-cee2-02bd86de6318"
      },
      "execution_count": null,
      "outputs": [
        {
          "output_type": "stream",
          "name": "stdout",
          "text": [
            "Collecting category_encoders\n",
            "  Downloading category_encoders-2.6.3-py2.py3-none-any.whl.metadata (8.0 kB)\n",
            "Requirement already satisfied: numpy>=1.14.0 in /usr/local/lib/python3.10/dist-packages (from category_encoders) (1.26.4)\n",
            "Requirement already satisfied: scikit-learn>=0.20.0 in /usr/local/lib/python3.10/dist-packages (from category_encoders) (1.3.2)\n",
            "Requirement already satisfied: scipy>=1.0.0 in /usr/local/lib/python3.10/dist-packages (from category_encoders) (1.13.1)\n",
            "Requirement already satisfied: statsmodels>=0.9.0 in /usr/local/lib/python3.10/dist-packages (from category_encoders) (0.14.2)\n",
            "Requirement already satisfied: pandas>=1.0.5 in /usr/local/lib/python3.10/dist-packages (from category_encoders) (2.1.4)\n",
            "Requirement already satisfied: patsy>=0.5.1 in /usr/local/lib/python3.10/dist-packages (from category_encoders) (0.5.6)\n",
            "Requirement already satisfied: python-dateutil>=2.8.2 in /usr/local/lib/python3.10/dist-packages (from pandas>=1.0.5->category_encoders) (2.8.2)\n",
            "Requirement already satisfied: pytz>=2020.1 in /usr/local/lib/python3.10/dist-packages (from pandas>=1.0.5->category_encoders) (2024.1)\n",
            "Requirement already satisfied: tzdata>=2022.1 in /usr/local/lib/python3.10/dist-packages (from pandas>=1.0.5->category_encoders) (2024.1)\n",
            "Requirement already satisfied: six in /usr/local/lib/python3.10/dist-packages (from patsy>=0.5.1->category_encoders) (1.16.0)\n",
            "Requirement already satisfied: joblib>=1.1.1 in /usr/local/lib/python3.10/dist-packages (from scikit-learn>=0.20.0->category_encoders) (1.4.2)\n",
            "Requirement already satisfied: threadpoolctl>=2.0.0 in /usr/local/lib/python3.10/dist-packages (from scikit-learn>=0.20.0->category_encoders) (3.5.0)\n",
            "Requirement already satisfied: packaging>=21.3 in /usr/local/lib/python3.10/dist-packages (from statsmodels>=0.9.0->category_encoders) (24.1)\n",
            "Downloading category_encoders-2.6.3-py2.py3-none-any.whl (81 kB)\n",
            "\u001b[2K   \u001b[90m━━━━━━━━━━━━━━━━━━━━━━━━━━━━━━━━━━━━━━━━\u001b[0m \u001b[32m81.9/81.9 kB\u001b[0m \u001b[31m924.3 kB/s\u001b[0m eta \u001b[36m0:00:00\u001b[0m\n",
            "\u001b[?25hInstalling collected packages: category_encoders\n",
            "Successfully installed category_encoders-2.6.3\n"
          ]
        }
      ]
    },
    {
      "cell_type": "code",
      "source": [
        "from category_encoders import BinaryEncoder"
      ],
      "metadata": {
        "id": "oS7jeePY6NRu"
      },
      "execution_count": null,
      "outputs": []
    },
    {
      "cell_type": "markdown",
      "source": [
        "Aprendizado de Máquina:"
      ],
      "metadata": {
        "id": "zR8dkvG8e1Ro"
      }
    },
    {
      "cell_type": "code",
      "source": [
        "from sklearn.model_selection import train_test_split, RandomizedSearchCV"
      ],
      "metadata": {
        "id": "EWSej0qlF6lG"
      },
      "execution_count": null,
      "outputs": []
    },
    {
      "cell_type": "code",
      "source": [
        "from sklearn import tree\n",
        "from sklearn.tree import DecisionTreeClassifier\n",
        "from sklearn.ensemble import RandomForestClassifier\n",
        "from sklearn.neural_network import MLPClassifier"
      ],
      "metadata": {
        "id": "lWmkVEfUfdDP"
      },
      "execution_count": null,
      "outputs": []
    },
    {
      "cell_type": "code",
      "source": [
        "from sklearn.metrics import accuracy_score, classification_report, confusion_matrix"
      ],
      "metadata": {
        "id": "gFBRaoKaGZw2"
      },
      "execution_count": null,
      "outputs": []
    },
    {
      "cell_type": "code",
      "source": [
        "import joblib"
      ],
      "metadata": {
        "id": "yLp5Daqg9Ge3"
      },
      "execution_count": null,
      "outputs": []
    },
    {
      "cell_type": "markdown",
      "source": [
        "# **Download do dataset via Google Drive**\n",
        "\n"
      ],
      "metadata": {
        "id": "AgXd46mKLvJE"
      }
    },
    {
      "cell_type": "code",
      "source": [
        "!pip install gdown"
      ],
      "metadata": {
        "colab": {
          "base_uri": "https://localhost:8080/"
        },
        "id": "i9qwukyRL1jY",
        "outputId": "7dfc834a-1e3c-4756-a4bc-e693ae822ea5"
      },
      "execution_count": null,
      "outputs": [
        {
          "output_type": "stream",
          "name": "stdout",
          "text": [
            "Requirement already satisfied: gdown in /usr/local/lib/python3.10/dist-packages (5.1.0)\n",
            "Requirement already satisfied: beautifulsoup4 in /usr/local/lib/python3.10/dist-packages (from gdown) (4.12.3)\n",
            "Requirement already satisfied: filelock in /usr/local/lib/python3.10/dist-packages (from gdown) (3.15.4)\n",
            "Requirement already satisfied: requests[socks] in /usr/local/lib/python3.10/dist-packages (from gdown) (2.31.0)\n",
            "Requirement already satisfied: tqdm in /usr/local/lib/python3.10/dist-packages (from gdown) (4.66.4)\n",
            "Requirement already satisfied: soupsieve>1.2 in /usr/local/lib/python3.10/dist-packages (from beautifulsoup4->gdown) (2.5)\n",
            "Requirement already satisfied: charset-normalizer<4,>=2 in /usr/local/lib/python3.10/dist-packages (from requests[socks]->gdown) (3.3.2)\n",
            "Requirement already satisfied: idna<4,>=2.5 in /usr/local/lib/python3.10/dist-packages (from requests[socks]->gdown) (3.7)\n",
            "Requirement already satisfied: urllib3<3,>=1.21.1 in /usr/local/lib/python3.10/dist-packages (from requests[socks]->gdown) (2.0.7)\n",
            "Requirement already satisfied: certifi>=2017.4.17 in /usr/local/lib/python3.10/dist-packages (from requests[socks]->gdown) (2024.7.4)\n",
            "Requirement already satisfied: PySocks!=1.5.7,>=1.5.6 in /usr/local/lib/python3.10/dist-packages (from requests[socks]->gdown) (1.7.1)\n"
          ]
        }
      ]
    },
    {
      "cell_type": "code",
      "source": [
        "url = 'https://drive.google.com/file/d/11z9j5YM_fFH6UFWusgEBmbQHpPhaUTvi/view?usp=sharing'\n",
        "output = 'dataset_ies.csv'\n",
        "gdown.download(url, output, quiet=False, fuzzy=True)\n",
        "print('Arquivo baixado:', os.path.exists(output))"
      ],
      "metadata": {
        "colab": {
          "base_uri": "https://localhost:8080/"
        },
        "id": "aBqD5fh8L5Aw",
        "outputId": "8032dd8f-7936-40bc-d047-1b4853fdb005"
      },
      "execution_count": null,
      "outputs": [
        {
          "output_type": "stream",
          "name": "stderr",
          "text": [
            "Downloading...\n",
            "From (original): https://drive.google.com/uc?id=11z9j5YM_fFH6UFWusgEBmbQHpPhaUTvi\n",
            "From (redirected): https://drive.google.com/uc?id=11z9j5YM_fFH6UFWusgEBmbQHpPhaUTvi&confirm=t&uuid=a2a39fcd-83d7-4998-a7a8-a8f01aba4e04\n",
            "To: /content/dataset_ies.csv\n",
            "100%|██████████| 237M/237M [00:03<00:00, 73.7MB/s]"
          ]
        },
        {
          "output_type": "stream",
          "name": "stdout",
          "text": [
            "Arquivo baixado: True\n"
          ]
        },
        {
          "output_type": "stream",
          "name": "stderr",
          "text": [
            "\n"
          ]
        }
      ]
    },
    {
      "cell_type": "code",
      "source": [
        "df = pd.read_csv('dataset_ies.csv')"
      ],
      "metadata": {
        "id": "GrpK5xDhMVcm"
      },
      "execution_count": null,
      "outputs": []
    },
    {
      "cell_type": "code",
      "source": [
        "df.head()"
      ],
      "metadata": {
        "colab": {
          "base_uri": "https://localhost:8080/",
          "height": 451
        },
        "id": "7QsgQN2eNUNW",
        "outputId": "e677be5d-81c0-4db5-a569-d7c2c6a738e7"
      },
      "execution_count": null,
      "outputs": [
        {
          "output_type": "execute_result",
          "data": {
            "text/plain": [
              "   CODIGO_IES                                NOME_IES  \\\n",
              "0        4751         CENTRO UNIVERSITÁRIO UNIFATECIE   \n",
              "1        1491      CENTRO UNIVERSITÁRIO INTERNACIONAL   \n",
              "2        1472  CENTRO UNIVERSITÁRIO LEONARDO DA VINCI   \n",
              "3         221            UNIVERSIDADE CRUZEIRO DO SUL   \n",
              "4        1472  CENTRO UNIVERSITÁRIO LEONARDO DA VINCI   \n",
              "\n",
              "      CATEGORIA_ADMINISTRATIVA ORGANIZACAO_ACADEMICA  CODIGO_CURSO  \\\n",
              "0  Privada com fins lucrativos  Centro Universitário       1556773   \n",
              "1  Privada com fins lucrativos  Centro Universitário       1186955   \n",
              "2  Privada com fins lucrativos  Centro Universitário         99950   \n",
              "3  Privada com fins lucrativos          Universidade       1467998   \n",
              "4  Privada com fins lucrativos  Centro Universitário       1516788   \n",
              "\n",
              "              NOME_CURSO          GRAU  \\\n",
              "0  ENGENHARIA AGRONÔMICA   Bacharelado   \n",
              "1                 LETRAS  Licenciatura   \n",
              "2              GEOGRAFIA  Licenciatura   \n",
              "3        EDUCAÇÃO FÍSICA   Bacharelado   \n",
              "4        SERVIÇOS PENAIS   Tecnológico   \n",
              "\n",
              "                                           AREA_OCDE            MODALIDADE  \\\n",
              "0                                          Agronomia  Educação a Distância   \n",
              "1  Formação de professor de língua/literatura ver...  Educação a Distância   \n",
              "2                 Formação de professor de geografia  Educação a Distância   \n",
              "3                                    Educação física  Educação a Distância   \n",
              "4                                                NaN  Educação a Distância   \n",
              "\n",
              "  SITUACAO_CURSO  QT_VAGAS_AUTORIZADAS  CARGA_HORARIA CODIGO_AREA_OCDE_CINE  \\\n",
              "0   Em atividade                  1000           4400                   301   \n",
              "1   Em atividade                  3000           3992                    58   \n",
              "2   Em atividade                  7620           3500                    39   \n",
              "3   Em atividade                  1200           3200                   328   \n",
              "4   Em atividade                  1500           1980                   357   \n",
              "\n",
              "                                      AREA_OCDE_CINE  CODIGO_MUNICIPIO  \\\n",
              "0                                          Agronomia           3541406   \n",
              "1  Formação de professor de língua/literatura ver...           2516201   \n",
              "2                 Formação de professor de geografia           2800308   \n",
              "3                                    Educação física           4113205   \n",
              "4                                    Serviços penais           2601706   \n",
              "\n",
              "             MUNICIPIO  UF    REGIAO  \n",
              "0  Presidente Prudente  SP   SUDESTE  \n",
              "1                Sousa  PB  NORDESTE  \n",
              "2              Aracaju  SE  NORDESTE  \n",
              "3                 Lapa  PR       SUL  \n",
              "4          Belo Jardim  PE  NORDESTE  "
            ],
            "text/html": [
              "\n",
              "  <div id=\"df-328ad70f-2321-49ad-b6d4-42e1d1d10df2\" class=\"colab-df-container\">\n",
              "    <div>\n",
              "<style scoped>\n",
              "    .dataframe tbody tr th:only-of-type {\n",
              "        vertical-align: middle;\n",
              "    }\n",
              "\n",
              "    .dataframe tbody tr th {\n",
              "        vertical-align: top;\n",
              "    }\n",
              "\n",
              "    .dataframe thead th {\n",
              "        text-align: right;\n",
              "    }\n",
              "</style>\n",
              "<table border=\"1\" class=\"dataframe\">\n",
              "  <thead>\n",
              "    <tr style=\"text-align: right;\">\n",
              "      <th></th>\n",
              "      <th>CODIGO_IES</th>\n",
              "      <th>NOME_IES</th>\n",
              "      <th>CATEGORIA_ADMINISTRATIVA</th>\n",
              "      <th>ORGANIZACAO_ACADEMICA</th>\n",
              "      <th>CODIGO_CURSO</th>\n",
              "      <th>NOME_CURSO</th>\n",
              "      <th>GRAU</th>\n",
              "      <th>AREA_OCDE</th>\n",
              "      <th>MODALIDADE</th>\n",
              "      <th>SITUACAO_CURSO</th>\n",
              "      <th>QT_VAGAS_AUTORIZADAS</th>\n",
              "      <th>CARGA_HORARIA</th>\n",
              "      <th>CODIGO_AREA_OCDE_CINE</th>\n",
              "      <th>AREA_OCDE_CINE</th>\n",
              "      <th>CODIGO_MUNICIPIO</th>\n",
              "      <th>MUNICIPIO</th>\n",
              "      <th>UF</th>\n",
              "      <th>REGIAO</th>\n",
              "    </tr>\n",
              "  </thead>\n",
              "  <tbody>\n",
              "    <tr>\n",
              "      <th>0</th>\n",
              "      <td>4751</td>\n",
              "      <td>CENTRO UNIVERSITÁRIO UNIFATECIE</td>\n",
              "      <td>Privada com fins lucrativos</td>\n",
              "      <td>Centro Universitário</td>\n",
              "      <td>1556773</td>\n",
              "      <td>ENGENHARIA AGRONÔMICA</td>\n",
              "      <td>Bacharelado</td>\n",
              "      <td>Agronomia</td>\n",
              "      <td>Educação a Distância</td>\n",
              "      <td>Em atividade</td>\n",
              "      <td>1000</td>\n",
              "      <td>4400</td>\n",
              "      <td>301</td>\n",
              "      <td>Agronomia</td>\n",
              "      <td>3541406</td>\n",
              "      <td>Presidente Prudente</td>\n",
              "      <td>SP</td>\n",
              "      <td>SUDESTE</td>\n",
              "    </tr>\n",
              "    <tr>\n",
              "      <th>1</th>\n",
              "      <td>1491</td>\n",
              "      <td>CENTRO UNIVERSITÁRIO INTERNACIONAL</td>\n",
              "      <td>Privada com fins lucrativos</td>\n",
              "      <td>Centro Universitário</td>\n",
              "      <td>1186955</td>\n",
              "      <td>LETRAS</td>\n",
              "      <td>Licenciatura</td>\n",
              "      <td>Formação de professor de língua/literatura ver...</td>\n",
              "      <td>Educação a Distância</td>\n",
              "      <td>Em atividade</td>\n",
              "      <td>3000</td>\n",
              "      <td>3992</td>\n",
              "      <td>58</td>\n",
              "      <td>Formação de professor de língua/literatura ver...</td>\n",
              "      <td>2516201</td>\n",
              "      <td>Sousa</td>\n",
              "      <td>PB</td>\n",
              "      <td>NORDESTE</td>\n",
              "    </tr>\n",
              "    <tr>\n",
              "      <th>2</th>\n",
              "      <td>1472</td>\n",
              "      <td>CENTRO UNIVERSITÁRIO LEONARDO DA VINCI</td>\n",
              "      <td>Privada com fins lucrativos</td>\n",
              "      <td>Centro Universitário</td>\n",
              "      <td>99950</td>\n",
              "      <td>GEOGRAFIA</td>\n",
              "      <td>Licenciatura</td>\n",
              "      <td>Formação de professor de geografia</td>\n",
              "      <td>Educação a Distância</td>\n",
              "      <td>Em atividade</td>\n",
              "      <td>7620</td>\n",
              "      <td>3500</td>\n",
              "      <td>39</td>\n",
              "      <td>Formação de professor de geografia</td>\n",
              "      <td>2800308</td>\n",
              "      <td>Aracaju</td>\n",
              "      <td>SE</td>\n",
              "      <td>NORDESTE</td>\n",
              "    </tr>\n",
              "    <tr>\n",
              "      <th>3</th>\n",
              "      <td>221</td>\n",
              "      <td>UNIVERSIDADE CRUZEIRO DO SUL</td>\n",
              "      <td>Privada com fins lucrativos</td>\n",
              "      <td>Universidade</td>\n",
              "      <td>1467998</td>\n",
              "      <td>EDUCAÇÃO FÍSICA</td>\n",
              "      <td>Bacharelado</td>\n",
              "      <td>Educação física</td>\n",
              "      <td>Educação a Distância</td>\n",
              "      <td>Em atividade</td>\n",
              "      <td>1200</td>\n",
              "      <td>3200</td>\n",
              "      <td>328</td>\n",
              "      <td>Educação física</td>\n",
              "      <td>4113205</td>\n",
              "      <td>Lapa</td>\n",
              "      <td>PR</td>\n",
              "      <td>SUL</td>\n",
              "    </tr>\n",
              "    <tr>\n",
              "      <th>4</th>\n",
              "      <td>1472</td>\n",
              "      <td>CENTRO UNIVERSITÁRIO LEONARDO DA VINCI</td>\n",
              "      <td>Privada com fins lucrativos</td>\n",
              "      <td>Centro Universitário</td>\n",
              "      <td>1516788</td>\n",
              "      <td>SERVIÇOS PENAIS</td>\n",
              "      <td>Tecnológico</td>\n",
              "      <td>NaN</td>\n",
              "      <td>Educação a Distância</td>\n",
              "      <td>Em atividade</td>\n",
              "      <td>1500</td>\n",
              "      <td>1980</td>\n",
              "      <td>357</td>\n",
              "      <td>Serviços penais</td>\n",
              "      <td>2601706</td>\n",
              "      <td>Belo Jardim</td>\n",
              "      <td>PE</td>\n",
              "      <td>NORDESTE</td>\n",
              "    </tr>\n",
              "  </tbody>\n",
              "</table>\n",
              "</div>\n",
              "    <div class=\"colab-df-buttons\">\n",
              "\n",
              "  <div class=\"colab-df-container\">\n",
              "    <button class=\"colab-df-convert\" onclick=\"convertToInteractive('df-328ad70f-2321-49ad-b6d4-42e1d1d10df2')\"\n",
              "            title=\"Convert this dataframe to an interactive table.\"\n",
              "            style=\"display:none;\">\n",
              "\n",
              "  <svg xmlns=\"http://www.w3.org/2000/svg\" height=\"24px\" viewBox=\"0 -960 960 960\">\n",
              "    <path d=\"M120-120v-720h720v720H120Zm60-500h600v-160H180v160Zm220 220h160v-160H400v160Zm0 220h160v-160H400v160ZM180-400h160v-160H180v160Zm440 0h160v-160H620v160ZM180-180h160v-160H180v160Zm440 0h160v-160H620v160Z\"/>\n",
              "  </svg>\n",
              "    </button>\n",
              "\n",
              "  <style>\n",
              "    .colab-df-container {\n",
              "      display:flex;\n",
              "      gap: 12px;\n",
              "    }\n",
              "\n",
              "    .colab-df-convert {\n",
              "      background-color: #E8F0FE;\n",
              "      border: none;\n",
              "      border-radius: 50%;\n",
              "      cursor: pointer;\n",
              "      display: none;\n",
              "      fill: #1967D2;\n",
              "      height: 32px;\n",
              "      padding: 0 0 0 0;\n",
              "      width: 32px;\n",
              "    }\n",
              "\n",
              "    .colab-df-convert:hover {\n",
              "      background-color: #E2EBFA;\n",
              "      box-shadow: 0px 1px 2px rgba(60, 64, 67, 0.3), 0px 1px 3px 1px rgba(60, 64, 67, 0.15);\n",
              "      fill: #174EA6;\n",
              "    }\n",
              "\n",
              "    .colab-df-buttons div {\n",
              "      margin-bottom: 4px;\n",
              "    }\n",
              "\n",
              "    [theme=dark] .colab-df-convert {\n",
              "      background-color: #3B4455;\n",
              "      fill: #D2E3FC;\n",
              "    }\n",
              "\n",
              "    [theme=dark] .colab-df-convert:hover {\n",
              "      background-color: #434B5C;\n",
              "      box-shadow: 0px 1px 3px 1px rgba(0, 0, 0, 0.15);\n",
              "      filter: drop-shadow(0px 1px 2px rgba(0, 0, 0, 0.3));\n",
              "      fill: #FFFFFF;\n",
              "    }\n",
              "  </style>\n",
              "\n",
              "    <script>\n",
              "      const buttonEl =\n",
              "        document.querySelector('#df-328ad70f-2321-49ad-b6d4-42e1d1d10df2 button.colab-df-convert');\n",
              "      buttonEl.style.display =\n",
              "        google.colab.kernel.accessAllowed ? 'block' : 'none';\n",
              "\n",
              "      async function convertToInteractive(key) {\n",
              "        const element = document.querySelector('#df-328ad70f-2321-49ad-b6d4-42e1d1d10df2');\n",
              "        const dataTable =\n",
              "          await google.colab.kernel.invokeFunction('convertToInteractive',\n",
              "                                                    [key], {});\n",
              "        if (!dataTable) return;\n",
              "\n",
              "        const docLinkHtml = 'Like what you see? Visit the ' +\n",
              "          '<a target=\"_blank\" href=https://colab.research.google.com/notebooks/data_table.ipynb>data table notebook</a>'\n",
              "          + ' to learn more about interactive tables.';\n",
              "        element.innerHTML = '';\n",
              "        dataTable['output_type'] = 'display_data';\n",
              "        await google.colab.output.renderOutput(dataTable, element);\n",
              "        const docLink = document.createElement('div');\n",
              "        docLink.innerHTML = docLinkHtml;\n",
              "        element.appendChild(docLink);\n",
              "      }\n",
              "    </script>\n",
              "  </div>\n",
              "\n",
              "\n",
              "<div id=\"df-42fb0841-10c9-4af8-bab3-e6e75c3a85b1\">\n",
              "  <button class=\"colab-df-quickchart\" onclick=\"quickchart('df-42fb0841-10c9-4af8-bab3-e6e75c3a85b1')\"\n",
              "            title=\"Suggest charts\"\n",
              "            style=\"display:none;\">\n",
              "\n",
              "<svg xmlns=\"http://www.w3.org/2000/svg\" height=\"24px\"viewBox=\"0 0 24 24\"\n",
              "     width=\"24px\">\n",
              "    <g>\n",
              "        <path d=\"M19 3H5c-1.1 0-2 .9-2 2v14c0 1.1.9 2 2 2h14c1.1 0 2-.9 2-2V5c0-1.1-.9-2-2-2zM9 17H7v-7h2v7zm4 0h-2V7h2v10zm4 0h-2v-4h2v4z\"/>\n",
              "    </g>\n",
              "</svg>\n",
              "  </button>\n",
              "\n",
              "<style>\n",
              "  .colab-df-quickchart {\n",
              "      --bg-color: #E8F0FE;\n",
              "      --fill-color: #1967D2;\n",
              "      --hover-bg-color: #E2EBFA;\n",
              "      --hover-fill-color: #174EA6;\n",
              "      --disabled-fill-color: #AAA;\n",
              "      --disabled-bg-color: #DDD;\n",
              "  }\n",
              "\n",
              "  [theme=dark] .colab-df-quickchart {\n",
              "      --bg-color: #3B4455;\n",
              "      --fill-color: #D2E3FC;\n",
              "      --hover-bg-color: #434B5C;\n",
              "      --hover-fill-color: #FFFFFF;\n",
              "      --disabled-bg-color: #3B4455;\n",
              "      --disabled-fill-color: #666;\n",
              "  }\n",
              "\n",
              "  .colab-df-quickchart {\n",
              "    background-color: var(--bg-color);\n",
              "    border: none;\n",
              "    border-radius: 50%;\n",
              "    cursor: pointer;\n",
              "    display: none;\n",
              "    fill: var(--fill-color);\n",
              "    height: 32px;\n",
              "    padding: 0;\n",
              "    width: 32px;\n",
              "  }\n",
              "\n",
              "  .colab-df-quickchart:hover {\n",
              "    background-color: var(--hover-bg-color);\n",
              "    box-shadow: 0 1px 2px rgba(60, 64, 67, 0.3), 0 1px 3px 1px rgba(60, 64, 67, 0.15);\n",
              "    fill: var(--button-hover-fill-color);\n",
              "  }\n",
              "\n",
              "  .colab-df-quickchart-complete:disabled,\n",
              "  .colab-df-quickchart-complete:disabled:hover {\n",
              "    background-color: var(--disabled-bg-color);\n",
              "    fill: var(--disabled-fill-color);\n",
              "    box-shadow: none;\n",
              "  }\n",
              "\n",
              "  .colab-df-spinner {\n",
              "    border: 2px solid var(--fill-color);\n",
              "    border-color: transparent;\n",
              "    border-bottom-color: var(--fill-color);\n",
              "    animation:\n",
              "      spin 1s steps(1) infinite;\n",
              "  }\n",
              "\n",
              "  @keyframes spin {\n",
              "    0% {\n",
              "      border-color: transparent;\n",
              "      border-bottom-color: var(--fill-color);\n",
              "      border-left-color: var(--fill-color);\n",
              "    }\n",
              "    20% {\n",
              "      border-color: transparent;\n",
              "      border-left-color: var(--fill-color);\n",
              "      border-top-color: var(--fill-color);\n",
              "    }\n",
              "    30% {\n",
              "      border-color: transparent;\n",
              "      border-left-color: var(--fill-color);\n",
              "      border-top-color: var(--fill-color);\n",
              "      border-right-color: var(--fill-color);\n",
              "    }\n",
              "    40% {\n",
              "      border-color: transparent;\n",
              "      border-right-color: var(--fill-color);\n",
              "      border-top-color: var(--fill-color);\n",
              "    }\n",
              "    60% {\n",
              "      border-color: transparent;\n",
              "      border-right-color: var(--fill-color);\n",
              "    }\n",
              "    80% {\n",
              "      border-color: transparent;\n",
              "      border-right-color: var(--fill-color);\n",
              "      border-bottom-color: var(--fill-color);\n",
              "    }\n",
              "    90% {\n",
              "      border-color: transparent;\n",
              "      border-bottom-color: var(--fill-color);\n",
              "    }\n",
              "  }\n",
              "</style>\n",
              "\n",
              "  <script>\n",
              "    async function quickchart(key) {\n",
              "      const quickchartButtonEl =\n",
              "        document.querySelector('#' + key + ' button');\n",
              "      quickchartButtonEl.disabled = true;  // To prevent multiple clicks.\n",
              "      quickchartButtonEl.classList.add('colab-df-spinner');\n",
              "      try {\n",
              "        const charts = await google.colab.kernel.invokeFunction(\n",
              "            'suggestCharts', [key], {});\n",
              "      } catch (error) {\n",
              "        console.error('Error during call to suggestCharts:', error);\n",
              "      }\n",
              "      quickchartButtonEl.classList.remove('colab-df-spinner');\n",
              "      quickchartButtonEl.classList.add('colab-df-quickchart-complete');\n",
              "    }\n",
              "    (() => {\n",
              "      let quickchartButtonEl =\n",
              "        document.querySelector('#df-42fb0841-10c9-4af8-bab3-e6e75c3a85b1 button');\n",
              "      quickchartButtonEl.style.display =\n",
              "        google.colab.kernel.accessAllowed ? 'block' : 'none';\n",
              "    })();\n",
              "  </script>\n",
              "</div>\n",
              "\n",
              "    </div>\n",
              "  </div>\n"
            ],
            "application/vnd.google.colaboratory.intrinsic+json": {
              "type": "dataframe",
              "variable_name": "df"
            }
          },
          "metadata": {},
          "execution_count": 11
        }
      ]
    },
    {
      "cell_type": "code",
      "source": [
        "df.shape"
      ],
      "metadata": {
        "colab": {
          "base_uri": "https://localhost:8080/"
        },
        "id": "DvHL_hXCNX41",
        "outputId": "c420dd5a-0215-4c93-bf59-8dc2aca2745d"
      },
      "execution_count": null,
      "outputs": [
        {
          "output_type": "execute_result",
          "data": {
            "text/plain": [
              "(902676, 18)"
            ]
          },
          "metadata": {},
          "execution_count": 12
        }
      ]
    },
    {
      "cell_type": "markdown",
      "source": [
        "# **Pré-processamento**"
      ],
      "metadata": {
        "id": "Ikz_nrv4L7hY"
      }
    },
    {
      "cell_type": "markdown",
      "source": [
        "A seguir todas as etapas de pré-processamento para que os dados estejam adequados para os algoritmos de classificação."
      ],
      "metadata": {
        "id": "hivqnoFnfT_G"
      }
    },
    {
      "cell_type": "markdown",
      "source": [
        "## **Seleção de atributos (Feature selection)**"
      ],
      "metadata": {
        "id": "_RZyP8nNcMLZ"
      }
    },
    {
      "cell_type": "markdown",
      "source": [
        "Primeiro vamos extrair os atributos mais relevantes e descartar variáveis que não são importantes para o problema em questão."
      ],
      "metadata": {
        "id": "nUHI2SrMgRDF"
      }
    },
    {
      "cell_type": "code",
      "source": [
        "df.columns"
      ],
      "metadata": {
        "colab": {
          "base_uri": "https://localhost:8080/"
        },
        "id": "l7vlfRe5f79c",
        "outputId": "db49df90-b97c-412b-c646-98e7f8dfc5d8"
      },
      "execution_count": null,
      "outputs": [
        {
          "output_type": "execute_result",
          "data": {
            "text/plain": [
              "Index(['CODIGO_IES', 'NOME_IES', 'CATEGORIA_ADMINISTRATIVA',\n",
              "       'ORGANIZACAO_ACADEMICA', 'CODIGO_CURSO', 'NOME_CURSO', 'GRAU',\n",
              "       'AREA_OCDE', 'MODALIDADE', 'SITUACAO_CURSO', 'QT_VAGAS_AUTORIZADAS',\n",
              "       'CARGA_HORARIA', 'CODIGO_AREA_OCDE_CINE', 'AREA_OCDE_CINE',\n",
              "       'CODIGO_MUNICIPIO', 'MUNICIPIO', 'UF', 'REGIAO'],\n",
              "      dtype='object')"
            ]
          },
          "metadata": {},
          "execution_count": 13
        }
      ]
    },
    {
      "cell_type": "code",
      "source": [
        "df.drop(columns=['CODIGO_IES', 'NOME_IES',\n",
        "                 'CODIGO_CURSO','NOME_CURSO',\n",
        "                 'AREA_OCDE', 'CODIGO_AREA_OCDE_CINE',\n",
        "                 'AREA_OCDE_CINE', 'CODIGO_MUNICIPIO',\n",
        "                 'MUNICIPIO', 'UF'],inplace=True)"
      ],
      "metadata": {
        "id": "h9Hn97P7cj8S"
      },
      "execution_count": null,
      "outputs": []
    },
    {
      "cell_type": "markdown",
      "source": [
        "Após a remoção, ficamos com os seguintes atributos:"
      ],
      "metadata": {
        "id": "uA-gofJFhSPJ"
      }
    },
    {
      "cell_type": "code",
      "source": [
        "df.columns"
      ],
      "metadata": {
        "colab": {
          "base_uri": "https://localhost:8080/"
        },
        "id": "s-OuU6kFgtqZ",
        "outputId": "4febfbae-66f6-4cd2-c66d-bd606c37a1c6"
      },
      "execution_count": null,
      "outputs": [
        {
          "output_type": "execute_result",
          "data": {
            "text/plain": [
              "Index(['CATEGORIA_ADMINISTRATIVA', 'ORGANIZACAO_ACADEMICA', 'GRAU',\n",
              "       'MODALIDADE', 'SITUACAO_CURSO', 'QT_VAGAS_AUTORIZADAS', 'CARGA_HORARIA',\n",
              "       'REGIAO'],\n",
              "      dtype='object')"
            ]
          },
          "metadata": {},
          "execution_count": 15
        }
      ]
    },
    {
      "cell_type": "markdown",
      "source": [
        "## **Correção de dados inválidos**"
      ],
      "metadata": {
        "id": "yItXgLxKctvr"
      }
    },
    {
      "cell_type": "markdown",
      "source": [
        "Nesta etapa vamos analisar quais categorias estão presentes em cada atributo, e em caso de dados inválidos, corrigir."
      ],
      "metadata": {
        "id": "4fKQl0dWhnWT"
      }
    },
    {
      "cell_type": "code",
      "source": [
        "df['CATEGORIA_ADMINISTRATIVA'].unique()"
      ],
      "metadata": {
        "colab": {
          "base_uri": "https://localhost:8080/"
        },
        "id": "7LdPIaS0dJSW",
        "outputId": "7c6a7db2-5afd-489a-88bf-d68ffd0d8227"
      },
      "execution_count": null,
      "outputs": [
        {
          "output_type": "execute_result",
          "data": {
            "text/plain": [
              "array(['Privada com fins lucrativos', 'Privada sem fins lucrativos',\n",
              "       'Pública Municipal', 'Pública Federal', 'Pública Estadual',\n",
              "       'Especial'], dtype=object)"
            ]
          },
          "metadata": {},
          "execution_count": 16
        }
      ]
    },
    {
      "cell_type": "code",
      "source": [
        "df['ORGANIZACAO_ACADEMICA'].unique()"
      ],
      "metadata": {
        "colab": {
          "base_uri": "https://localhost:8080/"
        },
        "id": "Cs3B5c8Gh-Ho",
        "outputId": "ec089f5b-f498-45ad-cfba-f5c67c31411e"
      },
      "execution_count": null,
      "outputs": [
        {
          "output_type": "execute_result",
          "data": {
            "text/plain": [
              "array(['Centro Universitário', 'Universidade', 'Faculdade',\n",
              "       'Instituto Federal de Educação, Ciência e Tecnologia',\n",
              "       'Centro Federal de Educação Tecnológica',\n",
              "       'Instituição Especialmente Credenciada para oferta de cursos lato sensu'],\n",
              "      dtype=object)"
            ]
          },
          "metadata": {},
          "execution_count": 17
        }
      ]
    },
    {
      "cell_type": "code",
      "source": [
        "df['GRAU'].unique()"
      ],
      "metadata": {
        "colab": {
          "base_uri": "https://localhost:8080/"
        },
        "id": "7SeEpfqoiJI8",
        "outputId": "a8c375d2-7466-42bd-9e19-167d6a0ee2c7"
      },
      "execution_count": null,
      "outputs": [
        {
          "output_type": "execute_result",
          "data": {
            "text/plain": [
              "array(['Bacharelado', 'Licenciatura', 'Tecnológico',\n",
              "       'Área Básica de Ingresso (ABI)', 'Sequencial'], dtype=object)"
            ]
          },
          "metadata": {},
          "execution_count": 18
        }
      ]
    },
    {
      "cell_type": "code",
      "source": [
        "df['MODALIDADE'].unique()"
      ],
      "metadata": {
        "colab": {
          "base_uri": "https://localhost:8080/"
        },
        "id": "QWuVDCF1iSdH",
        "outputId": "9039c88d-1d37-4026-a4fe-100834781ed6"
      },
      "execution_count": null,
      "outputs": [
        {
          "output_type": "execute_result",
          "data": {
            "text/plain": [
              "array(['Educação a Distância', 'Educação Presencial'], dtype=object)"
            ]
          },
          "metadata": {},
          "execution_count": 19
        }
      ]
    },
    {
      "cell_type": "code",
      "source": [
        "df['SITUACAO_CURSO'].unique()"
      ],
      "metadata": {
        "colab": {
          "base_uri": "https://localhost:8080/"
        },
        "id": "usny16beiWdw",
        "outputId": "a7f8de6e-6908-4332-b91f-038e5928cd94"
      },
      "execution_count": null,
      "outputs": [
        {
          "output_type": "execute_result",
          "data": {
            "text/plain": [
              "array(['Em atividade', 'Em extinção', 'Extinto'], dtype=object)"
            ]
          },
          "metadata": {},
          "execution_count": 20
        }
      ]
    },
    {
      "cell_type": "code",
      "source": [
        "df['REGIAO'].unique()"
      ],
      "metadata": {
        "colab": {
          "base_uri": "https://localhost:8080/"
        },
        "id": "yDmPzudjibf-",
        "outputId": "7799ead8-ebba-43f7-9177-6ed00e5896da"
      },
      "execution_count": null,
      "outputs": [
        {
          "output_type": "execute_result",
          "data": {
            "text/plain": [
              "array(['SUDESTE', 'NORDESTE', 'SUL', 'CENTRO-OESTE', 'NORTE',\n",
              "       'IGNORADO/EXTERIOR'], dtype=object)"
            ]
          },
          "metadata": {},
          "execution_count": 21
        }
      ]
    },
    {
      "cell_type": "markdown",
      "source": [
        "## **Tratamento de dados ausentes**"
      ],
      "metadata": {
        "id": "rngfyBa_clEE"
      }
    },
    {
      "cell_type": "markdown",
      "source": [
        "Identificar e tratar dados faltantes é primordial no contexto de algoritmos de aprendizado de máquina, uma vez que pode afetar o desempenho e a precisão, desviando a capacidade do modelo capturar os padrões corretos.\n",
        "\n",
        "Tratar dados ausentes também garante que possamos utilizar uma gama mais ampla de algoritmos sem ter problemas técnicos."
      ],
      "metadata": {
        "id": "V_-VXLyOi3oe"
      }
    },
    {
      "cell_type": "code",
      "source": [
        "df.info()"
      ],
      "metadata": {
        "colab": {
          "base_uri": "https://localhost:8080/"
        },
        "id": "upEzHnh7NZwp",
        "outputId": "948ea8f8-398d-4ea2-e9d9-691d034031f2"
      },
      "execution_count": null,
      "outputs": [
        {
          "output_type": "stream",
          "name": "stdout",
          "text": [
            "<class 'pandas.core.frame.DataFrame'>\n",
            "RangeIndex: 902676 entries, 0 to 902675\n",
            "Data columns (total 8 columns):\n",
            " #   Column                    Non-Null Count   Dtype \n",
            "---  ------                    --------------   ----- \n",
            " 0   CATEGORIA_ADMINISTRATIVA  902676 non-null  object\n",
            " 1   ORGANIZACAO_ACADEMICA     902676 non-null  object\n",
            " 2   GRAU                      902676 non-null  object\n",
            " 3   MODALIDADE                902676 non-null  object\n",
            " 4   SITUACAO_CURSO            902676 non-null  object\n",
            " 5   QT_VAGAS_AUTORIZADAS      902676 non-null  int64 \n",
            " 6   CARGA_HORARIA             902676 non-null  int64 \n",
            " 7   REGIAO                    902676 non-null  object\n",
            "dtypes: int64(2), object(6)\n",
            "memory usage: 55.1+ MB\n"
          ]
        }
      ]
    },
    {
      "cell_type": "code",
      "source": [
        "df.isnull().sum()"
      ],
      "metadata": {
        "colab": {
          "base_uri": "https://localhost:8080/",
          "height": 335
        },
        "id": "zU7VQc3dNhYl",
        "outputId": "1660b45c-95ff-46c6-bb28-f61bd80166a6"
      },
      "execution_count": null,
      "outputs": [
        {
          "output_type": "execute_result",
          "data": {
            "text/plain": [
              "CATEGORIA_ADMINISTRATIVA    0\n",
              "ORGANIZACAO_ACADEMICA       0\n",
              "GRAU                        0\n",
              "MODALIDADE                  0\n",
              "SITUACAO_CURSO              0\n",
              "QT_VAGAS_AUTORIZADAS        0\n",
              "CARGA_HORARIA               0\n",
              "REGIAO                      0\n",
              "dtype: int64"
            ],
            "text/html": [
              "<table border=\"1\" class=\"dataframe\">\n",
              "  <thead>\n",
              "    <tr style=\"text-align: right;\">\n",
              "      <th></th>\n",
              "      <th>0</th>\n",
              "    </tr>\n",
              "  </thead>\n",
              "  <tbody>\n",
              "    <tr>\n",
              "      <th>CATEGORIA_ADMINISTRATIVA</th>\n",
              "      <td>0</td>\n",
              "    </tr>\n",
              "    <tr>\n",
              "      <th>ORGANIZACAO_ACADEMICA</th>\n",
              "      <td>0</td>\n",
              "    </tr>\n",
              "    <tr>\n",
              "      <th>GRAU</th>\n",
              "      <td>0</td>\n",
              "    </tr>\n",
              "    <tr>\n",
              "      <th>MODALIDADE</th>\n",
              "      <td>0</td>\n",
              "    </tr>\n",
              "    <tr>\n",
              "      <th>SITUACAO_CURSO</th>\n",
              "      <td>0</td>\n",
              "    </tr>\n",
              "    <tr>\n",
              "      <th>QT_VAGAS_AUTORIZADAS</th>\n",
              "      <td>0</td>\n",
              "    </tr>\n",
              "    <tr>\n",
              "      <th>CARGA_HORARIA</th>\n",
              "      <td>0</td>\n",
              "    </tr>\n",
              "    <tr>\n",
              "      <th>REGIAO</th>\n",
              "      <td>0</td>\n",
              "    </tr>\n",
              "  </tbody>\n",
              "</table><br><label><b>dtype:</b> int64</label>"
            ]
          },
          "metadata": {},
          "execution_count": 23
        }
      ]
    },
    {
      "cell_type": "markdown",
      "source": [
        "Como visto acima, felizmente a qualidade dos dados em termos de dados ausentes está excelente, já que não apresenta eles."
      ],
      "metadata": {
        "id": "VmVd6K3OjxR6"
      }
    },
    {
      "cell_type": "markdown",
      "source": [
        "## **Tratamento de ruídos e outliers - IQR**"
      ],
      "metadata": {
        "id": "j8WdCQKWcTaP"
      }
    },
    {
      "cell_type": "markdown",
      "source": [
        "Já que nosso dataset contém dados numéricos para dois atributos é ideal identificá-los e tratá-los."
      ],
      "metadata": {
        "id": "-sYIm1W0kG0w"
      }
    },
    {
      "cell_type": "markdown",
      "source": [
        "Vamos começar identificando os outliers usando visualização com o gráfico de boxplot."
      ],
      "metadata": {
        "id": "DbpguRilkhbC"
      }
    },
    {
      "cell_type": "code",
      "source": [
        "plt.figure(figsize=(2,5))\n",
        "plt.boxplot(df['QT_VAGAS_AUTORIZADAS'])\n",
        "plt.title('Quantidade de Vagas Autorizadas')"
      ],
      "metadata": {
        "colab": {
          "base_uri": "https://localhost:8080/",
          "height": 485
        },
        "id": "fuszERC4dIUq",
        "outputId": "74d1ba44-ffb1-4671-d8c2-4e7d863721be"
      },
      "execution_count": null,
      "outputs": [
        {
          "output_type": "execute_result",
          "data": {
            "text/plain": [
              "Text(0.5, 1.0, 'Quantidade de Vagas Autorizadas')"
            ]
          },
          "metadata": {},
          "execution_count": 24
        },
        {
          "output_type": "display_data",
          "data": {
            "text/plain": [
              "<Figure size 200x500 with 1 Axes>"
            ],
            "image/png": "[encoded data removed]"
          },
          "metadata": {}
        }
      ]
    },
    {
      "cell_type": "code",
      "source": [
        "plt.figure(figsize=(2,5))\n",
        "plt.boxplot(df['CARGA_HORARIA'])\n",
        "plt.title('Carga Horária')"
      ],
      "metadata": {
        "colab": {
          "base_uri": "https://localhost:8080/",
          "height": 485
        },
        "id": "TRR6EczmkhA4",
        "outputId": "f9fa5f3b-fa66-4b8f-a490-82520dc4cb3f"
      },
      "execution_count": null,
      "outputs": [
        {
          "output_type": "execute_result",
          "data": {
            "text/plain": [
              "Text(0.5, 1.0, 'Carga Horária')"
            ]
          },
          "metadata": {},
          "execution_count": 25
        },
        {
          "output_type": "display_data",
          "data": {
            "text/plain": [
              "<Figure size 200x500 with 1 Axes>"
            ],
            "image/png": "[encoded data removed]"
          },
          "metadata": {}
        }
      ]
    },
    {
      "cell_type": "markdown",
      "source": [
        "É claramente perceptível a presença de outliers/ruídos para esses atributos. Com isso, vamos aplicar o método **Intervalo Entre Quartis** do inglês *Interquartile Range* mai conhecido como IQR.\n",
        "\n",
        "O IQR é uma técnica estatística utilizada para medir a dispersão central de um conjunto de dados, calculando a diferença entre o terceiro quartil e o primeiro quartil. Ao representar a faixa em que se concentram os 50% centrais dos dados, ele é resistente a outliers.\n",
        "\n",
        "Para mais detalhes: [clique aqui](https://docs.oracle.com/cloud/help/pt_BR/pbcs_common/PFUSU/insights_metrics_IQR.htm#PFUSU-GUID-CF37CAEA-730B-4346-801E-64612719FF6B)."
      ],
      "metadata": {
        "id": "D2--JYoIkwMB"
      }
    },
    {
      "cell_type": "markdown",
      "source": [
        "Com isso, removemos os ruídos/outliers presentes no nosso conjunto de dados e perdemos proporcionalmente poucos dados."
      ],
      "metadata": {
        "id": "LGNwO0KfvYEt"
      }
    },
    {
      "cell_type": "code",
      "source": [
        "df.shape"
      ],
      "metadata": {
        "colab": {
          "base_uri": "https://localhost:8080/"
        },
        "id": "207btYnYvNl-",
        "outputId": "639e5ad4-bb43-471b-b750-41332ee8271a"
      },
      "execution_count": null,
      "outputs": [
        {
          "output_type": "execute_result",
          "data": {
            "text/plain": [
              "(902676, 8)"
            ]
          },
          "metadata": {},
          "execution_count": 26
        }
      ]
    },
    {
      "cell_type": "code",
      "source": [
        "reduction = 902676 - 825321\n",
        "reduction = (reduction/902676)*100\n",
        "print(f'Quantidade de dados perdidos pós IQR: {reduction:.1f}%')"
      ],
      "metadata": {
        "colab": {
          "base_uri": "https://localhost:8080/"
        },
        "id": "NRu7b227vzte",
        "outputId": "6b1cd2ea-60d2-4644-faad-312cb1b82ac0"
      },
      "execution_count": null,
      "outputs": [
        {
          "output_type": "stream",
          "name": "stdout",
          "text": [
            "Quantidade de dados perdidos pós IQR: 8.6%\n"
          ]
        }
      ]
    },
    {
      "cell_type": "code",
      "source": [
        "def get_iqr_outliers (df, columns):\n",
        "  Q1 = df[column].quantile(0.25)\n",
        "  Q3 = df[column].quantile(0.75)\n",
        "  IQR = Q3 - Q1\n",
        "  lower_bound = Q1 - 1.5 * IQR\n",
        "  upper_bound = Q3 + 1.5 * IQR\n",
        "  return lower_bound, upper_bound\n",
        "\n",
        "for column in df.select_dtypes(include=['number']).columns:\n",
        "  lower_bound, upper_bound = get_iqr_outliers(df, column)\n",
        "  print(f'Coluna: {column}')\n",
        "  print(f'Lower bound: {lower_bound}')\n",
        "  print(f'Upper bound: {upper_bound}')\n",
        "\n",
        "for column in df.select_dtypes(include=['number']).columns:\n",
        "    lower_bound, upper_bound = get_iqr_outliers(df, column)\n",
        "    df = df[(df[column] >= lower_bound) & (df[column] <= upper_bound)]"
      ],
      "metadata": {
        "colab": {
          "base_uri": "https://localhost:8080/"
        },
        "id": "N5H1s5a7k-lr",
        "outputId": "85645369-bb41-4d97-fe7e-5e970ae339b8"
      },
      "execution_count": null,
      "outputs": [
        {
          "output_type": "stream",
          "name": "stdout",
          "text": [
            "Coluna: QT_VAGAS_AUTORIZADAS\n",
            "Lower bound: -5590.0\n",
            "Upper bound: 11354.0\n",
            "Coluna: CARGA_HORARIA\n",
            "Lower bound: -186.0\n",
            "Upper bound: 5430.0\n"
          ]
        }
      ]
    },
    {
      "cell_type": "markdown",
      "source": [
        "Após a aplicação das técnicas veremos como melhorou a distribuição dos dados."
      ],
      "metadata": {
        "id": "KjFjyjwbnx7j"
      }
    },
    {
      "cell_type": "code",
      "source": [
        "plt.figure(figsize=(2,5))\n",
        "plt.boxplot(df['QT_VAGAS_AUTORIZADAS'])\n",
        "plt.title('Quantidade de Vagas Autorizadas (pós IQR)')"
      ],
      "metadata": {
        "colab": {
          "base_uri": "https://localhost:8080/",
          "height": 485
        },
        "id": "sQ8Ip65Q0mHy",
        "outputId": "88d25169-4f0f-435a-b768-076d18a0b504"
      },
      "execution_count": null,
      "outputs": [
        {
          "output_type": "execute_result",
          "data": {
            "text/plain": [
              "Text(0.5, 1.0, 'Quantidade de Vagas Autorizadas (pós IQR)')"
            ]
          },
          "metadata": {},
          "execution_count": 29
        },
        {
          "output_type": "display_data",
          "data": {
            "text/plain": [
              "<Figure size 200x500 with 1 Axes>"
            ],
            "image/png": "[encoded data removed]"
          },
          "metadata": {}
        }
      ]
    },
    {
      "cell_type": "code",
      "source": [
        "plt.figure(figsize=(2,5))\n",
        "plt.boxplot(df['CARGA_HORARIA'])\n",
        "plt.title('Carga Horária (pós IQR)')"
      ],
      "metadata": {
        "colab": {
          "base_uri": "https://localhost:8080/",
          "height": 485
        },
        "id": "WjGHMeTf0rqP",
        "outputId": "ee58eff6-4a7c-42f3-d7eb-b602a9c4b0b8"
      },
      "execution_count": null,
      "outputs": [
        {
          "output_type": "execute_result",
          "data": {
            "text/plain": [
              "Text(0.5, 1.0, 'Carga Horária (pós IQR)')"
            ]
          },
          "metadata": {},
          "execution_count": 30
        },
        {
          "output_type": "display_data",
          "data": {
            "text/plain": [
              "<Figure size 200x500 with 1 Axes>"
            ],
            "image/png": "[encoded data removed]"
          },
          "metadata": {}
        }
      ]
    },
    {
      "cell_type": "markdown",
      "source": [
        "## **Balanceamento - Under-sampling**"
      ],
      "metadata": {
        "id": "ki3Czv7TcXUw"
      }
    },
    {
      "cell_type": "markdown",
      "source": [
        "Agora chegamos numa etapa de extrema importância para algoritmos de classificação, o balanceamento dos dados.\n",
        "\n",
        "Balancear os dados garante que o modelo consiga aprender a diferenciar corretamente as classes, especialmente se elas tiverem desproporcionais. Por exemplo, em caso de classes desproporcionalmente altas, o modelo pode tender a prever essa classe majoritária em relação a outras, ignorando a classes minoritárias.\n",
        "\n",
        "As técnicas mais comuns incluem **oversampling** (aumentar a classse minoritária), **undersampling** (diminuir a classe majoritária) e **equilíbrio de pesos** usando algoritmos que adotam pesos para cada classe.\n",
        "\n",
        "No nosso contexto eu escolhi usar a undersampling para aproveitar a redução do tamanho do dataset e consequentemente diminuir o tempo de treinamento dos algoritmos de classificação."
      ],
      "metadata": {
        "id": "62CACmelo061"
      }
    },
    {
      "cell_type": "code",
      "source": [
        "df['SITUACAO_CURSO'].unique()"
      ],
      "metadata": {
        "colab": {
          "base_uri": "https://localhost:8080/"
        },
        "id": "UUaes7RY3yip",
        "outputId": "e8a13690-a00a-4746-aeeb-6f5ef10c56af"
      },
      "execution_count": null,
      "outputs": [
        {
          "output_type": "execute_result",
          "data": {
            "text/plain": [
              "array(['Em atividade', 'Em extinção', 'Extinto'], dtype=object)"
            ]
          },
          "metadata": {},
          "execution_count": 31
        }
      ]
    },
    {
      "cell_type": "code",
      "source": [
        "df['SITUACAO_CURSO'].value_counts()"
      ],
      "metadata": {
        "colab": {
          "base_uri": "https://localhost:8080/",
          "height": 209
        },
        "id": "vf4wShd321RW",
        "outputId": "5d36011d-2bf7-4603-cd6f-23aeb2f64e8d"
      },
      "execution_count": null,
      "outputs": [
        {
          "output_type": "execute_result",
          "data": {
            "text/plain": [
              "SITUACAO_CURSO\n",
              "Em atividade    776097\n",
              "Extinto          39017\n",
              "Em extinção      10207\n",
              "Name: count, dtype: int64"
            ],
            "text/html": [
              "<table border=\"1\" class=\"dataframe\">\n",
              "  <thead>\n",
              "    <tr style=\"text-align: right;\">\n",
              "      <th></th>\n",
              "      <th>count</th>\n",
              "    </tr>\n",
              "    <tr>\n",
              "      <th>SITUACAO_CURSO</th>\n",
              "      <th></th>\n",
              "    </tr>\n",
              "  </thead>\n",
              "  <tbody>\n",
              "    <tr>\n",
              "      <th>Em atividade</th>\n",
              "      <td>776097</td>\n",
              "    </tr>\n",
              "    <tr>\n",
              "      <th>Extinto</th>\n",
              "      <td>39017</td>\n",
              "    </tr>\n",
              "    <tr>\n",
              "      <th>Em extinção</th>\n",
              "      <td>10207</td>\n",
              "    </tr>\n",
              "  </tbody>\n",
              "</table><br><label><b>dtype:</b> int64</label>"
            ]
          },
          "metadata": {},
          "execution_count": 32
        }
      ]
    },
    {
      "cell_type": "markdown",
      "source": [
        "É mostrado acima a frequência de cada classe, onde a classe *Em atividade* é a majoritária, e *Em extinção* a classe minoritária. Aplicando o undersampling teremos pouco mais de 30 mil dados."
      ],
      "metadata": {
        "id": "Tx9ZQ6FUtNHn"
      }
    },
    {
      "cell_type": "code",
      "source": [
        "df_class_0 = df[df['SITUACAO_CURSO'] == 'Em atividade']\n",
        "df_class_1 = df[df['SITUACAO_CURSO'] == 'Em extinção']\n",
        "df_class_2 = df[df['SITUACAO_CURSO'] == 'Extinto']\n",
        "\n",
        "min_class_size = min(len(df_class_0), len(df_class_1), len(df_class_2))\n",
        "\n",
        "df_class_0_downsampled = resample(df_class_0,\n",
        "                                  replace=False,\n",
        "                                  n_samples=min_class_size,\n",
        "                                  random_state=123)\n",
        "df_class_1_downsampled = resample(df_class_1,\n",
        "                                  replace=False,\n",
        "                                  n_samples=min_class_size,\n",
        "                                  random_state=123)\n",
        "df_class_2_downsampled = resample(df_class_2,\n",
        "                                  replace=False,\n",
        "                                  n_samples=min_class_size,\n",
        "                                  random_state=123)\n",
        "\n",
        "df = pd.concat([df_class_0_downsampled, df_class_1_downsampled,\n",
        "                df_class_2_downsampled])"
      ],
      "metadata": {
        "id": "swHFY31fdWjG"
      },
      "execution_count": null,
      "outputs": []
    },
    {
      "cell_type": "markdown",
      "source": [
        "Resultado do balanceamento:"
      ],
      "metadata": {
        "id": "xr1ACxAYt2ft"
      }
    },
    {
      "cell_type": "code",
      "source": [
        "df['SITUACAO_CURSO'].value_counts()"
      ],
      "metadata": {
        "colab": {
          "base_uri": "https://localhost:8080/",
          "height": 209
        },
        "id": "j6LvPbn97Rc9",
        "outputId": "750d71bb-11a6-4dfb-fd47-3805193e36be"
      },
      "execution_count": null,
      "outputs": [
        {
          "output_type": "execute_result",
          "data": {
            "text/plain": [
              "SITUACAO_CURSO\n",
              "Em atividade    10207\n",
              "Em extinção     10207\n",
              "Extinto         10207\n",
              "Name: count, dtype: int64"
            ],
            "text/html": [
              "<table border=\"1\" class=\"dataframe\">\n",
              "  <thead>\n",
              "    <tr style=\"text-align: right;\">\n",
              "      <th></th>\n",
              "      <th>count</th>\n",
              "    </tr>\n",
              "    <tr>\n",
              "      <th>SITUACAO_CURSO</th>\n",
              "      <th></th>\n",
              "    </tr>\n",
              "  </thead>\n",
              "  <tbody>\n",
              "    <tr>\n",
              "      <th>Em atividade</th>\n",
              "      <td>10207</td>\n",
              "    </tr>\n",
              "    <tr>\n",
              "      <th>Em extinção</th>\n",
              "      <td>10207</td>\n",
              "    </tr>\n",
              "    <tr>\n",
              "      <th>Extinto</th>\n",
              "      <td>10207</td>\n",
              "    </tr>\n",
              "  </tbody>\n",
              "</table><br><label><b>dtype:</b> int64</label>"
            ]
          },
          "metadata": {},
          "execution_count": 34
        }
      ]
    },
    {
      "cell_type": "markdown",
      "source": [
        "## **Normalizar dados numéricos - Min-Max Scaling**"
      ],
      "metadata": {
        "id": "F6N0-kzudmya"
      }
    },
    {
      "cell_type": "markdown",
      "source": [
        "É interessante normalizar atributos atributos numéricos para garantir que todas as características contribuam igualmente para o treinamento do modelo, independentemente de suas escalas originais.\n",
        "\n",
        "Muitos algoritmos de classificação, calculam distâncias entre dados ou usam funções que podem ser sensíveis à escala das variáveis. Se as características não forem normalizadas, aquelas com maiores magnitudes podem dominar o cálculo de distâncias e influenciar desproporcionalmente as decisões do modelo, levando a resultados imprecisos.\n",
        "\n",
        "Duas das técnicas mais comuns são **Min-Max Scaling** e **Z-score normalization** (Padronização ou Standardization). Min-Max Scaling transforma os dados para que cada característica seja escalada entre um intervalo específico, geralmente entre 0 e 1. Por outro lado, Z-score normalization transforma os dados para que cada característica tenha uma média de 0 e um desvio padrão de 1.\n",
        "\n",
        "\n"
      ],
      "metadata": {
        "id": "UPAvJMXdxoy5"
      }
    },
    {
      "cell_type": "markdown",
      "source": [
        "\n",
        "No nosso dataset temos dois atributos numéricos, QT_VAGAS_AUTORIZADAS e CARGA_HORARIA. São neles que vamos aplicar a normalização, usando a técnica **Min-Max Scaling**."
      ],
      "metadata": {
        "id": "KKO0stNP0pPV"
      }
    },
    {
      "cell_type": "code",
      "source": [
        "df.dtypes"
      ],
      "metadata": {
        "colab": {
          "base_uri": "https://localhost:8080/",
          "height": 335
        },
        "id": "4cRdQapdCoaE",
        "outputId": "be279a16-eb3f-40b6-b4de-03eeeee4f390"
      },
      "execution_count": null,
      "outputs": [
        {
          "output_type": "execute_result",
          "data": {
            "text/plain": [
              "CATEGORIA_ADMINISTRATIVA    object\n",
              "ORGANIZACAO_ACADEMICA       object\n",
              "GRAU                        object\n",
              "MODALIDADE                  object\n",
              "SITUACAO_CURSO              object\n",
              "QT_VAGAS_AUTORIZADAS         int64\n",
              "CARGA_HORARIA                int64\n",
              "REGIAO                      object\n",
              "dtype: object"
            ],
            "text/html": [
              "<table border=\"1\" class=\"dataframe\">\n",
              "  <thead>\n",
              "    <tr style=\"text-align: right;\">\n",
              "      <th></th>\n",
              "      <th>0</th>\n",
              "    </tr>\n",
              "  </thead>\n",
              "  <tbody>\n",
              "    <tr>\n",
              "      <th>CATEGORIA_ADMINISTRATIVA</th>\n",
              "      <td>object</td>\n",
              "    </tr>\n",
              "    <tr>\n",
              "      <th>ORGANIZACAO_ACADEMICA</th>\n",
              "      <td>object</td>\n",
              "    </tr>\n",
              "    <tr>\n",
              "      <th>GRAU</th>\n",
              "      <td>object</td>\n",
              "    </tr>\n",
              "    <tr>\n",
              "      <th>MODALIDADE</th>\n",
              "      <td>object</td>\n",
              "    </tr>\n",
              "    <tr>\n",
              "      <th>SITUACAO_CURSO</th>\n",
              "      <td>object</td>\n",
              "    </tr>\n",
              "    <tr>\n",
              "      <th>QT_VAGAS_AUTORIZADAS</th>\n",
              "      <td>int64</td>\n",
              "    </tr>\n",
              "    <tr>\n",
              "      <th>CARGA_HORARIA</th>\n",
              "      <td>int64</td>\n",
              "    </tr>\n",
              "    <tr>\n",
              "      <th>REGIAO</th>\n",
              "      <td>object</td>\n",
              "    </tr>\n",
              "  </tbody>\n",
              "</table><br><label><b>dtype:</b> object</label>"
            ]
          },
          "metadata": {},
          "execution_count": 35
        }
      ]
    },
    {
      "cell_type": "code",
      "source": [
        "df_numeric = df.select_dtypes(include=['int64'])\n",
        "df_categorical = df.select_dtypes(include=['object'])\n",
        "\n",
        "scaler = MinMaxScaler()\n",
        "\n",
        "df_numeric_normalized = pd.DataFrame(scaler.fit_transform(df_numeric), columns=df_numeric.columns)\n",
        "\n",
        "df_normalized = pd.concat([df_numeric_normalized, df_categorical.reset_index(drop=True)], axis=1)"
      ],
      "metadata": {
        "id": "4ynlQDQNB2TR"
      },
      "execution_count": null,
      "outputs": []
    },
    {
      "cell_type": "markdown",
      "source": [
        "Para separar os dataframes em cada etapa, criamos um dataframe dos dados normalizados, `df_normalized`."
      ],
      "metadata": {
        "id": "BnjHMAE603R5"
      }
    },
    {
      "cell_type": "code",
      "source": [
        "df_normalized.head()"
      ],
      "metadata": {
        "colab": {
          "base_uri": "https://localhost:8080/",
          "height": 313
        },
        "id": "jzr--OPzDPVq",
        "outputId": "0b3cc2d8-7f13-4c26-d701-487adf8b4c1f"
      },
      "execution_count": null,
      "outputs": [
        {
          "output_type": "execute_result",
          "data": {
            "text/plain": [
              "   QT_VAGAS_AUTORIZADAS  CARGA_HORARIA     CATEGORIA_ADMINISTRATIVA  \\\n",
              "0              0.446030       0.609418  Privada com fins lucrativos   \n",
              "1              0.173952       0.774146  Privada com fins lucrativos   \n",
              "2              0.446030       0.699908  Privada com fins lucrativos   \n",
              "3              0.446030       0.310249  Privada com fins lucrativos   \n",
              "4              0.267618       0.313943  Privada com fins lucrativos   \n",
              "\n",
              "  ORGANIZACAO_ACADEMICA          GRAU            MODALIDADE SITUACAO_CURSO  \\\n",
              "0  Centro Universitário  Licenciatura  Educação a Distância   Em atividade   \n",
              "1  Centro Universitário  Licenciatura  Educação a Distância   Em atividade   \n",
              "2          Universidade   Bacharelado  Educação a Distância   Em atividade   \n",
              "3  Centro Universitário   Tecnológico  Educação a Distância   Em atividade   \n",
              "4  Centro Universitário   Tecnológico  Educação a Distância   Em atividade   \n",
              "\n",
              "     REGIAO  \n",
              "0   SUDESTE  \n",
              "1  NORDESTE  \n",
              "2     NORTE  \n",
              "3   SUDESTE  \n",
              "4   SUDESTE  "
            ],
            "text/html": [
              "\n",
              "  <div id=\"df-df37ab6c-1e05-4f2b-bbfb-0ea2734efcbd\" class=\"colab-df-container\">\n",
              "    <div>\n",
              "<style scoped>\n",
              "    .dataframe tbody tr th:only-of-type {\n",
              "        vertical-align: middle;\n",
              "    }\n",
              "\n",
              "    .dataframe tbody tr th {\n",
              "        vertical-align: top;\n",
              "    }\n",
              "\n",
              "    .dataframe thead th {\n",
              "        text-align: right;\n",
              "    }\n",
              "</style>\n",
              "<table border=\"1\" class=\"dataframe\">\n",
              "  <thead>\n",
              "    <tr style=\"text-align: right;\">\n",
              "      <th></th>\n",
              "      <th>QT_VAGAS_AUTORIZADAS</th>\n",
              "      <th>CARGA_HORARIA</th>\n",
              "      <th>CATEGORIA_ADMINISTRATIVA</th>\n",
              "      <th>ORGANIZACAO_ACADEMICA</th>\n",
              "      <th>GRAU</th>\n",
              "      <th>MODALIDADE</th>\n",
              "      <th>SITUACAO_CURSO</th>\n",
              "      <th>REGIAO</th>\n",
              "    </tr>\n",
              "  </thead>\n",
              "  <tbody>\n",
              "    <tr>\n",
              "      <th>0</th>\n",
              "      <td>0.446030</td>\n",
              "      <td>0.609418</td>\n",
              "      <td>Privada com fins lucrativos</td>\n",
              "      <td>Centro Universitário</td>\n",
              "      <td>Licenciatura</td>\n",
              "      <td>Educação a Distância</td>\n",
              "      <td>Em atividade</td>\n",
              "      <td>SUDESTE</td>\n",
              "    </tr>\n",
              "    <tr>\n",
              "      <th>1</th>\n",
              "      <td>0.173952</td>\n",
              "      <td>0.774146</td>\n",
              "      <td>Privada com fins lucrativos</td>\n",
              "      <td>Centro Universitário</td>\n",
              "      <td>Licenciatura</td>\n",
              "      <td>Educação a Distância</td>\n",
              "      <td>Em atividade</td>\n",
              "      <td>NORDESTE</td>\n",
              "    </tr>\n",
              "    <tr>\n",
              "      <th>2</th>\n",
              "      <td>0.446030</td>\n",
              "      <td>0.699908</td>\n",
              "      <td>Privada com fins lucrativos</td>\n",
              "      <td>Universidade</td>\n",
              "      <td>Bacharelado</td>\n",
              "      <td>Educação a Distância</td>\n",
              "      <td>Em atividade</td>\n",
              "      <td>NORTE</td>\n",
              "    </tr>\n",
              "    <tr>\n",
              "      <th>3</th>\n",
              "      <td>0.446030</td>\n",
              "      <td>0.310249</td>\n",
              "      <td>Privada com fins lucrativos</td>\n",
              "      <td>Centro Universitário</td>\n",
              "      <td>Tecnológico</td>\n",
              "      <td>Educação a Distância</td>\n",
              "      <td>Em atividade</td>\n",
              "      <td>SUDESTE</td>\n",
              "    </tr>\n",
              "    <tr>\n",
              "      <th>4</th>\n",
              "      <td>0.267618</td>\n",
              "      <td>0.313943</td>\n",
              "      <td>Privada com fins lucrativos</td>\n",
              "      <td>Centro Universitário</td>\n",
              "      <td>Tecnológico</td>\n",
              "      <td>Educação a Distância</td>\n",
              "      <td>Em atividade</td>\n",
              "      <td>SUDESTE</td>\n",
              "    </tr>\n",
              "  </tbody>\n",
              "</table>\n",
              "</div>\n",
              "    <div class=\"colab-df-buttons\">\n",
              "\n",
              "  <div class=\"colab-df-container\">\n",
              "    <button class=\"colab-df-convert\" onclick=\"convertToInteractive('df-df37ab6c-1e05-4f2b-bbfb-0ea2734efcbd')\"\n",
              "            title=\"Convert this dataframe to an interactive table.\"\n",
              "            style=\"display:none;\">\n",
              "\n",
              "  <svg xmlns=\"http://www.w3.org/2000/svg\" height=\"24px\" viewBox=\"0 -960 960 960\">\n",
              "    <path d=\"M120-120v-720h720v720H120Zm60-500h600v-160H180v160Zm220 220h160v-160H400v160Zm0 220h160v-160H400v160ZM180-400h160v-160H180v160Zm440 0h160v-160H620v160ZM180-180h160v-160H180v160Zm440 0h160v-160H620v160Z\"/>\n",
              "  </svg>\n",
              "    </button>\n",
              "\n",
              "  <style>\n",
              "    .colab-df-container {\n",
              "      display:flex;\n",
              "      gap: 12px;\n",
              "    }\n",
              "\n",
              "    .colab-df-convert {\n",
              "      background-color: #E8F0FE;\n",
              "      border: none;\n",
              "      border-radius: 50%;\n",
              "      cursor: pointer;\n",
              "      display: none;\n",
              "      fill: #1967D2;\n",
              "      height: 32px;\n",
              "      padding: 0 0 0 0;\n",
              "      width: 32px;\n",
              "    }\n",
              "\n",
              "    .colab-df-convert:hover {\n",
              "      background-color: #E2EBFA;\n",
              "      box-shadow: 0px 1px 2px rgba(60, 64, 67, 0.3), 0px 1px 3px 1px rgba(60, 64, 67, 0.15);\n",
              "      fill: #174EA6;\n",
              "    }\n",
              "\n",
              "    .colab-df-buttons div {\n",
              "      margin-bottom: 4px;\n",
              "    }\n",
              "\n",
              "    [theme=dark] .colab-df-convert {\n",
              "      background-color: #3B4455;\n",
              "      fill: #D2E3FC;\n",
              "    }\n",
              "\n",
              "    [theme=dark] .colab-df-convert:hover {\n",
              "      background-color: #434B5C;\n",
              "      box-shadow: 0px 1px 3px 1px rgba(0, 0, 0, 0.15);\n",
              "      filter: drop-shadow(0px 1px 2px rgba(0, 0, 0, 0.3));\n",
              "      fill: #FFFFFF;\n",
              "    }\n",
              "  </style>\n",
              "\n",
              "    <script>\n",
              "      const buttonEl =\n",
              "        document.querySelector('#df-df37ab6c-1e05-4f2b-bbfb-0ea2734efcbd button.colab-df-convert');\n",
              "      buttonEl.style.display =\n",
              "        google.colab.kernel.accessAllowed ? 'block' : 'none';\n",
              "\n",
              "      async function convertToInteractive(key) {\n",
              "        const element = document.querySelector('#df-df37ab6c-1e05-4f2b-bbfb-0ea2734efcbd');\n",
              "        const dataTable =\n",
              "          await google.colab.kernel.invokeFunction('convertToInteractive',\n",
              "                                                    [key], {});\n",
              "        if (!dataTable) return;\n",
              "\n",
              "        const docLinkHtml = 'Like what you see? Visit the ' +\n",
              "          '<a target=\"_blank\" href=https://colab.research.google.com/notebooks/data_table.ipynb>data table notebook</a>'\n",
              "          + ' to learn more about interactive tables.';\n",
              "        element.innerHTML = '';\n",
              "        dataTable['output_type'] = 'display_data';\n",
              "        await google.colab.output.renderOutput(dataTable, element);\n",
              "        const docLink = document.createElement('div');\n",
              "        docLink.innerHTML = docLinkHtml;\n",
              "        element.appendChild(docLink);\n",
              "      }\n",
              "    </script>\n",
              "  </div>\n",
              "\n",
              "\n",
              "<div id=\"df-72dac119-4a02-4de8-89ca-fcda1954ac61\">\n",
              "  <button class=\"colab-df-quickchart\" onclick=\"quickchart('df-72dac119-4a02-4de8-89ca-fcda1954ac61')\"\n",
              "            title=\"Suggest charts\"\n",
              "            style=\"display:none;\">\n",
              "\n",
              "<svg xmlns=\"http://www.w3.org/2000/svg\" height=\"24px\"viewBox=\"0 0 24 24\"\n",
              "     width=\"24px\">\n",
              "    <g>\n",
              "        <path d=\"M19 3H5c-1.1 0-2 .9-2 2v14c0 1.1.9 2 2 2h14c1.1 0 2-.9 2-2V5c0-1.1-.9-2-2-2zM9 17H7v-7h2v7zm4 0h-2V7h2v10zm4 0h-2v-4h2v4z\"/>\n",
              "    </g>\n",
              "</svg>\n",
              "  </button>\n",
              "\n",
              "<style>\n",
              "  .colab-df-quickchart {\n",
              "      --bg-color: #E8F0FE;\n",
              "      --fill-color: #1967D2;\n",
              "      --hover-bg-color: #E2EBFA;\n",
              "      --hover-fill-color: #174EA6;\n",
              "      --disabled-fill-color: #AAA;\n",
              "      --disabled-bg-color: #DDD;\n",
              "  }\n",
              "\n",
              "  [theme=dark] .colab-df-quickchart {\n",
              "      --bg-color: #3B4455;\n",
              "      --fill-color: #D2E3FC;\n",
              "      --hover-bg-color: #434B5C;\n",
              "      --hover-fill-color: #FFFFFF;\n",
              "      --disabled-bg-color: #3B4455;\n",
              "      --disabled-fill-color: #666;\n",
              "  }\n",
              "\n",
              "  .colab-df-quickchart {\n",
              "    background-color: var(--bg-color);\n",
              "    border: none;\n",
              "    border-radius: 50%;\n",
              "    cursor: pointer;\n",
              "    display: none;\n",
              "    fill: var(--fill-color);\n",
              "    height: 32px;\n",
              "    padding: 0;\n",
              "    width: 32px;\n",
              "  }\n",
              "\n",
              "  .colab-df-quickchart:hover {\n",
              "    background-color: var(--hover-bg-color);\n",
              "    box-shadow: 0 1px 2px rgba(60, 64, 67, 0.3), 0 1px 3px 1px rgba(60, 64, 67, 0.15);\n",
              "    fill: var(--button-hover-fill-color);\n",
              "  }\n",
              "\n",
              "  .colab-df-quickchart-complete:disabled,\n",
              "  .colab-df-quickchart-complete:disabled:hover {\n",
              "    background-color: var(--disabled-bg-color);\n",
              "    fill: var(--disabled-fill-color);\n",
              "    box-shadow: none;\n",
              "  }\n",
              "\n",
              "  .colab-df-spinner {\n",
              "    border: 2px solid var(--fill-color);\n",
              "    border-color: transparent;\n",
              "    border-bottom-color: var(--fill-color);\n",
              "    animation:\n",
              "      spin 1s steps(1) infinite;\n",
              "  }\n",
              "\n",
              "  @keyframes spin {\n",
              "    0% {\n",
              "      border-color: transparent;\n",
              "      border-bottom-color: var(--fill-color);\n",
              "      border-left-color: var(--fill-color);\n",
              "    }\n",
              "    20% {\n",
              "      border-color: transparent;\n",
              "      border-left-color: var(--fill-color);\n",
              "      border-top-color: var(--fill-color);\n",
              "    }\n",
              "    30% {\n",
              "      border-color: transparent;\n",
              "      border-left-color: var(--fill-color);\n",
              "      border-top-color: var(--fill-color);\n",
              "      border-right-color: var(--fill-color);\n",
              "    }\n",
              "    40% {\n",
              "      border-color: transparent;\n",
              "      border-right-color: var(--fill-color);\n",
              "      border-top-color: var(--fill-color);\n",
              "    }\n",
              "    60% {\n",
              "      border-color: transparent;\n",
              "      border-right-color: var(--fill-color);\n",
              "    }\n",
              "    80% {\n",
              "      border-color: transparent;\n",
              "      border-right-color: var(--fill-color);\n",
              "      border-bottom-color: var(--fill-color);\n",
              "    }\n",
              "    90% {\n",
              "      border-color: transparent;\n",
              "      border-bottom-color: var(--fill-color);\n",
              "    }\n",
              "  }\n",
              "</style>\n",
              "\n",
              "  <script>\n",
              "    async function quickchart(key) {\n",
              "      const quickchartButtonEl =\n",
              "        document.querySelector('#' + key + ' button');\n",
              "      quickchartButtonEl.disabled = true;  // To prevent multiple clicks.\n",
              "      quickchartButtonEl.classList.add('colab-df-spinner');\n",
              "      try {\n",
              "        const charts = await google.colab.kernel.invokeFunction(\n",
              "            'suggestCharts', [key], {});\n",
              "      } catch (error) {\n",
              "        console.error('Error during call to suggestCharts:', error);\n",
              "      }\n",
              "      quickchartButtonEl.classList.remove('colab-df-spinner');\n",
              "      quickchartButtonEl.classList.add('colab-df-quickchart-complete');\n",
              "    }\n",
              "    (() => {\n",
              "      let quickchartButtonEl =\n",
              "        document.querySelector('#df-72dac119-4a02-4de8-89ca-fcda1954ac61 button');\n",
              "      quickchartButtonEl.style.display =\n",
              "        google.colab.kernel.accessAllowed ? 'block' : 'none';\n",
              "    })();\n",
              "  </script>\n",
              "</div>\n",
              "\n",
              "    </div>\n",
              "  </div>\n"
            ],
            "application/vnd.google.colaboratory.intrinsic+json": {
              "type": "dataframe",
              "variable_name": "df_normalized",
              "summary": "{\n  \"name\": \"df_normalized\",\n  \"rows\": 30621,\n  \"fields\": [\n    {\n      \"column\": \"QT_VAGAS_AUTORIZADAS\",\n      \"properties\": {\n        \"dtype\": \"number\",\n        \"std\": 0.20238602069444067,\n        \"min\": 0.0,\n        \"max\": 1.0,\n        \"num_unique_values\": 542,\n        \"samples\": [\n          0.03256021409455843,\n          0.004014272970561998,\n          0.0824264049955397\n        ],\n        \"semantic_type\": \"\",\n        \"description\": \"\"\n      }\n    },\n    {\n      \"column\": \"CARGA_HORARIA\",\n      \"properties\": {\n        \"dtype\": \"number\",\n        \"std\": 0.1500548836508307,\n        \"min\": 0.0,\n        \"max\": 0.9999999999999999,\n        \"num_unique_values\": 1553,\n        \"samples\": [\n          0.0012927054478301015,\n          0.5992613111726685,\n          0.729455216989843\n        ],\n        \"semantic_type\": \"\",\n        \"description\": \"\"\n      }\n    },\n    {\n      \"column\": \"CATEGORIA_ADMINISTRATIVA\",\n      \"properties\": {\n        \"dtype\": \"category\",\n        \"num_unique_values\": 6,\n        \"samples\": [\n          \"Privada com fins lucrativos\",\n          \"Privada sem fins lucrativos\",\n          \"Especial\"\n        ],\n        \"semantic_type\": \"\",\n        \"description\": \"\"\n      }\n    },\n    {\n      \"column\": \"ORGANIZACAO_ACADEMICA\",\n      \"properties\": {\n        \"dtype\": \"category\",\n        \"num_unique_values\": 5,\n        \"samples\": [\n          \"Universidade\",\n          \"Instituto Federal de Educa\\u00e7\\u00e3o, Ci\\u00eancia e Tecnologia\",\n          \"Faculdade\"\n        ],\n        \"semantic_type\": \"\",\n        \"description\": \"\"\n      }\n    },\n    {\n      \"column\": \"GRAU\",\n      \"properties\": {\n        \"dtype\": \"category\",\n        \"num_unique_values\": 5,\n        \"samples\": [\n          \"Bacharelado\",\n          \"\\u00c1rea B\\u00e1sica de Ingresso (ABI)\",\n          \"Tecnol\\u00f3gico\"\n        ],\n        \"semantic_type\": \"\",\n        \"description\": \"\"\n      }\n    },\n    {\n      \"column\": \"MODALIDADE\",\n      \"properties\": {\n        \"dtype\": \"category\",\n        \"num_unique_values\": 2,\n        \"samples\": [\n          \"Educa\\u00e7\\u00e3o Presencial\",\n          \"Educa\\u00e7\\u00e3o a Dist\\u00e2ncia\"\n        ],\n        \"semantic_type\": \"\",\n        \"description\": \"\"\n      }\n    },\n    {\n      \"column\": \"SITUACAO_CURSO\",\n      \"properties\": {\n        \"dtype\": \"category\",\n        \"num_unique_values\": 3,\n        \"samples\": [\n          \"Em atividade\",\n          \"Em extin\\u00e7\\u00e3o\"\n        ],\n        \"semantic_type\": \"\",\n        \"description\": \"\"\n      }\n    },\n    {\n      \"column\": \"REGIAO\",\n      \"properties\": {\n        \"dtype\": \"category\",\n        \"num_unique_values\": 6,\n        \"samples\": [\n          \"SUDESTE\",\n          \"NORDESTE\"\n        ],\n        \"semantic_type\": \"\",\n        \"description\": \"\"\n      }\n    }\n  ]\n}"
            }
          },
          "metadata": {},
          "execution_count": 37
        }
      ]
    },
    {
      "cell_type": "markdown",
      "source": [
        "## **Codificação das variáveis categóricas - Binary Enconding**"
      ],
      "metadata": {
        "id": "9lGFtPYy5M1q"
      }
    },
    {
      "cell_type": "markdown",
      "source": [
        "Por fim, nossa última etapa do pré-processamento, a codificação das variáveis categóricas.\n",
        "\n",
        "Essa etapa é fundamental em algoritmos de classificação porque a maioria deles opera com dados numéricos, e variáveis categóricas precisam ser convertidas em um formato numérico para serem utilizadas de forma efetiva, caso contrário, essas variáveis não poderão ser interpretadas adequadamente pelo algoritmo, resultando tanto em erros, como também, um desempenho insatisfatório.\n",
        "\n",
        "Existem muitas técnicas de codificação, vamos começar com o **Label Encoding** que atribui um número inteiro único a cada categoria. É simples e eficiente, mas pode introduzir uma ordem indesejada entre as categorias. É adequado quando as categorias têm uma ordem intrínseca, como tamanhos (\"pequeno\", \"médio\", \"grande\"). Temos também o **One-Hot Encoding**, essa técnica consiste em criar uma nova coluna binária (0 ou 1) para cada categoria, representando a presença ou ausência dessa categoria. É ideal para variáveis sem ordem intrínseca e funciona bem com algoritmos que não assumem relacionamentos ordinais, como redes neurais e regressão logística.\n",
        "\n",
        "Temos outras técnicas bastante utilizadas, como por exemplo, o **Ordinal Encoding** que é similar ao label encoding, mas os números atribuídos refletem uma ordem específica das categorias. Útil para variáveis categóricas com uma ordem implícita, como classificações (\"ruim\", \"médio\", \"bom\"). E por fim, o **Binary Encoding**, onde converte categorias em números binários e depois transforma cada bit em uma nova coluna. Reduz a dimensionalidade em comparação com one-hot encoding, tornando-o útil para conjuntos de dados com muitas categorias, evitando a explosão dimensional.\n",
        "\n"
      ],
      "metadata": {
        "id": "3cBNbhnF16Z8"
      }
    },
    {
      "cell_type": "markdown",
      "source": [
        "Pelos motivos supracitados, utilizarei o Binary Enconding para features e Label Encoding para o target (SITUACAO_CURSO)."
      ],
      "metadata": {
        "id": "_Bf_zEuy-VAc"
      }
    },
    {
      "cell_type": "code",
      "source": [
        "# Definir variáveis categóricas e numéricas\n",
        "categorical_features = ['CATEGORIA_ADMINISTRATIVA', 'ORGANIZACAO_ACADEMICA', 'GRAU', 'MODALIDADE', 'REGIAO']\n",
        "numeric_features = ['QT_VAGAS_AUTORIZADAS', 'CARGA_HORARIA']\n",
        "\n",
        "# Codificar a variável SITUACAO_CURSO com LabelEncoder\n",
        "label_encoder = LabelEncoder()\n",
        "df_normalized['SITUACAO_CURSO_encoded'] = label_encoder.fit_transform(df_normalized['SITUACAO_CURSO'])\n",
        "\n",
        "# Separar DataFrame para variáveis categóricas (excluindo 'SITUACAO_CURSO') e numéricas\n",
        "df_cat = df_normalized[categorical_features]\n",
        "df_cat['SITUACAO_CURSO_encoded'] = df_normalized['SITUACAO_CURSO_encoded']\n",
        "df_num = df_normalized[numeric_features]\n",
        "\n",
        "# Definir o BinaryEncoder para as variáveis categóricas\n",
        "binary_encoder = BinaryEncoder(cols=categorical_features)\n",
        "\n",
        "# Aplicar BinaryEncoder às variáveis categóricas\n",
        "df_transformed_cat = binary_encoder.fit_transform(df_cat[categorical_features])\n",
        "\n",
        "# Criar DataFrame com as colunas transformadas\n",
        "df_transformed_cat = pd.DataFrame(df_transformed_cat, columns=binary_encoder.get_feature_names_out())\n",
        "\n",
        "# Adicionar a coluna 'SITUACAO_CURSO_encoded' ao DataFrame transformado\n",
        "df_transformed_cat['SITUACAO_CURSO_encoded'] = df_normalized['SITUACAO_CURSO_encoded'].values\n",
        "\n",
        "# Adicionar as variáveis numéricas ao DataFrame final\n",
        "df_transformed = pd.concat([df_transformed_cat, df_num.reset_index(drop=True)], axis=1)"
      ],
      "metadata": {
        "colab": {
          "base_uri": "https://localhost:8080/"
        },
        "id": "VghvTUtm6RwP",
        "outputId": "2dcc20d6-4265-44b6-dd32-7771947c8ca7"
      },
      "execution_count": null,
      "outputs": [
        {
          "output_type": "stream",
          "name": "stderr",
          "text": [
            "<ipython-input-38-065fe3903ccd>:11: SettingWithCopyWarning: \n",
            "A value is trying to be set on a copy of a slice from a DataFrame.\n",
            "Try using .loc[row_indexer,col_indexer] = value instead\n",
            "\n",
            "See the caveats in the documentation: https://pandas.pydata.org/pandas-docs/stable/user_guide/indexing.html#returning-a-view-versus-a-copy\n",
            "  df_cat['SITUACAO_CURSO_encoded'] = df_normalized['SITUACAO_CURSO_encoded']\n"
          ]
        }
      ]
    },
    {
      "cell_type": "code",
      "source": [
        "df_transformed.head()"
      ],
      "metadata": {
        "colab": {
          "base_uri": "https://localhost:8080/",
          "height": 226
        },
        "id": "2l6YJZU47DnZ",
        "outputId": "69b7d0b5-c67b-4ec1-fd0d-eaea453b1eb1"
      },
      "execution_count": null,
      "outputs": [
        {
          "output_type": "execute_result",
          "data": {
            "text/plain": [
              "   CATEGORIA_ADMINISTRATIVA_0  CATEGORIA_ADMINISTRATIVA_1  \\\n",
              "0                           0                           0   \n",
              "1                           0                           0   \n",
              "2                           0                           0   \n",
              "3                           0                           0   \n",
              "4                           0                           0   \n",
              "\n",
              "   CATEGORIA_ADMINISTRATIVA_2  ORGANIZACAO_ACADEMICA_0  \\\n",
              "0                           1                        0   \n",
              "1                           1                        0   \n",
              "2                           1                        0   \n",
              "3                           1                        0   \n",
              "4                           1                        0   \n",
              "\n",
              "   ORGANIZACAO_ACADEMICA_1  ORGANIZACAO_ACADEMICA_2  GRAU_0  GRAU_1  GRAU_2  \\\n",
              "0                        0                        1       0       0       1   \n",
              "1                        0                        1       0       0       1   \n",
              "2                        1                        0       0       1       0   \n",
              "3                        0                        1       0       1       1   \n",
              "4                        0                        1       0       1       1   \n",
              "\n",
              "   MODALIDADE_0  MODALIDADE_1  REGIAO_0  REGIAO_1  REGIAO_2  \\\n",
              "0             0             1         0         0         1   \n",
              "1             0             1         0         1         0   \n",
              "2             0             1         0         1         1   \n",
              "3             0             1         0         0         1   \n",
              "4             0             1         0         0         1   \n",
              "\n",
              "   SITUACAO_CURSO_encoded  QT_VAGAS_AUTORIZADAS  CARGA_HORARIA  \n",
              "0                       0              0.446030       0.609418  \n",
              "1                       0              0.173952       0.774146  \n",
              "2                       0              0.446030       0.699908  \n",
              "3                       0              0.446030       0.310249  \n",
              "4                       0              0.267618       0.313943  "
            ],
            "text/html": [
              "\n",
              "  <div id=\"df-c51e936b-6d52-4a88-b06a-eb0774736cb3\" class=\"colab-df-container\">\n",
              "    <div>\n",
              "<style scoped>\n",
              "    .dataframe tbody tr th:only-of-type {\n",
              "        vertical-align: middle;\n",
              "    }\n",
              "\n",
              "    .dataframe tbody tr th {\n",
              "        vertical-align: top;\n",
              "    }\n",
              "\n",
              "    .dataframe thead th {\n",
              "        text-align: right;\n",
              "    }\n",
              "</style>\n",
              "<table border=\"1\" class=\"dataframe\">\n",
              "  <thead>\n",
              "    <tr style=\"text-align: right;\">\n",
              "      <th></th>\n",
              "      <th>CATEGORIA_ADMINISTRATIVA_0</th>\n",
              "      <th>CATEGORIA_ADMINISTRATIVA_1</th>\n",
              "      <th>CATEGORIA_ADMINISTRATIVA_2</th>\n",
              "      <th>ORGANIZACAO_ACADEMICA_0</th>\n",
              "      <th>ORGANIZACAO_ACADEMICA_1</th>\n",
              "      <th>ORGANIZACAO_ACADEMICA_2</th>\n",
              "      <th>GRAU_0</th>\n",
              "      <th>GRAU_1</th>\n",
              "      <th>GRAU_2</th>\n",
              "      <th>MODALIDADE_0</th>\n",
              "      <th>MODALIDADE_1</th>\n",
              "      <th>REGIAO_0</th>\n",
              "      <th>REGIAO_1</th>\n",
              "      <th>REGIAO_2</th>\n",
              "      <th>SITUACAO_CURSO_encoded</th>\n",
              "      <th>QT_VAGAS_AUTORIZADAS</th>\n",
              "      <th>CARGA_HORARIA</th>\n",
              "    </tr>\n",
              "  </thead>\n",
              "  <tbody>\n",
              "    <tr>\n",
              "      <th>0</th>\n",
              "      <td>0</td>\n",
              "      <td>0</td>\n",
              "      <td>1</td>\n",
              "      <td>0</td>\n",
              "      <td>0</td>\n",
              "      <td>1</td>\n",
              "      <td>0</td>\n",
              "      <td>0</td>\n",
              "      <td>1</td>\n",
              "      <td>0</td>\n",
              "      <td>1</td>\n",
              "      <td>0</td>\n",
              "      <td>0</td>\n",
              "      <td>1</td>\n",
              "      <td>0</td>\n",
              "      <td>0.446030</td>\n",
              "      <td>0.609418</td>\n",
              "    </tr>\n",
              "    <tr>\n",
              "      <th>1</th>\n",
              "      <td>0</td>\n",
              "      <td>0</td>\n",
              "      <td>1</td>\n",
              "      <td>0</td>\n",
              "      <td>0</td>\n",
              "      <td>1</td>\n",
              "      <td>0</td>\n",
              "      <td>0</td>\n",
              "      <td>1</td>\n",
              "      <td>0</td>\n",
              "      <td>1</td>\n",
              "      <td>0</td>\n",
              "      <td>1</td>\n",
              "      <td>0</td>\n",
              "      <td>0</td>\n",
              "      <td>0.173952</td>\n",
              "      <td>0.774146</td>\n",
              "    </tr>\n",
              "    <tr>\n",
              "      <th>2</th>\n",
              "      <td>0</td>\n",
              "      <td>0</td>\n",
              "      <td>1</td>\n",
              "      <td>0</td>\n",
              "      <td>1</td>\n",
              "      <td>0</td>\n",
              "      <td>0</td>\n",
              "      <td>1</td>\n",
              "      <td>0</td>\n",
              "      <td>0</td>\n",
              "      <td>1</td>\n",
              "      <td>0</td>\n",
              "      <td>1</td>\n",
              "      <td>1</td>\n",
              "      <td>0</td>\n",
              "      <td>0.446030</td>\n",
              "      <td>0.699908</td>\n",
              "    </tr>\n",
              "    <tr>\n",
              "      <th>3</th>\n",
              "      <td>0</td>\n",
              "      <td>0</td>\n",
              "      <td>1</td>\n",
              "      <td>0</td>\n",
              "      <td>0</td>\n",
              "      <td>1</td>\n",
              "      <td>0</td>\n",
              "      <td>1</td>\n",
              "      <td>1</td>\n",
              "      <td>0</td>\n",
              "      <td>1</td>\n",
              "      <td>0</td>\n",
              "      <td>0</td>\n",
              "      <td>1</td>\n",
              "      <td>0</td>\n",
              "      <td>0.446030</td>\n",
              "      <td>0.310249</td>\n",
              "    </tr>\n",
              "    <tr>\n",
              "      <th>4</th>\n",
              "      <td>0</td>\n",
              "      <td>0</td>\n",
              "      <td>1</td>\n",
              "      <td>0</td>\n",
              "      <td>0</td>\n",
              "      <td>1</td>\n",
              "      <td>0</td>\n",
              "      <td>1</td>\n",
              "      <td>1</td>\n",
              "      <td>0</td>\n",
              "      <td>1</td>\n",
              "      <td>0</td>\n",
              "      <td>0</td>\n",
              "      <td>1</td>\n",
              "      <td>0</td>\n",
              "      <td>0.267618</td>\n",
              "      <td>0.313943</td>\n",
              "    </tr>\n",
              "  </tbody>\n",
              "</table>\n",
              "</div>\n",
              "    <div class=\"colab-df-buttons\">\n",
              "\n",
              "  <div class=\"colab-df-container\">\n",
              "    <button class=\"colab-df-convert\" onclick=\"convertToInteractive('df-c51e936b-6d52-4a88-b06a-eb0774736cb3')\"\n",
              "            title=\"Convert this dataframe to an interactive table.\"\n",
              "            style=\"display:none;\">\n",
              "\n",
              "  <svg xmlns=\"http://www.w3.org/2000/svg\" height=\"24px\" viewBox=\"0 -960 960 960\">\n",
              "    <path d=\"M120-120v-720h720v720H120Zm60-500h600v-160H180v160Zm220 220h160v-160H400v160Zm0 220h160v-160H400v160ZM180-400h160v-160H180v160Zm440 0h160v-160H620v160ZM180-180h160v-160H180v160Zm440 0h160v-160H620v160Z\"/>\n",
              "  </svg>\n",
              "    </button>\n",
              "\n",
              "  <style>\n",
              "    .colab-df-container {\n",
              "      display:flex;\n",
              "      gap: 12px;\n",
              "    }\n",
              "\n",
              "    .colab-df-convert {\n",
              "      background-color: #E8F0FE;\n",
              "      border: none;\n",
              "      border-radius: 50%;\n",
              "      cursor: pointer;\n",
              "      display: none;\n",
              "      fill: #1967D2;\n",
              "      height: 32px;\n",
              "      padding: 0 0 0 0;\n",
              "      width: 32px;\n",
              "    }\n",
              "\n",
              "    .colab-df-convert:hover {\n",
              "      background-color: #E2EBFA;\n",
              "      box-shadow: 0px 1px 2px rgba(60, 64, 67, 0.3), 0px 1px 3px 1px rgba(60, 64, 67, 0.15);\n",
              "      fill: #174EA6;\n",
              "    }\n",
              "\n",
              "    .colab-df-buttons div {\n",
              "      margin-bottom: 4px;\n",
              "    }\n",
              "\n",
              "    [theme=dark] .colab-df-convert {\n",
              "      background-color: #3B4455;\n",
              "      fill: #D2E3FC;\n",
              "    }\n",
              "\n",
              "    [theme=dark] .colab-df-convert:hover {\n",
              "      background-color: #434B5C;\n",
              "      box-shadow: 0px 1px 3px 1px rgba(0, 0, 0, 0.15);\n",
              "      filter: drop-shadow(0px 1px 2px rgba(0, 0, 0, 0.3));\n",
              "      fill: #FFFFFF;\n",
              "    }\n",
              "  </style>\n",
              "\n",
              "    <script>\n",
              "      const buttonEl =\n",
              "        document.querySelector('#df-c51e936b-6d52-4a88-b06a-eb0774736cb3 button.colab-df-convert');\n",
              "      buttonEl.style.display =\n",
              "        google.colab.kernel.accessAllowed ? 'block' : 'none';\n",
              "\n",
              "      async function convertToInteractive(key) {\n",
              "        const element = document.querySelector('#df-c51e936b-6d52-4a88-b06a-eb0774736cb3');\n",
              "        const dataTable =\n",
              "          await google.colab.kernel.invokeFunction('convertToInteractive',\n",
              "                                                    [key], {});\n",
              "        if (!dataTable) return;\n",
              "\n",
              "        const docLinkHtml = 'Like what you see? Visit the ' +\n",
              "          '<a target=\"_blank\" href=https://colab.research.google.com/notebooks/data_table.ipynb>data table notebook</a>'\n",
              "          + ' to learn more about interactive tables.';\n",
              "        element.innerHTML = '';\n",
              "        dataTable['output_type'] = 'display_data';\n",
              "        await google.colab.output.renderOutput(dataTable, element);\n",
              "        const docLink = document.createElement('div');\n",
              "        docLink.innerHTML = docLinkHtml;\n",
              "        element.appendChild(docLink);\n",
              "      }\n",
              "    </script>\n",
              "  </div>\n",
              "\n",
              "\n",
              "<div id=\"df-4ba38e0d-592a-4692-b732-d21fe1d3cc7b\">\n",
              "  <button class=\"colab-df-quickchart\" onclick=\"quickchart('df-4ba38e0d-592a-4692-b732-d21fe1d3cc7b')\"\n",
              "            title=\"Suggest charts\"\n",
              "            style=\"display:none;\">\n",
              "\n",
              "<svg xmlns=\"http://www.w3.org/2000/svg\" height=\"24px\"viewBox=\"0 0 24 24\"\n",
              "     width=\"24px\">\n",
              "    <g>\n",
              "        <path d=\"M19 3H5c-1.1 0-2 .9-2 2v14c0 1.1.9 2 2 2h14c1.1 0 2-.9 2-2V5c0-1.1-.9-2-2-2zM9 17H7v-7h2v7zm4 0h-2V7h2v10zm4 0h-2v-4h2v4z\"/>\n",
              "    </g>\n",
              "</svg>\n",
              "  </button>\n",
              "\n",
              "<style>\n",
              "  .colab-df-quickchart {\n",
              "      --bg-color: #E8F0FE;\n",
              "      --fill-color: #1967D2;\n",
              "      --hover-bg-color: #E2EBFA;\n",
              "      --hover-fill-color: #174EA6;\n",
              "      --disabled-fill-color: #AAA;\n",
              "      --disabled-bg-color: #DDD;\n",
              "  }\n",
              "\n",
              "  [theme=dark] .colab-df-quickchart {\n",
              "      --bg-color: #3B4455;\n",
              "      --fill-color: #D2E3FC;\n",
              "      --hover-bg-color: #434B5C;\n",
              "      --hover-fill-color: #FFFFFF;\n",
              "      --disabled-bg-color: #3B4455;\n",
              "      --disabled-fill-color: #666;\n",
              "  }\n",
              "\n",
              "  .colab-df-quickchart {\n",
              "    background-color: var(--bg-color);\n",
              "    border: none;\n",
              "    border-radius: 50%;\n",
              "    cursor: pointer;\n",
              "    display: none;\n",
              "    fill: var(--fill-color);\n",
              "    height: 32px;\n",
              "    padding: 0;\n",
              "    width: 32px;\n",
              "  }\n",
              "\n",
              "  .colab-df-quickchart:hover {\n",
              "    background-color: var(--hover-bg-color);\n",
              "    box-shadow: 0 1px 2px rgba(60, 64, 67, 0.3), 0 1px 3px 1px rgba(60, 64, 67, 0.15);\n",
              "    fill: var(--button-hover-fill-color);\n",
              "  }\n",
              "\n",
              "  .colab-df-quickchart-complete:disabled,\n",
              "  .colab-df-quickchart-complete:disabled:hover {\n",
              "    background-color: var(--disabled-bg-color);\n",
              "    fill: var(--disabled-fill-color);\n",
              "    box-shadow: none;\n",
              "  }\n",
              "\n",
              "  .colab-df-spinner {\n",
              "    border: 2px solid var(--fill-color);\n",
              "    border-color: transparent;\n",
              "    border-bottom-color: var(--fill-color);\n",
              "    animation:\n",
              "      spin 1s steps(1) infinite;\n",
              "  }\n",
              "\n",
              "  @keyframes spin {\n",
              "    0% {\n",
              "      border-color: transparent;\n",
              "      border-bottom-color: var(--fill-color);\n",
              "      border-left-color: var(--fill-color);\n",
              "    }\n",
              "    20% {\n",
              "      border-color: transparent;\n",
              "      border-left-color: var(--fill-color);\n",
              "      border-top-color: var(--fill-color);\n",
              "    }\n",
              "    30% {\n",
              "      border-color: transparent;\n",
              "      border-left-color: var(--fill-color);\n",
              "      border-top-color: var(--fill-color);\n",
              "      border-right-color: var(--fill-color);\n",
              "    }\n",
              "    40% {\n",
              "      border-color: transparent;\n",
              "      border-right-color: var(--fill-color);\n",
              "      border-top-color: var(--fill-color);\n",
              "    }\n",
              "    60% {\n",
              "      border-color: transparent;\n",
              "      border-right-color: var(--fill-color);\n",
              "    }\n",
              "    80% {\n",
              "      border-color: transparent;\n",
              "      border-right-color: var(--fill-color);\n",
              "      border-bottom-color: var(--fill-color);\n",
              "    }\n",
              "    90% {\n",
              "      border-color: transparent;\n",
              "      border-bottom-color: var(--fill-color);\n",
              "    }\n",
              "  }\n",
              "</style>\n",
              "\n",
              "  <script>\n",
              "    async function quickchart(key) {\n",
              "      const quickchartButtonEl =\n",
              "        document.querySelector('#' + key + ' button');\n",
              "      quickchartButtonEl.disabled = true;  // To prevent multiple clicks.\n",
              "      quickchartButtonEl.classList.add('colab-df-spinner');\n",
              "      try {\n",
              "        const charts = await google.colab.kernel.invokeFunction(\n",
              "            'suggestCharts', [key], {});\n",
              "      } catch (error) {\n",
              "        console.error('Error during call to suggestCharts:', error);\n",
              "      }\n",
              "      quickchartButtonEl.classList.remove('colab-df-spinner');\n",
              "      quickchartButtonEl.classList.add('colab-df-quickchart-complete');\n",
              "    }\n",
              "    (() => {\n",
              "      let quickchartButtonEl =\n",
              "        document.querySelector('#df-4ba38e0d-592a-4692-b732-d21fe1d3cc7b button');\n",
              "      quickchartButtonEl.style.display =\n",
              "        google.colab.kernel.accessAllowed ? 'block' : 'none';\n",
              "    })();\n",
              "  </script>\n",
              "</div>\n",
              "\n",
              "    </div>\n",
              "  </div>\n"
            ],
            "application/vnd.google.colaboratory.intrinsic+json": {
              "type": "dataframe",
              "variable_name": "df_transformed",
              "summary": "{\n  \"name\": \"df_transformed\",\n  \"rows\": 30621,\n  \"fields\": [\n    {\n      \"column\": \"CATEGORIA_ADMINISTRATIVA_0\",\n      \"properties\": {\n        \"dtype\": \"number\",\n        \"std\": 0,\n        \"min\": 0,\n        \"max\": 1,\n        \"num_unique_values\": 2,\n        \"samples\": [\n          1,\n          0\n        ],\n        \"semantic_type\": \"\",\n        \"description\": \"\"\n      }\n    },\n    {\n      \"column\": \"CATEGORIA_ADMINISTRATIVA_1\",\n      \"properties\": {\n        \"dtype\": \"number\",\n        \"std\": 0,\n        \"min\": 0,\n        \"max\": 1,\n        \"num_unique_values\": 2,\n        \"samples\": [\n          1,\n          0\n        ],\n        \"semantic_type\": \"\",\n        \"description\": \"\"\n      }\n    },\n    {\n      \"column\": \"CATEGORIA_ADMINISTRATIVA_2\",\n      \"properties\": {\n        \"dtype\": \"number\",\n        \"std\": 0,\n        \"min\": 0,\n        \"max\": 1,\n        \"num_unique_values\": 2,\n        \"samples\": [\n          0,\n          1\n        ],\n        \"semantic_type\": \"\",\n        \"description\": \"\"\n      }\n    },\n    {\n      \"column\": \"ORGANIZACAO_ACADEMICA_0\",\n      \"properties\": {\n        \"dtype\": \"number\",\n        \"std\": 0,\n        \"min\": 0,\n        \"max\": 1,\n        \"num_unique_values\": 2,\n        \"samples\": [\n          1,\n          0\n        ],\n        \"semantic_type\": \"\",\n        \"description\": \"\"\n      }\n    },\n    {\n      \"column\": \"ORGANIZACAO_ACADEMICA_1\",\n      \"properties\": {\n        \"dtype\": \"number\",\n        \"std\": 0,\n        \"min\": 0,\n        \"max\": 1,\n        \"num_unique_values\": 2,\n        \"samples\": [\n          1,\n          0\n        ],\n        \"semantic_type\": \"\",\n        \"description\": \"\"\n      }\n    },\n    {\n      \"column\": \"ORGANIZACAO_ACADEMICA_2\",\n      \"properties\": {\n        \"dtype\": \"number\",\n        \"std\": 0,\n        \"min\": 0,\n        \"max\": 1,\n        \"num_unique_values\": 2,\n        \"samples\": [\n          0,\n          1\n        ],\n        \"semantic_type\": \"\",\n        \"description\": \"\"\n      }\n    },\n    {\n      \"column\": \"GRAU_0\",\n      \"properties\": {\n        \"dtype\": \"number\",\n        \"std\": 0,\n        \"min\": 0,\n        \"max\": 1,\n        \"num_unique_values\": 2,\n        \"samples\": [\n          1,\n          0\n        ],\n        \"semantic_type\": \"\",\n        \"description\": \"\"\n      }\n    },\n    {\n      \"column\": \"GRAU_1\",\n      \"properties\": {\n        \"dtype\": \"number\",\n        \"std\": 0,\n        \"min\": 0,\n        \"max\": 1,\n        \"num_unique_values\": 2,\n        \"samples\": [\n          1,\n          0\n        ],\n        \"semantic_type\": \"\",\n        \"description\": \"\"\n      }\n    },\n    {\n      \"column\": \"GRAU_2\",\n      \"properties\": {\n        \"dtype\": \"number\",\n        \"std\": 0,\n        \"min\": 0,\n        \"max\": 1,\n        \"num_unique_values\": 2,\n        \"samples\": [\n          0,\n          1\n        ],\n        \"semantic_type\": \"\",\n        \"description\": \"\"\n      }\n    },\n    {\n      \"column\": \"MODALIDADE_0\",\n      \"properties\": {\n        \"dtype\": \"number\",\n        \"std\": 0,\n        \"min\": 0,\n        \"max\": 1,\n        \"num_unique_values\": 2,\n        \"samples\": [\n          1,\n          0\n        ],\n        \"semantic_type\": \"\",\n        \"description\": \"\"\n      }\n    },\n    {\n      \"column\": \"MODALIDADE_1\",\n      \"properties\": {\n        \"dtype\": \"number\",\n        \"std\": 0,\n        \"min\": 0,\n        \"max\": 1,\n        \"num_unique_values\": 2,\n        \"samples\": [\n          0,\n          1\n        ],\n        \"semantic_type\": \"\",\n        \"description\": \"\"\n      }\n    },\n    {\n      \"column\": \"REGIAO_0\",\n      \"properties\": {\n        \"dtype\": \"number\",\n        \"std\": 0,\n        \"min\": 0,\n        \"max\": 1,\n        \"num_unique_values\": 2,\n        \"samples\": [\n          1,\n          0\n        ],\n        \"semantic_type\": \"\",\n        \"description\": \"\"\n      }\n    },\n    {\n      \"column\": \"REGIAO_1\",\n      \"properties\": {\n        \"dtype\": \"number\",\n        \"std\": 0,\n        \"min\": 0,\n        \"max\": 1,\n        \"num_unique_values\": 2,\n        \"samples\": [\n          1,\n          0\n        ],\n        \"semantic_type\": \"\",\n        \"description\": \"\"\n      }\n    },\n    {\n      \"column\": \"REGIAO_2\",\n      \"properties\": {\n        \"dtype\": \"number\",\n        \"std\": 0,\n        \"min\": 0,\n        \"max\": 1,\n        \"num_unique_values\": 2,\n        \"samples\": [\n          0,\n          1\n        ],\n        \"semantic_type\": \"\",\n        \"description\": \"\"\n      }\n    },\n    {\n      \"column\": \"SITUACAO_CURSO_encoded\",\n      \"properties\": {\n        \"dtype\": \"number\",\n        \"std\": 0,\n        \"min\": 0,\n        \"max\": 2,\n        \"num_unique_values\": 3,\n        \"samples\": [\n          0,\n          1\n        ],\n        \"semantic_type\": \"\",\n        \"description\": \"\"\n      }\n    },\n    {\n      \"column\": \"QT_VAGAS_AUTORIZADAS\",\n      \"properties\": {\n        \"dtype\": \"number\",\n        \"std\": 0.20238602069444067,\n        \"min\": 0.0,\n        \"max\": 1.0,\n        \"num_unique_values\": 542,\n        \"samples\": [\n          0.03256021409455843,\n          0.004014272970561998\n        ],\n        \"semantic_type\": \"\",\n        \"description\": \"\"\n      }\n    },\n    {\n      \"column\": \"CARGA_HORARIA\",\n      \"properties\": {\n        \"dtype\": \"number\",\n        \"std\": 0.1500548836508307,\n        \"min\": 0.0,\n        \"max\": 0.9999999999999999,\n        \"num_unique_values\": 1553,\n        \"samples\": [\n          0.0012927054478301015,\n          0.5992613111726685\n        ],\n        \"semantic_type\": \"\",\n        \"description\": \"\"\n      }\n    }\n  ]\n}"
            }
          },
          "metadata": {},
          "execution_count": 39
        }
      ]
    },
    {
      "cell_type": "code",
      "source": [
        "df_transformed['SITUACAO_CURSO_encoded'].unique()"
      ],
      "metadata": {
        "colab": {
          "base_uri": "https://localhost:8080/"
        },
        "id": "HMsaisTn7Yda",
        "outputId": "c827fb06-c4a4-42db-ad2a-87bfed3ca95d"
      },
      "execution_count": null,
      "outputs": [
        {
          "output_type": "execute_result",
          "data": {
            "text/plain": [
              "array([0, 1, 2])"
            ]
          },
          "metadata": {},
          "execution_count": 40
        }
      ]
    },
    {
      "cell_type": "code",
      "source": [
        "df_transformed.dtypes"
      ],
      "metadata": {
        "colab": {
          "base_uri": "https://localhost:8080/",
          "height": 617
        },
        "id": "34WQVBNA7oFN",
        "outputId": "91a3b09c-d5a4-4515-c23b-48df9d78306d"
      },
      "execution_count": null,
      "outputs": [
        {
          "output_type": "execute_result",
          "data": {
            "text/plain": [
              "CATEGORIA_ADMINISTRATIVA_0      int64\n",
              "CATEGORIA_ADMINISTRATIVA_1      int64\n",
              "CATEGORIA_ADMINISTRATIVA_2      int64\n",
              "ORGANIZACAO_ACADEMICA_0         int64\n",
              "ORGANIZACAO_ACADEMICA_1         int64\n",
              "ORGANIZACAO_ACADEMICA_2         int64\n",
              "GRAU_0                          int64\n",
              "GRAU_1                          int64\n",
              "GRAU_2                          int64\n",
              "MODALIDADE_0                    int64\n",
              "MODALIDADE_1                    int64\n",
              "REGIAO_0                        int64\n",
              "REGIAO_1                        int64\n",
              "REGIAO_2                        int64\n",
              "SITUACAO_CURSO_encoded          int64\n",
              "QT_VAGAS_AUTORIZADAS          float64\n",
              "CARGA_HORARIA                 float64\n",
              "dtype: object"
            ],
            "text/html": [
              "<table border=\"1\" class=\"dataframe\">\n",
              "  <thead>\n",
              "    <tr style=\"text-align: right;\">\n",
              "      <th></th>\n",
              "      <th>0</th>\n",
              "    </tr>\n",
              "  </thead>\n",
              "  <tbody>\n",
              "    <tr>\n",
              "      <th>CATEGORIA_ADMINISTRATIVA_0</th>\n",
              "      <td>int64</td>\n",
              "    </tr>\n",
              "    <tr>\n",
              "      <th>CATEGORIA_ADMINISTRATIVA_1</th>\n",
              "      <td>int64</td>\n",
              "    </tr>\n",
              "    <tr>\n",
              "      <th>CATEGORIA_ADMINISTRATIVA_2</th>\n",
              "      <td>int64</td>\n",
              "    </tr>\n",
              "    <tr>\n",
              "      <th>ORGANIZACAO_ACADEMICA_0</th>\n",
              "      <td>int64</td>\n",
              "    </tr>\n",
              "    <tr>\n",
              "      <th>ORGANIZACAO_ACADEMICA_1</th>\n",
              "      <td>int64</td>\n",
              "    </tr>\n",
              "    <tr>\n",
              "      <th>ORGANIZACAO_ACADEMICA_2</th>\n",
              "      <td>int64</td>\n",
              "    </tr>\n",
              "    <tr>\n",
              "      <th>GRAU_0</th>\n",
              "      <td>int64</td>\n",
              "    </tr>\n",
              "    <tr>\n",
              "      <th>GRAU_1</th>\n",
              "      <td>int64</td>\n",
              "    </tr>\n",
              "    <tr>\n",
              "      <th>GRAU_2</th>\n",
              "      <td>int64</td>\n",
              "    </tr>\n",
              "    <tr>\n",
              "      <th>MODALIDADE_0</th>\n",
              "      <td>int64</td>\n",
              "    </tr>\n",
              "    <tr>\n",
              "      <th>MODALIDADE_1</th>\n",
              "      <td>int64</td>\n",
              "    </tr>\n",
              "    <tr>\n",
              "      <th>REGIAO_0</th>\n",
              "      <td>int64</td>\n",
              "    </tr>\n",
              "    <tr>\n",
              "      <th>REGIAO_1</th>\n",
              "      <td>int64</td>\n",
              "    </tr>\n",
              "    <tr>\n",
              "      <th>REGIAO_2</th>\n",
              "      <td>int64</td>\n",
              "    </tr>\n",
              "    <tr>\n",
              "      <th>SITUACAO_CURSO_encoded</th>\n",
              "      <td>int64</td>\n",
              "    </tr>\n",
              "    <tr>\n",
              "      <th>QT_VAGAS_AUTORIZADAS</th>\n",
              "      <td>float64</td>\n",
              "    </tr>\n",
              "    <tr>\n",
              "      <th>CARGA_HORARIA</th>\n",
              "      <td>float64</td>\n",
              "    </tr>\n",
              "  </tbody>\n",
              "</table><br><label><b>dtype:</b> object</label>"
            ]
          },
          "metadata": {},
          "execution_count": 41
        }
      ]
    },
    {
      "cell_type": "markdown",
      "source": [
        "# **Modelos**"
      ],
      "metadata": {
        "id": "kJFKOhPvOByK"
      }
    },
    {
      "cell_type": "markdown",
      "source": [
        "Finalmente, após toda etapa de pré-processamento, temos a garantia de que os dados estão adequados para os algoritmos de classificação."
      ],
      "metadata": {
        "id": "1DoktAOX_3WE"
      }
    },
    {
      "cell_type": "markdown",
      "source": [
        "Primeiro precisamos definir quem são as features e quem é o target."
      ],
      "metadata": {
        "id": "cNmTpI7zASra"
      }
    },
    {
      "cell_type": "code",
      "source": [
        "df_transformed.columns"
      ],
      "metadata": {
        "colab": {
          "base_uri": "https://localhost:8080/"
        },
        "id": "u1ReXxQ37Vmt",
        "outputId": "35f16a13-a5ac-47f6-cc0c-d603ad78b53b"
      },
      "execution_count": null,
      "outputs": [
        {
          "output_type": "execute_result",
          "data": {
            "text/plain": [
              "Index(['CATEGORIA_ADMINISTRATIVA_0', 'CATEGORIA_ADMINISTRATIVA_1',\n",
              "       'CATEGORIA_ADMINISTRATIVA_2', 'ORGANIZACAO_ACADEMICA_0',\n",
              "       'ORGANIZACAO_ACADEMICA_1', 'ORGANIZACAO_ACADEMICA_2', 'GRAU_0',\n",
              "       'GRAU_1', 'GRAU_2', 'MODALIDADE_0', 'MODALIDADE_1', 'REGIAO_0',\n",
              "       'REGIAO_1', 'REGIAO_2', 'SITUACAO_CURSO_encoded',\n",
              "       'QT_VAGAS_AUTORIZADAS', 'CARGA_HORARIA'],\n",
              "      dtype='object')"
            ]
          },
          "metadata": {},
          "execution_count": 42
        }
      ]
    },
    {
      "cell_type": "code",
      "source": [
        "features = ['CATEGORIA_ADMINISTRATIVA_0', 'CATEGORIA_ADMINISTRATIVA_1', 'CATEGORIA_ADMINISTRATIVA_2',\n",
        "            'ORGANIZACAO_ACADEMICA_0', 'ORGANIZACAO_ACADEMICA_1', 'ORGANIZACAO_ACADEMICA_2',\n",
        "            'GRAU_0', 'GRAU_1', 'GRAU_2',\n",
        "            'MODALIDADE_0', 'MODALIDADE_1',\n",
        "            'REGIAO_0', 'REGIAO_1', 'REGIAO_2',\n",
        "            'QT_VAGAS_AUTORIZADAS',\n",
        "            'CARGA_HORARIA']\n",
        "\n",
        "target =  'SITUACAO_CURSO_encoded'\n",
        "\n",
        "X = df_transformed[features]\n",
        "y = df_transformed[target]"
      ],
      "metadata": {
        "id": "vAFTINngFtY2",
        "collapsed": true
      },
      "execution_count": null,
      "outputs": []
    },
    {
      "cell_type": "markdown",
      "source": [
        "Agora vamos dividir o nosso conjunto de dados em dados de treinamento e dados de teste."
      ],
      "metadata": {
        "id": "9vsV6UDdAhHY"
      }
    },
    {
      "cell_type": "code",
      "source": [
        "X_train, X_test, y_train, y_test = train_test_split(X, y, test_size=0.2, random_state=42)"
      ],
      "metadata": {
        "id": "k1XxvkHSVxpz"
      },
      "execution_count": null,
      "outputs": []
    },
    {
      "cell_type": "markdown",
      "source": [
        "Para nosso problema, optei por usar três algoritmos de classificação: **Árvore de Decisão** (Decision Tree), **Florestas Aleatórias** (Random Forest) e **Rede Neural Perceptron de Múltiplas Camadas** (Multi Layer Perceptron).\n",
        "\n",
        "A escolha de usar Árvore de Decisão é que ela é boa para dados categóricos e quando é necessário um modelo interpretável. O motivo da escolha do Florestas Aleatórias é por ser robusto a overfitting e funciona bem em problemas complexos e com grandes conjuntos de dados. E a Rede Neural Perceptron de Múltiplas Camadas é por ela ser capaz de capturar relações complexas e não lineares nos dados."
      ],
      "metadata": {
        "id": "WZ8bNMoRHB-7"
      }
    },
    {
      "cell_type": "markdown",
      "source": [
        "Ainda precisamos definir a técnica para encontrar a melhor combinação de hiperparâmetro para o modelo. Existem duas técnicas muito famosas, **Grid Search** e **Random Search**.\n",
        "\n",
        "Grid Search explora de forma exaustiva todas as combinações possíveis de hiperparâmetros especificados em uma grade predefinida. A vantagem é que garante encontrar a melhor combinação dentro do espaço definido, mas pode ser computacionalmente caro e demorado, especialmente com muitos hiperparâmetros e valores.\n",
        "\n",
        "Random Search, por outro lado, amostra aleatoriamente combinações de hiperparâmetros dentro de um intervalo definido. Ele é geralmente mais eficiente porque não testa todas as combinações, permitindo encontrar boas configurações mais rapidamente e com menos custo computacional. Embora não garanta encontrar a melhor combinação, pode ser mais prático e eficaz para grandes espaços de busca.\n",
        "\n",
        "Com isso, decidi optar por escolher a técnica Random Search, pois para mim o quesito custo de processamento tem um peso maior."
      ],
      "metadata": {
        "id": "IxJDVmsSI369"
      }
    },
    {
      "cell_type": "markdown",
      "source": [
        "## **Árvore de Decisão (Decision Tree)**"
      ],
      "metadata": {
        "id": "JkaucNDKXjO4"
      }
    },
    {
      "cell_type": "markdown",
      "source": [
        "O algoritmo de árvore de decisão é uma técnica de aprendizado de máquina que cria um modelo em forma de árvore para tomar decisões. Cada nó na árvore representa uma pergunta sobre um atributo dos dados, cada ramo representa o resultado da pergunta, e cada folha representa uma decisão final ou uma previsão. O modelo é construído dividindo os dados em grupos com base em critérios que maximizam a pureza dos grupos. Árvores de decisão são fáceis de interpretar e podem lidar com dados numéricos e categóricos. No entanto, podem sofrer de overfitting e são instáveis, o que pode ser mitigado por técnicas como a poda e o uso de métodos de ensemble (técnica de aprendizado de máquina que combina múltiplos modelos para melhorar a performance geral), como Random Forests.\n",
        "\n",
        "Para mais detalhes: [clique aqui](https://scikit-learn.org/stable/modules/tree.html#)."
      ],
      "metadata": {
        "id": "eEI-1L7sNfg2"
      }
    },
    {
      "cell_type": "code",
      "source": [
        "# Definindo um dicionário com os parâmetros a serem ajustados\n",
        "param_dist = {\n",
        "    'max_depth': [None, 10, 20, 30],              # Profundidade máxima da árvore. None significa sem limite.\n",
        "    'min_samples_split': [2, 5, 10],              # Número mínimo de amostras necessárias para dividir um nó interno.\n",
        "    'min_samples_leaf': [1, 2, 4],                # Número mínimo de amostras necessárias em um nó folha.\n",
        "    'criterion': ['gini', 'entropy']              # Critério para medir a qualidade de uma divisão: 'gini' ou 'entropy'.\n",
        "}\n",
        "\n",
        "# Criando uma instância do classificador de árvore de decisão\n",
        "dt_clf = DecisionTreeClassifier(random_state=42)  # Define o classificador com uma semente para a aleatoriedade, garantindo reprodutibilidade.\n",
        "\n",
        "# Configurando a busca aleatória para encontrar os melhores hiperparâmetros\n",
        "random_search = RandomizedSearchCV(\n",
        "    estimator=dt_clf,                             # O estimador a ser ajustado (neste caso, uma árvore de decisão).\n",
        "    param_distributions=param_dist,                # Distribuições de parâmetros para busca.\n",
        "    n_iter=100,                                   # Número de iterações de amostragem de parâmetros.\n",
        "    cv=5,                                         # Número de dobras na validação cruzada.\n",
        "    n_jobs=-1,                                    # Usa todos os núcleos disponíveis para o processamento.\n",
        "    verbose=2,                                    # Nível de detalhes exibidos durante a execução.\n",
        "    scoring='accuracy',                           # Métrica usada para avaliar o desempenho dos parâmetros.\n",
        "    random_state=42                               # Semente para a aleatoriedade da busca aleatória, garantindo reprodutibilidade.\n",
        ")\n",
        "\n",
        "# Ajustando o modelo com a busca aleatória\n",
        "random_search.fit(X_train, y_train)                # Executa a busca aleatória no conjunto de treinamento."
      ],
      "metadata": {
        "colab": {
          "base_uri": "https://localhost:8080/",
          "height": 189
        },
        "id": "IVCxidk6RzE9",
        "outputId": "cc095282-5695-4381-ffeb-a5a5ad6a5117"
      },
      "execution_count": null,
      "outputs": [
        {
          "output_type": "stream",
          "name": "stdout",
          "text": [
            "Fitting 5 folds for each of 72 candidates, totalling 360 fits\n"
          ]
        },
        {
          "output_type": "stream",
          "name": "stderr",
          "text": [
            "/usr/local/lib/python3.10/dist-packages/sklearn/model_selection/_search.py:307: UserWarning: The total space of parameters 72 is smaller than n_iter=100. Running 72 iterations. For exhaustive searches, use GridSearchCV.\n",
            "  warnings.warn(\n"
          ]
        },
        {
          "output_type": "execute_result",
          "data": {
            "text/plain": [
              "RandomizedSearchCV(cv=5, estimator=DecisionTreeClassifier(random_state=42),\n",
              "                   n_iter=100, n_jobs=-1,\n",
              "                   param_distributions={'criterion': ['gini', 'entropy'],\n",
              "                                        'max_depth': [None, 10, 20, 30],\n",
              "                                        'min_samples_leaf': [1, 2, 4],\n",
              "                                        'min_samples_split': [2, 5, 10]},\n",
              "                   random_state=42, scoring='accuracy', verbose=2)"
            ],
            "text/html": [
              "<style>#sk-container-id-1 {color: black;}#sk-container-id-1 pre{padding: 0;}#sk-container-id-1 div.sk-toggleable {background-color: white;}#sk-container-id-1 label.sk-toggleable__label {cursor: pointer;display: block;width: 100%;margin-bottom: 0;padding: 0.3em;box-sizing: border-box;text-align: center;}#sk-container-id-1 label.sk-toggleable__label-arrow:before {content: \"▸\";float: left;margin-right: 0.25em;color: #696969;}#sk-container-id-1 label.sk-toggleable__label-arrow:hover:before {color: black;}#sk-container-id-1 div.sk-estimator:hover label.sk-toggleable__label-arrow:before {color: black;}#sk-container-id-1 div.sk-toggleable__content {max-height: 0;max-width: 0;overflow: hidden;text-align: left;background-color: #f0f8ff;}#sk-container-id-1 div.sk-toggleable__content pre {margin: 0.2em;color: black;border-radius: 0.25em;background-color: #f0f8ff;}#sk-container-id-1 input.sk-toggleable__control:checked~div.sk-toggleable__content {max-height: 200px;max-width: 100%;overflow: auto;}#sk-container-id-1 input.sk-toggleable__control:checked~label.sk-toggleable__label-arrow:before {content: \"▾\";}#sk-container-id-1 div.sk-estimator input.sk-toggleable__control:checked~label.sk-toggleable__label {background-color: #d4ebff;}#sk-container-id-1 div.sk-label input.sk-toggleable__control:checked~label.sk-toggleable__label {background-color: #d4ebff;}#sk-container-id-1 input.sk-hidden--visually {border: 0;clip: rect(1px 1px 1px 1px);clip: rect(1px, 1px, 1px, 1px);height: 1px;margin: -1px;overflow: hidden;padding: 0;position: absolute;width: 1px;}#sk-container-id-1 div.sk-estimator {font-family: monospace;background-color: #f0f8ff;border: 1px dotted black;border-radius: 0.25em;box-sizing: border-box;margin-bottom: 0.5em;}#sk-container-id-1 div.sk-estimator:hover {background-color: #d4ebff;}#sk-container-id-1 div.sk-parallel-item::after {content: \"\";width: 100%;border-bottom: 1px solid gray;flex-grow: 1;}#sk-container-id-1 div.sk-label:hover label.sk-toggleable__label {background-color: #d4ebff;}#sk-container-id-1 div.sk-serial::before {content: \"\";position: absolute;border-left: 1px solid gray;box-sizing: border-box;top: 0;bottom: 0;left: 50%;z-index: 0;}#sk-container-id-1 div.sk-serial {display: flex;flex-direction: column;align-items: center;background-color: white;padding-right: 0.2em;padding-left: 0.2em;position: relative;}#sk-container-id-1 div.sk-item {position: relative;z-index: 1;}#sk-container-id-1 div.sk-parallel {display: flex;align-items: stretch;justify-content: center;background-color: white;position: relative;}#sk-container-id-1 div.sk-item::before, #sk-container-id-1 div.sk-parallel-item::before {content: \"\";position: absolute;border-left: 1px solid gray;box-sizing: border-box;top: 0;bottom: 0;left: 50%;z-index: -1;}#sk-container-id-1 div.sk-parallel-item {display: flex;flex-direction: column;z-index: 1;position: relative;background-color: white;}#sk-container-id-1 div.sk-parallel-item:first-child::after {align-self: flex-end;width: 50%;}#sk-container-id-1 div.sk-parallel-item:last-child::after {align-self: flex-start;width: 50%;}#sk-container-id-1 div.sk-parallel-item:only-child::after {width: 0;}#sk-container-id-1 div.sk-dashed-wrapped {border: 1px dashed gray;margin: 0 0.4em 0.5em 0.4em;box-sizing: border-box;padding-bottom: 0.4em;background-color: white;}#sk-container-id-1 div.sk-label label {font-family: monospace;font-weight: bold;display: inline-block;line-height: 1.2em;}#sk-container-id-1 div.sk-label-container {text-align: center;}#sk-container-id-1 div.sk-container {/* jupyter's `normalize.less` sets `[hidden] { display: none; }` but bootstrap.min.css set `[hidden] { display: none !important; }` so we also need the `!important` here to be able to override the default hidden behavior on the sphinx rendered scikit-learn.org. See: https://github.com/scikit-learn/scikit-learn/issues/21755 */display: inline-block !important;position: relative;}#sk-container-id-1 div.sk-text-repr-fallback {display: none;}</style><div id=\"sk-container-id-1\" class=\"sk-top-container\"><div class=\"sk-text-repr-fallback\"><pre>RandomizedSearchCV(cv=5, estimator=DecisionTreeClassifier(random_state=42),\n",
              "                   n_iter=100, n_jobs=-1,\n",
              "                   param_distributions={&#x27;criterion&#x27;: [&#x27;gini&#x27;, &#x27;entropy&#x27;],\n",
              "                                        &#x27;max_depth&#x27;: [None, 10, 20, 30],\n",
              "                                        &#x27;min_samples_leaf&#x27;: [1, 2, 4],\n",
              "                                        &#x27;min_samples_split&#x27;: [2, 5, 10]},\n",
              "                   random_state=42, scoring=&#x27;accuracy&#x27;, verbose=2)</pre><b>In a Jupyter environment, please rerun this cell to show the HTML representation or trust the notebook. <br />On GitHub, the HTML representation is unable to render, please try loading this page with nbviewer.org.</b></div><div class=\"sk-container\" hidden><div class=\"sk-item sk-dashed-wrapped\"><div class=\"sk-label-container\"><div class=\"sk-label sk-toggleable\"><input class=\"sk-toggleable__control sk-hidden--visually\" id=\"sk-estimator-id-1\" type=\"checkbox\" ><label for=\"sk-estimator-id-1\" class=\"sk-toggleable__label sk-toggleable__label-arrow\">RandomizedSearchCV</label><div class=\"sk-toggleable__content\"><pre>RandomizedSearchCV(cv=5, estimator=DecisionTreeClassifier(random_state=42),\n",
              "                   n_iter=100, n_jobs=-1,\n",
              "                   param_distributions={&#x27;criterion&#x27;: [&#x27;gini&#x27;, &#x27;entropy&#x27;],\n",
              "                                        &#x27;max_depth&#x27;: [None, 10, 20, 30],\n",
              "                                        &#x27;min_samples_leaf&#x27;: [1, 2, 4],\n",
              "                                        &#x27;min_samples_split&#x27;: [2, 5, 10]},\n",
              "                   random_state=42, scoring=&#x27;accuracy&#x27;, verbose=2)</pre></div></div></div><div class=\"sk-parallel\"><div class=\"sk-parallel-item\"><div class=\"sk-item\"><div class=\"sk-label-container\"><div class=\"sk-label sk-toggleable\"><input class=\"sk-toggleable__control sk-hidden--visually\" id=\"sk-estimator-id-2\" type=\"checkbox\" ><label for=\"sk-estimator-id-2\" class=\"sk-toggleable__label sk-toggleable__label-arrow\">estimator: DecisionTreeClassifier</label><div class=\"sk-toggleable__content\"><pre>DecisionTreeClassifier(random_state=42)</pre></div></div></div><div class=\"sk-serial\"><div class=\"sk-item\"><div class=\"sk-estimator sk-toggleable\"><input class=\"sk-toggleable__control sk-hidden--visually\" id=\"sk-estimator-id-3\" type=\"checkbox\" ><label for=\"sk-estimator-id-3\" class=\"sk-toggleable__label sk-toggleable__label-arrow\">DecisionTreeClassifier</label><div class=\"sk-toggleable__content\"><pre>DecisionTreeClassifier(random_state=42)</pre></div></div></div></div></div></div></div></div></div></div>"
            ]
          },
          "metadata": {},
          "execution_count": 46
        }
      ]
    },
    {
      "cell_type": "code",
      "source": [
        "print(\"Melhores Parâmetros:\", random_search.best_params_)"
      ],
      "metadata": {
        "colab": {
          "base_uri": "https://localhost:8080/"
        },
        "id": "vV3PbJ6SWD_c",
        "outputId": "7e628271-9c34-41b1-b4e2-d8a83808b66c"
      },
      "execution_count": null,
      "outputs": [
        {
          "output_type": "stream",
          "name": "stdout",
          "text": [
            "Melhores Parâmetros: {'min_samples_split': 2, 'min_samples_leaf': 1, 'max_depth': 30, 'criterion': 'gini'}\n"
          ]
        }
      ]
    },
    {
      "cell_type": "code",
      "source": [
        "# Obtendo os melhores parâmetros encontrados pelo RandomizedSearchCV\n",
        "best_params = random_search.best_params_\n",
        "\n",
        "# Criando uma nova instância do classificador de árvore de decisão com os melhores parâmetros\n",
        "optimized_dt_clf = DecisionTreeClassifier(\n",
        "    max_depth=best_params['max_depth'],              # Define a profundidade máxima da árvore com o melhor valor encontrado.\n",
        "    min_samples_split=best_params['min_samples_split'],  # Define o número mínimo de amostras necessárias para dividir um nó interno.\n",
        "    min_samples_leaf=best_params['min_samples_leaf'],  # Define o número mínimo de amostras necessárias em um nó folha.\n",
        "    criterion=best_params['criterion'],              # Define o critério para medir a qualidade de uma divisão (gini ou entropy) com o melhor valor encontrado.\n",
        "    random_state=42                                 # Define a semente para a aleatoriedade, garantindo reprodutibilidade.\n",
        ")\n",
        "\n",
        "# Ajustando o classificador otimizado aos dados de treinamento\n",
        "optimized_dt_clf.fit(X_train, y_train)              # Treina o classificador com os melhores parâmetros no conjunto de dados de treinamento."
      ],
      "metadata": {
        "colab": {
          "base_uri": "https://localhost:8080/",
          "height": 74
        },
        "id": "AI9RazVnXG3A",
        "outputId": "fe33698c-1056-4c8d-9cfd-3bab7e33a181"
      },
      "execution_count": null,
      "outputs": [
        {
          "output_type": "execute_result",
          "data": {
            "text/plain": [
              "DecisionTreeClassifier(max_depth=30, random_state=42)"
            ],
            "text/html": [
              "<style>#sk-container-id-2 {color: black;}#sk-container-id-2 pre{padding: 0;}#sk-container-id-2 div.sk-toggleable {background-color: white;}#sk-container-id-2 label.sk-toggleable__label {cursor: pointer;display: block;width: 100%;margin-bottom: 0;padding: 0.3em;box-sizing: border-box;text-align: center;}#sk-container-id-2 label.sk-toggleable__label-arrow:before {content: \"▸\";float: left;margin-right: 0.25em;color: #696969;}#sk-container-id-2 label.sk-toggleable__label-arrow:hover:before {color: black;}#sk-container-id-2 div.sk-estimator:hover label.sk-toggleable__label-arrow:before {color: black;}#sk-container-id-2 div.sk-toggleable__content {max-height: 0;max-width: 0;overflow: hidden;text-align: left;background-color: #f0f8ff;}#sk-container-id-2 div.sk-toggleable__content pre {margin: 0.2em;color: black;border-radius: 0.25em;background-color: #f0f8ff;}#sk-container-id-2 input.sk-toggleable__control:checked~div.sk-toggleable__content {max-height: 200px;max-width: 100%;overflow: auto;}#sk-container-id-2 input.sk-toggleable__control:checked~label.sk-toggleable__label-arrow:before {content: \"▾\";}#sk-container-id-2 div.sk-estimator input.sk-toggleable__control:checked~label.sk-toggleable__label {background-color: #d4ebff;}#sk-container-id-2 div.sk-label input.sk-toggleable__control:checked~label.sk-toggleable__label {background-color: #d4ebff;}#sk-container-id-2 input.sk-hidden--visually {border: 0;clip: rect(1px 1px 1px 1px);clip: rect(1px, 1px, 1px, 1px);height: 1px;margin: -1px;overflow: hidden;padding: 0;position: absolute;width: 1px;}#sk-container-id-2 div.sk-estimator {font-family: monospace;background-color: #f0f8ff;border: 1px dotted black;border-radius: 0.25em;box-sizing: border-box;margin-bottom: 0.5em;}#sk-container-id-2 div.sk-estimator:hover {background-color: #d4ebff;}#sk-container-id-2 div.sk-parallel-item::after {content: \"\";width: 100%;border-bottom: 1px solid gray;flex-grow: 1;}#sk-container-id-2 div.sk-label:hover label.sk-toggleable__label {background-color: #d4ebff;}#sk-container-id-2 div.sk-serial::before {content: \"\";position: absolute;border-left: 1px solid gray;box-sizing: border-box;top: 0;bottom: 0;left: 50%;z-index: 0;}#sk-container-id-2 div.sk-serial {display: flex;flex-direction: column;align-items: center;background-color: white;padding-right: 0.2em;padding-left: 0.2em;position: relative;}#sk-container-id-2 div.sk-item {position: relative;z-index: 1;}#sk-container-id-2 div.sk-parallel {display: flex;align-items: stretch;justify-content: center;background-color: white;position: relative;}#sk-container-id-2 div.sk-item::before, #sk-container-id-2 div.sk-parallel-item::before {content: \"\";position: absolute;border-left: 1px solid gray;box-sizing: border-box;top: 0;bottom: 0;left: 50%;z-index: -1;}#sk-container-id-2 div.sk-parallel-item {display: flex;flex-direction: column;z-index: 1;position: relative;background-color: white;}#sk-container-id-2 div.sk-parallel-item:first-child::after {align-self: flex-end;width: 50%;}#sk-container-id-2 div.sk-parallel-item:last-child::after {align-self: flex-start;width: 50%;}#sk-container-id-2 div.sk-parallel-item:only-child::after {width: 0;}#sk-container-id-2 div.sk-dashed-wrapped {border: 1px dashed gray;margin: 0 0.4em 0.5em 0.4em;box-sizing: border-box;padding-bottom: 0.4em;background-color: white;}#sk-container-id-2 div.sk-label label {font-family: monospace;font-weight: bold;display: inline-block;line-height: 1.2em;}#sk-container-id-2 div.sk-label-container {text-align: center;}#sk-container-id-2 div.sk-container {/* jupyter's `normalize.less` sets `[hidden] { display: none; }` but bootstrap.min.css set `[hidden] { display: none !important; }` so we also need the `!important` here to be able to override the default hidden behavior on the sphinx rendered scikit-learn.org. See: https://github.com/scikit-learn/scikit-learn/issues/21755 */display: inline-block !important;position: relative;}#sk-container-id-2 div.sk-text-repr-fallback {display: none;}</style><div id=\"sk-container-id-2\" class=\"sk-top-container\"><div class=\"sk-text-repr-fallback\"><pre>DecisionTreeClassifier(max_depth=30, random_state=42)</pre><b>In a Jupyter environment, please rerun this cell to show the HTML representation or trust the notebook. <br />On GitHub, the HTML representation is unable to render, please try loading this page with nbviewer.org.</b></div><div class=\"sk-container\" hidden><div class=\"sk-item\"><div class=\"sk-estimator sk-toggleable\"><input class=\"sk-toggleable__control sk-hidden--visually\" id=\"sk-estimator-id-4\" type=\"checkbox\" checked><label for=\"sk-estimator-id-4\" class=\"sk-toggleable__label sk-toggleable__label-arrow\">DecisionTreeClassifier</label><div class=\"sk-toggleable__content\"><pre>DecisionTreeClassifier(max_depth=30, random_state=42)</pre></div></div></div></div></div>"
            ]
          },
          "metadata": {},
          "execution_count": 48
        }
      ]
    },
    {
      "cell_type": "code",
      "source": [
        "# Usando o classificador otimizado para prever as classes para os dados de teste\n",
        "y_pred = optimized_dt_clf.predict(X_test)  # Gera previsões para o conjunto de dados de teste (X_test) usando o classificador treinado (optimized_dt_clf)."
      ],
      "metadata": {
        "id": "evcDI2lARQh5"
      },
      "execution_count": null,
      "outputs": []
    },
    {
      "cell_type": "markdown",
      "source": [
        "**BREVE EXPLICAÇÃO SOBRE AS MÉTRICAS UTILIZADAS NESSE TRABALHO**\n",
        "\n",
        "\n",
        "**Accuracy (Acurácia):** proporção de previsões corretas feitas pelo modelo em relação ao total de previsões.\n",
        "\n",
        "**Precision (Precisão):**  é a proporção de previsões positivas corretas em relação ao total de previsões positivas feitas pelo modelo.\n",
        "\n",
        "**Recall (Revocação ou Sensibilidade):** é a proporção de verdadeiros positivos identificados corretamente em relação ao total de positivos reais.\n",
        "\n",
        "**F1-Score:** é a média harmônica entre a precisão e o recall. Ele fornece um equilíbrio entre essas duas métricas e é especialmente útil quando há uma distribuição desigual entre as classes.\n",
        "\n",
        "**Support (Suporte):** é o número de ocorrências de cada classe no conjunto de dados. Ele indica o tamanho da classe e ajuda a entender o equilíbrio das classes no dataset.\n",
        "\n",
        "**Matriz de Confusão:** é uma tabela que descreve o desempenho do modelo de classificação. Ela mostra o número de previsões corretas e incorretas agrupadas por classe. Principais componentes:\n",
        "- **Verdadeiros Positivos (TP):** Previsões corretas para a classe positiva.\n",
        "- **Falsos Positivos (FP):** Previsões incorretas para a classe positiva.\n",
        "- **Verdadeiros Negativos(TN):** Previsões corretas para a classe negativa.\n",
        "-**Falsos Negativos (FN):** Previsões incorretas para a classe negativa."
      ],
      "metadata": {
        "id": "A14MJbUGbZWq"
      }
    },
    {
      "cell_type": "code",
      "source": [
        "# Calculando a acurácia do modelo\n",
        "accuracy = accuracy_score(y_test, y_pred)  # Calcula a precisão do modelo comparando as previsões (y_pred) com as verdadeiras classes (y_test).\n",
        "\n",
        "# Calculando a matriz de confusão\n",
        "conf_matrix = confusion_matrix(y_test, y_pred)  # Gera a matriz de confusão que mostra o número de previsões verdadeiras e falsas para cada classe.\n",
        "\n",
        "# Gerando o relatório de classificação\n",
        "class_report = classification_report(y_test, y_pred)  # Cria um relatório detalhado das métricas de avaliação do modelo, incluindo precisão, recall e F1-score para cada classe.\n",
        "\n",
        "\n",
        "print(f\"Acurácia: {accuracy}\")\n",
        "print(\"Matriz de Confusão:\")\n",
        "print(conf_matrix)\n",
        "print(\"Relatório de Classificação:\")\n",
        "print(class_report)"
      ],
      "metadata": {
        "colab": {
          "base_uri": "https://localhost:8080/"
        },
        "id": "k6RRsgpHRSOw",
        "outputId": "00e5b787-26f0-42ac-f77d-c8b6eb765d7e"
      },
      "execution_count": null,
      "outputs": [
        {
          "output_type": "stream",
          "name": "stdout",
          "text": [
            "Acurácia: 0.8029387755102041\n",
            "Matriz de Confusão:\n",
            "[[1841   86  110]\n",
            " [  54 1624  375]\n",
            " [  94  488 1453]]\n",
            "Relatório de Classificação:\n",
            "              precision    recall  f1-score   support\n",
            "\n",
            "           0       0.93      0.90      0.91      2037\n",
            "           1       0.74      0.79      0.76      2053\n",
            "           2       0.75      0.71      0.73      2035\n",
            "\n",
            "    accuracy                           0.80      6125\n",
            "   macro avg       0.80      0.80      0.80      6125\n",
            "weighted avg       0.80      0.80      0.80      6125\n",
            "\n"
          ]
        }
      ]
    },
    {
      "cell_type": "code",
      "source": [
        "cm = confusion_matrix(y_test, y_pred)\n",
        "\n",
        "plt.figure(figsize=(6, 5))\n",
        "sns.heatmap(cm, annot=True, fmt='d', cmap='Blues', xticklabels=label_encoder.classes_, yticklabels=label_encoder.classes_)\n",
        "plt.xlabel('Predicted')\n",
        "plt.ylabel('True')\n",
        "plt.title('Matriz de Confusão (Árvore de Decisão)')\n",
        "plt.show()"
      ],
      "metadata": {
        "colab": {
          "base_uri": "https://localhost:8080/",
          "height": 488
        },
        "id": "b-f5eNatRlcY",
        "outputId": "e68c7f5c-3955-4da8-e10c-7e061c0f2d76"
      },
      "execution_count": null,
      "outputs": [
        {
          "output_type": "display_data",
          "data": {
            "text/plain": [
              "<Figure size 600x500 with 2 Axes>"
            ],
            "image/png": "[encoded data removed]"
          },
          "metadata": {}
        }
      ]
    },
    {
      "cell_type": "code",
      "source": [
        "tree.plot_tree(optimized_dt_clf)"
      ],
      "metadata": {
        "colab": {
          "base_uri": "https://localhost:8080/",
          "height": 1000
        },
        "collapsed": true,
        "id": "PIbC9UIGPOKe",
        "outputId": "528a615c-5e28-4df7-b141-aed007a7aabc"
      },
      "execution_count": null,
      "outputs": [
        {
          "output_type": "execute_result",
          "data": {
            "text/plain": [
              "[Text(0.7861462636998091, 0.9838709677419355, 'x[14] <= 0.059\\ngini = 0.667\\nsamples = 24496\\nvalue = [8170, 8154, 8172]'),\n",
              " Text(0.6377104128240301, 0.9516129032258065, 'x[14] <= 0.026\\ngini = 0.593\\nsamples = 15431\\nvalue = [1753, 7167, 6511]'),\n",
              " Text(0.4442322671708034, 0.9193548387096774, 'x[10] <= 0.5\\ngini = 0.559\\nsamples = 11666\\nvalue = [772, 5202, 5692]'),\n",
              " Text(0.17048226744738512, 0.8870967741935484, 'x[14] <= 0.001\\ngini = 0.54\\nsamples = 9704\\nvalue = [421, 4792, 4491]'),\n",
              " Text(0.0434211641516194, 0.8548387096774194, 'x[14] <= 0.0\\ngini = 0.494\\nsamples = 1188\\nvalue = [10, 490, 688]'),\n",
              " Text(0.02120325460086065, 0.8225806451612904, 'x[13] <= 0.5\\ngini = 0.509\\nsamples = 877\\nvalue = [8, 429, 440]'),\n",
              " Text(0.010448008444702991, 0.7903225806451613, 'x[3] <= 0.5\\ngini = 0.471\\nsamples = 200\\nvalue = [2, 71, 127]'),\n",
              " Text(0.00887618416541139, 0.7580645161290323, 'x[2] <= 0.5\\ngini = 0.458\\nsamples = 192\\nvalue = [2, 64, 126]'),\n",
              " Text(0.006472217620612472, 0.7258064516129032, 'x[15] <= 0.623\\ngini = 0.494\\nsamples = 103\\nvalue = [0, 46, 57]'),\n",
              " Text(0.0048079330895978364, 0.6935483870967742, 'x[1] <= 0.5\\ngini = 0.481\\nsamples = 92\\nvalue = [0, 37, 55]'),\n",
              " Text(0.0022190460413528475, 0.6612903225806451, 'x[11] <= 0.5\\ngini = 0.453\\nsamples = 78\\nvalue = [0, 27, 51]'),\n",
              " Text(0.00197248537009142, 0.6290322580645161, 'x[15] <= 0.501\\ngini = 0.481\\nsamples = 67\\nvalue = [0, 27, 40]'),\n",
              " Text(0.000493121342522855, 0.5967741935483871, 'x[15] <= 0.418\\ngini = 0.497\\nsamples = 28\\nvalue = [0, 15, 13]'),\n",
              " Text(0.0002465606712614275, 0.5645161290322581, 'gini = 0.0\\nsamples = 3\\nvalue = [0, 0, 3]'),\n",
              " Text(0.0007396820137842825, 0.5645161290322581, 'x[15] <= 0.448\\ngini = 0.48\\nsamples = 25\\nvalue = [0, 15, 10]'),\n",
              " Text(0.000493121342522855, 0.532258064516129, 'gini = 0.375\\nsamples = 12\\nvalue = [0, 9, 3]'),\n",
              " Text(0.00098624268504571, 0.532258064516129, 'x[8] <= 0.5\\ngini = 0.497\\nsamples = 13\\nvalue = [0, 6, 7]'),\n",
              " Text(0.0007396820137842825, 0.5, 'gini = 0.0\\nsamples = 2\\nvalue = [0, 2, 0]'),\n",
              " Text(0.0012328033563071376, 0.5, 'x[15] <= 0.492\\ngini = 0.463\\nsamples = 11\\nvalue = [0, 4, 7]'),\n",
              " Text(0.00098624268504571, 0.46774193548387094, 'x[15] <= 0.481\\ngini = 0.48\\nsamples = 10\\nvalue = [0, 4, 6]'),\n",
              " Text(0.0007396820137842825, 0.43548387096774194, 'x[15] <= 0.457\\ngini = 0.444\\nsamples = 9\\nvalue = [0, 3, 6]'),\n",
              " Text(0.000493121342522855, 0.4032258064516129, 'gini = 0.375\\nsamples = 4\\nvalue = [0, 1, 3]'),\n",
              " Text(0.00098624268504571, 0.4032258064516129, 'x[15] <= 0.465\\ngini = 0.48\\nsamples = 5\\nvalue = [0, 2, 3]'),\n",
              " Text(0.0007396820137842825, 0.3709677419354839, 'gini = 0.5\\nsamples = 2\\nvalue = [0, 1, 1]'),\n",
              " Text(0.0012328033563071376, 0.3709677419354839, 'gini = 0.444\\nsamples = 3\\nvalue = [0, 1, 2]'),\n",
              " Text(0.0012328033563071376, 0.43548387096774194, 'gini = 0.0\\nsamples = 1\\nvalue = [0, 1, 0]'),\n",
              " Text(0.001479364027568565, 0.46774193548387094, 'gini = 0.0\\nsamples = 1\\nvalue = [0, 0, 1]'),\n",
              " Text(0.003451849397659985, 0.5967741935483871, 'x[15] <= 0.564\\ngini = 0.426\\nsamples = 39\\nvalue = [0, 12, 27]'),\n",
              " Text(0.0024656067126142753, 0.5645161290322581, 'x[15] <= 0.519\\ngini = 0.32\\nsamples = 15\\nvalue = [0, 3, 12]'),\n",
              " Text(0.00197248537009142, 0.532258064516129, 'x[15] <= 0.511\\ngini = 0.48\\nsamples = 5\\nvalue = [0, 2, 3]'),\n",
              " Text(0.0017259246988299926, 0.5, 'gini = 0.0\\nsamples = 1\\nvalue = [0, 0, 1]'),\n",
              " Text(0.0022190460413528475, 0.5, 'gini = 0.5\\nsamples = 4\\nvalue = [0, 2, 2]'),\n",
              " Text(0.00295872805513713, 0.532258064516129, 'x[15] <= 0.542\\ngini = 0.18\\nsamples = 10\\nvalue = [0, 1, 9]'),\n",
              " Text(0.0027121673838757026, 0.5, 'x[15] <= 0.538\\ngini = 0.32\\nsamples = 5\\nvalue = [0, 1, 4]'),\n",
              " Text(0.0024656067126142753, 0.46774193548387094, 'gini = 0.0\\nsamples = 4\\nvalue = [0, 0, 4]'),\n",
              " Text(0.00295872805513713, 0.46774193548387094, 'gini = 0.0\\nsamples = 1\\nvalue = [0, 1, 0]'),\n",
              " Text(0.0032052887263985578, 0.5, 'gini = 0.0\\nsamples = 5\\nvalue = [0, 0, 5]'),\n",
              " Text(0.004438092082705695, 0.5645161290322581, 'x[15] <= 0.572\\ngini = 0.469\\nsamples = 24\\nvalue = [0, 9, 15]'),\n",
              " Text(0.00394497074018284, 0.532258064516129, 'x[15] <= 0.568\\ngini = 0.444\\nsamples = 6\\nvalue = [0, 4, 2]'),\n",
              " Text(0.0036984100689214125, 0.5, 'gini = 0.0\\nsamples = 1\\nvalue = [0, 1, 0]'),\n",
              " Text(0.004191531411444268, 0.5, 'gini = 0.48\\nsamples = 5\\nvalue = [0, 3, 2]'),\n",
              " Text(0.0049312134252285506, 0.532258064516129, 'x[15] <= 0.583\\ngini = 0.401\\nsamples = 18\\nvalue = [0, 5, 13]'),\n",
              " Text(0.004684652753967122, 0.5, 'gini = 0.0\\nsamples = 6\\nvalue = [0, 0, 6]'),\n",
              " Text(0.005177774096489978, 0.5, 'x[15] <= 0.61\\ngini = 0.486\\nsamples = 12\\nvalue = [0, 5, 7]'),\n",
              " Text(0.0049312134252285506, 0.46774193548387094, 'x[15] <= 0.602\\ngini = 0.496\\nsamples = 11\\nvalue = [0, 5, 6]'),\n",
              " Text(0.004438092082705695, 0.43548387096774194, 'x[15] <= 0.593\\ngini = 0.469\\nsamples = 8\\nvalue = [0, 3, 5]'),\n",
              " Text(0.004191531411444268, 0.4032258064516129, 'x[7] <= 0.5\\ngini = 0.5\\nsamples = 6\\nvalue = [0, 3, 3]'),\n",
              " Text(0.00394497074018284, 0.3709677419354839, 'gini = 0.5\\nsamples = 4\\nvalue = [0, 2, 2]'),\n",
              " Text(0.004438092082705695, 0.3709677419354839, 'gini = 0.5\\nsamples = 2\\nvalue = [0, 1, 1]'),\n",
              " Text(0.004684652753967122, 0.4032258064516129, 'gini = 0.0\\nsamples = 2\\nvalue = [0, 0, 2]'),\n",
              " Text(0.005424334767751405, 0.43548387096774194, 'x[7] <= 0.5\\ngini = 0.444\\nsamples = 3\\nvalue = [0, 2, 1]'),\n",
              " Text(0.005177774096489978, 0.4032258064516129, 'gini = 0.0\\nsamples = 2\\nvalue = [0, 2, 0]'),\n",
              " Text(0.005670895439012833, 0.4032258064516129, 'gini = 0.0\\nsamples = 1\\nvalue = [0, 0, 1]'),\n",
              " Text(0.005424334767751405, 0.46774193548387094, 'gini = 0.0\\nsamples = 1\\nvalue = [0, 0, 1]'),\n",
              " Text(0.0024656067126142753, 0.6290322580645161, 'gini = 0.0\\nsamples = 11\\nvalue = [0, 0, 11]'),\n",
              " Text(0.007396820137842825, 0.6612903225806451, 'x[15] <= 0.608\\ngini = 0.408\\nsamples = 14\\nvalue = [0, 10, 4]'),\n",
              " Text(0.007150259466581398, 0.6290322580645161, 'x[15] <= 0.582\\ngini = 0.355\\nsamples = 13\\nvalue = [0, 10, 3]'),\n",
              " Text(0.00690369879531997, 0.5967741935483871, 'x[15] <= 0.565\\ngini = 0.42\\nsamples = 10\\nvalue = [0, 7, 3]'),\n",
              " Text(0.006657138124058543, 0.5645161290322581, 'x[15] <= 0.54\\ngini = 0.346\\nsamples = 9\\nvalue = [0, 7, 2]'),\n",
              " Text(0.0064105774527971155, 0.532258064516129, 'x[12] <= 0.5\\ngini = 0.444\\nsamples = 6\\nvalue = [0, 4, 2]'),\n",
              " Text(0.006164016781535687, 0.5, 'x[15] <= 0.522\\ngini = 0.32\\nsamples = 5\\nvalue = [0, 4, 1]'),\n",
              " Text(0.00591745611027426, 0.46774193548387094, 'gini = 0.0\\nsamples = 4\\nvalue = [0, 4, 0]'),\n",
              " Text(0.0064105774527971155, 0.46774193548387094, 'gini = 0.0\\nsamples = 1\\nvalue = [0, 0, 1]'),\n",
              " Text(0.006657138124058543, 0.5, 'gini = 0.0\\nsamples = 1\\nvalue = [0, 0, 1]'),\n",
              " Text(0.00690369879531997, 0.532258064516129, 'gini = 0.0\\nsamples = 3\\nvalue = [0, 3, 0]'),\n",
              " Text(0.007150259466581398, 0.5645161290322581, 'gini = 0.0\\nsamples = 1\\nvalue = [0, 0, 1]'),\n",
              " Text(0.007396820137842825, 0.5967741935483871, 'gini = 0.0\\nsamples = 3\\nvalue = [0, 3, 0]'),\n",
              " Text(0.007643380809104253, 0.6290322580645161, 'gini = 0.0\\nsamples = 1\\nvalue = [0, 0, 1]'),\n",
              " Text(0.008136502151627107, 0.6935483870967742, 'x[15] <= 0.636\\ngini = 0.298\\nsamples = 11\\nvalue = [0, 9, 2]'),\n",
              " Text(0.00788994148036568, 0.6612903225806451, 'gini = 0.0\\nsamples = 8\\nvalue = [0, 8, 0]'),\n",
              " Text(0.008383062822888535, 0.6612903225806451, 'x[1] <= 0.5\\ngini = 0.444\\nsamples = 3\\nvalue = [0, 1, 2]'),\n",
              " Text(0.008136502151627107, 0.6290322580645161, 'x[15] <= 0.655\\ngini = 0.5\\nsamples = 2\\nvalue = [0, 1, 1]'),\n",
              " Text(0.00788994148036568, 0.5967741935483871, 'gini = 0.0\\nsamples = 1\\nvalue = [0, 0, 1]'),\n",
              " Text(0.008383062822888535, 0.5967741935483871, 'gini = 0.0\\nsamples = 1\\nvalue = [0, 1, 0]'),\n",
              " Text(0.008629623494149963, 0.6290322580645161, 'gini = 0.0\\nsamples = 1\\nvalue = [0, 0, 1]'),\n",
              " Text(0.011280150710210308, 0.7258064516129032, 'x[6] <= 0.5\\ngini = 0.358\\nsamples = 89\\nvalue = [2, 18, 69]'),\n",
              " Text(0.009862426850457101, 0.6935483870967742, 'x[0] <= 0.5\\ngini = 0.282\\nsamples = 72\\nvalue = [1, 11, 60]'),\n",
              " Text(0.009369305507934245, 0.6612903225806451, 'x[15] <= 0.671\\ngini = 0.526\\nsamples = 21\\nvalue = [1, 8, 12]'),\n",
              " Text(0.009122744836672818, 0.6290322580645161, 'x[15] <= 0.599\\ngini = 0.554\\nsamples = 17\\nvalue = [1, 8, 8]'),\n",
              " Text(0.00887618416541139, 0.5967741935483871, 'x[15] <= 0.34\\ngini = 0.521\\nsamples = 13\\nvalue = [1, 4, 8]'),\n",
              " Text(0.008629623494149963, 0.5645161290322581, 'gini = 0.0\\nsamples = 1\\nvalue = [1, 0, 0]'),\n",
              " Text(0.009122744836672818, 0.5645161290322581, 'x[5] <= 0.5\\ngini = 0.444\\nsamples = 12\\nvalue = [0, 4, 8]'),\n",
              " Text(0.008629623494149963, 0.532258064516129, 'x[7] <= 0.5\\ngini = 0.444\\nsamples = 3\\nvalue = [0, 2, 1]'),\n",
              " Text(0.008383062822888535, 0.5, 'gini = 0.0\\nsamples = 1\\nvalue = [0, 0, 1]'),\n",
              " Text(0.00887618416541139, 0.5, 'gini = 0.0\\nsamples = 2\\nvalue = [0, 2, 0]'),\n",
              " Text(0.009615866179195673, 0.532258064516129, 'x[15] <= 0.559\\ngini = 0.346\\nsamples = 9\\nvalue = [0, 2, 7]'),\n",
              " Text(0.009369305507934245, 0.5, 'gini = 0.0\\nsamples = 5\\nvalue = [0, 0, 5]'),\n",
              " Text(0.009862426850457101, 0.5, 'x[15] <= 0.565\\ngini = 0.5\\nsamples = 4\\nvalue = [0, 2, 2]'),\n",
              " Text(0.009615866179195673, 0.46774193548387094, 'gini = 0.0\\nsamples = 2\\nvalue = [0, 2, 0]'),\n",
              " Text(0.010108987521718528, 0.46774193548387094, 'gini = 0.0\\nsamples = 2\\nvalue = [0, 0, 2]'),\n",
              " Text(0.009369305507934245, 0.5967741935483871, 'gini = 0.0\\nsamples = 4\\nvalue = [0, 4, 0]'),\n",
              " Text(0.009615866179195673, 0.6290322580645161, 'gini = 0.0\\nsamples = 4\\nvalue = [0, 0, 4]'),\n",
              " Text(0.010355548192979956, 0.6612903225806451, 'x[8] <= 0.5\\ngini = 0.111\\nsamples = 51\\nvalue = [0, 3, 48]'),\n",
              " Text(0.010108987521718528, 0.6290322580645161, 'gini = 0.0\\nsamples = 21\\nvalue = [0, 0, 21]'),\n",
              " Text(0.010602108864241382, 0.6290322580645161, 'x[15] <= 0.117\\ngini = 0.18\\nsamples = 30\\nvalue = [0, 3, 27]'),\n",
              " Text(0.010355548192979956, 0.5967741935483871, 'gini = 0.0\\nsamples = 5\\nvalue = [0, 0, 5]'),\n",
              " Text(0.01084866953550281, 0.5967741935483871, 'x[15] <= 0.277\\ngini = 0.211\\nsamples = 25\\nvalue = [0, 3, 22]'),\n",
              " Text(0.010602108864241382, 0.5645161290322581, 'gini = 0.0\\nsamples = 1\\nvalue = [0, 1, 0]'),\n",
              " Text(0.011095230206764239, 0.5645161290322581, 'x[15] <= 0.509\\ngini = 0.153\\nsamples = 24\\nvalue = [0, 2, 22]'),\n",
              " Text(0.01084866953550281, 0.532258064516129, 'gini = 0.0\\nsamples = 8\\nvalue = [0, 0, 8]'),\n",
              " Text(0.011341790878025665, 0.532258064516129, 'x[15] <= 0.52\\ngini = 0.219\\nsamples = 16\\nvalue = [0, 2, 14]'),\n",
              " Text(0.011095230206764239, 0.5, 'gini = 0.0\\nsamples = 1\\nvalue = [0, 1, 0]'),\n",
              " Text(0.011588351549287093, 0.5, 'x[15] <= 0.578\\ngini = 0.124\\nsamples = 15\\nvalue = [0, 1, 14]'),\n",
              " Text(0.011341790878025665, 0.46774193548387094, 'gini = 0.0\\nsamples = 8\\nvalue = [0, 0, 8]'),\n",
              " Text(0.01183491222054852, 0.46774193548387094, 'x[15] <= 0.587\\ngini = 0.245\\nsamples = 7\\nvalue = [0, 1, 6]'),\n",
              " Text(0.011588351549287093, 0.43548387096774194, 'gini = 0.444\\nsamples = 3\\nvalue = [0, 1, 2]'),\n",
              " Text(0.012081472891809948, 0.43548387096774194, 'gini = 0.0\\nsamples = 4\\nvalue = [0, 0, 4]'),\n",
              " Text(0.012697874569963517, 0.6935483870967742, 'x[15] <= 0.48\\ngini = 0.547\\nsamples = 17\\nvalue = [1, 7, 9]'),\n",
              " Text(0.012081472891809948, 0.6612903225806451, 'x[15] <= 0.103\\ngini = 0.298\\nsamples = 11\\nvalue = [0, 2, 9]'),\n",
              " Text(0.011588351549287093, 0.6290322580645161, 'x[12] <= 0.5\\ngini = 0.5\\nsamples = 2\\nvalue = [0, 1, 1]'),\n",
              " Text(0.011341790878025665, 0.5967741935483871, 'gini = 0.0\\nsamples = 1\\nvalue = [0, 1, 0]'),\n",
              " Text(0.01183491222054852, 0.5967741935483871, 'gini = 0.0\\nsamples = 1\\nvalue = [0, 0, 1]'),\n",
              " Text(0.012574594234332803, 0.6290322580645161, 'x[15] <= 0.242\\ngini = 0.198\\nsamples = 9\\nvalue = [0, 1, 8]'),\n",
              " Text(0.012328033563071375, 0.5967741935483871, 'gini = 0.0\\nsamples = 4\\nvalue = [0, 0, 4]'),\n",
              " Text(0.012821154905594231, 0.5967741935483871, 'x[15] <= 0.279\\ngini = 0.32\\nsamples = 5\\nvalue = [0, 1, 4]'),\n",
              " Text(0.012574594234332803, 0.5645161290322581, 'gini = 0.0\\nsamples = 1\\nvalue = [0, 1, 0]'),\n",
              " Text(0.013067715576855658, 0.5645161290322581, 'gini = 0.0\\nsamples = 4\\nvalue = [0, 0, 4]'),\n",
              " Text(0.013314276248117086, 0.6612903225806451, 'x[15] <= 0.596\\ngini = 0.278\\nsamples = 6\\nvalue = [1, 5, 0]'),\n",
              " Text(0.013067715576855658, 0.6290322580645161, 'gini = 0.0\\nsamples = 5\\nvalue = [0, 5, 0]'),\n",
              " Text(0.013560836919378512, 0.6290322580645161, 'gini = 0.0\\nsamples = 1\\nvalue = [1, 0, 0]'),\n",
              " Text(0.012019832723994591, 0.7580645161290323, 'x[15] <= 0.513\\ngini = 0.219\\nsamples = 8\\nvalue = [0, 7, 1]'),\n",
              " Text(0.011773272052733163, 0.7258064516129032, 'gini = 0.0\\nsamples = 7\\nvalue = [0, 7, 0]'),\n",
              " Text(0.01226639339525602, 0.7258064516129032, 'gini = 0.0\\nsamples = 1\\nvalue = [0, 0, 1]'),\n",
              " Text(0.03195850075701831, 0.7903225806451613, 'x[15] <= 0.527\\ngini = 0.507\\nsamples = 677\\nvalue = [6, 358, 313]'),\n",
              " Text(0.024297783650715988, 0.7580645161290323, 'x[12] <= 0.5\\ngini = 0.471\\nsamples = 283\\nvalue = [4, 181, 98]'),\n",
              " Text(0.01839188507190711, 0.7258064516129032, 'x[15] <= 0.026\\ngini = 0.49\\nsamples = 248\\nvalue = [4, 150, 94]'),\n",
              " Text(0.014547079604424223, 0.6935483870967742, 'x[8] <= 0.5\\ngini = 0.298\\nsamples = 11\\nvalue = [0, 2, 9]'),\n",
              " Text(0.014300518933162795, 0.6612903225806451, 'x[5] <= 0.5\\ngini = 0.444\\nsamples = 3\\nvalue = [0, 2, 1]'),\n",
              " Text(0.014053958261901369, 0.6290322580645161, 'gini = 0.0\\nsamples = 1\\nvalue = [0, 0, 1]'),\n",
              " Text(0.014547079604424223, 0.6290322580645161, 'gini = 0.0\\nsamples = 2\\nvalue = [0, 2, 0]'),\n",
              " Text(0.01479364027568565, 0.6612903225806451, 'gini = 0.0\\nsamples = 8\\nvalue = [0, 0, 8]'),\n",
              " Text(0.022236690539389994, 0.6935483870967742, 'x[2] <= 0.5\\ngini = 0.481\\nsamples = 237\\nvalue = [4, 148, 85]'),\n",
              " Text(0.01702809635899234, 0.6612903225806451, 'x[15] <= 0.367\\ngini = 0.427\\nsamples = 145\\nvalue = [1, 101, 43]'),\n",
              " Text(0.015040200946947078, 0.6290322580645161, 'x[5] <= 0.5\\ngini = 0.491\\nsamples = 17\\nvalue = [1, 5, 11]'),\n",
              " Text(0.014547079604424223, 0.5967741935483871, 'x[0] <= 0.5\\ngini = 0.165\\nsamples = 11\\nvalue = [0, 1, 10]'),\n",
              " Text(0.014300518933162795, 0.5645161290322581, 'x[15] <= 0.297\\ngini = 0.444\\nsamples = 3\\nvalue = [0, 1, 2]'),\n",
              " Text(0.014053958261901369, 0.532258064516129, 'gini = 0.0\\nsamples = 1\\nvalue = [0, 0, 1]'),\n",
              " Text(0.014547079604424223, 0.532258064516129, 'x[15] <= 0.302\\ngini = 0.5\\nsamples = 2\\nvalue = [0, 1, 1]'),\n",
              " Text(0.014300518933162795, 0.5, 'gini = 0.0\\nsamples = 1\\nvalue = [0, 1, 0]'),\n",
              " Text(0.01479364027568565, 0.5, 'gini = 0.0\\nsamples = 1\\nvalue = [0, 0, 1]'),\n",
              " Text(0.01479364027568565, 0.5645161290322581, 'gini = 0.0\\nsamples = 8\\nvalue = [0, 0, 8]'),\n",
              " Text(0.015533322289469933, 0.5967741935483871, 'x[11] <= 0.5\\ngini = 0.5\\nsamples = 6\\nvalue = [1, 4, 1]'),\n",
              " Text(0.015286761618208506, 0.5645161290322581, 'x[15] <= 0.296\\ngini = 0.32\\nsamples = 5\\nvalue = [0, 4, 1]'),\n",
              " Text(0.015040200946947078, 0.532258064516129, 'gini = 0.444\\nsamples = 3\\nvalue = [0, 2, 1]'),\n",
              " Text(0.015533322289469933, 0.532258064516129, 'gini = 0.0\\nsamples = 2\\nvalue = [0, 2, 0]'),\n",
              " Text(0.01577988296073136, 0.5645161290322581, 'gini = 0.0\\nsamples = 1\\nvalue = [1, 0, 0]'),\n",
              " Text(0.019015991771037598, 0.6290322580645161, 'x[0] <= 0.5\\ngini = 0.375\\nsamples = 128\\nvalue = [0, 96, 32]'),\n",
              " Text(0.01756744782737671, 0.5967741935483871, 'x[5] <= 0.5\\ngini = 0.48\\nsamples = 60\\nvalue = [0, 36, 24]'),\n",
              " Text(0.016642845310146356, 0.5645161290322581, 'x[15] <= 0.519\\ngini = 0.487\\nsamples = 31\\nvalue = [0, 13, 18]'),\n",
              " Text(0.01602644363199279, 0.532258064516129, 'x[15] <= 0.482\\ngini = 0.453\\nsamples = 26\\nvalue = [0, 9, 17]'),\n",
              " Text(0.015533322289469933, 0.5, 'x[15] <= 0.44\\ngini = 0.5\\nsamples = 14\\nvalue = [0, 7, 7]'),\n",
              " Text(0.015286761618208506, 0.46774193548387094, 'gini = 0.0\\nsamples = 2\\nvalue = [0, 0, 2]'),\n",
              " Text(0.01577988296073136, 0.46774193548387094, 'x[11] <= 0.5\\ngini = 0.486\\nsamples = 12\\nvalue = [0, 7, 5]'),\n",
              " Text(0.015533322289469933, 0.43548387096774194, 'gini = 0.0\\nsamples = 2\\nvalue = [0, 0, 2]'),\n",
              " Text(0.01602644363199279, 0.43548387096774194, 'x[7] <= 0.5\\ngini = 0.42\\nsamples = 10\\nvalue = [0, 7, 3]'),\n",
              " Text(0.01577988296073136, 0.4032258064516129, 'x[15] <= 0.457\\ngini = 0.444\\nsamples = 9\\nvalue = [0, 6, 3]'),\n",
              " Text(0.015533322289469933, 0.3709677419354839, 'x[15] <= 0.449\\ngini = 0.408\\nsamples = 7\\nvalue = [0, 5, 2]'),\n",
              " Text(0.015286761618208506, 0.3387096774193548, 'gini = 0.375\\nsamples = 4\\nvalue = [0, 3, 1]'),\n",
              " Text(0.01577988296073136, 0.3387096774193548, 'gini = 0.444\\nsamples = 3\\nvalue = [0, 2, 1]'),\n",
              " Text(0.01602644363199279, 0.3709677419354839, 'gini = 0.5\\nsamples = 2\\nvalue = [0, 1, 1]'),\n",
              " Text(0.016273004303254214, 0.4032258064516129, 'gini = 0.0\\nsamples = 1\\nvalue = [0, 1, 0]'),\n",
              " Text(0.016519564974515642, 0.5, 'x[15] <= 0.515\\ngini = 0.278\\nsamples = 12\\nvalue = [0, 2, 10]'),\n",
              " Text(0.016273004303254214, 0.46774193548387094, 'gini = 0.0\\nsamples = 5\\nvalue = [0, 0, 5]'),\n",
              " Text(0.01676612564577707, 0.46774193548387094, 'x[11] <= 0.5\\ngini = 0.408\\nsamples = 7\\nvalue = [0, 2, 5]'),\n",
              " Text(0.016519564974515642, 0.43548387096774194, 'gini = 0.375\\nsamples = 4\\nvalue = [0, 1, 3]'),\n",
              " Text(0.0170126863170385, 0.43548387096774194, 'gini = 0.444\\nsamples = 3\\nvalue = [0, 1, 2]'),\n",
              " Text(0.017259246988299927, 0.532258064516129, 'x[15] <= 0.525\\ngini = 0.32\\nsamples = 5\\nvalue = [0, 4, 1]'),\n",
              " Text(0.0170126863170385, 0.5, 'gini = 0.0\\nsamples = 4\\nvalue = [0, 4, 0]'),\n",
              " Text(0.01750580765956135, 0.5, 'gini = 0.0\\nsamples = 1\\nvalue = [0, 0, 1]'),\n",
              " Text(0.018492050344607065, 0.5645161290322581, 'x[15] <= 0.525\\ngini = 0.328\\nsamples = 29\\nvalue = [0, 23, 6]'),\n",
              " Text(0.018245489673345636, 0.532258064516129, 'x[15] <= 0.51\\ngini = 0.293\\nsamples = 28\\nvalue = [0, 23, 5]'),\n",
              " Text(0.017998929002084208, 0.5, 'gini = 0.0\\nsamples = 9\\nvalue = [0, 9, 0]'),\n",
              " Text(0.018492050344607065, 0.5, 'x[8] <= 0.5\\ngini = 0.388\\nsamples = 19\\nvalue = [0, 14, 5]'),\n",
              " Text(0.018245489673345636, 0.46774193548387094, 'gini = 0.0\\nsamples = 1\\nvalue = [0, 0, 1]'),\n",
              " Text(0.01873861101586849, 0.46774193548387094, 'x[4] <= 0.5\\ngini = 0.346\\nsamples = 18\\nvalue = [0, 14, 4]'),\n",
              " Text(0.018492050344607065, 0.43548387096774194, 'gini = 0.0\\nsamples = 4\\nvalue = [0, 4, 0]'),\n",
              " Text(0.018985171687129918, 0.43548387096774194, 'x[15] <= 0.519\\ngini = 0.408\\nsamples = 14\\nvalue = [0, 10, 4]'),\n",
              " Text(0.01873861101586849, 0.4032258064516129, 'x[11] <= 0.5\\ngini = 0.463\\nsamples = 11\\nvalue = [0, 7, 4]'),\n",
              " Text(0.018492050344607065, 0.3709677419354839, 'gini = 0.48\\nsamples = 10\\nvalue = [0, 6, 4]'),\n",
              " Text(0.018985171687129918, 0.3709677419354839, 'gini = 0.0\\nsamples = 1\\nvalue = [0, 1, 0]'),\n",
              " Text(0.019231732358391346, 0.4032258064516129, 'gini = 0.0\\nsamples = 3\\nvalue = [0, 3, 0]'),\n",
              " Text(0.01873861101586849, 0.532258064516129, 'gini = 0.0\\nsamples = 1\\nvalue = [0, 0, 1]'),\n",
              " Text(0.020464535714698483, 0.5967741935483871, 'x[8] <= 0.5\\ngini = 0.208\\nsamples = 68\\nvalue = [0, 60, 8]'),\n",
              " Text(0.019724853700914202, 0.5645161290322581, 'x[15] <= 0.515\\ngini = 0.081\\nsamples = 47\\nvalue = [0, 45, 2]'),\n",
              " Text(0.019231732358391346, 0.532258064516129, 'x[15] <= 0.485\\ngini = 0.044\\nsamples = 44\\nvalue = [0, 43, 1]'),\n",
              " Text(0.018985171687129918, 0.5, 'gini = 0.0\\nsamples = 32\\nvalue = [0, 32, 0]'),\n",
              " Text(0.019478293029652774, 0.5, 'x[15] <= 0.496\\ngini = 0.153\\nsamples = 12\\nvalue = [0, 11, 1]'),\n",
              " Text(0.019231732358391346, 0.46774193548387094, 'gini = 0.32\\nsamples = 5\\nvalue = [0, 4, 1]'),\n",
              " Text(0.019724853700914202, 0.46774193548387094, 'gini = 0.0\\nsamples = 7\\nvalue = [0, 7, 0]'),\n",
              " Text(0.020217975043437055, 0.532258064516129, 'x[15] <= 0.524\\ngini = 0.444\\nsamples = 3\\nvalue = [0, 2, 1]'),\n",
              " Text(0.019971414372175627, 0.5, 'gini = 0.5\\nsamples = 2\\nvalue = [0, 1, 1]'),\n",
              " Text(0.020464535714698483, 0.5, 'gini = 0.0\\nsamples = 1\\nvalue = [0, 1, 0]'),\n",
              " Text(0.021204217728482765, 0.5645161290322581, 'x[15] <= 0.445\\ngini = 0.408\\nsamples = 21\\nvalue = [0, 15, 6]'),\n",
              " Text(0.02095765705722134, 0.532258064516129, 'gini = 0.0\\nsamples = 6\\nvalue = [0, 6, 0]'),\n",
              " Text(0.021450778399744193, 0.532258064516129, 'x[15] <= 0.46\\ngini = 0.48\\nsamples = 15\\nvalue = [0, 9, 6]'),\n",
              " Text(0.02095765705722134, 0.5, 'x[15] <= 0.447\\ngini = 0.375\\nsamples = 4\\nvalue = [0, 1, 3]'),\n",
              " Text(0.02071109638595991, 0.46774193548387094, 'gini = 0.444\\nsamples = 3\\nvalue = [0, 1, 2]'),\n",
              " Text(0.021204217728482765, 0.46774193548387094, 'gini = 0.0\\nsamples = 1\\nvalue = [0, 0, 1]'),\n",
              " Text(0.02194389974226705, 0.5, 'x[5] <= 0.5\\ngini = 0.397\\nsamples = 11\\nvalue = [0, 8, 3]'),\n",
              " Text(0.02169733907100562, 0.46774193548387094, 'x[15] <= 0.494\\ngini = 0.32\\nsamples = 10\\nvalue = [0, 8, 2]'),\n",
              " Text(0.021450778399744193, 0.43548387096774194, 'gini = 0.0\\nsamples = 5\\nvalue = [0, 5, 0]'),\n",
              " Text(0.02194389974226705, 0.43548387096774194, 'x[15] <= 0.518\\ngini = 0.48\\nsamples = 5\\nvalue = [0, 3, 2]'),\n",
              " Text(0.02169733907100562, 0.4032258064516129, 'x[15] <= 0.512\\ngini = 0.444\\nsamples = 3\\nvalue = [0, 1, 2]'),\n",
              " Text(0.021450778399744193, 0.3709677419354839, 'gini = 0.5\\nsamples = 2\\nvalue = [0, 1, 1]'),\n",
              " Text(0.02194389974226705, 0.3709677419354839, 'gini = 0.0\\nsamples = 1\\nvalue = [0, 0, 1]'),\n",
              " Text(0.022190460413528477, 0.4032258064516129, 'gini = 0.0\\nsamples = 2\\nvalue = [0, 2, 0]'),\n",
              " Text(0.022190460413528477, 0.46774193548387094, 'gini = 0.0\\nsamples = 1\\nvalue = [0, 0, 1]'),\n",
              " Text(0.02744528471978765, 0.6612903225806451, 'x[6] <= 0.5\\ngini = 0.53\\nsamples = 92\\nvalue = [3, 47, 42]'),\n",
              " Text(0.025549849559465425, 0.6290322580645161, 'x[15] <= 0.472\\ngini = 0.496\\nsamples = 52\\nvalue = [1, 20, 31]'),\n",
              " Text(0.02453278679051204, 0.5967741935483871, 'x[5] <= 0.5\\ngini = 0.392\\nsamples = 24\\nvalue = [1, 5, 18]'),\n",
              " Text(0.02366982444109704, 0.5645161290322581, 'x[0] <= 0.5\\ngini = 0.277\\nsamples = 19\\nvalue = [1, 2, 16]'),\n",
              " Text(0.023176703098574187, 0.532258064516129, 'x[15] <= 0.443\\ngini = 0.375\\nsamples = 8\\nvalue = [0, 2, 6]'),\n",
              " Text(0.02293014242731276, 0.5, 'x[15] <= 0.36\\ngini = 0.245\\nsamples = 7\\nvalue = [0, 1, 6]'),\n",
              " Text(0.02268358175605133, 0.46774193548387094, 'x[15] <= 0.323\\ngini = 0.444\\nsamples = 3\\nvalue = [0, 1, 2]'),\n",
              " Text(0.022437021084789902, 0.43548387096774194, 'gini = 0.0\\nsamples = 2\\nvalue = [0, 0, 2]'),\n",
              " Text(0.02293014242731276, 0.43548387096774194, 'gini = 0.0\\nsamples = 1\\nvalue = [0, 1, 0]'),\n",
              " Text(0.023176703098574187, 0.46774193548387094, 'gini = 0.0\\nsamples = 4\\nvalue = [0, 0, 4]'),\n",
              " Text(0.02342326376983561, 0.5, 'gini = 0.0\\nsamples = 1\\nvalue = [0, 1, 0]'),\n",
              " Text(0.024162945783619896, 0.532258064516129, 'x[15] <= 0.449\\ngini = 0.165\\nsamples = 11\\nvalue = [1, 0, 10]'),\n",
              " Text(0.023916385112358468, 0.5, 'x[15] <= 0.428\\ngini = 0.32\\nsamples = 5\\nvalue = [1, 0, 4]'),\n",
              " Text(0.02366982444109704, 0.46774193548387094, 'gini = 0.0\\nsamples = 2\\nvalue = [0, 0, 2]'),\n",
              " Text(0.024162945783619896, 0.46774193548387094, 'gini = 0.444\\nsamples = 3\\nvalue = [1, 0, 2]'),\n",
              " Text(0.024409506454881325, 0.5, 'gini = 0.0\\nsamples = 6\\nvalue = [0, 0, 6]'),\n",
              " Text(0.025395749139927034, 0.5645161290322581, 'x[0] <= 0.5\\ngini = 0.48\\nsamples = 5\\nvalue = [0, 3, 2]'),\n",
              " Text(0.025149188468665606, 0.532258064516129, 'x[4] <= 0.5\\ngini = 0.375\\nsamples = 4\\nvalue = [0, 3, 1]'),\n",
              " Text(0.024902627797404178, 0.5, 'gini = 0.0\\nsamples = 2\\nvalue = [0, 2, 0]'),\n",
              " Text(0.025395749139927034, 0.5, 'x[11] <= 0.5\\ngini = 0.5\\nsamples = 2\\nvalue = [0, 1, 1]'),\n",
              " Text(0.025149188468665606, 0.46774193548387094, 'gini = 0.0\\nsamples = 1\\nvalue = [0, 0, 1]'),\n",
              " Text(0.025642309811188462, 0.46774193548387094, 'gini = 0.0\\nsamples = 1\\nvalue = [0, 1, 0]'),\n",
              " Text(0.025642309811188462, 0.532258064516129, 'gini = 0.0\\nsamples = 1\\nvalue = [0, 0, 1]'),\n",
              " Text(0.026566912328418815, 0.5967741935483871, 'x[15] <= 0.478\\ngini = 0.497\\nsamples = 28\\nvalue = [0, 15, 13]'),\n",
              " Text(0.026320351657157386, 0.5645161290322581, 'gini = 0.0\\nsamples = 5\\nvalue = [0, 5, 0]'),\n",
              " Text(0.026813472999680243, 0.5645161290322581, 'x[4] <= 0.5\\ngini = 0.491\\nsamples = 23\\nvalue = [0, 10, 13]'),\n",
              " Text(0.026135431153711315, 0.532258064516129, 'x[15] <= 0.503\\ngini = 0.375\\nsamples = 4\\nvalue = [0, 3, 1]'),\n",
              " Text(0.025888870482449887, 0.5, 'gini = 0.0\\nsamples = 1\\nvalue = [0, 0, 1]'),\n",
              " Text(0.026381991824972743, 0.5, 'gini = 0.0\\nsamples = 3\\nvalue = [0, 3, 0]'),\n",
              " Text(0.027491514845649167, 0.532258064516129, 'x[15] <= 0.514\\ngini = 0.465\\nsamples = 19\\nvalue = [0, 7, 12]'),\n",
              " Text(0.0268751131674956, 0.5, 'x[15] <= 0.507\\ngini = 0.5\\nsamples = 12\\nvalue = [0, 6, 6]'),\n",
              " Text(0.02662855249623417, 0.46774193548387094, 'x[15] <= 0.497\\ngini = 0.48\\nsamples = 10\\nvalue = [0, 4, 6]'),\n",
              " Text(0.026135431153711315, 0.43548387096774194, 'x[15] <= 0.489\\ngini = 0.48\\nsamples = 5\\nvalue = [0, 3, 2]'),\n",
              " Text(0.025888870482449887, 0.4032258064516129, 'x[0] <= 0.5\\ngini = 0.444\\nsamples = 3\\nvalue = [0, 1, 2]'),\n",
              " Text(0.025642309811188462, 0.3709677419354839, 'gini = 0.0\\nsamples = 1\\nvalue = [0, 1, 0]'),\n",
              " Text(0.026135431153711315, 0.3709677419354839, 'gini = 0.0\\nsamples = 2\\nvalue = [0, 0, 2]'),\n",
              " Text(0.026381991824972743, 0.4032258064516129, 'gini = 0.0\\nsamples = 2\\nvalue = [0, 2, 0]'),\n",
              " Text(0.027121673838757025, 0.43548387096774194, 'x[8] <= 0.5\\ngini = 0.32\\nsamples = 5\\nvalue = [0, 1, 4]'),\n",
              " Text(0.0268751131674956, 0.4032258064516129, 'gini = 0.0\\nsamples = 3\\nvalue = [0, 0, 3]'),\n",
              " Text(0.027368234510018453, 0.4032258064516129, 'x[15] <= 0.5\\ngini = 0.5\\nsamples = 2\\nvalue = [0, 1, 1]'),\n",
              " Text(0.027121673838757025, 0.3709677419354839, 'gini = 0.0\\nsamples = 1\\nvalue = [0, 0, 1]'),\n",
              " Text(0.02761479518127988, 0.3709677419354839, 'gini = 0.0\\nsamples = 1\\nvalue = [0, 1, 0]'),\n",
              " Text(0.027121673838757025, 0.46774193548387094, 'gini = 0.0\\nsamples = 2\\nvalue = [0, 2, 0]'),\n",
              " Text(0.028107916523802737, 0.5, 'x[0] <= 0.5\\ngini = 0.245\\nsamples = 7\\nvalue = [0, 1, 6]'),\n",
              " Text(0.02786135585254131, 0.46774193548387094, 'x[5] <= 0.5\\ngini = 0.375\\nsamples = 4\\nvalue = [0, 1, 3]'),\n",
              " Text(0.02761479518127988, 0.43548387096774194, 'gini = 0.0\\nsamples = 1\\nvalue = [0, 1, 0]'),\n",
              " Text(0.028107916523802737, 0.43548387096774194, 'gini = 0.0\\nsamples = 3\\nvalue = [0, 0, 3]'),\n",
              " Text(0.028354477195064162, 0.46774193548387094, 'gini = 0.0\\nsamples = 3\\nvalue = [0, 0, 3]'),\n",
              " Text(0.029340719880109875, 0.6290322580645161, 'x[15] <= 0.462\\ngini = 0.466\\nsamples = 40\\nvalue = [2, 27, 11]'),\n",
              " Text(0.028724318201956305, 0.5967741935483871, 'x[15] <= 0.203\\ngini = 0.307\\nsamples = 33\\nvalue = [1, 27, 5]'),\n",
              " Text(0.028231196859433448, 0.5645161290322581, 'x[4] <= 0.5\\ngini = 0.48\\nsamples = 5\\nvalue = [0, 3, 2]'),\n",
              " Text(0.027984636188172023, 0.532258064516129, 'gini = 0.0\\nsamples = 3\\nvalue = [0, 3, 0]'),\n",
              " Text(0.028477757530694876, 0.532258064516129, 'gini = 0.0\\nsamples = 2\\nvalue = [0, 0, 2]'),\n",
              " Text(0.02921743954447916, 0.5645161290322581, 'x[0] <= 0.5\\ngini = 0.253\\nsamples = 28\\nvalue = [1, 24, 3]'),\n",
              " Text(0.028970878873217733, 0.532258064516129, 'gini = 0.0\\nsamples = 6\\nvalue = [0, 6, 0]'),\n",
              " Text(0.029464000215740586, 0.532258064516129, 'x[11] <= 0.5\\ngini = 0.31\\nsamples = 22\\nvalue = [1, 18, 3]'),\n",
              " Text(0.02921743954447916, 0.5, 'x[15] <= 0.24\\ngini = 0.335\\nsamples = 20\\nvalue = [1, 16, 3]'),\n",
              " Text(0.028970878873217733, 0.46774193548387094, 'gini = 0.32\\nsamples = 5\\nvalue = [0, 4, 1]'),\n",
              " Text(0.029464000215740586, 0.46774193548387094, 'x[15] <= 0.35\\ngini = 0.338\\nsamples = 15\\nvalue = [1, 12, 2]'),\n",
              " Text(0.02921743954447916, 0.43548387096774194, 'gini = 0.0\\nsamples = 1\\nvalue = [0, 1, 0]'),\n",
              " Text(0.029710560887002014, 0.43548387096774194, 'gini = 0.357\\nsamples = 14\\nvalue = [1, 11, 2]'),\n",
              " Text(0.029710560887002014, 0.5, 'gini = 0.0\\nsamples = 2\\nvalue = [0, 2, 0]'),\n",
              " Text(0.029957121558263442, 0.5967741935483871, 'x[15] <= 0.495\\ngini = 0.245\\nsamples = 7\\nvalue = [1, 0, 6]'),\n",
              " Text(0.029710560887002014, 0.5645161290322581, 'gini = 0.0\\nsamples = 6\\nvalue = [0, 0, 6]'),\n",
              " Text(0.03020368222952487, 0.5645161290322581, 'gini = 0.0\\nsamples = 1\\nvalue = [1, 0, 0]'),\n",
              " Text(0.03020368222952487, 0.7258064516129032, 'x[4] <= 0.5\\ngini = 0.202\\nsamples = 35\\nvalue = [0, 31, 4]'),\n",
              " Text(0.029710560887002014, 0.6935483870967742, 'x[15] <= 0.466\\ngini = 0.444\\nsamples = 3\\nvalue = [0, 1, 2]'),\n",
              " Text(0.029464000215740586, 0.6612903225806451, 'gini = 0.0\\nsamples = 1\\nvalue = [0, 1, 0]'),\n",
              " Text(0.029957121558263442, 0.6612903225806451, 'gini = 0.0\\nsamples = 2\\nvalue = [0, 0, 2]'),\n",
              " Text(0.030696803572047723, 0.6935483870967742, 'x[15] <= 0.489\\ngini = 0.117\\nsamples = 32\\nvalue = [0, 30, 2]'),\n",
              " Text(0.0304502429007863, 0.6612903225806451, 'gini = 0.0\\nsamples = 15\\nvalue = [0, 15, 0]'),\n",
              " Text(0.03094336424330915, 0.6612903225806451, 'x[15] <= 0.51\\ngini = 0.208\\nsamples = 17\\nvalue = [0, 15, 2]'),\n",
              " Text(0.030696803572047723, 0.6290322580645161, 'gini = 0.0\\nsamples = 1\\nvalue = [0, 0, 1]'),\n",
              " Text(0.03118992491457058, 0.6290322580645161, 'x[15] <= 0.518\\ngini = 0.117\\nsamples = 16\\nvalue = [0, 15, 1]'),\n",
              " Text(0.03094336424330915, 0.5967741935483871, 'x[5] <= 0.5\\ngini = 0.444\\nsamples = 3\\nvalue = [0, 2, 1]'),\n",
              " Text(0.030696803572047723, 0.5645161290322581, 'x[2] <= 0.5\\ngini = 0.5\\nsamples = 2\\nvalue = [0, 1, 1]'),\n",
              " Text(0.0304502429007863, 0.532258064516129, 'gini = 0.0\\nsamples = 1\\nvalue = [0, 1, 0]'),\n",
              " Text(0.03094336424330915, 0.532258064516129, 'gini = 0.0\\nsamples = 1\\nvalue = [0, 0, 1]'),\n",
              " Text(0.03118992491457058, 0.5645161290322581, 'gini = 0.0\\nsamples = 1\\nvalue = [0, 1, 0]'),\n",
              " Text(0.03143648558583201, 0.5967741935483871, 'gini = 0.0\\nsamples = 13\\nvalue = [0, 13, 0]'),\n",
              " Text(0.039619217863320635, 0.7580645161290323, 'x[15] <= 0.53\\ngini = 0.5\\nsamples = 394\\nvalue = [2, 177, 215]'),\n",
              " Text(0.03937265719205921, 0.7258064516129032, 'gini = 0.0\\nsamples = 21\\nvalue = [0, 0, 21]'),\n",
              " Text(0.039865778534582064, 0.7258064516129032, 'x[15] <= 0.545\\ngini = 0.504\\nsamples = 373\\nvalue = [2, 177, 194]'),\n",
              " Text(0.033655531627184855, 0.6935483870967742, 'x[12] <= 0.5\\ngini = 0.408\\nsamples = 35\\nvalue = [0, 25, 10]'),\n",
              " Text(0.03291584961340057, 0.6612903225806451, 'x[1] <= 0.5\\ngini = 0.33\\nsamples = 24\\nvalue = [0, 19, 5]'),\n",
              " Text(0.03217616759961629, 0.6290322580645161, 'x[15] <= 0.536\\ngini = 0.245\\nsamples = 14\\nvalue = [0, 12, 2]'),\n",
              " Text(0.031929606928354864, 0.5967741935483871, 'gini = 0.0\\nsamples = 10\\nvalue = [0, 10, 0]'),\n",
              " Text(0.03242272827087772, 0.5967741935483871, 'x[15] <= 0.544\\ngini = 0.5\\nsamples = 4\\nvalue = [0, 2, 2]'),\n",
              " Text(0.03217616759961629, 0.5645161290322581, 'gini = 0.0\\nsamples = 2\\nvalue = [0, 0, 2]'),\n",
              " Text(0.03266928894213914, 0.5645161290322581, 'gini = 0.0\\nsamples = 2\\nvalue = [0, 2, 0]'),\n",
              " Text(0.033655531627184855, 0.6290322580645161, 'x[15] <= 0.533\\ngini = 0.42\\nsamples = 10\\nvalue = [0, 7, 3]'),\n",
              " Text(0.03340897095592343, 0.5967741935483871, 'x[15] <= 0.531\\ngini = 0.375\\nsamples = 4\\nvalue = [0, 1, 3]'),\n",
              " Text(0.033162410284662, 0.5645161290322581, 'gini = 0.0\\nsamples = 1\\nvalue = [0, 1, 0]'),\n",
              " Text(0.033655531627184855, 0.5645161290322581, 'gini = 0.0\\nsamples = 3\\nvalue = [0, 0, 3]'),\n",
              " Text(0.03390209229844628, 0.5967741935483871, 'gini = 0.0\\nsamples = 6\\nvalue = [0, 6, 0]'),\n",
              " Text(0.03439521364096914, 0.6612903225806451, 'x[15] <= 0.533\\ngini = 0.496\\nsamples = 11\\nvalue = [0, 6, 5]'),\n",
              " Text(0.03414865296970771, 0.6290322580645161, 'gini = 0.278\\nsamples = 6\\nvalue = [0, 5, 1]'),\n",
              " Text(0.03464177431223057, 0.6290322580645161, 'x[2] <= 0.5\\ngini = 0.32\\nsamples = 5\\nvalue = [0, 1, 4]'),\n",
              " Text(0.03439521364096914, 0.5967741935483871, 'gini = 0.0\\nsamples = 1\\nvalue = [0, 1, 0]'),\n",
              " Text(0.03488833498349199, 0.5967741935483871, 'gini = 0.0\\nsamples = 4\\nvalue = [0, 0, 4]'),\n",
              " Text(0.046076025441979265, 0.6935483870967742, 'x[2] <= 0.5\\ngini = 0.501\\nsamples = 338\\nvalue = [2, 152, 184]'),\n",
              " Text(0.04006610907998197, 0.6612903225806451, 'x[15] <= 0.595\\ngini = 0.499\\nsamples = 213\\nvalue = [0, 111, 102]'),\n",
              " Text(0.03670671993404502, 0.6290322580645161, 'x[12] <= 0.5\\ngini = 0.483\\nsamples = 91\\nvalue = [0, 37, 54]'),\n",
              " Text(0.035381456326014846, 0.5967741935483871, 'x[15] <= 0.563\\ngini = 0.497\\nsamples = 76\\nvalue = [0, 35, 41]'),\n",
              " Text(0.034210293137523065, 0.5645161290322581, 'x[5] <= 0.5\\ngini = 0.463\\nsamples = 22\\nvalue = [0, 14, 8]'),\n",
              " Text(0.03371717179500021, 0.532258064516129, 'x[0] <= 0.5\\ngini = 0.463\\nsamples = 11\\nvalue = [0, 4, 7]'),\n",
              " Text(0.03347061112373879, 0.5, 'x[11] <= 0.5\\ngini = 0.346\\nsamples = 9\\nvalue = [0, 2, 7]'),\n",
              " Text(0.03322405045247736, 0.46774193548387094, 'gini = 0.0\\nsamples = 3\\nvalue = [0, 0, 3]'),\n",
              " Text(0.03371717179500021, 0.46774193548387094, 'x[8] <= 0.5\\ngini = 0.444\\nsamples = 6\\nvalue = [0, 2, 4]'),\n",
              " Text(0.03347061112373879, 0.43548387096774194, 'gini = 0.48\\nsamples = 5\\nvalue = [0, 2, 3]'),\n",
              " Text(0.03396373246626164, 0.43548387096774194, 'gini = 0.0\\nsamples = 1\\nvalue = [0, 0, 1]'),\n",
              " Text(0.03396373246626164, 0.5, 'gini = 0.0\\nsamples = 2\\nvalue = [0, 2, 0]'),\n",
              " Text(0.03470341448004592, 0.532258064516129, 'x[15] <= 0.555\\ngini = 0.165\\nsamples = 11\\nvalue = [0, 10, 1]'),\n",
              " Text(0.03445685380878449, 0.5, 'x[7] <= 0.5\\ngini = 0.278\\nsamples = 6\\nvalue = [0, 5, 1]'),\n",
              " Text(0.034210293137523065, 0.46774193548387094, 'gini = 0.0\\nsamples = 2\\nvalue = [0, 2, 0]'),\n",
              " Text(0.03470341448004592, 0.46774193548387094, 'x[4] <= 0.5\\ngini = 0.375\\nsamples = 4\\nvalue = [0, 3, 1]'),\n",
              " Text(0.03445685380878449, 0.43548387096774194, 'gini = 0.0\\nsamples = 1\\nvalue = [0, 1, 0]'),\n",
              " Text(0.03494997515130735, 0.43548387096774194, 'gini = 0.444\\nsamples = 3\\nvalue = [0, 2, 1]'),\n",
              " Text(0.03494997515130735, 0.5, 'gini = 0.0\\nsamples = 5\\nvalue = [0, 5, 0]'),\n",
              " Text(0.036552619514506626, 0.5645161290322581, 'x[15] <= 0.57\\ngini = 0.475\\nsamples = 54\\nvalue = [0, 21, 33]'),\n",
              " Text(0.0363060588432452, 0.532258064516129, 'gini = 0.0\\nsamples = 4\\nvalue = [0, 0, 4]'),\n",
              " Text(0.036799180185768054, 0.532258064516129, 'x[15] <= 0.589\\ngini = 0.487\\nsamples = 50\\nvalue = [0, 21, 29]'),\n",
              " Text(0.03593621783635306, 0.5, 'x[15] <= 0.587\\ngini = 0.496\\nsamples = 22\\nvalue = [0, 12, 10]'),\n",
              " Text(0.035689657165091634, 0.46774193548387094, 'x[15] <= 0.583\\ngini = 0.5\\nsamples = 20\\nvalue = [0, 10, 10]'),\n",
              " Text(0.035443096493830206, 0.43548387096774194, 'x[15] <= 0.577\\ngini = 0.494\\nsamples = 18\\nvalue = [0, 10, 8]'),\n",
              " Text(0.034826694815676636, 0.4032258064516129, 'x[7] <= 0.5\\ngini = 0.494\\nsamples = 9\\nvalue = [0, 4, 5]'),\n",
              " Text(0.03458013414441521, 0.3709677419354839, 'x[11] <= 0.5\\ngini = 0.408\\nsamples = 7\\nvalue = [0, 2, 5]'),\n",
              " Text(0.03433357347315378, 0.3387096774193548, 'gini = 0.0\\nsamples = 4\\nvalue = [0, 0, 4]'),\n",
              " Text(0.034826694815676636, 0.3387096774193548, 'x[0] <= 0.5\\ngini = 0.444\\nsamples = 3\\nvalue = [0, 2, 1]'),\n",
              " Text(0.03458013414441521, 0.3064516129032258, 'gini = 0.0\\nsamples = 2\\nvalue = [0, 2, 0]'),\n",
              " Text(0.035073255486938064, 0.3064516129032258, 'gini = 0.0\\nsamples = 1\\nvalue = [0, 0, 1]'),\n",
              " Text(0.035073255486938064, 0.3709677419354839, 'gini = 0.0\\nsamples = 2\\nvalue = [0, 2, 0]'),\n",
              " Text(0.03605949817198377, 0.4032258064516129, 'x[7] <= 0.5\\ngini = 0.444\\nsamples = 9\\nvalue = [0, 6, 3]'),\n",
              " Text(0.03556637682946092, 0.3709677419354839, 'x[4] <= 0.5\\ngini = 0.278\\nsamples = 6\\nvalue = [0, 5, 1]'),\n",
              " Text(0.03531981615819949, 0.3387096774193548, 'gini = 0.0\\nsamples = 1\\nvalue = [0, 0, 1]'),\n",
              " Text(0.03581293750072235, 0.3387096774193548, 'gini = 0.0\\nsamples = 5\\nvalue = [0, 5, 0]'),\n",
              " Text(0.036552619514506626, 0.3709677419354839, 'x[15] <= 0.582\\ngini = 0.444\\nsamples = 3\\nvalue = [0, 1, 2]'),\n",
              " Text(0.0363060588432452, 0.3387096774193548, 'gini = 0.0\\nsamples = 1\\nvalue = [0, 1, 0]'),\n",
              " Text(0.036799180185768054, 0.3387096774193548, 'gini = 0.0\\nsamples = 2\\nvalue = [0, 0, 2]'),\n",
              " Text(0.03593621783635306, 0.43548387096774194, 'gini = 0.0\\nsamples = 2\\nvalue = [0, 0, 2]'),\n",
              " Text(0.036182778507614484, 0.46774193548387094, 'gini = 0.0\\nsamples = 2\\nvalue = [0, 2, 0]'),\n",
              " Text(0.03766214253518305, 0.5, 'x[4] <= 0.5\\ngini = 0.436\\nsamples = 28\\nvalue = [0, 9, 19]'),\n",
              " Text(0.03704574085702948, 0.46774193548387094, 'x[15] <= 0.591\\ngini = 0.5\\nsamples = 10\\nvalue = [0, 5, 5]'),\n",
              " Text(0.036799180185768054, 0.43548387096774194, 'x[7] <= 0.5\\ngini = 0.494\\nsamples = 9\\nvalue = [0, 5, 4]'),\n",
              " Text(0.036552619514506626, 0.4032258064516129, 'gini = 0.49\\nsamples = 7\\nvalue = [0, 4, 3]'),\n",
              " Text(0.03704574085702948, 0.4032258064516129, 'gini = 0.5\\nsamples = 2\\nvalue = [0, 1, 1]'),\n",
              " Text(0.03729230152829091, 0.43548387096774194, 'gini = 0.0\\nsamples = 1\\nvalue = [0, 0, 1]'),\n",
              " Text(0.038278544213336624, 0.46774193548387094, 'x[8] <= 0.5\\ngini = 0.346\\nsamples = 18\\nvalue = [0, 4, 14]'),\n",
              " Text(0.03778542287081377, 0.43548387096774194, 'x[15] <= 0.593\\ngini = 0.444\\nsamples = 3\\nvalue = [0, 2, 1]'),\n",
              " Text(0.03753886219955234, 0.4032258064516129, 'x[5] <= 0.5\\ngini = 0.5\\nsamples = 2\\nvalue = [0, 1, 1]'),\n",
              " Text(0.03729230152829091, 0.3709677419354839, 'gini = 0.0\\nsamples = 1\\nvalue = [0, 0, 1]'),\n",
              " Text(0.03778542287081377, 0.3709677419354839, 'gini = 0.0\\nsamples = 1\\nvalue = [0, 1, 0]'),\n",
              " Text(0.038031983542075196, 0.4032258064516129, 'gini = 0.0\\nsamples = 1\\nvalue = [0, 1, 0]'),\n",
              " Text(0.03877166555585947, 0.43548387096774194, 'x[6] <= 0.5\\ngini = 0.231\\nsamples = 15\\nvalue = [0, 2, 13]'),\n",
              " Text(0.038525104884598045, 0.4032258064516129, 'x[0] <= 0.5\\ngini = 0.133\\nsamples = 14\\nvalue = [0, 1, 13]'),\n",
              " Text(0.038278544213336624, 0.3709677419354839, 'gini = 0.0\\nsamples = 11\\nvalue = [0, 0, 11]'),\n",
              " Text(0.03877166555585947, 0.3709677419354839, 'x[15] <= 0.592\\ngini = 0.444\\nsamples = 3\\nvalue = [0, 1, 2]'),\n",
              " Text(0.038525104884598045, 0.3387096774193548, 'gini = 0.0\\nsamples = 2\\nvalue = [0, 0, 2]'),\n",
              " Text(0.0390182262271209, 0.3387096774193548, 'gini = 0.0\\nsamples = 1\\nvalue = [0, 1, 0]'),\n",
              " Text(0.0390182262271209, 0.4032258064516129, 'gini = 0.0\\nsamples = 1\\nvalue = [0, 1, 0]'),\n",
              " Text(0.038031983542075196, 0.5967741935483871, 'x[4] <= 0.5\\ngini = 0.231\\nsamples = 15\\nvalue = [0, 2, 13]'),\n",
              " Text(0.03753886219955234, 0.5645161290322581, 'x[8] <= 0.5\\ngini = 0.5\\nsamples = 2\\nvalue = [0, 1, 1]'),\n",
              " Text(0.03729230152829091, 0.532258064516129, 'gini = 0.0\\nsamples = 1\\nvalue = [0, 0, 1]'),\n",
              " Text(0.03778542287081377, 0.532258064516129, 'gini = 0.0\\nsamples = 1\\nvalue = [0, 1, 0]'),\n",
              " Text(0.038525104884598045, 0.5645161290322581, 'x[1] <= 0.5\\ngini = 0.142\\nsamples = 13\\nvalue = [0, 1, 12]'),\n",
              " Text(0.038278544213336624, 0.532258064516129, 'gini = 0.18\\nsamples = 10\\nvalue = [0, 1, 9]'),\n",
              " Text(0.03877166555585947, 0.532258064516129, 'gini = 0.0\\nsamples = 3\\nvalue = [0, 0, 3]'),\n",
              " Text(0.04342549822591892, 0.6290322580645161, 'x[11] <= 0.5\\ngini = 0.477\\nsamples = 122\\nvalue = [0, 74, 48]'),\n",
              " Text(0.04142219277191982, 0.5967741935483871, 'x[1] <= 0.5\\ngini = 0.442\\nsamples = 106\\nvalue = [0, 71, 35]'),\n",
              " Text(0.03951134756964376, 0.5645161290322581, 'x[15] <= 0.663\\ngini = 0.315\\nsamples = 46\\nvalue = [0, 37, 9]'),\n",
              " Text(0.03926478689838233, 0.532258064516129, 'gini = 0.0\\nsamples = 15\\nvalue = [0, 15, 0]'),\n",
              " Text(0.039757908240905186, 0.532258064516129, 'x[15] <= 0.668\\ngini = 0.412\\nsamples = 31\\nvalue = [0, 22, 9]'),\n",
              " Text(0.03951134756964376, 0.5, 'gini = 0.0\\nsamples = 1\\nvalue = [0, 0, 1]'),\n",
              " Text(0.040004468912166614, 0.5, 'x[15] <= 0.702\\ngini = 0.391\\nsamples = 30\\nvalue = [0, 22, 8]'),\n",
              " Text(0.039757908240905186, 0.46774193548387094, 'gini = 0.0\\nsamples = 4\\nvalue = [0, 4, 0]'),\n",
              " Text(0.04025102958342804, 0.46774193548387094, 'x[15] <= 0.706\\ngini = 0.426\\nsamples = 26\\nvalue = [0, 18, 8]'),\n",
              " Text(0.040004468912166614, 0.43548387096774194, 'gini = 0.0\\nsamples = 2\\nvalue = [0, 0, 2]'),\n",
              " Text(0.04049759025468947, 0.43548387096774194, 'x[15] <= 0.719\\ngini = 0.375\\nsamples = 24\\nvalue = [0, 18, 6]'),\n",
              " Text(0.04025102958342804, 0.4032258064516129, 'gini = 0.0\\nsamples = 3\\nvalue = [0, 3, 0]'),\n",
              " Text(0.0407441509259509, 0.4032258064516129, 'x[15] <= 0.727\\ngini = 0.408\\nsamples = 21\\nvalue = [0, 15, 6]'),\n",
              " Text(0.04049759025468947, 0.3709677419354839, 'gini = 0.0\\nsamples = 1\\nvalue = [0, 0, 1]'),\n",
              " Text(0.04099071159721232, 0.3709677419354839, 'x[15] <= 0.747\\ngini = 0.375\\nsamples = 20\\nvalue = [0, 15, 5]'),\n",
              " Text(0.0407441509259509, 0.3387096774193548, 'gini = 0.0\\nsamples = 3\\nvalue = [0, 3, 0]'),\n",
              " Text(0.04123727226847375, 0.3387096774193548, 'x[15] <= 0.868\\ngini = 0.415\\nsamples = 17\\nvalue = [0, 12, 5]'),\n",
              " Text(0.04099071159721232, 0.3064516129032258, 'x[15] <= 0.82\\ngini = 0.444\\nsamples = 15\\nvalue = [0, 10, 5]'),\n",
              " Text(0.0407441509259509, 0.27419354838709675, 'x[6] <= 0.5\\ngini = 0.408\\nsamples = 14\\nvalue = [0, 10, 4]'),\n",
              " Text(0.04049759025468947, 0.24193548387096775, 'x[8] <= 0.5\\ngini = 0.426\\nsamples = 13\\nvalue = [0, 9, 4]'),\n",
              " Text(0.040004468912166614, 0.20967741935483872, 'x[15] <= 0.77\\ngini = 0.397\\nsamples = 11\\nvalue = [0, 8, 3]'),\n",
              " Text(0.039757908240905186, 0.1774193548387097, 'gini = 0.5\\nsamples = 2\\nvalue = [0, 1, 1]'),\n",
              " Text(0.04025102958342804, 0.1774193548387097, 'x[15] <= 0.798\\ngini = 0.346\\nsamples = 9\\nvalue = [0, 7, 2]'),\n",
              " Text(0.040004468912166614, 0.14516129032258066, 'gini = 0.0\\nsamples = 1\\nvalue = [0, 1, 0]'),\n",
              " Text(0.04049759025468947, 0.14516129032258066, 'gini = 0.375\\nsamples = 8\\nvalue = [0, 6, 2]'),\n",
              " Text(0.04099071159721232, 0.20967741935483872, 'x[15] <= 0.784\\ngini = 0.5\\nsamples = 2\\nvalue = [0, 1, 1]'),\n",
              " Text(0.0407441509259509, 0.1774193548387097, 'gini = 0.0\\nsamples = 1\\nvalue = [0, 1, 0]'),\n",
              " Text(0.04123727226847375, 0.1774193548387097, 'gini = 0.0\\nsamples = 1\\nvalue = [0, 0, 1]'),\n",
              " Text(0.04099071159721232, 0.24193548387096775, 'gini = 0.0\\nsamples = 1\\nvalue = [0, 1, 0]'),\n",
              " Text(0.04123727226847375, 0.27419354838709675, 'gini = 0.0\\nsamples = 1\\nvalue = [0, 0, 1]'),\n",
              " Text(0.04148383293973518, 0.3064516129032258, 'gini = 0.0\\nsamples = 2\\nvalue = [0, 2, 0]'),\n",
              " Text(0.04333303797419588, 0.5645161290322581, 'x[6] <= 0.5\\ngini = 0.491\\nsamples = 60\\nvalue = [0, 34, 26]'),\n",
              " Text(0.04308647730293446, 0.532258064516129, 'x[15] <= 0.63\\ngini = 0.5\\nsamples = 53\\nvalue = [0, 27, 26]'),\n",
              " Text(0.041730393610996605, 0.5, 'x[4] <= 0.5\\ngini = 0.298\\nsamples = 11\\nvalue = [0, 9, 2]'),\n",
              " Text(0.04123727226847375, 0.46774193548387094, 'x[15] <= 0.614\\ngini = 0.5\\nsamples = 2\\nvalue = [0, 1, 1]'),\n",
              " Text(0.04099071159721232, 0.43548387096774194, 'gini = 0.0\\nsamples = 1\\nvalue = [0, 0, 1]'),\n",
              " Text(0.04148383293973518, 0.43548387096774194, 'gini = 0.0\\nsamples = 1\\nvalue = [0, 1, 0]'),\n",
              " Text(0.04222351495351946, 0.46774193548387094, 'x[5] <= 0.5\\ngini = 0.198\\nsamples = 9\\nvalue = [0, 8, 1]'),\n",
              " Text(0.04197695428225803, 0.43548387096774194, 'x[15] <= 0.613\\ngini = 0.375\\nsamples = 4\\nvalue = [0, 3, 1]'),\n",
              " Text(0.041730393610996605, 0.4032258064516129, 'gini = 0.0\\nsamples = 3\\nvalue = [0, 3, 0]'),\n",
              " Text(0.04222351495351946, 0.4032258064516129, 'gini = 0.0\\nsamples = 1\\nvalue = [0, 0, 1]'),\n",
              " Text(0.04247007562478089, 0.43548387096774194, 'gini = 0.0\\nsamples = 5\\nvalue = [0, 5, 0]'),\n",
              " Text(0.04444256099487231, 0.5, 'x[15] <= 0.692\\ngini = 0.49\\nsamples = 42\\nvalue = [0, 18, 24]'),\n",
              " Text(0.043456318309826596, 0.46774193548387094, 'x[15] <= 0.645\\ngini = 0.401\\nsamples = 18\\nvalue = [0, 5, 13]'),\n",
              " Text(0.042963196967303746, 0.43548387096774194, 'x[5] <= 0.5\\ngini = 0.5\\nsamples = 6\\nvalue = [0, 3, 3]'),\n",
              " Text(0.04271663629604232, 0.4032258064516129, 'gini = 0.0\\nsamples = 1\\nvalue = [0, 0, 1]'),\n",
              " Text(0.043209757638565174, 0.4032258064516129, 'x[4] <= 0.5\\ngini = 0.48\\nsamples = 5\\nvalue = [0, 3, 2]'),\n",
              " Text(0.042963196967303746, 0.3709677419354839, 'x[15] <= 0.637\\ngini = 0.444\\nsamples = 3\\nvalue = [0, 1, 2]'),\n",
              " Text(0.04271663629604232, 0.3387096774193548, 'gini = 0.0\\nsamples = 2\\nvalue = [0, 0, 2]'),\n",
              " Text(0.043209757638565174, 0.3387096774193548, 'gini = 0.0\\nsamples = 1\\nvalue = [0, 1, 0]'),\n",
              " Text(0.043456318309826596, 0.3709677419354839, 'gini = 0.0\\nsamples = 2\\nvalue = [0, 2, 0]'),\n",
              " Text(0.04394943965234945, 0.43548387096774194, 'x[15] <= 0.661\\ngini = 0.278\\nsamples = 12\\nvalue = [0, 2, 10]'),\n",
              " Text(0.043702878981088024, 0.4032258064516129, 'gini = 0.0\\nsamples = 5\\nvalue = [0, 0, 5]'),\n",
              " Text(0.04419600032361088, 0.4032258064516129, 'x[15] <= 0.667\\ngini = 0.408\\nsamples = 7\\nvalue = [0, 2, 5]'),\n",
              " Text(0.04394943965234945, 0.3709677419354839, 'x[4] <= 0.5\\ngini = 0.5\\nsamples = 4\\nvalue = [0, 2, 2]'),\n",
              " Text(0.043702878981088024, 0.3387096774193548, 'gini = 0.0\\nsamples = 1\\nvalue = [0, 0, 1]'),\n",
              " Text(0.04419600032361088, 0.3387096774193548, 'gini = 0.444\\nsamples = 3\\nvalue = [0, 2, 1]'),\n",
              " Text(0.04444256099487231, 0.3709677419354839, 'gini = 0.0\\nsamples = 3\\nvalue = [0, 0, 3]'),\n",
              " Text(0.04542880367991802, 0.46774193548387094, 'x[15] <= 0.698\\ngini = 0.497\\nsamples = 24\\nvalue = [0, 13, 11]'),\n",
              " Text(0.04518224300865659, 0.43548387096774194, 'gini = 0.0\\nsamples = 4\\nvalue = [0, 4, 0]'),\n",
              " Text(0.04567536435117944, 0.43548387096774194, 'x[12] <= 0.5\\ngini = 0.495\\nsamples = 20\\nvalue = [0, 9, 11]'),\n",
              " Text(0.04542880367991802, 0.4032258064516129, 'x[5] <= 0.5\\ngini = 0.475\\nsamples = 18\\nvalue = [0, 7, 11]'),\n",
              " Text(0.044935682337395165, 0.3709677419354839, 'x[15] <= 0.851\\ngini = 0.49\\nsamples = 7\\nvalue = [0, 4, 3]'),\n",
              " Text(0.04468912166613374, 0.3387096774193548, 'x[8] <= 0.5\\ngini = 0.32\\nsamples = 5\\nvalue = [0, 4, 1]'),\n",
              " Text(0.04444256099487231, 0.3064516129032258, 'x[15] <= 0.709\\ngini = 0.444\\nsamples = 3\\nvalue = [0, 2, 1]'),\n",
              " Text(0.04419600032361088, 0.27419354838709675, 'gini = 0.0\\nsamples = 1\\nvalue = [0, 1, 0]'),\n",
              " Text(0.04468912166613374, 0.27419354838709675, 'x[15] <= 0.754\\ngini = 0.5\\nsamples = 2\\nvalue = [0, 1, 1]'),\n",
              " Text(0.04444256099487231, 0.24193548387096775, 'gini = 0.0\\nsamples = 1\\nvalue = [0, 0, 1]'),\n",
              " Text(0.044935682337395165, 0.24193548387096775, 'gini = 0.0\\nsamples = 1\\nvalue = [0, 1, 0]'),\n",
              " Text(0.044935682337395165, 0.3064516129032258, 'gini = 0.0\\nsamples = 2\\nvalue = [0, 2, 0]'),\n",
              " Text(0.04518224300865659, 0.3387096774193548, 'gini = 0.0\\nsamples = 2\\nvalue = [0, 0, 2]'),\n",
              " Text(0.04592192502244087, 0.3709677419354839, 'x[15] <= 0.795\\ngini = 0.397\\nsamples = 11\\nvalue = [0, 3, 8]'),\n",
              " Text(0.04567536435117944, 0.3387096774193548, 'x[15] <= 0.713\\ngini = 0.32\\nsamples = 10\\nvalue = [0, 2, 8]'),\n",
              " Text(0.04542880367991802, 0.3064516129032258, 'gini = 0.0\\nsamples = 2\\nvalue = [0, 0, 2]'),\n",
              " Text(0.04592192502244087, 0.3064516129032258, 'x[15] <= 0.727\\ngini = 0.375\\nsamples = 8\\nvalue = [0, 2, 6]'),\n",
              " Text(0.04567536435117944, 0.27419354838709675, 'gini = 0.444\\nsamples = 6\\nvalue = [0, 2, 4]'),\n",
              " Text(0.0461684856937023, 0.27419354838709675, 'gini = 0.0\\nsamples = 2\\nvalue = [0, 0, 2]'),\n",
              " Text(0.0461684856937023, 0.3387096774193548, 'gini = 0.0\\nsamples = 1\\nvalue = [0, 1, 0]'),\n",
              " Text(0.04592192502244087, 0.4032258064516129, 'gini = 0.0\\nsamples = 2\\nvalue = [0, 2, 0]'),\n",
              " Text(0.04357959864545731, 0.532258064516129, 'gini = 0.0\\nsamples = 7\\nvalue = [0, 7, 0]'),\n",
              " Text(0.04542880367991802, 0.5967741935483871, 'x[15] <= 0.727\\ngini = 0.305\\nsamples = 16\\nvalue = [0, 3, 13]'),\n",
              " Text(0.04518224300865659, 0.5645161290322581, 'gini = 0.0\\nsamples = 7\\nvalue = [0, 0, 7]'),\n",
              " Text(0.04567536435117944, 0.5645161290322581, 'x[15] <= 0.754\\ngini = 0.444\\nsamples = 9\\nvalue = [0, 3, 6]'),\n",
              " Text(0.04542880367991802, 0.532258064516129, 'gini = 0.0\\nsamples = 2\\nvalue = [0, 2, 0]'),\n",
              " Text(0.04592192502244087, 0.532258064516129, 'x[0] <= 0.5\\ngini = 0.245\\nsamples = 7\\nvalue = [0, 1, 6]'),\n",
              " Text(0.04567536435117944, 0.5, 'gini = 0.0\\nsamples = 5\\nvalue = [0, 0, 5]'),\n",
              " Text(0.0461684856937023, 0.5, 'x[15] <= 0.91\\ngini = 0.5\\nsamples = 2\\nvalue = [0, 1, 1]'),\n",
              " Text(0.04592192502244087, 0.46774193548387094, 'gini = 0.0\\nsamples = 1\\nvalue = [0, 1, 0]'),\n",
              " Text(0.04641504636496373, 0.46774193548387094, 'gini = 0.0\\nsamples = 1\\nvalue = [0, 0, 1]'),\n",
              " Text(0.05208594180397656, 0.6612903225806451, 'x[6] <= 0.5\\ngini = 0.462\\nsamples = 125\\nvalue = [2, 41, 82]'),\n",
              " Text(0.051839381132715134, 0.6290322580645161, 'x[1] <= 0.5\\ngini = 0.444\\nsamples = 123\\nvalue = [0, 41, 82]'),\n",
              " Text(0.051592820461453706, 0.5967741935483871, 'x[15] <= 0.615\\ngini = 0.437\\nsamples = 121\\nvalue = [0, 39, 82]'),\n",
              " Text(0.05005181626606978, 0.5645161290322581, 'x[15] <= 0.592\\ngini = 0.379\\nsamples = 67\\nvalue = [0, 17, 50]'),\n",
              " Text(0.04900393341320872, 0.532258064516129, 'x[15] <= 0.575\\ngini = 0.431\\nsamples = 51\\nvalue = [0, 16, 35]'),\n",
              " Text(0.04814097106379372, 0.5, 'x[11] <= 0.5\\ngini = 0.36\\nsamples = 34\\nvalue = [0, 8, 26]'),\n",
              " Text(0.04764784972127087, 0.46774193548387094, 'x[4] <= 0.5\\ngini = 0.444\\nsamples = 21\\nvalue = [0, 7, 14]'),\n",
              " Text(0.04740128905000944, 0.43548387096774194, 'gini = 0.444\\nsamples = 3\\nvalue = [0, 2, 1]'),\n",
              " Text(0.0478944103925323, 0.43548387096774194, 'x[5] <= 0.5\\ngini = 0.401\\nsamples = 18\\nvalue = [0, 5, 13]'),\n",
              " Text(0.04764784972127087, 0.4032258064516129, 'x[12] <= 0.5\\ngini = 0.459\\nsamples = 14\\nvalue = [0, 5, 9]'),\n",
              " Text(0.04740128905000944, 0.3709677419354839, 'x[15] <= 0.568\\ngini = 0.426\\nsamples = 13\\nvalue = [0, 4, 9]'),\n",
              " Text(0.04715472837874801, 0.3387096774193548, 'x[15] <= 0.56\\ngini = 0.463\\nsamples = 11\\nvalue = [0, 4, 7]'),\n",
              " Text(0.046908167707486584, 0.3064516129032258, 'x[8] <= 0.5\\ngini = 0.42\\nsamples = 10\\nvalue = [0, 3, 7]'),\n",
              " Text(0.046661607036225156, 0.27419354838709675, 'x[15] <= 0.551\\ngini = 0.49\\nsamples = 7\\nvalue = [0, 3, 4]'),\n",
              " Text(0.04641504636496373, 0.24193548387096775, 'gini = 0.0\\nsamples = 1\\nvalue = [0, 0, 1]'),\n",
              " Text(0.046908167707486584, 0.24193548387096775, 'x[15] <= 0.555\\ngini = 0.5\\nsamples = 6\\nvalue = [0, 3, 3]'),\n",
              " Text(0.046661607036225156, 0.20967741935483872, 'x[0] <= 0.5\\ngini = 0.48\\nsamples = 5\\nvalue = [0, 3, 2]'),\n",
              " Text(0.04641504636496373, 0.1774193548387097, 'gini = 0.5\\nsamples = 2\\nvalue = [0, 1, 1]'),\n",
              " Text(0.046908167707486584, 0.1774193548387097, 'gini = 0.444\\nsamples = 3\\nvalue = [0, 2, 1]'),\n",
              " Text(0.04715472837874801, 0.20967741935483872, 'gini = 0.0\\nsamples = 1\\nvalue = [0, 0, 1]'),\n",
              " Text(0.04715472837874801, 0.27419354838709675, 'gini = 0.0\\nsamples = 3\\nvalue = [0, 0, 3]'),\n",
              " Text(0.04740128905000944, 0.3064516129032258, 'gini = 0.0\\nsamples = 1\\nvalue = [0, 1, 0]'),\n",
              " Text(0.04764784972127087, 0.3387096774193548, 'gini = 0.0\\nsamples = 2\\nvalue = [0, 0, 2]'),\n",
              " Text(0.0478944103925323, 0.3709677419354839, 'gini = 0.0\\nsamples = 1\\nvalue = [0, 1, 0]'),\n",
              " Text(0.04814097106379372, 0.4032258064516129, 'gini = 0.0\\nsamples = 4\\nvalue = [0, 0, 4]'),\n",
              " Text(0.048634092406316574, 0.46774193548387094, 'x[4] <= 0.5\\ngini = 0.142\\nsamples = 13\\nvalue = [0, 1, 12]'),\n",
              " Text(0.048387531735055146, 0.43548387096774194, 'gini = 0.0\\nsamples = 9\\nvalue = [0, 0, 9]'),\n",
              " Text(0.048880653077578, 0.43548387096774194, 'x[15] <= 0.557\\ngini = 0.375\\nsamples = 4\\nvalue = [0, 1, 3]'),\n",
              " Text(0.048634092406316574, 0.4032258064516129, 'gini = 0.0\\nsamples = 2\\nvalue = [0, 0, 2]'),\n",
              " Text(0.04912721374883943, 0.4032258064516129, 'gini = 0.5\\nsamples = 2\\nvalue = [0, 1, 1]'),\n",
              " Text(0.049866895762623716, 0.5, 'x[11] <= 0.5\\ngini = 0.498\\nsamples = 17\\nvalue = [0, 8, 9]'),\n",
              " Text(0.04962033509136229, 0.46774193548387094, 'x[4] <= 0.5\\ngini = 0.426\\nsamples = 13\\nvalue = [0, 4, 9]'),\n",
              " Text(0.04937377442010086, 0.43548387096774194, 'gini = 0.0\\nsamples = 2\\nvalue = [0, 2, 0]'),\n",
              " Text(0.049866895762623716, 0.43548387096774194, 'x[7] <= 0.5\\ngini = 0.298\\nsamples = 11\\nvalue = [0, 2, 9]'),\n",
              " Text(0.04962033509136229, 0.4032258064516129, 'gini = 0.0\\nsamples = 7\\nvalue = [0, 0, 7]'),\n",
              " Text(0.050113456433885144, 0.4032258064516129, 'x[8] <= 0.5\\ngini = 0.5\\nsamples = 4\\nvalue = [0, 2, 2]'),\n",
              " Text(0.049866895762623716, 0.3709677419354839, 'x[5] <= 0.5\\ngini = 0.444\\nsamples = 3\\nvalue = [0, 1, 2]'),\n",
              " Text(0.04962033509136229, 0.3387096774193548, 'gini = 0.0\\nsamples = 2\\nvalue = [0, 0, 2]'),\n",
              " Text(0.050113456433885144, 0.3387096774193548, 'gini = 0.0\\nsamples = 1\\nvalue = [0, 1, 0]'),\n",
              " Text(0.05036001710514657, 0.3709677419354839, 'gini = 0.0\\nsamples = 1\\nvalue = [0, 1, 0]'),\n",
              " Text(0.050113456433885144, 0.46774193548387094, 'gini = 0.0\\nsamples = 4\\nvalue = [0, 4, 0]'),\n",
              " Text(0.05109969911893085, 0.532258064516129, 'x[5] <= 0.5\\ngini = 0.117\\nsamples = 16\\nvalue = [0, 1, 15]'),\n",
              " Text(0.05085313844766942, 0.5, 'gini = 0.0\\nsamples = 10\\nvalue = [0, 0, 10]'),\n",
              " Text(0.05134625979019228, 0.5, 'x[8] <= 0.5\\ngini = 0.278\\nsamples = 6\\nvalue = [0, 1, 5]'),\n",
              " Text(0.05109969911893085, 0.46774193548387094, 'x[15] <= 0.609\\ngini = 0.444\\nsamples = 3\\nvalue = [0, 1, 2]'),\n",
              " Text(0.05085313844766942, 0.43548387096774194, 'x[12] <= 0.5\\ngini = 0.5\\nsamples = 2\\nvalue = [0, 1, 1]'),\n",
              " Text(0.05060657777640799, 0.4032258064516129, 'gini = 0.0\\nsamples = 1\\nvalue = [0, 1, 0]'),\n",
              " Text(0.05109969911893085, 0.4032258064516129, 'gini = 0.0\\nsamples = 1\\nvalue = [0, 0, 1]'),\n",
              " Text(0.05134625979019228, 0.43548387096774194, 'gini = 0.0\\nsamples = 1\\nvalue = [0, 0, 1]'),\n",
              " Text(0.051592820461453706, 0.46774193548387094, 'gini = 0.0\\nsamples = 3\\nvalue = [0, 0, 3]'),\n",
              " Text(0.05313382465683763, 0.5645161290322581, 'x[15] <= 0.639\\ngini = 0.483\\nsamples = 54\\nvalue = [0, 22, 32]'),\n",
              " Text(0.05208594180397656, 0.532258064516129, 'x[11] <= 0.5\\ngini = 0.165\\nsamples = 11\\nvalue = [0, 10, 1]'),\n",
              " Text(0.051839381132715134, 0.5, 'gini = 0.0\\nsamples = 10\\nvalue = [0, 10, 0]'),\n",
              " Text(0.05233250247523799, 0.5, 'gini = 0.0\\nsamples = 1\\nvalue = [0, 0, 1]'),\n",
              " Text(0.054181707509698696, 0.532258064516129, 'x[7] <= 0.5\\ngini = 0.402\\nsamples = 43\\nvalue = [0, 12, 31]'),\n",
              " Text(0.05282562381776085, 0.5, 'x[15] <= 0.677\\ngini = 0.5\\nsamples = 14\\nvalue = [0, 7, 7]'),\n",
              " Text(0.05257906314649942, 0.46774193548387094, 'gini = 0.0\\nsamples = 4\\nvalue = [0, 0, 4]'),\n",
              " Text(0.05307218448902227, 0.46774193548387094, 'x[4] <= 0.5\\ngini = 0.42\\nsamples = 10\\nvalue = [0, 7, 3]'),\n",
              " Text(0.05282562381776085, 0.43548387096774194, 'gini = 0.0\\nsamples = 4\\nvalue = [0, 4, 0]'),\n",
              " Text(0.0533187451602837, 0.43548387096774194, 'x[0] <= 0.5\\ngini = 0.5\\nsamples = 6\\nvalue = [0, 3, 3]'),\n",
              " Text(0.05307218448902227, 0.4032258064516129, 'gini = 0.0\\nsamples = 2\\nvalue = [0, 0, 2]'),\n",
              " Text(0.053565305831545125, 0.4032258064516129, 'x[11] <= 0.5\\ngini = 0.375\\nsamples = 4\\nvalue = [0, 3, 1]'),\n",
              " Text(0.0533187451602837, 0.3709677419354839, 'gini = 0.0\\nsamples = 3\\nvalue = [0, 3, 0]'),\n",
              " Text(0.05381186650280655, 0.3709677419354839, 'gini = 0.0\\nsamples = 1\\nvalue = [0, 0, 1]'),\n",
              " Text(0.055537791201636544, 0.5, 'x[15] <= 0.906\\ngini = 0.285\\nsamples = 29\\nvalue = [0, 5, 24]'),\n",
              " Text(0.055291230530375116, 0.46774193548387094, 'x[15] <= 0.805\\ngini = 0.245\\nsamples = 28\\nvalue = [0, 4, 24]'),\n",
              " Text(0.054798109187852266, 0.43548387096774194, 'x[15] <= 0.693\\ngini = 0.165\\nsamples = 22\\nvalue = [0, 2, 20]'),\n",
              " Text(0.05455154851659084, 0.4032258064516129, 'x[15] <= 0.688\\ngini = 0.408\\nsamples = 7\\nvalue = [0, 2, 5]'),\n",
              " Text(0.05430498784532941, 0.3709677419354839, 'x[4] <= 0.5\\ngini = 0.278\\nsamples = 6\\nvalue = [0, 1, 5]'),\n",
              " Text(0.05405842717406798, 0.3387096774193548, 'x[15] <= 0.681\\ngini = 0.444\\nsamples = 3\\nvalue = [0, 1, 2]'),\n",
              " Text(0.05381186650280655, 0.3064516129032258, 'gini = 0.0\\nsamples = 1\\nvalue = [0, 1, 0]'),\n",
              " Text(0.05430498784532941, 0.3064516129032258, 'gini = 0.0\\nsamples = 2\\nvalue = [0, 0, 2]'),\n",
              " Text(0.05455154851659084, 0.3387096774193548, 'gini = 0.0\\nsamples = 3\\nvalue = [0, 0, 3]'),\n",
              " Text(0.054798109187852266, 0.3709677419354839, 'gini = 0.0\\nsamples = 1\\nvalue = [0, 1, 0]'),\n",
              " Text(0.055044669859113694, 0.4032258064516129, 'gini = 0.0\\nsamples = 15\\nvalue = [0, 0, 15]'),\n",
              " Text(0.05578435187289797, 0.43548387096774194, 'x[15] <= 0.818\\ngini = 0.444\\nsamples = 6\\nvalue = [0, 2, 4]'),\n",
              " Text(0.055537791201636544, 0.4032258064516129, 'gini = 0.0\\nsamples = 1\\nvalue = [0, 1, 0]'),\n",
              " Text(0.0560309125441594, 0.4032258064516129, 'x[5] <= 0.5\\ngini = 0.32\\nsamples = 5\\nvalue = [0, 1, 4]'),\n",
              " Text(0.05578435187289797, 0.3709677419354839, 'gini = 0.0\\nsamples = 3\\nvalue = [0, 0, 3]'),\n",
              " Text(0.05627747321542083, 0.3709677419354839, 'x[15] <= 0.829\\ngini = 0.5\\nsamples = 2\\nvalue = [0, 1, 1]'),\n",
              " Text(0.0560309125441594, 0.3387096774193548, 'gini = 0.0\\nsamples = 1\\nvalue = [0, 0, 1]'),\n",
              " Text(0.05652403388668226, 0.3387096774193548, 'gini = 0.0\\nsamples = 1\\nvalue = [0, 1, 0]'),\n",
              " Text(0.05578435187289797, 0.46774193548387094, 'gini = 0.0\\nsamples = 1\\nvalue = [0, 1, 0]'),\n",
              " Text(0.05208594180397656, 0.5967741935483871, 'gini = 0.0\\nsamples = 2\\nvalue = [0, 2, 0]'),\n",
              " Text(0.05233250247523799, 0.6290322580645161, 'gini = 0.0\\nsamples = 2\\nvalue = [2, 0, 0]'),\n",
              " Text(0.06563907370237815, 0.8225806451612904, 'x[14] <= 0.0\\ngini = 0.326\\nsamples = 311\\nvalue = [2, 61, 248]'),\n",
              " Text(0.06054605483663429, 0.7903225806451613, 'x[15] <= 0.523\\ngini = 0.24\\nsamples = 222\\nvalue = [0, 31, 191]'),\n",
              " Text(0.05775683724298939, 0.7580645161290323, 'x[15] <= 0.52\\ngini = 0.328\\nsamples = 63\\nvalue = [0, 13, 50]'),\n",
              " Text(0.05751027657172797, 0.7258064516129032, 'x[5] <= 0.5\\ngini = 0.278\\nsamples = 60\\nvalue = [0, 10, 50]'),\n",
              " Text(0.05726371590046654, 0.6935483870967742, 'x[0] <= 0.5\\ngini = 0.335\\nsamples = 47\\nvalue = [0, 10, 37]'),\n",
              " Text(0.0560309125441594, 0.6612903225806451, 'x[6] <= 0.5\\ngini = 0.469\\nsamples = 16\\nvalue = [0, 6, 10]'),\n",
              " Text(0.05578435187289797, 0.6290322580645161, 'x[1] <= 0.5\\ngini = 0.444\\nsamples = 15\\nvalue = [0, 5, 10]'),\n",
              " Text(0.055291230530375116, 0.5967741935483871, 'x[15] <= 0.443\\ngini = 0.444\\nsamples = 3\\nvalue = [0, 2, 1]'),\n",
              " Text(0.055044669859113694, 0.5645161290322581, 'gini = 0.0\\nsamples = 1\\nvalue = [0, 0, 1]'),\n",
              " Text(0.055537791201636544, 0.5645161290322581, 'gini = 0.0\\nsamples = 2\\nvalue = [0, 2, 0]'),\n",
              " Text(0.05627747321542083, 0.5967741935483871, 'x[15] <= 0.512\\ngini = 0.375\\nsamples = 12\\nvalue = [0, 3, 9]'),\n",
              " Text(0.0560309125441594, 0.5645161290322581, 'x[15] <= 0.335\\ngini = 0.5\\nsamples = 6\\nvalue = [0, 3, 3]'),\n",
              " Text(0.05578435187289797, 0.532258064516129, 'gini = 0.0\\nsamples = 2\\nvalue = [0, 0, 2]'),\n",
              " Text(0.05627747321542083, 0.532258064516129, 'x[15] <= 0.428\\ngini = 0.375\\nsamples = 4\\nvalue = [0, 3, 1]'),\n",
              " Text(0.0560309125441594, 0.5, 'gini = 0.0\\nsamples = 2\\nvalue = [0, 2, 0]'),\n",
              " Text(0.05652403388668226, 0.5, 'x[15] <= 0.506\\ngini = 0.5\\nsamples = 2\\nvalue = [0, 1, 1]'),\n",
              " Text(0.05627747321542083, 0.46774193548387094, 'gini = 0.0\\nsamples = 1\\nvalue = [0, 0, 1]'),\n",
              " Text(0.056770594557943685, 0.46774193548387094, 'gini = 0.0\\nsamples = 1\\nvalue = [0, 1, 0]'),\n",
              " Text(0.05652403388668226, 0.5645161290322581, 'gini = 0.0\\nsamples = 6\\nvalue = [0, 0, 6]'),\n",
              " Text(0.05627747321542083, 0.6290322580645161, 'gini = 0.0\\nsamples = 1\\nvalue = [0, 1, 0]'),\n",
              " Text(0.058496519256773676, 0.6612903225806451, 'x[15] <= 0.518\\ngini = 0.225\\nsamples = 31\\nvalue = [0, 4, 27]'),\n",
              " Text(0.05800339791425082, 0.6290322580645161, 'x[12] <= 0.5\\ngini = 0.191\\nsamples = 28\\nvalue = [0, 3, 25]'),\n",
              " Text(0.05775683724298939, 0.5967741935483871, 'x[11] <= 0.5\\ngini = 0.245\\nsamples = 21\\nvalue = [0, 3, 18]'),\n",
              " Text(0.05701715522920511, 0.5645161290322581, 'x[2] <= 0.5\\ngini = 0.408\\nsamples = 7\\nvalue = [0, 2, 5]'),\n",
              " Text(0.056770594557943685, 0.532258064516129, 'gini = 0.0\\nsamples = 1\\nvalue = [0, 1, 0]'),\n",
              " Text(0.05726371590046654, 0.532258064516129, 'x[15] <= 0.515\\ngini = 0.278\\nsamples = 6\\nvalue = [0, 1, 5]'),\n",
              " Text(0.05701715522920511, 0.5, 'gini = 0.0\\nsamples = 4\\nvalue = [0, 0, 4]'),\n",
              " Text(0.05751027657172797, 0.5, 'gini = 0.5\\nsamples = 2\\nvalue = [0, 1, 1]'),\n",
              " Text(0.058496519256773676, 0.5645161290322581, 'x[7] <= 0.5\\ngini = 0.133\\nsamples = 14\\nvalue = [0, 1, 13]'),\n",
              " Text(0.05824995858551225, 0.532258064516129, 'x[13] <= 0.5\\ngini = 0.245\\nsamples = 7\\nvalue = [0, 1, 6]'),\n",
              " Text(0.05800339791425082, 0.5, 'x[2] <= 0.5\\ngini = 0.278\\nsamples = 6\\nvalue = [0, 1, 5]'),\n",
              " Text(0.05775683724298939, 0.46774193548387094, 'gini = 0.0\\nsamples = 1\\nvalue = [0, 0, 1]'),\n",
              " Text(0.05824995858551225, 0.46774193548387094, 'gini = 0.32\\nsamples = 5\\nvalue = [0, 1, 4]'),\n",
              " Text(0.058496519256773676, 0.5, 'gini = 0.0\\nsamples = 1\\nvalue = [0, 0, 1]'),\n",
              " Text(0.058743079928035104, 0.532258064516129, 'gini = 0.0\\nsamples = 7\\nvalue = [0, 0, 7]'),\n",
              " Text(0.05824995858551225, 0.5967741935483871, 'gini = 0.0\\nsamples = 7\\nvalue = [0, 0, 7]'),\n",
              " Text(0.05898964059929653, 0.6290322580645161, 'x[15] <= 0.518\\ngini = 0.444\\nsamples = 3\\nvalue = [0, 1, 2]'),\n",
              " Text(0.058743079928035104, 0.5967741935483871, 'gini = 0.0\\nsamples = 1\\nvalue = [0, 1, 0]'),\n",
              " Text(0.05923620127055796, 0.5967741935483871, 'gini = 0.0\\nsamples = 2\\nvalue = [0, 0, 2]'),\n",
              " Text(0.05775683724298939, 0.6935483870967742, 'gini = 0.0\\nsamples = 13\\nvalue = [0, 0, 13]'),\n",
              " Text(0.05800339791425082, 0.7258064516129032, 'gini = 0.0\\nsamples = 3\\nvalue = [0, 3, 0]'),\n",
              " Text(0.06333527243027919, 0.7580645161290323, 'x[15] <= 0.598\\ngini = 0.201\\nsamples = 159\\nvalue = [0, 18, 141]'),\n",
              " Text(0.06133196697628009, 0.7258064516129032, 'x[11] <= 0.5\\ngini = 0.104\\nsamples = 91\\nvalue = [0, 5, 86]'),\n",
              " Text(0.06071556529812652, 0.6935483870967742, 'x[5] <= 0.5\\ngini = 0.142\\nsamples = 52\\nvalue = [0, 4, 48]'),\n",
              " Text(0.060469004626865094, 0.6612903225806451, 'x[7] <= 0.5\\ngini = 0.252\\nsamples = 27\\nvalue = [0, 4, 23]'),\n",
              " Text(0.059975883284342245, 0.6290322580645161, 'x[15] <= 0.53\\ngini = 0.105\\nsamples = 18\\nvalue = [0, 1, 17]'),\n",
              " Text(0.05972932261308082, 0.5967741935483871, 'x[12] <= 0.5\\ngini = 0.5\\nsamples = 2\\nvalue = [0, 1, 1]'),\n",
              " Text(0.05948276194181939, 0.5645161290322581, 'gini = 0.0\\nsamples = 1\\nvalue = [0, 0, 1]'),\n",
              " Text(0.059975883284342245, 0.5645161290322581, 'gini = 0.0\\nsamples = 1\\nvalue = [0, 1, 0]'),\n",
              " Text(0.060222443955603666, 0.5967741935483871, 'gini = 0.0\\nsamples = 16\\nvalue = [0, 0, 16]'),\n",
              " Text(0.06096212596938795, 0.6290322580645161, 'x[15] <= 0.554\\ngini = 0.444\\nsamples = 9\\nvalue = [0, 3, 6]'),\n",
              " Text(0.06071556529812652, 0.5967741935483871, 'gini = 0.0\\nsamples = 4\\nvalue = [0, 0, 4]'),\n",
              " Text(0.06120868664064938, 0.5967741935483871, 'x[0] <= 0.5\\ngini = 0.48\\nsamples = 5\\nvalue = [0, 3, 2]'),\n",
              " Text(0.06096212596938795, 0.5645161290322581, 'gini = 0.0\\nsamples = 2\\nvalue = [0, 2, 0]'),\n",
              " Text(0.06145524731191081, 0.5645161290322581, 'x[15] <= 0.567\\ngini = 0.444\\nsamples = 3\\nvalue = [0, 1, 2]'),\n",
              " Text(0.06120868664064938, 0.532258064516129, 'gini = 0.0\\nsamples = 1\\nvalue = [0, 1, 0]'),\n",
              " Text(0.061701807983172235, 0.532258064516129, 'gini = 0.0\\nsamples = 2\\nvalue = [0, 0, 2]'),\n",
              " Text(0.06096212596938795, 0.6612903225806451, 'gini = 0.0\\nsamples = 25\\nvalue = [0, 0, 25]'),\n",
              " Text(0.061948368654433664, 0.6935483870967742, 'x[4] <= 0.5\\ngini = 0.05\\nsamples = 39\\nvalue = [0, 1, 38]'),\n",
              " Text(0.061701807983172235, 0.6612903225806451, 'x[2] <= 0.5\\ngini = 0.278\\nsamples = 6\\nvalue = [0, 1, 5]'),\n",
              " Text(0.06145524731191081, 0.6290322580645161, 'gini = 0.0\\nsamples = 1\\nvalue = [0, 1, 0]'),\n",
              " Text(0.061948368654433664, 0.6290322580645161, 'gini = 0.0\\nsamples = 5\\nvalue = [0, 0, 5]'),\n",
              " Text(0.06219492932569509, 0.6612903225806451, 'gini = 0.0\\nsamples = 33\\nvalue = [0, 0, 33]'),\n",
              " Text(0.06533857788427828, 0.7258064516129032, 'x[15] <= 0.649\\ngini = 0.309\\nsamples = 68\\nvalue = [0, 13, 55]'),\n",
              " Text(0.06355101301763294, 0.6935483870967742, 'x[0] <= 0.5\\ngini = 0.444\\nsamples = 21\\nvalue = [0, 7, 14]'),\n",
              " Text(0.06268805066821795, 0.6612903225806451, 'x[15] <= 0.619\\ngini = 0.198\\nsamples = 9\\nvalue = [0, 1, 8]'),\n",
              " Text(0.06244148999695652, 0.6290322580645161, 'gini = 0.0\\nsamples = 5\\nvalue = [0, 0, 5]'),\n",
              " Text(0.06293461133947938, 0.6290322580645161, 'x[2] <= 0.5\\ngini = 0.375\\nsamples = 4\\nvalue = [0, 1, 3]'),\n",
              " Text(0.06268805066821795, 0.5967741935483871, 'x[5] <= 0.5\\ngini = 0.5\\nsamples = 2\\nvalue = [0, 1, 1]'),\n",
              " Text(0.06244148999695652, 0.5645161290322581, 'gini = 0.0\\nsamples = 1\\nvalue = [0, 0, 1]'),\n",
              " Text(0.06293461133947938, 0.5645161290322581, 'gini = 0.0\\nsamples = 1\\nvalue = [0, 1, 0]'),\n",
              " Text(0.0631811720107408, 0.5967741935483871, 'gini = 0.0\\nsamples = 2\\nvalue = [0, 0, 2]'),\n",
              " Text(0.06441397536704793, 0.6612903225806451, 'x[2] <= 0.5\\ngini = 0.5\\nsamples = 12\\nvalue = [0, 6, 6]'),\n",
              " Text(0.06392085402452508, 0.6290322580645161, 'x[13] <= 0.5\\ngini = 0.32\\nsamples = 5\\nvalue = [0, 4, 1]'),\n",
              " Text(0.06367429335326365, 0.5967741935483871, 'gini = 0.0\\nsamples = 1\\nvalue = [0, 0, 1]'),\n",
              " Text(0.0641674146957865, 0.5967741935483871, 'gini = 0.0\\nsamples = 4\\nvalue = [0, 4, 0]'),\n",
              " Text(0.06490709670957079, 0.6290322580645161, 'x[15] <= 0.608\\ngini = 0.408\\nsamples = 7\\nvalue = [0, 2, 5]'),\n",
              " Text(0.06466053603830936, 0.5967741935483871, 'gini = 0.0\\nsamples = 2\\nvalue = [0, 0, 2]'),\n",
              " Text(0.06515365738083222, 0.5967741935483871, 'x[15] <= 0.615\\ngini = 0.48\\nsamples = 5\\nvalue = [0, 2, 3]'),\n",
              " Text(0.06490709670957079, 0.5645161290322581, 'gini = 0.0\\nsamples = 1\\nvalue = [0, 1, 0]'),\n",
              " Text(0.06540021805209364, 0.5645161290322581, 'x[11] <= 0.5\\ngini = 0.375\\nsamples = 4\\nvalue = [0, 1, 3]'),\n",
              " Text(0.06515365738083222, 0.532258064516129, 'gini = 0.0\\nsamples = 3\\nvalue = [0, 0, 3]'),\n",
              " Text(0.06564677872335507, 0.532258064516129, 'gini = 0.0\\nsamples = 1\\nvalue = [0, 1, 0]'),\n",
              " Text(0.06712614275092364, 0.6935483870967742, 'x[5] <= 0.5\\ngini = 0.223\\nsamples = 47\\nvalue = [0, 6, 41]'),\n",
              " Text(0.06663302140840079, 0.6612903225806451, 'x[13] <= 0.5\\ngini = 0.124\\nsamples = 30\\nvalue = [0, 2, 28]'),\n",
              " Text(0.06638646073713936, 0.6290322580645161, 'x[15] <= 0.72\\ngini = 0.408\\nsamples = 7\\nvalue = [0, 2, 5]'),\n",
              " Text(0.06613990006587793, 0.5967741935483871, 'x[15] <= 0.677\\ngini = 0.5\\nsamples = 4\\nvalue = [0, 2, 2]'),\n",
              " Text(0.0658933393946165, 0.5645161290322581, 'gini = 0.0\\nsamples = 2\\nvalue = [0, 0, 2]'),\n",
              " Text(0.06638646073713936, 0.5645161290322581, 'gini = 0.0\\nsamples = 2\\nvalue = [0, 2, 0]'),\n",
              " Text(0.06663302140840079, 0.5967741935483871, 'gini = 0.0\\nsamples = 3\\nvalue = [0, 0, 3]'),\n",
              " Text(0.06687958207966221, 0.6290322580645161, 'gini = 0.0\\nsamples = 23\\nvalue = [0, 0, 23]'),\n",
              " Text(0.0676192640934465, 0.6612903225806451, 'x[7] <= 0.5\\ngini = 0.36\\nsamples = 17\\nvalue = [0, 4, 13]'),\n",
              " Text(0.06737270342218507, 0.6290322580645161, 'gini = 0.0\\nsamples = 5\\nvalue = [0, 0, 5]'),\n",
              " Text(0.06786582476470793, 0.6290322580645161, 'x[1] <= 0.5\\ngini = 0.444\\nsamples = 12\\nvalue = [0, 4, 8]'),\n",
              " Text(0.0676192640934465, 0.5967741935483871, 'gini = 0.0\\nsamples = 5\\nvalue = [0, 0, 5]'),\n",
              " Text(0.06811238543596936, 0.5967741935483871, 'x[4] <= 0.5\\ngini = 0.49\\nsamples = 7\\nvalue = [0, 4, 3]'),\n",
              " Text(0.06786582476470793, 0.5645161290322581, 'x[2] <= 0.5\\ngini = 0.375\\nsamples = 4\\nvalue = [0, 1, 3]'),\n",
              " Text(0.0676192640934465, 0.532258064516129, 'gini = 0.0\\nsamples = 3\\nvalue = [0, 0, 3]'),\n",
              " Text(0.06811238543596936, 0.532258064516129, 'gini = 0.0\\nsamples = 1\\nvalue = [0, 1, 0]'),\n",
              " Text(0.06835894610723078, 0.5645161290322581, 'gini = 0.0\\nsamples = 3\\nvalue = [0, 3, 0]'),\n",
              " Text(0.07073209256812202, 0.7903225806451613, 'x[7] <= 0.5\\ngini = 0.476\\nsamples = 89\\nvalue = [2, 30, 57]'),\n",
              " Text(0.06909862812101505, 0.7580645161290323, 'x[14] <= 0.0\\ngini = 0.159\\nsamples = 46\\nvalue = [0, 4, 42]'),\n",
              " Text(0.06885206744975363, 0.7258064516129032, 'gini = 0.0\\nsamples = 1\\nvalue = [0, 1, 0]'),\n",
              " Text(0.06934518879227648, 0.7258064516129032, 'x[5] <= 0.5\\ngini = 0.124\\nsamples = 45\\nvalue = [0, 3, 42]'),\n",
              " Text(0.06885206744975363, 0.6935483870967742, 'x[14] <= 0.001\\ngini = 0.049\\nsamples = 40\\nvalue = [0, 1, 39]'),\n",
              " Text(0.0686055067784922, 0.6612903225806451, 'gini = 0.0\\nsamples = 32\\nvalue = [0, 0, 32]'),\n",
              " Text(0.06909862812101505, 0.6612903225806451, 'x[15] <= 0.557\\ngini = 0.219\\nsamples = 8\\nvalue = [0, 1, 7]'),\n",
              " Text(0.06885206744975363, 0.6290322580645161, 'x[13] <= 0.5\\ngini = 0.444\\nsamples = 3\\nvalue = [0, 1, 2]'),\n",
              " Text(0.0686055067784922, 0.5967741935483871, 'gini = 0.0\\nsamples = 1\\nvalue = [0, 1, 0]'),\n",
              " Text(0.06909862812101505, 0.5967741935483871, 'gini = 0.0\\nsamples = 2\\nvalue = [0, 0, 2]'),\n",
              " Text(0.06934518879227648, 0.6290322580645161, 'gini = 0.0\\nsamples = 5\\nvalue = [0, 0, 5]'),\n",
              " Text(0.06983831013479934, 0.6935483870967742, 'x[14] <= 0.001\\ngini = 0.48\\nsamples = 5\\nvalue = [0, 2, 3]'),\n",
              " Text(0.06959174946353791, 0.6612903225806451, 'gini = 0.0\\nsamples = 2\\nvalue = [0, 2, 0]'),\n",
              " Text(0.07008487080606077, 0.6612903225806451, 'gini = 0.0\\nsamples = 3\\nvalue = [0, 0, 3]'),\n",
              " Text(0.07236555701522897, 0.7580645161290323, 'x[2] <= 0.5\\ngini = 0.511\\nsamples = 43\\nvalue = [2, 26, 15]'),\n",
              " Text(0.07131767416236791, 0.7258064516129032, 'x[11] <= 0.5\\ngini = 0.355\\nsamples = 26\\nvalue = [0, 20, 6]'),\n",
              " Text(0.07082455281984505, 0.6935483870967742, 'x[15] <= 0.424\\ngini = 0.236\\nsamples = 22\\nvalue = [0, 19, 3]'),\n",
              " Text(0.07057799214858362, 0.6612903225806451, 'gini = 0.0\\nsamples = 1\\nvalue = [0, 0, 1]'),\n",
              " Text(0.07107111349110648, 0.6612903225806451, 'x[14] <= 0.001\\ngini = 0.172\\nsamples = 21\\nvalue = [0, 19, 2]'),\n",
              " Text(0.07082455281984505, 0.6290322580645161, 'gini = 0.0\\nsamples = 14\\nvalue = [0, 14, 0]'),\n",
              " Text(0.07131767416236791, 0.6290322580645161, 'x[15] <= 0.735\\ngini = 0.408\\nsamples = 7\\nvalue = [0, 5, 2]'),\n",
              " Text(0.07107111349110648, 0.5967741935483871, 'x[14] <= 0.001\\ngini = 0.5\\nsamples = 4\\nvalue = [0, 2, 2]'),\n",
              " Text(0.07082455281984505, 0.5645161290322581, 'gini = 0.0\\nsamples = 2\\nvalue = [0, 0, 2]'),\n",
              " Text(0.07131767416236791, 0.5645161290322581, 'gini = 0.0\\nsamples = 2\\nvalue = [0, 2, 0]'),\n",
              " Text(0.07156423483362934, 0.5967741935483871, 'gini = 0.0\\nsamples = 3\\nvalue = [0, 3, 0]'),\n",
              " Text(0.07181079550489076, 0.6935483870967742, 'x[13] <= 0.5\\ngini = 0.375\\nsamples = 4\\nvalue = [0, 1, 3]'),\n",
              " Text(0.07156423483362934, 0.6612903225806451, 'gini = 0.0\\nsamples = 1\\nvalue = [0, 1, 0]'),\n",
              " Text(0.07205735617615219, 0.6612903225806451, 'gini = 0.0\\nsamples = 3\\nvalue = [0, 0, 3]'),\n",
              " Text(0.07341343986809004, 0.7258064516129032, 'x[15] <= 0.445\\ngini = 0.581\\nsamples = 17\\nvalue = [2, 6, 9]'),\n",
              " Text(0.07279703818993648, 0.6935483870967742, 'x[13] <= 0.5\\ngini = 0.278\\nsamples = 6\\nvalue = [0, 5, 1]'),\n",
              " Text(0.07255047751867505, 0.6612903225806451, 'gini = 0.0\\nsamples = 1\\nvalue = [0, 0, 1]'),\n",
              " Text(0.0730435988611979, 0.6612903225806451, 'gini = 0.0\\nsamples = 5\\nvalue = [0, 5, 0]'),\n",
              " Text(0.0740298415462436, 0.6935483870967742, 'x[13] <= 0.5\\ngini = 0.43\\nsamples = 11\\nvalue = [2, 1, 8]'),\n",
              " Text(0.07353672020372075, 0.6612903225806451, 'x[15] <= 0.743\\ngini = 0.444\\nsamples = 3\\nvalue = [2, 0, 1]'),\n",
              " Text(0.07329015953245932, 0.6290322580645161, 'gini = 0.0\\nsamples = 2\\nvalue = [2, 0, 0]'),\n",
              " Text(0.07378328087498218, 0.6290322580645161, 'gini = 0.0\\nsamples = 1\\nvalue = [0, 0, 1]'),\n",
              " Text(0.07452296288876646, 0.6612903225806451, 'x[14] <= 0.001\\ngini = 0.219\\nsamples = 8\\nvalue = [0, 1, 7]'),\n",
              " Text(0.07427640221750503, 0.6290322580645161, 'gini = 0.0\\nsamples = 7\\nvalue = [0, 0, 7]'),\n",
              " Text(0.07476952356002789, 0.6290322580645161, 'gini = 0.0\\nsamples = 1\\nvalue = [0, 1, 0]'),\n",
              " Text(0.29754337074315085, 0.8548387096774194, 'x[4] <= 0.5\\ngini = 0.543\\nsamples = 8516\\nvalue = [411, 4302, 3803]'),\n",
              " Text(0.21522379178875312, 0.8225806451612904, 'x[14] <= 0.019\\ngini = 0.535\\nsamples = 2396\\nvalue = [125, 1332, 939]'),\n",
              " Text(0.19631511115185007, 0.7903225806451613, 'x[3] <= 0.5\\ngini = 0.528\\nsamples = 2198\\nvalue = [112, 1257, 829]'),\n",
              " Text(0.17119177193751903, 0.7580645161290323, 'x[15] <= 0.619\\ngini = 0.527\\nsamples = 2029\\nvalue = [93, 1149, 787]'),\n",
              " Text(0.14351334073216, 0.7258064516129032, 'x[15] <= 0.603\\ngini = 0.513\\nsamples = 1529\\nvalue = [44, 871, 614]'),\n",
              " Text(0.11212270528824483, 0.6935483870967742, 'x[13] <= 0.5\\ngini = 0.51\\nsamples = 1462\\nvalue = [41, 843, 578]'),\n",
              " Text(0.08240736638530498, 0.6612903225806451, 'x[14] <= 0.008\\ngini = 0.529\\nsamples = 368\\nvalue = [12, 189, 167]'),\n",
              " Text(0.07526264490255075, 0.6290322580645161, 'x[15] <= 0.506\\ngini = 0.364\\nsamples = 71\\nvalue = [0, 54, 17]'),\n",
              " Text(0.07353672020372075, 0.5967741935483871, 'x[15] <= 0.301\\ngini = 0.268\\nsamples = 44\\nvalue = [0, 37, 7]'),\n",
              " Text(0.0730435988611979, 0.5645161290322581, 'x[14] <= 0.006\\ngini = 0.5\\nsamples = 6\\nvalue = [0, 3, 3]'),\n",
              " Text(0.07279703818993648, 0.532258064516129, 'gini = 0.0\\nsamples = 2\\nvalue = [0, 0, 2]'),\n",
              " Text(0.07329015953245932, 0.532258064516129, 'x[1] <= 0.5\\ngini = 0.375\\nsamples = 4\\nvalue = [0, 3, 1]'),\n",
              " Text(0.0730435988611979, 0.5, 'gini = 0.444\\nsamples = 3\\nvalue = [0, 2, 1]'),\n",
              " Text(0.07353672020372075, 0.5, 'gini = 0.0\\nsamples = 1\\nvalue = [0, 1, 0]'),\n",
              " Text(0.0740298415462436, 0.5645161290322581, 'x[7] <= 0.5\\ngini = 0.188\\nsamples = 38\\nvalue = [0, 34, 4]'),\n",
              " Text(0.07378328087498218, 0.532258064516129, 'gini = 0.0\\nsamples = 1\\nvalue = [0, 0, 1]'),\n",
              " Text(0.07427640221750503, 0.532258064516129, 'x[2] <= 0.5\\ngini = 0.149\\nsamples = 37\\nvalue = [0, 34, 3]'),\n",
              " Text(0.0740298415462436, 0.5, 'gini = 0.0\\nsamples = 16\\nvalue = [0, 16, 0]'),\n",
              " Text(0.07452296288876646, 0.5, 'x[14] <= 0.004\\ngini = 0.245\\nsamples = 21\\nvalue = [0, 18, 3]'),\n",
              " Text(0.07427640221750503, 0.46774193548387094, 'gini = 0.0\\nsamples = 1\\nvalue = [0, 0, 1]'),\n",
              " Text(0.07476952356002789, 0.46774193548387094, 'x[15] <= 0.41\\ngini = 0.18\\nsamples = 20\\nvalue = [0, 18, 2]'),\n",
              " Text(0.07452296288876646, 0.43548387096774194, 'gini = 0.0\\nsamples = 15\\nvalue = [0, 15, 0]'),\n",
              " Text(0.07501608423128932, 0.43548387096774194, 'x[14] <= 0.006\\ngini = 0.48\\nsamples = 5\\nvalue = [0, 3, 2]'),\n",
              " Text(0.07476952356002789, 0.4032258064516129, 'gini = 0.0\\nsamples = 2\\nvalue = [0, 2, 0]'),\n",
              " Text(0.07526264490255075, 0.4032258064516129, 'x[15] <= 0.436\\ngini = 0.444\\nsamples = 3\\nvalue = [0, 1, 2]'),\n",
              " Text(0.07501608423128932, 0.3709677419354839, 'gini = 0.0\\nsamples = 1\\nvalue = [0, 0, 1]'),\n",
              " Text(0.07550920557381217, 0.3709677419354839, 'gini = 0.5\\nsamples = 2\\nvalue = [0, 1, 1]'),\n",
              " Text(0.07698856960138074, 0.5967741935483871, 'x[14] <= 0.006\\ngini = 0.466\\nsamples = 27\\nvalue = [0, 17, 10]'),\n",
              " Text(0.07624888758759646, 0.5645161290322581, 'x[12] <= 0.5\\ngini = 0.49\\nsamples = 14\\nvalue = [0, 6, 8]'),\n",
              " Text(0.07550920557381217, 0.532258064516129, 'x[15] <= 0.587\\ngini = 0.32\\nsamples = 5\\nvalue = [0, 1, 4]'),\n",
              " Text(0.07526264490255075, 0.5, 'gini = 0.0\\nsamples = 3\\nvalue = [0, 0, 3]'),\n",
              " Text(0.0757557662450736, 0.5, 'x[14] <= 0.005\\ngini = 0.5\\nsamples = 2\\nvalue = [0, 1, 1]'),\n",
              " Text(0.07550920557381217, 0.46774193548387094, 'gini = 0.0\\nsamples = 1\\nvalue = [0, 0, 1]'),\n",
              " Text(0.07600232691633503, 0.46774193548387094, 'gini = 0.0\\nsamples = 1\\nvalue = [0, 1, 0]'),\n",
              " Text(0.07698856960138074, 0.532258064516129, 'x[15] <= 0.595\\ngini = 0.494\\nsamples = 9\\nvalue = [0, 5, 4]'),\n",
              " Text(0.07674200893011932, 0.5, 'x[14] <= 0.004\\ngini = 0.469\\nsamples = 8\\nvalue = [0, 5, 3]'),\n",
              " Text(0.07649544825885789, 0.46774193548387094, 'gini = 0.0\\nsamples = 1\\nvalue = [0, 1, 0]'),\n",
              " Text(0.07698856960138074, 0.46774193548387094, 'x[15] <= 0.571\\ngini = 0.49\\nsamples = 7\\nvalue = [0, 4, 3]'),\n",
              " Text(0.07649544825885789, 0.43548387096774194, 'x[15] <= 0.536\\ngini = 0.444\\nsamples = 3\\nvalue = [0, 1, 2]'),\n",
              " Text(0.07624888758759646, 0.4032258064516129, 'x[14] <= 0.005\\ngini = 0.5\\nsamples = 2\\nvalue = [0, 1, 1]'),\n",
              " Text(0.07600232691633503, 0.3709677419354839, 'gini = 0.0\\nsamples = 1\\nvalue = [0, 1, 0]'),\n",
              " Text(0.07649544825885789, 0.3709677419354839, 'gini = 0.0\\nsamples = 1\\nvalue = [0, 0, 1]'),\n",
              " Text(0.07674200893011932, 0.4032258064516129, 'gini = 0.0\\nsamples = 1\\nvalue = [0, 0, 1]'),\n",
              " Text(0.0774816909439036, 0.43548387096774194, 'x[15] <= 0.589\\ngini = 0.375\\nsamples = 4\\nvalue = [0, 3, 1]'),\n",
              " Text(0.07723513027264217, 0.4032258064516129, 'gini = 0.0\\nsamples = 2\\nvalue = [0, 2, 0]'),\n",
              " Text(0.07772825161516503, 0.4032258064516129, 'x[14] <= 0.005\\ngini = 0.5\\nsamples = 2\\nvalue = [0, 1, 1]'),\n",
              " Text(0.0774816909439036, 0.3709677419354839, 'gini = 0.0\\nsamples = 1\\nvalue = [0, 0, 1]'),\n",
              " Text(0.07797481228642646, 0.3709677419354839, 'gini = 0.0\\nsamples = 1\\nvalue = [0, 1, 0]'),\n",
              " Text(0.07723513027264217, 0.5, 'gini = 0.0\\nsamples = 1\\nvalue = [0, 0, 1]'),\n",
              " Text(0.07772825161516503, 0.5645161290322581, 'x[2] <= 0.5\\ngini = 0.26\\nsamples = 13\\nvalue = [0, 11, 2]'),\n",
              " Text(0.0774816909439036, 0.532258064516129, 'gini = 0.0\\nsamples = 1\\nvalue = [0, 0, 1]'),\n",
              " Text(0.07797481228642646, 0.532258064516129, 'x[12] <= 0.5\\ngini = 0.153\\nsamples = 12\\nvalue = [0, 11, 1]'),\n",
              " Text(0.07772825161516503, 0.5, 'gini = 0.5\\nsamples = 2\\nvalue = [0, 1, 1]'),\n",
              " Text(0.07822137295768787, 0.5, 'gini = 0.0\\nsamples = 10\\nvalue = [0, 10, 0]'),\n",
              " Text(0.08955208786805922, 0.6290322580645161, 'x[1] <= 0.5\\ngini = 0.537\\nsamples = 297\\nvalue = [12, 135, 150]'),\n",
              " Text(0.08316125453151546, 0.5967741935483871, 'x[15] <= 0.307\\ngini = 0.523\\nsamples = 240\\nvalue = [8, 100, 132]'),\n",
              " Text(0.07945417631399501, 0.5645161290322581, 'x[11] <= 0.5\\ngini = 0.361\\nsamples = 38\\nvalue = [0, 9, 29]'),\n",
              " Text(0.07896105497147216, 0.532258064516129, 'x[15] <= 0.298\\ngini = 0.455\\nsamples = 20\\nvalue = [0, 7, 13]'),\n",
              " Text(0.07871449430021073, 0.5, 'x[15] <= 0.296\\ngini = 0.475\\nsamples = 18\\nvalue = [0, 7, 11]'),\n",
              " Text(0.0784679336289493, 0.46774193548387094, 'x[8] <= 0.5\\ngini = 0.43\\nsamples = 16\\nvalue = [0, 5, 11]'),\n",
              " Text(0.07822137295768787, 0.43548387096774194, 'gini = 0.0\\nsamples = 1\\nvalue = [0, 0, 1]'),\n",
              " Text(0.07871449430021073, 0.43548387096774194, 'x[14] <= 0.01\\ngini = 0.444\\nsamples = 15\\nvalue = [0, 5, 10]'),\n",
              " Text(0.0784679336289493, 0.4032258064516129, 'gini = 0.48\\nsamples = 10\\nvalue = [0, 4, 6]'),\n",
              " Text(0.07896105497147216, 0.4032258064516129, 'x[14] <= 0.014\\ngini = 0.32\\nsamples = 5\\nvalue = [0, 1, 4]'),\n",
              " Text(0.07871449430021073, 0.3709677419354839, 'gini = 0.0\\nsamples = 2\\nvalue = [0, 0, 2]'),\n",
              " Text(0.07920761564273358, 0.3709677419354839, 'gini = 0.444\\nsamples = 3\\nvalue = [0, 1, 2]'),\n",
              " Text(0.07896105497147216, 0.46774193548387094, 'gini = 0.0\\nsamples = 2\\nvalue = [0, 2, 0]'),\n",
              " Text(0.07920761564273358, 0.5, 'gini = 0.0\\nsamples = 2\\nvalue = [0, 0, 2]'),\n",
              " Text(0.07994729765651787, 0.532258064516129, 'x[14] <= 0.013\\ngini = 0.198\\nsamples = 18\\nvalue = [0, 2, 16]'),\n",
              " Text(0.07970073698525644, 0.5, 'gini = 0.0\\nsamples = 6\\nvalue = [0, 0, 6]'),\n",
              " Text(0.0801938583277793, 0.5, 'x[14] <= 0.016\\ngini = 0.278\\nsamples = 12\\nvalue = [0, 2, 10]'),\n",
              " Text(0.07994729765651787, 0.46774193548387094, 'gini = 0.0\\nsamples = 1\\nvalue = [0, 1, 0]'),\n",
              " Text(0.08044041899904072, 0.46774193548387094, 'x[15] <= 0.297\\ngini = 0.165\\nsamples = 11\\nvalue = [0, 1, 10]'),\n",
              " Text(0.0801938583277793, 0.43548387096774194, 'x[6] <= 0.5\\ngini = 0.245\\nsamples = 7\\nvalue = [0, 1, 6]'),\n",
              " Text(0.07994729765651787, 0.4032258064516129, 'gini = 0.375\\nsamples = 4\\nvalue = [0, 1, 3]'),\n",
              " Text(0.08044041899904072, 0.4032258064516129, 'gini = 0.0\\nsamples = 3\\nvalue = [0, 0, 3]'),\n",
              " Text(0.08068697967030215, 0.43548387096774194, 'gini = 0.0\\nsamples = 4\\nvalue = [0, 0, 4]'),\n",
              " Text(0.08686833274903591, 0.5645161290322581, 'x[15] <= 0.309\\ngini = 0.535\\nsamples = 202\\nvalue = [8, 91, 103]'),\n",
              " Text(0.08662177207777448, 0.532258064516129, 'gini = 0.0\\nsamples = 2\\nvalue = [0, 2, 0]'),\n",
              " Text(0.08711489342029734, 0.532258064516129, 'x[15] <= 0.392\\ngini = 0.535\\nsamples = 200\\nvalue = [8, 89, 103]'),\n",
              " Text(0.08216634369787072, 0.5, 'x[15] <= 0.354\\ngini = 0.503\\nsamples = 56\\nvalue = [2, 20, 34]'),\n",
              " Text(0.08142666168408644, 0.46774193548387094, 'x[14] <= 0.015\\ngini = 0.529\\nsamples = 33\\nvalue = [1, 16, 16]'),\n",
              " Text(0.08118010101282501, 0.43548387096774194, 'x[14] <= 0.013\\ngini = 0.527\\nsamples = 30\\nvalue = [1, 13, 16]'),\n",
              " Text(0.08093354034156358, 0.4032258064516129, 'x[14] <= 0.012\\ngini = 0.53\\nsamples = 29\\nvalue = [1, 13, 15]'),\n",
              " Text(0.08044041899904072, 0.3709677419354839, 'x[15] <= 0.33\\ngini = 0.525\\nsamples = 25\\nvalue = [1, 10, 14]'),\n",
              " Text(0.0801938583277793, 0.3387096774193548, 'x[14] <= 0.01\\ngini = 0.541\\nsamples = 22\\nvalue = [1, 10, 11]'),\n",
              " Text(0.07994729765651787, 0.3064516129032258, 'x[11] <= 0.5\\ngini = 0.499\\nsamples = 21\\nvalue = [0, 10, 11]'),\n",
              " Text(0.07920761564273358, 0.27419354838709675, 'x[15] <= 0.311\\ngini = 0.486\\nsamples = 12\\nvalue = [0, 7, 5]'),\n",
              " Text(0.07896105497147216, 0.24193548387096775, 'gini = 0.0\\nsamples = 1\\nvalue = [0, 1, 0]'),\n",
              " Text(0.07945417631399501, 0.24193548387096775, 'x[15] <= 0.325\\ngini = 0.496\\nsamples = 11\\nvalue = [0, 6, 5]'),\n",
              " Text(0.07920761564273358, 0.20967741935483872, 'x[15] <= 0.32\\ngini = 0.5\\nsamples = 10\\nvalue = [0, 5, 5]'),\n",
              " Text(0.07896105497147216, 0.1774193548387097, 'x[15] <= 0.314\\ngini = 0.494\\nsamples = 9\\nvalue = [0, 5, 4]'),\n",
              " Text(0.07871449430021073, 0.14516129032258066, 'gini = 0.5\\nsamples = 6\\nvalue = [0, 3, 3]'),\n",
              " Text(0.07920761564273358, 0.14516129032258066, 'gini = 0.444\\nsamples = 3\\nvalue = [0, 2, 1]'),\n",
              " Text(0.07945417631399501, 0.1774193548387097, 'gini = 0.0\\nsamples = 1\\nvalue = [0, 0, 1]'),\n",
              " Text(0.07970073698525644, 0.20967741935483872, 'gini = 0.0\\nsamples = 1\\nvalue = [0, 1, 0]'),\n",
              " Text(0.08068697967030215, 0.27419354838709675, 'x[15] <= 0.316\\ngini = 0.444\\nsamples = 9\\nvalue = [0, 3, 6]'),\n",
              " Text(0.08044041899904072, 0.24193548387096775, 'x[15] <= 0.311\\ngini = 0.375\\nsamples = 8\\nvalue = [0, 2, 6]'),\n",
              " Text(0.0801938583277793, 0.20967741935483872, 'gini = 0.444\\nsamples = 6\\nvalue = [0, 2, 4]'),\n",
              " Text(0.08068697967030215, 0.20967741935483872, 'gini = 0.0\\nsamples = 2\\nvalue = [0, 0, 2]'),\n",
              " Text(0.08093354034156358, 0.24193548387096775, 'gini = 0.0\\nsamples = 1\\nvalue = [0, 1, 0]'),\n",
              " Text(0.08044041899904072, 0.3064516129032258, 'gini = 0.0\\nsamples = 1\\nvalue = [1, 0, 0]'),\n",
              " Text(0.08068697967030215, 0.3387096774193548, 'gini = 0.0\\nsamples = 3\\nvalue = [0, 0, 3]'),\n",
              " Text(0.08142666168408644, 0.3709677419354839, 'x[15] <= 0.316\\ngini = 0.375\\nsamples = 4\\nvalue = [0, 3, 1]'),\n",
              " Text(0.08118010101282501, 0.3387096774193548, 'gini = 0.0\\nsamples = 1\\nvalue = [0, 0, 1]'),\n",
              " Text(0.08167322235534787, 0.3387096774193548, 'gini = 0.0\\nsamples = 3\\nvalue = [0, 3, 0]'),\n",
              " Text(0.08142666168408644, 0.4032258064516129, 'gini = 0.0\\nsamples = 1\\nvalue = [0, 0, 1]'),\n",
              " Text(0.08167322235534787, 0.43548387096774194, 'gini = 0.0\\nsamples = 3\\nvalue = [0, 3, 0]'),\n",
              " Text(0.082906025711655, 0.46774193548387094, 'x[12] <= 0.5\\ngini = 0.355\\nsamples = 23\\nvalue = [1, 4, 18]'),\n",
              " Text(0.08241290436913215, 0.43548387096774194, 'x[15] <= 0.373\\ngini = 0.5\\nsamples = 6\\nvalue = [0, 3, 3]'),\n",
              " Text(0.08216634369787072, 0.4032258064516129, 'x[14] <= 0.014\\ngini = 0.375\\nsamples = 4\\nvalue = [0, 1, 3]'),\n",
              " Text(0.0819197830266093, 0.3709677419354839, 'gini = 0.0\\nsamples = 2\\nvalue = [0, 0, 2]'),\n",
              " Text(0.08241290436913215, 0.3709677419354839, 'gini = 0.5\\nsamples = 2\\nvalue = [0, 1, 1]'),\n",
              " Text(0.08265946504039358, 0.4032258064516129, 'gini = 0.0\\nsamples = 2\\nvalue = [0, 2, 0]'),\n",
              " Text(0.08339914705417785, 0.43548387096774194, 'x[14] <= 0.01\\ngini = 0.215\\nsamples = 17\\nvalue = [1, 1, 15]'),\n",
              " Text(0.08315258638291642, 0.4032258064516129, 'x[15] <= 0.376\\ngini = 0.449\\nsamples = 7\\nvalue = [1, 1, 5]'),\n",
              " Text(0.082906025711655, 0.3709677419354839, 'x[15] <= 0.362\\ngini = 0.278\\nsamples = 6\\nvalue = [0, 1, 5]'),\n",
              " Text(0.08265946504039358, 0.3387096774193548, 'gini = 0.0\\nsamples = 4\\nvalue = [0, 0, 4]'),\n",
              " Text(0.08315258638291642, 0.3387096774193548, 'x[15] <= 0.371\\ngini = 0.5\\nsamples = 2\\nvalue = [0, 1, 1]'),\n",
              " Text(0.082906025711655, 0.3064516129032258, 'gini = 0.0\\nsamples = 1\\nvalue = [0, 1, 0]'),\n",
              " Text(0.08339914705417785, 0.3064516129032258, 'gini = 0.0\\nsamples = 1\\nvalue = [0, 0, 1]'),\n",
              " Text(0.08339914705417785, 0.3709677419354839, 'gini = 0.0\\nsamples = 1\\nvalue = [1, 0, 0]'),\n",
              " Text(0.08364570772543928, 0.4032258064516129, 'gini = 0.0\\nsamples = 10\\nvalue = [0, 0, 10]'),\n",
              " Text(0.09206344314272395, 0.5, 'x[8] <= 0.5\\ngini = 0.539\\nsamples = 144\\nvalue = [6, 69, 69]'),\n",
              " Text(0.09031055087047475, 0.46774193548387094, 'x[15] <= 0.594\\ngini = 0.545\\nsamples = 81\\nvalue = [5, 32, 44]'),\n",
              " Text(0.0888388918638831, 0.43548387096774194, 'x[6] <= 0.5\\ngini = 0.543\\nsamples = 75\\nvalue = [5, 28, 42]'),\n",
              " Text(0.08712837720700695, 0.4032258064516129, 'x[15] <= 0.53\\ngini = 0.537\\nsamples = 72\\nvalue = [4, 28, 40]'),\n",
              " Text(0.08543327259208464, 0.3709677419354839, 'x[15] <= 0.516\\ngini = 0.57\\nsamples = 25\\nvalue = [2, 12, 11]'),\n",
              " Text(0.08450867007485428, 0.3387096774193548, 'x[15] <= 0.506\\ngini = 0.58\\nsamples = 21\\nvalue = [2, 9, 10]'),\n",
              " Text(0.0838922683967007, 0.3064516129032258, 'x[14] <= 0.017\\ngini = 0.548\\nsamples = 19\\nvalue = [1, 9, 9]'),\n",
              " Text(0.08339914705417785, 0.27419354838709675, 'x[15] <= 0.501\\ngini = 0.551\\nsamples = 15\\nvalue = [1, 6, 8]'),\n",
              " Text(0.08315258638291642, 0.24193548387096775, 'x[14] <= 0.012\\ngini = 0.541\\nsamples = 14\\nvalue = [1, 5, 8]'),\n",
              " Text(0.082906025711655, 0.20967741935483872, 'x[15] <= 0.452\\ngini = 0.579\\nsamples = 11\\nvalue = [1, 5, 5]'),\n",
              " Text(0.08241290436913215, 0.1774193548387097, 'x[12] <= 0.5\\ngini = 0.625\\nsamples = 4\\nvalue = [1, 1, 2]'),\n",
              " Text(0.08216634369787072, 0.14516129032258066, 'x[14] <= 0.01\\ngini = 0.667\\nsamples = 3\\nvalue = [1, 1, 1]'),\n",
              " Text(0.0819197830266093, 0.11290322580645161, 'gini = 0.5\\nsamples = 2\\nvalue = [1, 1, 0]'),\n",
              " Text(0.08241290436913215, 0.11290322580645161, 'gini = 0.0\\nsamples = 1\\nvalue = [0, 0, 1]'),\n",
              " Text(0.08265946504039358, 0.14516129032258066, 'gini = 0.0\\nsamples = 1\\nvalue = [0, 0, 1]'),\n",
              " Text(0.08339914705417785, 0.1774193548387097, 'x[14] <= 0.01\\ngini = 0.49\\nsamples = 7\\nvalue = [0, 4, 3]'),\n",
              " Text(0.08315258638291642, 0.14516129032258066, 'x[15] <= 0.479\\ngini = 0.48\\nsamples = 5\\nvalue = [0, 2, 3]'),\n",
              " Text(0.082906025711655, 0.11290322580645161, 'gini = 0.0\\nsamples = 1\\nvalue = [0, 1, 0]'),\n",
              " Text(0.08339914705417785, 0.11290322580645161, 'x[11] <= 0.5\\ngini = 0.375\\nsamples = 4\\nvalue = [0, 1, 3]'),\n",
              " Text(0.08315258638291642, 0.08064516129032258, 'gini = 0.444\\nsamples = 3\\nvalue = [0, 1, 2]'),\n",
              " Text(0.08364570772543928, 0.08064516129032258, 'gini = 0.0\\nsamples = 1\\nvalue = [0, 0, 1]'),\n",
              " Text(0.08364570772543928, 0.14516129032258066, 'gini = 0.0\\nsamples = 2\\nvalue = [0, 2, 0]'),\n",
              " Text(0.08339914705417785, 0.20967741935483872, 'gini = 0.0\\nsamples = 3\\nvalue = [0, 0, 3]'),\n",
              " Text(0.08364570772543928, 0.24193548387096775, 'gini = 0.0\\nsamples = 1\\nvalue = [0, 1, 0]'),\n",
              " Text(0.08438538973922356, 0.27419354838709675, 'x[11] <= 0.5\\ngini = 0.375\\nsamples = 4\\nvalue = [0, 3, 1]'),\n",
              " Text(0.08413882906796213, 0.24193548387096775, 'x[15] <= 0.471\\ngini = 0.444\\nsamples = 3\\nvalue = [0, 2, 1]'),\n",
              " Text(0.0838922683967007, 0.20967741935483872, 'gini = 0.0\\nsamples = 1\\nvalue = [0, 1, 0]'),\n",
              " Text(0.08438538973922356, 0.20967741935483872, 'gini = 0.5\\nsamples = 2\\nvalue = [0, 1, 1]'),\n",
              " Text(0.08463195041048499, 0.24193548387096775, 'gini = 0.0\\nsamples = 1\\nvalue = [0, 1, 0]'),\n",
              " Text(0.08512507175300785, 0.3064516129032258, 'x[15] <= 0.51\\ngini = 0.5\\nsamples = 2\\nvalue = [1, 0, 1]'),\n",
              " Text(0.08487851108174642, 0.27419354838709675, 'gini = 0.0\\nsamples = 1\\nvalue = [1, 0, 0]'),\n",
              " Text(0.08537163242426928, 0.27419354838709675, 'gini = 0.0\\nsamples = 1\\nvalue = [0, 0, 1]'),\n",
              " Text(0.08635787510931499, 0.3387096774193548, 'x[15] <= 0.524\\ngini = 0.375\\nsamples = 4\\nvalue = [0, 3, 1]'),\n",
              " Text(0.08611131443805356, 0.3064516129032258, 'x[14] <= 0.011\\ngini = 0.444\\nsamples = 3\\nvalue = [0, 2, 1]'),\n",
              " Text(0.08586475376679213, 0.27419354838709675, 'gini = 0.5\\nsamples = 2\\nvalue = [0, 1, 1]'),\n",
              " Text(0.08635787510931499, 0.27419354838709675, 'gini = 0.0\\nsamples = 1\\nvalue = [0, 1, 0]'),\n",
              " Text(0.08660443578057642, 0.3064516129032258, 'gini = 0.0\\nsamples = 1\\nvalue = [0, 1, 0]'),\n",
              " Text(0.08882348182192926, 0.3709677419354839, 'x[11] <= 0.5\\ngini = 0.502\\nsamples = 47\\nvalue = [2, 16, 29]'),\n",
              " Text(0.08759067846562213, 0.3387096774193548, 'x[15] <= 0.571\\ngini = 0.467\\nsamples = 37\\nvalue = [2, 10, 25]'),\n",
              " Text(0.08709755712309927, 0.3064516129032258, 'x[14] <= 0.012\\ngini = 0.416\\nsamples = 23\\nvalue = [2, 4, 17]'),\n",
              " Text(0.08685099645183784, 0.27419354838709675, 'x[14] <= 0.01\\ngini = 0.512\\nsamples = 17\\nvalue = [2, 4, 11]'),\n",
              " Text(0.08635787510931499, 0.24193548387096775, 'x[15] <= 0.563\\ngini = 0.418\\nsamples = 15\\nvalue = [1, 3, 11]'),\n",
              " Text(0.08611131443805356, 0.20967741935483872, 'x[15] <= 0.556\\ngini = 0.462\\nsamples = 13\\nvalue = [1, 3, 9]'),\n",
              " Text(0.08586475376679213, 0.1774193548387097, 'x[15] <= 0.539\\ngini = 0.43\\nsamples = 11\\nvalue = [1, 2, 8]'),\n",
              " Text(0.0856181930955307, 0.14516129032258066, 'gini = 0.444\\nsamples = 3\\nvalue = [0, 1, 2]'),\n",
              " Text(0.08611131443805356, 0.14516129032258066, 'x[15] <= 0.55\\ngini = 0.406\\nsamples = 8\\nvalue = [1, 1, 6]'),\n",
              " Text(0.08586475376679213, 0.11290322580645161, 'gini = 0.0\\nsamples = 1\\nvalue = [0, 0, 1]'),\n",
              " Text(0.08635787510931499, 0.11290322580645161, 'gini = 0.449\\nsamples = 7\\nvalue = [1, 1, 5]'),\n",
              " Text(0.08635787510931499, 0.1774193548387097, 'gini = 0.5\\nsamples = 2\\nvalue = [0, 1, 1]'),\n",
              " Text(0.08660443578057642, 0.20967741935483872, 'gini = 0.0\\nsamples = 2\\nvalue = [0, 0, 2]'),\n",
              " Text(0.0873441177943607, 0.24193548387096775, 'x[15] <= 0.562\\ngini = 0.5\\nsamples = 2\\nvalue = [1, 1, 0]'),\n",
              " Text(0.08709755712309927, 0.20967741935483872, 'gini = 0.0\\nsamples = 1\\nvalue = [0, 1, 0]'),\n",
              " Text(0.08759067846562213, 0.20967741935483872, 'gini = 0.0\\nsamples = 1\\nvalue = [1, 0, 0]'),\n",
              " Text(0.0873441177943607, 0.27419354838709675, 'gini = 0.0\\nsamples = 6\\nvalue = [0, 0, 6]'),\n",
              " Text(0.08808379980814497, 0.3064516129032258, 'x[15] <= 0.581\\ngini = 0.49\\nsamples = 14\\nvalue = [0, 6, 8]'),\n",
              " Text(0.08783723913688354, 0.27419354838709675, 'gini = 0.0\\nsamples = 3\\nvalue = [0, 3, 0]'),\n",
              " Text(0.0883303604794064, 0.27419354838709675, 'x[15] <= 0.589\\ngini = 0.397\\nsamples = 11\\nvalue = [0, 3, 8]'),\n",
              " Text(0.08808379980814497, 0.24193548387096775, 'gini = 0.0\\nsamples = 3\\nvalue = [0, 0, 3]'),\n",
              " Text(0.08857692115066783, 0.24193548387096775, 'x[15] <= 0.592\\ngini = 0.469\\nsamples = 8\\nvalue = [0, 3, 5]'),\n",
              " Text(0.0883303604794064, 0.20967741935483872, 'x[14] <= 0.016\\ngini = 0.5\\nsamples = 6\\nvalue = [0, 3, 3]'),\n",
              " Text(0.08808379980814497, 0.1774193548387097, 'x[14] <= 0.011\\ngini = 0.48\\nsamples = 5\\nvalue = [0, 3, 2]'),\n",
              " Text(0.08783723913688354, 0.14516129032258066, 'gini = 0.5\\nsamples = 2\\nvalue = [0, 1, 1]'),\n",
              " Text(0.0883303604794064, 0.14516129032258066, 'gini = 0.444\\nsamples = 3\\nvalue = [0, 2, 1]'),\n",
              " Text(0.08857692115066783, 0.1774193548387097, 'gini = 0.0\\nsamples = 1\\nvalue = [0, 0, 1]'),\n",
              " Text(0.08882348182192926, 0.20967741935483872, 'gini = 0.0\\nsamples = 2\\nvalue = [0, 0, 2]'),\n",
              " Text(0.0900562851782364, 0.3387096774193548, 'x[15] <= 0.556\\ngini = 0.48\\nsamples = 10\\nvalue = [0, 6, 4]'),\n",
              " Text(0.08956316383571354, 0.3064516129032258, 'x[14] <= 0.012\\ngini = 0.32\\nsamples = 5\\nvalue = [0, 4, 1]'),\n",
              " Text(0.08931660316445211, 0.27419354838709675, 'x[14] <= 0.01\\ngini = 0.5\\nsamples = 2\\nvalue = [0, 1, 1]'),\n",
              " Text(0.08907004249319068, 0.24193548387096775, 'gini = 0.0\\nsamples = 1\\nvalue = [0, 1, 0]'),\n",
              " Text(0.08956316383571354, 0.24193548387096775, 'gini = 0.0\\nsamples = 1\\nvalue = [0, 0, 1]'),\n",
              " Text(0.08980972450697497, 0.27419354838709675, 'gini = 0.0\\nsamples = 3\\nvalue = [0, 3, 0]'),\n",
              " Text(0.09054940652075925, 0.3064516129032258, 'x[14] <= 0.013\\ngini = 0.48\\nsamples = 5\\nvalue = [0, 2, 3]'),\n",
              " Text(0.09030284584949783, 0.27419354838709675, 'x[15] <= 0.569\\ngini = 0.444\\nsamples = 3\\nvalue = [0, 2, 1]'),\n",
              " Text(0.0900562851782364, 0.24193548387096775, 'gini = 0.0\\nsamples = 1\\nvalue = [0, 1, 0]'),\n",
              " Text(0.09054940652075925, 0.24193548387096775, 'x[15] <= 0.58\\ngini = 0.5\\nsamples = 2\\nvalue = [0, 1, 1]'),\n",
              " Text(0.09030284584949783, 0.20967741935483872, 'gini = 0.0\\nsamples = 1\\nvalue = [0, 0, 1]'),\n",
              " Text(0.09079596719202068, 0.20967741935483872, 'gini = 0.0\\nsamples = 1\\nvalue = [0, 1, 0]'),\n",
              " Text(0.09079596719202068, 0.27419354838709675, 'gini = 0.0\\nsamples = 2\\nvalue = [0, 0, 2]'),\n",
              " Text(0.09054940652075925, 0.4032258064516129, 'x[12] <= 0.5\\ngini = 0.444\\nsamples = 3\\nvalue = [1, 0, 2]'),\n",
              " Text(0.09030284584949783, 0.3709677419354839, 'gini = 0.0\\nsamples = 1\\nvalue = [0, 0, 1]'),\n",
              " Text(0.09079596719202068, 0.3709677419354839, 'x[14] <= 0.014\\ngini = 0.5\\nsamples = 2\\nvalue = [1, 0, 1]'),\n",
              " Text(0.09054940652075925, 0.3387096774193548, 'gini = 0.0\\nsamples = 1\\nvalue = [0, 0, 1]'),\n",
              " Text(0.09104252786328211, 0.3387096774193548, 'gini = 0.0\\nsamples = 1\\nvalue = [1, 0, 0]'),\n",
              " Text(0.0917822098770664, 0.43548387096774194, 'x[15] <= 0.601\\ngini = 0.444\\nsamples = 6\\nvalue = [0, 4, 2]'),\n",
              " Text(0.09153564920580497, 0.4032258064516129, 'x[14] <= 0.012\\ngini = 0.32\\nsamples = 5\\nvalue = [0, 4, 1]'),\n",
              " Text(0.09128908853454354, 0.3709677419354839, 'gini = 0.0\\nsamples = 3\\nvalue = [0, 3, 0]'),\n",
              " Text(0.0917822098770664, 0.3709677419354839, 'gini = 0.5\\nsamples = 2\\nvalue = [0, 1, 1]'),\n",
              " Text(0.09202877054832782, 0.4032258064516129, 'gini = 0.0\\nsamples = 1\\nvalue = [0, 0, 1]'),\n",
              " Text(0.09381633541497317, 0.46774193548387094, 'x[15] <= 0.59\\ngini = 0.497\\nsamples = 63\\nvalue = [1, 37, 25]'),\n",
              " Text(0.0927684525621121, 0.43548387096774194, 'x[15] <= 0.53\\ngini = 0.477\\nsamples = 52\\nvalue = [1, 33, 18]'),\n",
              " Text(0.09252189189085067, 0.4032258064516129, 'x[15] <= 0.436\\ngini = 0.521\\nsamples = 40\\nvalue = [1, 21, 18]'),\n",
              " Text(0.09227533121958925, 0.3709677419354839, 'gini = 0.0\\nsamples = 4\\nvalue = [0, 4, 0]'),\n",
              " Text(0.0927684525621121, 0.3709677419354839, 'x[15] <= 0.449\\ngini = 0.526\\nsamples = 36\\nvalue = [1, 17, 18]'),\n",
              " Text(0.09215205088395853, 0.3387096774193548, 'x[14] <= 0.013\\ngini = 0.463\\nsamples = 11\\nvalue = [0, 4, 7]'),\n",
              " Text(0.0919054902126971, 0.3064516129032258, 'x[14] <= 0.012\\ngini = 0.494\\nsamples = 9\\nvalue = [0, 4, 5]'),\n",
              " Text(0.09165892954143567, 0.27419354838709675, 'x[12] <= 0.5\\ngini = 0.469\\nsamples = 8\\nvalue = [0, 3, 5]'),\n",
              " Text(0.09141236887017425, 0.24193548387096775, 'gini = 0.0\\nsamples = 1\\nvalue = [0, 0, 1]'),\n",
              " Text(0.0919054902126971, 0.24193548387096775, 'x[14] <= 0.01\\ngini = 0.49\\nsamples = 7\\nvalue = [0, 3, 4]'),\n",
              " Text(0.09165892954143567, 0.20967741935483872, 'gini = 0.48\\nsamples = 5\\nvalue = [0, 2, 3]'),\n",
              " Text(0.09215205088395853, 0.20967741935483872, 'gini = 0.5\\nsamples = 2\\nvalue = [0, 1, 1]'),\n",
              " Text(0.09215205088395853, 0.27419354838709675, 'gini = 0.0\\nsamples = 1\\nvalue = [0, 1, 0]'),\n",
              " Text(0.09239861155521996, 0.3064516129032258, 'gini = 0.0\\nsamples = 2\\nvalue = [0, 0, 2]'),\n",
              " Text(0.09338485424026567, 0.3387096774193548, 'x[15] <= 0.472\\ngini = 0.534\\nsamples = 25\\nvalue = [1, 13, 11]'),\n",
              " Text(0.09289173289774282, 0.3064516129032258, 'x[15] <= 0.46\\ngini = 0.278\\nsamples = 6\\nvalue = [0, 5, 1]'),\n",
              " Text(0.09264517222648139, 0.27419354838709675, 'x[14] <= 0.013\\ngini = 0.5\\nsamples = 2\\nvalue = [0, 1, 1]'),\n",
              " Text(0.09239861155521996, 0.24193548387096775, 'gini = 0.0\\nsamples = 1\\nvalue = [0, 1, 0]'),\n",
              " Text(0.09289173289774282, 0.24193548387096775, 'gini = 0.0\\nsamples = 1\\nvalue = [0, 0, 1]'),\n",
              " Text(0.09313829356900424, 0.27419354838709675, 'gini = 0.0\\nsamples = 4\\nvalue = [0, 4, 0]'),\n",
              " Text(0.09387797558278853, 0.3064516129032258, 'x[15] <= 0.486\\ngini = 0.543\\nsamples = 19\\nvalue = [1, 8, 10]'),\n",
              " Text(0.0936314149115271, 0.27419354838709675, 'gini = 0.0\\nsamples = 2\\nvalue = [0, 0, 2]'),\n",
              " Text(0.09412453625404996, 0.27419354838709675, 'x[15] <= 0.498\\ngini = 0.554\\nsamples = 17\\nvalue = [1, 8, 8]'),\n",
              " Text(0.0936314149115271, 0.24193548387096775, 'x[11] <= 0.5\\ngini = 0.5\\nsamples = 2\\nvalue = [1, 1, 0]'),\n",
              " Text(0.09338485424026567, 0.20967741935483872, 'gini = 0.0\\nsamples = 1\\nvalue = [1, 0, 0]'),\n",
              " Text(0.09387797558278853, 0.20967741935483872, 'gini = 0.0\\nsamples = 1\\nvalue = [0, 1, 0]'),\n",
              " Text(0.09461765759657281, 0.24193548387096775, 'x[7] <= 0.5\\ngini = 0.498\\nsamples = 15\\nvalue = [0, 7, 8]'),\n",
              " Text(0.09437109692531138, 0.20967741935483872, 'x[14] <= 0.014\\ngini = 0.5\\nsamples = 14\\nvalue = [0, 7, 7]'),\n",
              " Text(0.09387797558278853, 0.1774193548387097, 'x[11] <= 0.5\\ngini = 0.444\\nsamples = 6\\nvalue = [0, 2, 4]'),\n",
              " Text(0.0936314149115271, 0.14516129032258066, 'x[15] <= 0.521\\ngini = 0.48\\nsamples = 5\\nvalue = [0, 2, 3]'),\n",
              " Text(0.09338485424026567, 0.11290322580645161, 'x[15] <= 0.515\\ngini = 0.375\\nsamples = 4\\nvalue = [0, 1, 3]'),\n",
              " Text(0.09313829356900424, 0.08064516129032258, 'x[14] <= 0.01\\ngini = 0.5\\nsamples = 2\\nvalue = [0, 1, 1]'),\n",
              " Text(0.09289173289774282, 0.04838709677419355, 'gini = 0.0\\nsamples = 1\\nvalue = [0, 1, 0]'),\n",
              " Text(0.09338485424026567, 0.04838709677419355, 'gini = 0.0\\nsamples = 1\\nvalue = [0, 0, 1]'),\n",
              " Text(0.0936314149115271, 0.08064516129032258, 'gini = 0.0\\nsamples = 2\\nvalue = [0, 0, 2]'),\n",
              " Text(0.09387797558278853, 0.11290322580645161, 'gini = 0.0\\nsamples = 1\\nvalue = [0, 1, 0]'),\n",
              " Text(0.09412453625404996, 0.14516129032258066, 'gini = 0.0\\nsamples = 1\\nvalue = [0, 0, 1]'),\n",
              " Text(0.09486421826783424, 0.1774193548387097, 'x[15] <= 0.515\\ngini = 0.469\\nsamples = 8\\nvalue = [0, 5, 3]'),\n",
              " Text(0.09461765759657281, 0.14516129032258066, 'gini = 0.0\\nsamples = 1\\nvalue = [0, 1, 0]'),\n",
              " Text(0.09511077893909566, 0.14516129032258066, 'x[15] <= 0.521\\ngini = 0.49\\nsamples = 7\\nvalue = [0, 4, 3]'),\n",
              " Text(0.09486421826783424, 0.11290322580645161, 'x[11] <= 0.5\\ngini = 0.5\\nsamples = 6\\nvalue = [0, 3, 3]'),\n",
              " Text(0.09461765759657281, 0.08064516129032258, 'gini = 0.5\\nsamples = 2\\nvalue = [0, 1, 1]'),\n",
              " Text(0.09511077893909566, 0.08064516129032258, 'gini = 0.5\\nsamples = 4\\nvalue = [0, 2, 2]'),\n",
              " Text(0.09535733961035708, 0.11290322580645161, 'gini = 0.0\\nsamples = 1\\nvalue = [0, 1, 0]'),\n",
              " Text(0.09486421826783424, 0.20967741935483872, 'gini = 0.0\\nsamples = 1\\nvalue = [0, 0, 1]'),\n",
              " Text(0.09301501323337352, 0.4032258064516129, 'gini = 0.0\\nsamples = 12\\nvalue = [0, 12, 0]'),\n",
              " Text(0.09486421826783424, 0.43548387096774194, 'x[14] <= 0.016\\ngini = 0.463\\nsamples = 11\\nvalue = [0, 4, 7]'),\n",
              " Text(0.09461765759657281, 0.4032258064516129, 'x[14] <= 0.012\\ngini = 0.5\\nsamples = 8\\nvalue = [0, 4, 4]'),\n",
              " Text(0.09437109692531138, 0.3709677419354839, 'x[15] <= 0.597\\ngini = 0.32\\nsamples = 5\\nvalue = [0, 1, 4]'),\n",
              " Text(0.09412453625404996, 0.3387096774193548, 'gini = 0.0\\nsamples = 3\\nvalue = [0, 0, 3]'),\n",
              " Text(0.09461765759657281, 0.3387096774193548, 'x[14] <= 0.01\\ngini = 0.5\\nsamples = 2\\nvalue = [0, 1, 1]'),\n",
              " Text(0.09437109692531138, 0.3064516129032258, 'gini = 0.0\\nsamples = 1\\nvalue = [0, 1, 0]'),\n",
              " Text(0.09486421826783424, 0.3064516129032258, 'gini = 0.0\\nsamples = 1\\nvalue = [0, 0, 1]'),\n",
              " Text(0.09486421826783424, 0.3709677419354839, 'gini = 0.0\\nsamples = 3\\nvalue = [0, 3, 0]'),\n",
              " Text(0.09511077893909566, 0.4032258064516129, 'gini = 0.0\\nsamples = 3\\nvalue = [0, 0, 3]'),\n",
              " Text(0.09594292120460297, 0.5967741935483871, 'x[15] <= 0.298\\ngini = 0.518\\nsamples = 57\\nvalue = [4, 35, 18]'),\n",
              " Text(0.09569636053334155, 0.5645161290322581, 'gini = 0.0\\nsamples = 9\\nvalue = [0, 9, 0]'),\n",
              " Text(0.0961894818758644, 0.5645161290322581, 'x[15] <= 0.329\\ngini = 0.559\\nsamples = 48\\nvalue = [4, 26, 18]'),\n",
              " Text(0.09511077893909566, 0.532258064516129, 'x[15] <= 0.308\\ngini = 0.245\\nsamples = 7\\nvalue = [0, 1, 6]'),\n",
              " Text(0.09486421826783424, 0.5, 'x[15] <= 0.303\\ngini = 0.5\\nsamples = 2\\nvalue = [0, 1, 1]'),\n",
              " Text(0.09461765759657281, 0.46774193548387094, 'gini = 0.0\\nsamples = 1\\nvalue = [0, 0, 1]'),\n",
              " Text(0.09511077893909566, 0.46774193548387094, 'gini = 0.0\\nsamples = 1\\nvalue = [0, 1, 0]'),\n",
              " Text(0.09535733961035708, 0.5, 'gini = 0.0\\nsamples = 5\\nvalue = [0, 0, 5]'),\n",
              " Text(0.09726818481263315, 0.532258064516129, 'x[14] <= 0.01\\ngini = 0.533\\nsamples = 41\\nvalue = [4, 25, 12]'),\n",
              " Text(0.09609702162414137, 0.5, 'x[15] <= 0.343\\ngini = 0.245\\nsamples = 14\\nvalue = [0, 12, 2]'),\n",
              " Text(0.09560390028161851, 0.46774193548387094, 'x[12] <= 0.5\\ngini = 0.5\\nsamples = 2\\nvalue = [0, 1, 1]'),\n",
              " Text(0.09535733961035708, 0.43548387096774194, 'gini = 0.0\\nsamples = 1\\nvalue = [0, 1, 0]'),\n",
              " Text(0.09585046095287994, 0.43548387096774194, 'gini = 0.0\\nsamples = 1\\nvalue = [0, 0, 1]'),\n",
              " Text(0.09659014296666422, 0.46774193548387094, 'x[7] <= 0.5\\ngini = 0.153\\nsamples = 12\\nvalue = [0, 11, 1]'),\n",
              " Text(0.0963435822954028, 0.43548387096774194, 'x[15] <= 0.556\\ngini = 0.444\\nsamples = 3\\nvalue = [0, 2, 1]'),\n",
              " Text(0.09609702162414137, 0.4032258064516129, 'gini = 0.0\\nsamples = 1\\nvalue = [0, 0, 1]'),\n",
              " Text(0.09659014296666422, 0.4032258064516129, 'gini = 0.0\\nsamples = 2\\nvalue = [0, 2, 0]'),\n",
              " Text(0.09683670363792565, 0.43548387096774194, 'gini = 0.0\\nsamples = 9\\nvalue = [0, 9, 0]'),\n",
              " Text(0.09843934800112493, 0.5, 'x[15] <= 0.553\\ngini = 0.609\\nsamples = 27\\nvalue = [4, 13, 10]'),\n",
              " Text(0.09757638565170994, 0.46774193548387094, 'x[15] <= 0.53\\ngini = 0.537\\nsamples = 18\\nvalue = [2, 11, 5]'),\n",
              " Text(0.09732982498044851, 0.43548387096774194, 'x[15] <= 0.513\\ngini = 0.625\\nsamples = 12\\nvalue = [2, 5, 5]'),\n",
              " Text(0.09708326430918708, 0.4032258064516129, 'x[7] <= 0.5\\ngini = 0.531\\nsamples = 8\\nvalue = [2, 5, 1]'),\n",
              " Text(0.09683670363792565, 0.3709677419354839, 'gini = 0.0\\nsamples = 1\\nvalue = [0, 0, 1]'),\n",
              " Text(0.09732982498044851, 0.3709677419354839, 'x[14] <= 0.016\\ngini = 0.408\\nsamples = 7\\nvalue = [2, 5, 0]'),\n",
              " Text(0.09708326430918708, 0.3387096774193548, 'x[15] <= 0.419\\ngini = 0.278\\nsamples = 6\\nvalue = [1, 5, 0]'),\n",
              " Text(0.09683670363792565, 0.3064516129032258, 'x[15] <= 0.382\\ngini = 0.444\\nsamples = 3\\nvalue = [1, 2, 0]'),\n",
              " Text(0.09659014296666422, 0.27419354838709675, 'gini = 0.0\\nsamples = 2\\nvalue = [0, 2, 0]'),\n",
              " Text(0.09708326430918708, 0.27419354838709675, 'gini = 0.0\\nsamples = 1\\nvalue = [1, 0, 0]'),\n",
              " Text(0.09732982498044851, 0.3064516129032258, 'gini = 0.0\\nsamples = 3\\nvalue = [0, 3, 0]'),\n",
              " Text(0.09757638565170994, 0.3387096774193548, 'gini = 0.0\\nsamples = 1\\nvalue = [1, 0, 0]'),\n",
              " Text(0.09757638565170994, 0.4032258064516129, 'gini = 0.0\\nsamples = 4\\nvalue = [0, 0, 4]'),\n",
              " Text(0.09782294632297137, 0.43548387096774194, 'gini = 0.0\\nsamples = 6\\nvalue = [0, 6, 0]'),\n",
              " Text(0.09930231035053994, 0.46774193548387094, 'x[14] <= 0.017\\ngini = 0.593\\nsamples = 9\\nvalue = [2, 2, 5]'),\n",
              " Text(0.09880918900801708, 0.43548387096774194, 'x[14] <= 0.012\\ngini = 0.449\\nsamples = 7\\nvalue = [1, 1, 5]'),\n",
              " Text(0.09856262833675565, 0.4032258064516129, 'x[8] <= 0.5\\ngini = 0.625\\nsamples = 4\\nvalue = [1, 1, 2]'),\n",
              " Text(0.09831606766549422, 0.3709677419354839, 'x[15] <= 0.564\\ngini = 0.444\\nsamples = 3\\nvalue = [1, 0, 2]'),\n",
              " Text(0.0980695069942328, 0.3387096774193548, 'gini = 0.5\\nsamples = 2\\nvalue = [1, 0, 1]'),\n",
              " Text(0.09856262833675565, 0.3387096774193548, 'gini = 0.0\\nsamples = 1\\nvalue = [0, 0, 1]'),\n",
              " Text(0.09880918900801708, 0.3709677419354839, 'gini = 0.0\\nsamples = 1\\nvalue = [0, 1, 0]'),\n",
              " Text(0.0990557496792785, 0.4032258064516129, 'gini = 0.0\\nsamples = 3\\nvalue = [0, 0, 3]'),\n",
              " Text(0.09979543169306278, 0.43548387096774194, 'x[15] <= 0.564\\ngini = 0.5\\nsamples = 2\\nvalue = [1, 1, 0]'),\n",
              " Text(0.09954887102180136, 0.4032258064516129, 'gini = 0.0\\nsamples = 1\\nvalue = [0, 1, 0]'),\n",
              " Text(0.1000419923643242, 0.4032258064516129, 'gini = 0.0\\nsamples = 1\\nvalue = [1, 0, 0]'),\n",
              " Text(0.14183804419118468, 0.6612903225806451, 'x[14] <= 0.01\\ngini = 0.501\\nsamples = 1094\\nvalue = [29, 654, 411]'),\n",
              " Text(0.1326114471088835, 0.6290322580645161, 'x[0] <= 0.5\\ngini = 0.514\\nsamples = 712\\nvalue = [20, 403, 289]'),\n",
              " Text(0.13199504543072993, 0.5967741935483871, 'x[15] <= 0.05\\ngini = 0.513\\nsamples = 702\\nvalue = [20, 400, 282]'),\n",
              " Text(0.13150192408820707, 0.5645161290322581, 'x[7] <= 0.5\\ngini = 0.32\\nsamples = 5\\nvalue = [0, 1, 4]'),\n",
              " ...]"
            ]
          },
          "metadata": {},
          "execution_count": 53
        },
        {
          "output_type": "display_data",
          "data": {
            "text/plain": [
              "<Figure size 640x480 with 1 Axes>"
            ],
            "image/png": "[encoded data removed]"
          },
          "metadata": {}
        }
      ]
    },
    {
      "cell_type": "markdown",
      "source": [
        "## **Florestas Aleatórias (Random Forest)**"
      ],
      "metadata": {
        "id": "3xXoHoXuYhuH"
      }
    },
    {
      "cell_type": "markdown",
      "source": [
        "O Florestas Aleatórias é um algoritmo de aprendizado de máquina baseado em ensemble que utiliza múltiplas árvores de decisão para fazer previsões. Em vez de construir uma única árvore, o Random Forest cria várias árvores de decisão durante o treinamento, cada uma baseada em um subconjunto diferente dos dados e características. A decisão final é obtida por votação majoritária para classificação ou média para regressão entre as previsões de todas as árvores. Esse método reduz o risco de overfitting e melhora a precisão do modelo, tornando-o mais robusto e estável em comparação com uma única árvore de decisão.\n",
        "\n",
        "Para mais detalhes: [clique aqui](https://scikit-learn.org/stable/modules/ensemble.html#random-forests-and-other-randomized-tree-ensembles)."
      ],
      "metadata": {
        "id": "dMUVxovaPxw8"
      }
    },
    {
      "cell_type": "code",
      "source": [
        "# Espaço de busca para os hiperparâmetros\n",
        "param_dist = {\n",
        "    'n_estimators': np.arange(100, 1000, step=100),   # Número de árvores na floresta. O parâmetro 'n_estimators' define quantas árvores o Random Forest deve construir. O intervalo é de 100 a 1000, com um passo de 100.\n",
        "    'max_features': ['sqrt', 'log2'],         # Número de recursos a considerar em cada split. Este parâmetro controla quantas características serão usadas para fazer a divisão em cada nó da árvore. As opções são 'auto' (todas as características), 'sqrt' (raiz quadrada do número total de características) e 'log2' (logaritmo base 2 do número total de características).\n",
        "    'max_depth': np.arange(10, 110, step=10),         # Profundidade máxima da árvore. Controla a profundidade máxima que cada árvore pode atingir, ajudando a evitar o overfitting. O intervalo é de 10 a 110, com um passo de 10.\n",
        "    'min_samples_split': np.arange(2, 11, step=2),    # Número mínimo de amostras necessárias para dividir um nó. Define o número mínimo de amostras necessárias para que um nó seja dividido. O intervalo é de 2 a 10, com um passo de 2.\n",
        "    'min_samples_leaf': np.arange(1, 5),              # Número mínimo de amostras em cada folha. Especifica o número mínimo de amostras que deve estar presente em uma folha. O intervalo é de 1 a 4.\n",
        "    'bootstrap': [True, False]                        # Método de amostragem para construir as árvores. Se True, usa amostragem com substituição (bootstrap); se False, usa amostragem sem substituição.\n",
        "}\n",
        "\n",
        "# Instanciar o classificador Random Forest\n",
        "rf_clf = RandomForestClassifier(random_state=42)  # Cria uma instância do classificador RandomForestClassifier com um valor fixo para o random_state, garantindo reprodutibilidade dos resultados.\n",
        "\n",
        "# Configurar o RandomizedSearchCV\n",
        "random_search = RandomizedSearchCV(\n",
        "    estimator=rf_clf,                             # O classificador Random Forest que será ajustado.\n",
        "    param_distributions=param_dist,               # O espaço de busca definido para os hiperparâmetros.\n",
        "    n_iter=50,                                    # Número de combinações de parâmetros a amostrar. O RandomizedSearchCV testará 50 combinações diferentes.\n",
        "    cv=3,                                         # Número de folds na validação cruzada. O modelo será avaliado com 3 folds para cada combinação de parâmetros.\n",
        "    verbose=2,                                    # Nível de verbosidade para mostrar informações detalhadas durante o ajuste dos parâmetros.\n",
        "    random_state=42,                              # Valor fixo para garantir a reprodutibilidade dos resultados.\n",
        "    n_jobs=-1                                     # Usar todos os processadores disponíveis para acelerar o processo de ajuste dos parâmetros.\n",
        ")\n",
        "\n",
        "# Ajustar o RandomizedSearchCV\n",
        "random_search.fit(X_train, y_train)              # Executa o ajuste do RandomizedSearchCV usando os dados de treinamento (X_train e y_train), buscando a melhor combinação de parâmetros para o classificador Random Forest."
      ],
      "metadata": {
        "colab": {
          "base_uri": "https://localhost:8080/",
          "height": 134
        },
        "id": "BWQHRWqUZHNq",
        "outputId": "ab0113c6-9567-4ff9-e043-7bf8ee4104e4"
      },
      "execution_count": null,
      "outputs": [
        {
          "output_type": "stream",
          "name": "stdout",
          "text": [
            "Fitting 3 folds for each of 50 candidates, totalling 150 fits\n"
          ]
        },
        {
          "output_type": "execute_result",
          "data": {
            "text/plain": [
              "RandomizedSearchCV(cv=3, estimator=RandomForestClassifier(random_state=42),\n",
              "                   n_iter=50, n_jobs=-1,\n",
              "                   param_distributions={'bootstrap': [True, False],\n",
              "                                        'max_depth': array([ 10,  20,  30,  40,  50,  60,  70,  80,  90, 100]),\n",
              "                                        'max_features': ['sqrt', 'log2'],\n",
              "                                        'min_samples_leaf': array([1, 2, 3, 4]),\n",
              "                                        'min_samples_split': array([ 2,  4,  6,  8, 10]),\n",
              "                                        'n_estimators': array([100, 200, 300, 400, 500, 600, 700, 800, 900])},\n",
              "                   random_state=42, verbose=2)"
            ],
            "text/html": [
              "<style>#sk-container-id-7 {color: black;}#sk-container-id-7 pre{padding: 0;}#sk-container-id-7 div.sk-toggleable {background-color: white;}#sk-container-id-7 label.sk-toggleable__label {cursor: pointer;display: block;width: 100%;margin-bottom: 0;padding: 0.3em;box-sizing: border-box;text-align: center;}#sk-container-id-7 label.sk-toggleable__label-arrow:before {content: \"▸\";float: left;margin-right: 0.25em;color: #696969;}#sk-container-id-7 label.sk-toggleable__label-arrow:hover:before {color: black;}#sk-container-id-7 div.sk-estimator:hover label.sk-toggleable__label-arrow:before {color: black;}#sk-container-id-7 div.sk-toggleable__content {max-height: 0;max-width: 0;overflow: hidden;text-align: left;background-color: #f0f8ff;}#sk-container-id-7 div.sk-toggleable__content pre {margin: 0.2em;color: black;border-radius: 0.25em;background-color: #f0f8ff;}#sk-container-id-7 input.sk-toggleable__control:checked~div.sk-toggleable__content {max-height: 200px;max-width: 100%;overflow: auto;}#sk-container-id-7 input.sk-toggleable__control:checked~label.sk-toggleable__label-arrow:before {content: \"▾\";}#sk-container-id-7 div.sk-estimator input.sk-toggleable__control:checked~label.sk-toggleable__label {background-color: #d4ebff;}#sk-container-id-7 div.sk-label input.sk-toggleable__control:checked~label.sk-toggleable__label {background-color: #d4ebff;}#sk-container-id-7 input.sk-hidden--visually {border: 0;clip: rect(1px 1px 1px 1px);clip: rect(1px, 1px, 1px, 1px);height: 1px;margin: -1px;overflow: hidden;padding: 0;position: absolute;width: 1px;}#sk-container-id-7 div.sk-estimator {font-family: monospace;background-color: #f0f8ff;border: 1px dotted black;border-radius: 0.25em;box-sizing: border-box;margin-bottom: 0.5em;}#sk-container-id-7 div.sk-estimator:hover {background-color: #d4ebff;}#sk-container-id-7 div.sk-parallel-item::after {content: \"\";width: 100%;border-bottom: 1px solid gray;flex-grow: 1;}#sk-container-id-7 div.sk-label:hover label.sk-toggleable__label {background-color: #d4ebff;}#sk-container-id-7 div.sk-serial::before {content: \"\";position: absolute;border-left: 1px solid gray;box-sizing: border-box;top: 0;bottom: 0;left: 50%;z-index: 0;}#sk-container-id-7 div.sk-serial {display: flex;flex-direction: column;align-items: center;background-color: white;padding-right: 0.2em;padding-left: 0.2em;position: relative;}#sk-container-id-7 div.sk-item {position: relative;z-index: 1;}#sk-container-id-7 div.sk-parallel {display: flex;align-items: stretch;justify-content: center;background-color: white;position: relative;}#sk-container-id-7 div.sk-item::before, #sk-container-id-7 div.sk-parallel-item::before {content: \"\";position: absolute;border-left: 1px solid gray;box-sizing: border-box;top: 0;bottom: 0;left: 50%;z-index: -1;}#sk-container-id-7 div.sk-parallel-item {display: flex;flex-direction: column;z-index: 1;position: relative;background-color: white;}#sk-container-id-7 div.sk-parallel-item:first-child::after {align-self: flex-end;width: 50%;}#sk-container-id-7 div.sk-parallel-item:last-child::after {align-self: flex-start;width: 50%;}#sk-container-id-7 div.sk-parallel-item:only-child::after {width: 0;}#sk-container-id-7 div.sk-dashed-wrapped {border: 1px dashed gray;margin: 0 0.4em 0.5em 0.4em;box-sizing: border-box;padding-bottom: 0.4em;background-color: white;}#sk-container-id-7 div.sk-label label {font-family: monospace;font-weight: bold;display: inline-block;line-height: 1.2em;}#sk-container-id-7 div.sk-label-container {text-align: center;}#sk-container-id-7 div.sk-container {/* jupyter's `normalize.less` sets `[hidden] { display: none; }` but bootstrap.min.css set `[hidden] { display: none !important; }` so we also need the `!important` here to be able to override the default hidden behavior on the sphinx rendered scikit-learn.org. See: https://github.com/scikit-learn/scikit-learn/issues/21755 */display: inline-block !important;position: relative;}#sk-container-id-7 div.sk-text-repr-fallback {display: none;}</style><div id=\"sk-container-id-7\" class=\"sk-top-container\"><div class=\"sk-text-repr-fallback\"><pre>RandomizedSearchCV(cv=3, estimator=RandomForestClassifier(random_state=42),\n",
              "                   n_iter=50, n_jobs=-1,\n",
              "                   param_distributions={&#x27;bootstrap&#x27;: [True, False],\n",
              "                                        &#x27;max_depth&#x27;: array([ 10,  20,  30,  40,  50,  60,  70,  80,  90, 100]),\n",
              "                                        &#x27;max_features&#x27;: [&#x27;sqrt&#x27;, &#x27;log2&#x27;],\n",
              "                                        &#x27;min_samples_leaf&#x27;: array([1, 2, 3, 4]),\n",
              "                                        &#x27;min_samples_split&#x27;: array([ 2,  4,  6,  8, 10]),\n",
              "                                        &#x27;n_estimators&#x27;: array([100, 200, 300, 400, 500, 600, 700, 800, 900])},\n",
              "                   random_state=42, verbose=2)</pre><b>In a Jupyter environment, please rerun this cell to show the HTML representation or trust the notebook. <br />On GitHub, the HTML representation is unable to render, please try loading this page with nbviewer.org.</b></div><div class=\"sk-container\" hidden><div class=\"sk-item sk-dashed-wrapped\"><div class=\"sk-label-container\"><div class=\"sk-label sk-toggleable\"><input class=\"sk-toggleable__control sk-hidden--visually\" id=\"sk-estimator-id-13\" type=\"checkbox\" ><label for=\"sk-estimator-id-13\" class=\"sk-toggleable__label sk-toggleable__label-arrow\">RandomizedSearchCV</label><div class=\"sk-toggleable__content\"><pre>RandomizedSearchCV(cv=3, estimator=RandomForestClassifier(random_state=42),\n",
              "                   n_iter=50, n_jobs=-1,\n",
              "                   param_distributions={&#x27;bootstrap&#x27;: [True, False],\n",
              "                                        &#x27;max_depth&#x27;: array([ 10,  20,  30,  40,  50,  60,  70,  80,  90, 100]),\n",
              "                                        &#x27;max_features&#x27;: [&#x27;sqrt&#x27;, &#x27;log2&#x27;],\n",
              "                                        &#x27;min_samples_leaf&#x27;: array([1, 2, 3, 4]),\n",
              "                                        &#x27;min_samples_split&#x27;: array([ 2,  4,  6,  8, 10]),\n",
              "                                        &#x27;n_estimators&#x27;: array([100, 200, 300, 400, 500, 600, 700, 800, 900])},\n",
              "                   random_state=42, verbose=2)</pre></div></div></div><div class=\"sk-parallel\"><div class=\"sk-parallel-item\"><div class=\"sk-item\"><div class=\"sk-label-container\"><div class=\"sk-label sk-toggleable\"><input class=\"sk-toggleable__control sk-hidden--visually\" id=\"sk-estimator-id-14\" type=\"checkbox\" ><label for=\"sk-estimator-id-14\" class=\"sk-toggleable__label sk-toggleable__label-arrow\">estimator: RandomForestClassifier</label><div class=\"sk-toggleable__content\"><pre>RandomForestClassifier(random_state=42)</pre></div></div></div><div class=\"sk-serial\"><div class=\"sk-item\"><div class=\"sk-estimator sk-toggleable\"><input class=\"sk-toggleable__control sk-hidden--visually\" id=\"sk-estimator-id-15\" type=\"checkbox\" ><label for=\"sk-estimator-id-15\" class=\"sk-toggleable__label sk-toggleable__label-arrow\">RandomForestClassifier</label><div class=\"sk-toggleable__content\"><pre>RandomForestClassifier(random_state=42)</pre></div></div></div></div></div></div></div></div></div></div>"
            ]
          },
          "metadata": {},
          "execution_count": 64
        }
      ]
    },
    {
      "cell_type": "code",
      "source": [
        "print(f\"Melhores parâmetros encontrados: {random_search.best_params_}\")"
      ],
      "metadata": {
        "colab": {
          "base_uri": "https://localhost:8080/"
        },
        "id": "3yCIKXnBDiSt",
        "outputId": "73320525-c386-4261-98e1-24f4777a194f"
      },
      "execution_count": null,
      "outputs": [
        {
          "output_type": "stream",
          "name": "stdout",
          "text": [
            "Melhores parâmetros encontrados: {'n_estimators': 300, 'min_samples_split': 2, 'min_samples_leaf': 1, 'max_features': 'sqrt', 'max_depth': 40, 'bootstrap': True}\n"
          ]
        }
      ]
    },
    {
      "cell_type": "code",
      "source": [
        "# Obtendo os melhores parâmetros encontrados pelo RandomizedSearchCV\n",
        "best_params = random_search.best_params_  # Acessa os melhores parâmetros encontrados durante o ajuste do RandomizedSearchCV. Esses parâmetros são os que proporcionaram a melhor performance durante a validação cruzada.\n",
        "\n",
        "# Criar um novo modelo com os melhores parâmetros\n",
        "optimized_rf_clf = RandomForestClassifier(\n",
        "    n_estimators=best_params['n_estimators'],  # Define o número de árvores na floresta com base nos melhores parâmetros encontrados.\n",
        "    max_features=best_params['max_features'],  # Define o número de características a serem consideradas em cada divisão com base nos melhores parâmetros encontrados.\n",
        "    max_depth=best_params['max_depth'],        # Define a profundidade máxima das árvores com base nos melhores parâmetros encontrados.\n",
        "    min_samples_split=best_params['min_samples_split'],  # Define o número mínimo de amostras necessárias para dividir um nó com base nos melhores parâmetros encontrados.\n",
        "    min_samples_leaf=best_params['min_samples_leaf'],    # Define o número mínimo de amostras em cada folha com base nos melhores parâmetros encontrados.\n",
        "    bootstrap=best_params['bootstrap'],          # Define se a amostragem com substituição deve ser usada com base nos melhores parâmetros encontrados.\n",
        "    random_state=42                             # Define um valor fixo para garantir a reprodutibilidade dos resultados.\n",
        ")\n",
        "\n",
        "# Ajustar o modelo com os dados de treinamento\n",
        "optimized_rf_clf.fit(X_train, y_train)        # Ajusta o modelo RandomForestClassifier com os melhores parâmetros encontrados usando os dados de treinamento (X_train e y_train)."
      ],
      "metadata": {
        "colab": {
          "base_uri": "https://localhost:8080/",
          "height": 74
        },
        "id": "6oBKMFcaE3vU",
        "outputId": "49a08d45-6bb6-41ff-ac5c-e7961a3ef367"
      },
      "execution_count": null,
      "outputs": [
        {
          "output_type": "execute_result",
          "data": {
            "text/plain": [
              "RandomForestClassifier(max_depth=40, n_estimators=300, random_state=42)"
            ],
            "text/html": [
              "<style>#sk-container-id-8 {color: black;}#sk-container-id-8 pre{padding: 0;}#sk-container-id-8 div.sk-toggleable {background-color: white;}#sk-container-id-8 label.sk-toggleable__label {cursor: pointer;display: block;width: 100%;margin-bottom: 0;padding: 0.3em;box-sizing: border-box;text-align: center;}#sk-container-id-8 label.sk-toggleable__label-arrow:before {content: \"▸\";float: left;margin-right: 0.25em;color: #696969;}#sk-container-id-8 label.sk-toggleable__label-arrow:hover:before {color: black;}#sk-container-id-8 div.sk-estimator:hover label.sk-toggleable__label-arrow:before {color: black;}#sk-container-id-8 div.sk-toggleable__content {max-height: 0;max-width: 0;overflow: hidden;text-align: left;background-color: #f0f8ff;}#sk-container-id-8 div.sk-toggleable__content pre {margin: 0.2em;color: black;border-radius: 0.25em;background-color: #f0f8ff;}#sk-container-id-8 input.sk-toggleable__control:checked~div.sk-toggleable__content {max-height: 200px;max-width: 100%;overflow: auto;}#sk-container-id-8 input.sk-toggleable__control:checked~label.sk-toggleable__label-arrow:before {content: \"▾\";}#sk-container-id-8 div.sk-estimator input.sk-toggleable__control:checked~label.sk-toggleable__label {background-color: #d4ebff;}#sk-container-id-8 div.sk-label input.sk-toggleable__control:checked~label.sk-toggleable__label {background-color: #d4ebff;}#sk-container-id-8 input.sk-hidden--visually {border: 0;clip: rect(1px 1px 1px 1px);clip: rect(1px, 1px, 1px, 1px);height: 1px;margin: -1px;overflow: hidden;padding: 0;position: absolute;width: 1px;}#sk-container-id-8 div.sk-estimator {font-family: monospace;background-color: #f0f8ff;border: 1px dotted black;border-radius: 0.25em;box-sizing: border-box;margin-bottom: 0.5em;}#sk-container-id-8 div.sk-estimator:hover {background-color: #d4ebff;}#sk-container-id-8 div.sk-parallel-item::after {content: \"\";width: 100%;border-bottom: 1px solid gray;flex-grow: 1;}#sk-container-id-8 div.sk-label:hover label.sk-toggleable__label {background-color: #d4ebff;}#sk-container-id-8 div.sk-serial::before {content: \"\";position: absolute;border-left: 1px solid gray;box-sizing: border-box;top: 0;bottom: 0;left: 50%;z-index: 0;}#sk-container-id-8 div.sk-serial {display: flex;flex-direction: column;align-items: center;background-color: white;padding-right: 0.2em;padding-left: 0.2em;position: relative;}#sk-container-id-8 div.sk-item {position: relative;z-index: 1;}#sk-container-id-8 div.sk-parallel {display: flex;align-items: stretch;justify-content: center;background-color: white;position: relative;}#sk-container-id-8 div.sk-item::before, #sk-container-id-8 div.sk-parallel-item::before {content: \"\";position: absolute;border-left: 1px solid gray;box-sizing: border-box;top: 0;bottom: 0;left: 50%;z-index: -1;}#sk-container-id-8 div.sk-parallel-item {display: flex;flex-direction: column;z-index: 1;position: relative;background-color: white;}#sk-container-id-8 div.sk-parallel-item:first-child::after {align-self: flex-end;width: 50%;}#sk-container-id-8 div.sk-parallel-item:last-child::after {align-self: flex-start;width: 50%;}#sk-container-id-8 div.sk-parallel-item:only-child::after {width: 0;}#sk-container-id-8 div.sk-dashed-wrapped {border: 1px dashed gray;margin: 0 0.4em 0.5em 0.4em;box-sizing: border-box;padding-bottom: 0.4em;background-color: white;}#sk-container-id-8 div.sk-label label {font-family: monospace;font-weight: bold;display: inline-block;line-height: 1.2em;}#sk-container-id-8 div.sk-label-container {text-align: center;}#sk-container-id-8 div.sk-container {/* jupyter's `normalize.less` sets `[hidden] { display: none; }` but bootstrap.min.css set `[hidden] { display: none !important; }` so we also need the `!important` here to be able to override the default hidden behavior on the sphinx rendered scikit-learn.org. See: https://github.com/scikit-learn/scikit-learn/issues/21755 */display: inline-block !important;position: relative;}#sk-container-id-8 div.sk-text-repr-fallback {display: none;}</style><div id=\"sk-container-id-8\" class=\"sk-top-container\"><div class=\"sk-text-repr-fallback\"><pre>RandomForestClassifier(max_depth=40, n_estimators=300, random_state=42)</pre><b>In a Jupyter environment, please rerun this cell to show the HTML representation or trust the notebook. <br />On GitHub, the HTML representation is unable to render, please try loading this page with nbviewer.org.</b></div><div class=\"sk-container\" hidden><div class=\"sk-item\"><div class=\"sk-estimator sk-toggleable\"><input class=\"sk-toggleable__control sk-hidden--visually\" id=\"sk-estimator-id-16\" type=\"checkbox\" checked><label for=\"sk-estimator-id-16\" class=\"sk-toggleable__label sk-toggleable__label-arrow\">RandomForestClassifier</label><div class=\"sk-toggleable__content\"><pre>RandomForestClassifier(max_depth=40, n_estimators=300, random_state=42)</pre></div></div></div></div></div>"
            ]
          },
          "metadata": {},
          "execution_count": 66
        }
      ]
    },
    {
      "cell_type": "code",
      "source": [
        "# Fazer previsões no conjunto de teste\n",
        "y_pred = optimized_rf_clf.predict(X_test)  # Usa o modelo otimizado para prever as classes do conjunto de teste (X_test). As previsões são armazenadas em y_pred.\n",
        "\n",
        "# Avaliar o modelo\n",
        "accuracy = accuracy_score(y_test, y_pred)  # Calcula a acurácia do modelo comparando as previsões (y_pred) com os valores reais (y_test).\n",
        "\n",
        "conf_matrix = confusion_matrix(y_test, y_pred)  # Gera a matriz de confusão, que mostra o desempenho do modelo em termos de verdadeiros positivos, verdadeiros negativos, falsos positivos e falsos negativos.\n",
        "\n",
        "class_report = classification_report(y_test, y_pred)  # Gera um relatório detalhado de classificação, que inclui métricas como precisão, recall e F1-score para cada classe.\n",
        "\n",
        "print(f\"Acurácia: {accuracy}\")\n",
        "print(\"Matriz de Confusão:\")\n",
        "print(conf_matrix)\n",
        "print(\"Relatório de Classificação:\")\n",
        "print(class_report)"
      ],
      "metadata": {
        "colab": {
          "base_uri": "https://localhost:8080/"
        },
        "id": "cwS1TzyVZXWW",
        "outputId": "922d221f-da7f-45ef-8102-07d3455820c6"
      },
      "execution_count": null,
      "outputs": [
        {
          "output_type": "stream",
          "name": "stdout",
          "text": [
            "Acurácia: 0.8070204081632653\n",
            "Matriz de Confusão:\n",
            "[[1839   82  116]\n",
            " [  36 1605  412]\n",
            " [  80  456 1499]]\n",
            "Relatório de Classificação:\n",
            "              precision    recall  f1-score   support\n",
            "\n",
            "           0       0.94      0.90      0.92      2037\n",
            "           1       0.75      0.78      0.77      2053\n",
            "           2       0.74      0.74      0.74      2035\n",
            "\n",
            "    accuracy                           0.81      6125\n",
            "   macro avg       0.81      0.81      0.81      6125\n",
            "weighted avg       0.81      0.81      0.81      6125\n",
            "\n"
          ]
        }
      ]
    },
    {
      "cell_type": "code",
      "source": [
        "cm = confusion_matrix(y_test, y_pred)\n",
        "\n",
        "plt.figure(figsize=(6, 5))\n",
        "sns.heatmap(cm, annot=True, fmt='d', cmap='Blues', xticklabels=label_encoder.classes_, yticklabels=label_encoder.classes_)\n",
        "plt.xlabel('Predicted')\n",
        "plt.ylabel('True')\n",
        "plt.title('Matriz de Confusão (Florestas Aleatórias)')\n",
        "plt.show()"
      ],
      "metadata": {
        "colab": {
          "base_uri": "https://localhost:8080/",
          "height": 487
        },
        "id": "JjT3oZCnczzt",
        "outputId": "97f66006-8bb8-42f6-dab1-7028ff97095c"
      },
      "execution_count": null,
      "outputs": [
        {
          "output_type": "display_data",
          "data": {
            "text/plain": [
              "<Figure size 600x500 with 2 Axes>"
            ],
            "image/png": "[encoded data removed]"
          },
          "metadata": {}
        }
      ]
    },
    {
      "cell_type": "markdown",
      "source": [
        "## **Rede Neural - Perceptron de Multiplas Camadas (Multi Layer Perceptron)**"
      ],
      "metadata": {
        "id": "kX2x793vd94Q"
      }
    },
    {
      "cell_type": "markdown",
      "source": [
        "Um Perceptron de Multiplas Camadas é uma rede neural artificial composta por várias camadas de neurônios. Ele tem uma camada de entrada, uma ou mais camadas ocultas, e uma camada de saída. Cada neurônio em uma camada está conectado a todos os neurônios da camada seguinte, e usa funções de ativação não lineares para capturar padrões complexos nos dados. O MLP é treinado usando algoritmos de retropropagação para ajustar os pesos das conexões e minimizar o erro de previsão.\n",
        "\n",
        "Para mais detalhes: [clique aqui](https://scikit-learn.org/stable/modules/neural_networks_supervised.html#multi-layer-perceptron)."
      ],
      "metadata": {
        "id": "7WLSdUZ6RaZ_"
      }
    },
    {
      "cell_type": "code",
      "source": [
        "# Definir o espaço de hiperparâmetros para o RandomizedSearchCV\n",
        "param_distributions = {\n",
        "    'hidden_layer_sizes': [(50,), (100,), (50, 50), (100, 50)],  # Diferentes configurações de camadas ocultas para a rede neural.\n",
        "    'activation': ['tanh', 'relu'],  # Funções de ativação a serem testadas.\n",
        "    'solver': ['adam', 'sgd'],  # Algoritmos de otimização a serem testados.\n",
        "    'alpha': [0.0001, 0.001, 0.01],  # Termo de regularização para evitar overfitting.\n",
        "    'learning_rate': ['constant', 'adaptive'],  # Estratégias de ajuste da taxa de aprendizado.\n",
        "    'batch_size': [32, 64, 128]  # Tamanhos de batch para o treinamento.\n",
        "}\n",
        "\n",
        "mlp_clf = MLPClassifier(random_state=42)  # Instancia o classificador MLP com uma semente aleatória fixa para reprodutibilidade.\n",
        "\n",
        "# Configurar o RandomizedSearchCV\n",
        "random_search = RandomizedSearchCV(\n",
        "    estimator=mlp_clf,  # O classificador MLP que será ajustado.\n",
        "    param_distributions=param_distributions,  # O espaço de busca dos hiperparâmetros.\n",
        "    n_iter=50,  # Número de combinações de hiperparâmetros a serem testadas.\n",
        "    cv=3,  # Número de folds na validação cruzada.\n",
        "    verbose=2,  # Informações detalhadas sobre o progresso do ajuste dos hiperparâmetros.\n",
        "    n_jobs=-1,  # Usar todos os núcleos de processamento disponíveis para acelerar a busca.\n",
        "    random_state=42  # Semente aleatória para reprodutibilidade dos resultados.\n",
        ")\n",
        "\n",
        "# Ajustar o modelo com RandomizedSearchCV\n",
        "random_search.fit(X_train, y_train)  # Ajusta o RandomizedSearchCV ao conjunto de treinamento (X_train, y_train) para encontrar a melhor combinação de hiperparâmetros."
      ],
      "metadata": {
        "colab": {
          "base_uri": "https://localhost:8080/",
          "height": 189
        },
        "id": "aCc57vijfB1U",
        "outputId": "72e73d19-e121-4711-db1d-fcae7c10de31"
      },
      "execution_count": null,
      "outputs": [
        {
          "output_type": "stream",
          "name": "stdout",
          "text": [
            "Fitting 3 folds for each of 50 candidates, totalling 150 fits\n"
          ]
        },
        {
          "output_type": "stream",
          "name": "stderr",
          "text": [
            "/usr/local/lib/python3.10/dist-packages/sklearn/neural_network/_multilayer_perceptron.py:691: ConvergenceWarning: Stochastic Optimizer: Maximum iterations (200) reached and the optimization hasn't converged yet.\n",
            "  warnings.warn(\n"
          ]
        },
        {
          "output_type": "execute_result",
          "data": {
            "text/plain": [
              "RandomizedSearchCV(cv=3, estimator=MLPClassifier(random_state=42), n_iter=50,\n",
              "                   n_jobs=-1,\n",
              "                   param_distributions={'activation': ['tanh', 'relu'],\n",
              "                                        'alpha': [0.0001, 0.001, 0.01],\n",
              "                                        'batch_size': [32, 64, 128],\n",
              "                                        'hidden_layer_sizes': [(50,), (100,),\n",
              "                                                               (50, 50),\n",
              "                                                               (100, 50)],\n",
              "                                        'learning_rate': ['constant',\n",
              "                                                          'adaptive'],\n",
              "                                        'solver': ['adam', 'sgd']},\n",
              "                   random_state=42, verbose=2)"
            ],
            "text/html": [
              "<style>#sk-container-id-5 {color: black;}#sk-container-id-5 pre{padding: 0;}#sk-container-id-5 div.sk-toggleable {background-color: white;}#sk-container-id-5 label.sk-toggleable__label {cursor: pointer;display: block;width: 100%;margin-bottom: 0;padding: 0.3em;box-sizing: border-box;text-align: center;}#sk-container-id-5 label.sk-toggleable__label-arrow:before {content: \"▸\";float: left;margin-right: 0.25em;color: #696969;}#sk-container-id-5 label.sk-toggleable__label-arrow:hover:before {color: black;}#sk-container-id-5 div.sk-estimator:hover label.sk-toggleable__label-arrow:before {color: black;}#sk-container-id-5 div.sk-toggleable__content {max-height: 0;max-width: 0;overflow: hidden;text-align: left;background-color: #f0f8ff;}#sk-container-id-5 div.sk-toggleable__content pre {margin: 0.2em;color: black;border-radius: 0.25em;background-color: #f0f8ff;}#sk-container-id-5 input.sk-toggleable__control:checked~div.sk-toggleable__content {max-height: 200px;max-width: 100%;overflow: auto;}#sk-container-id-5 input.sk-toggleable__control:checked~label.sk-toggleable__label-arrow:before {content: \"▾\";}#sk-container-id-5 div.sk-estimator input.sk-toggleable__control:checked~label.sk-toggleable__label {background-color: #d4ebff;}#sk-container-id-5 div.sk-label input.sk-toggleable__control:checked~label.sk-toggleable__label {background-color: #d4ebff;}#sk-container-id-5 input.sk-hidden--visually {border: 0;clip: rect(1px 1px 1px 1px);clip: rect(1px, 1px, 1px, 1px);height: 1px;margin: -1px;overflow: hidden;padding: 0;position: absolute;width: 1px;}#sk-container-id-5 div.sk-estimator {font-family: monospace;background-color: #f0f8ff;border: 1px dotted black;border-radius: 0.25em;box-sizing: border-box;margin-bottom: 0.5em;}#sk-container-id-5 div.sk-estimator:hover {background-color: #d4ebff;}#sk-container-id-5 div.sk-parallel-item::after {content: \"\";width: 100%;border-bottom: 1px solid gray;flex-grow: 1;}#sk-container-id-5 div.sk-label:hover label.sk-toggleable__label {background-color: #d4ebff;}#sk-container-id-5 div.sk-serial::before {content: \"\";position: absolute;border-left: 1px solid gray;box-sizing: border-box;top: 0;bottom: 0;left: 50%;z-index: 0;}#sk-container-id-5 div.sk-serial {display: flex;flex-direction: column;align-items: center;background-color: white;padding-right: 0.2em;padding-left: 0.2em;position: relative;}#sk-container-id-5 div.sk-item {position: relative;z-index: 1;}#sk-container-id-5 div.sk-parallel {display: flex;align-items: stretch;justify-content: center;background-color: white;position: relative;}#sk-container-id-5 div.sk-item::before, #sk-container-id-5 div.sk-parallel-item::before {content: \"\";position: absolute;border-left: 1px solid gray;box-sizing: border-box;top: 0;bottom: 0;left: 50%;z-index: -1;}#sk-container-id-5 div.sk-parallel-item {display: flex;flex-direction: column;z-index: 1;position: relative;background-color: white;}#sk-container-id-5 div.sk-parallel-item:first-child::after {align-self: flex-end;width: 50%;}#sk-container-id-5 div.sk-parallel-item:last-child::after {align-self: flex-start;width: 50%;}#sk-container-id-5 div.sk-parallel-item:only-child::after {width: 0;}#sk-container-id-5 div.sk-dashed-wrapped {border: 1px dashed gray;margin: 0 0.4em 0.5em 0.4em;box-sizing: border-box;padding-bottom: 0.4em;background-color: white;}#sk-container-id-5 div.sk-label label {font-family: monospace;font-weight: bold;display: inline-block;line-height: 1.2em;}#sk-container-id-5 div.sk-label-container {text-align: center;}#sk-container-id-5 div.sk-container {/* jupyter's `normalize.less` sets `[hidden] { display: none; }` but bootstrap.min.css set `[hidden] { display: none !important; }` so we also need the `!important` here to be able to override the default hidden behavior on the sphinx rendered scikit-learn.org. See: https://github.com/scikit-learn/scikit-learn/issues/21755 */display: inline-block !important;position: relative;}#sk-container-id-5 div.sk-text-repr-fallback {display: none;}</style><div id=\"sk-container-id-5\" class=\"sk-top-container\"><div class=\"sk-text-repr-fallback\"><pre>RandomizedSearchCV(cv=3, estimator=MLPClassifier(random_state=42), n_iter=50,\n",
              "                   n_jobs=-1,\n",
              "                   param_distributions={&#x27;activation&#x27;: [&#x27;tanh&#x27;, &#x27;relu&#x27;],\n",
              "                                        &#x27;alpha&#x27;: [0.0001, 0.001, 0.01],\n",
              "                                        &#x27;batch_size&#x27;: [32, 64, 128],\n",
              "                                        &#x27;hidden_layer_sizes&#x27;: [(50,), (100,),\n",
              "                                                               (50, 50),\n",
              "                                                               (100, 50)],\n",
              "                                        &#x27;learning_rate&#x27;: [&#x27;constant&#x27;,\n",
              "                                                          &#x27;adaptive&#x27;],\n",
              "                                        &#x27;solver&#x27;: [&#x27;adam&#x27;, &#x27;sgd&#x27;]},\n",
              "                   random_state=42, verbose=2)</pre><b>In a Jupyter environment, please rerun this cell to show the HTML representation or trust the notebook. <br />On GitHub, the HTML representation is unable to render, please try loading this page with nbviewer.org.</b></div><div class=\"sk-container\" hidden><div class=\"sk-item sk-dashed-wrapped\"><div class=\"sk-label-container\"><div class=\"sk-label sk-toggleable\"><input class=\"sk-toggleable__control sk-hidden--visually\" id=\"sk-estimator-id-9\" type=\"checkbox\" ><label for=\"sk-estimator-id-9\" class=\"sk-toggleable__label sk-toggleable__label-arrow\">RandomizedSearchCV</label><div class=\"sk-toggleable__content\"><pre>RandomizedSearchCV(cv=3, estimator=MLPClassifier(random_state=42), n_iter=50,\n",
              "                   n_jobs=-1,\n",
              "                   param_distributions={&#x27;activation&#x27;: [&#x27;tanh&#x27;, &#x27;relu&#x27;],\n",
              "                                        &#x27;alpha&#x27;: [0.0001, 0.001, 0.01],\n",
              "                                        &#x27;batch_size&#x27;: [32, 64, 128],\n",
              "                                        &#x27;hidden_layer_sizes&#x27;: [(50,), (100,),\n",
              "                                                               (50, 50),\n",
              "                                                               (100, 50)],\n",
              "                                        &#x27;learning_rate&#x27;: [&#x27;constant&#x27;,\n",
              "                                                          &#x27;adaptive&#x27;],\n",
              "                                        &#x27;solver&#x27;: [&#x27;adam&#x27;, &#x27;sgd&#x27;]},\n",
              "                   random_state=42, verbose=2)</pre></div></div></div><div class=\"sk-parallel\"><div class=\"sk-parallel-item\"><div class=\"sk-item\"><div class=\"sk-label-container\"><div class=\"sk-label sk-toggleable\"><input class=\"sk-toggleable__control sk-hidden--visually\" id=\"sk-estimator-id-10\" type=\"checkbox\" ><label for=\"sk-estimator-id-10\" class=\"sk-toggleable__label sk-toggleable__label-arrow\">estimator: MLPClassifier</label><div class=\"sk-toggleable__content\"><pre>MLPClassifier(random_state=42)</pre></div></div></div><div class=\"sk-serial\"><div class=\"sk-item\"><div class=\"sk-estimator sk-toggleable\"><input class=\"sk-toggleable__control sk-hidden--visually\" id=\"sk-estimator-id-11\" type=\"checkbox\" ><label for=\"sk-estimator-id-11\" class=\"sk-toggleable__label sk-toggleable__label-arrow\">MLPClassifier</label><div class=\"sk-toggleable__content\"><pre>MLPClassifier(random_state=42)</pre></div></div></div></div></div></div></div></div></div></div>"
            ]
          },
          "metadata": {},
          "execution_count": 59
        }
      ]
    },
    {
      "cell_type": "code",
      "source": [
        "print(f\"Melhores parâmetros encontrados: {random_search.best_params_}\")"
      ],
      "metadata": {
        "colab": {
          "base_uri": "https://localhost:8080/"
        },
        "id": "0yI5pvB9ImCR",
        "outputId": "5a025d9b-302e-418f-afaf-e63d5788cefe"
      },
      "execution_count": null,
      "outputs": [
        {
          "output_type": "stream",
          "name": "stdout",
          "text": [
            "Melhores parâmetros encontrados: {'solver': 'adam', 'learning_rate': 'adaptive', 'hidden_layer_sizes': (100, 50), 'batch_size': 64, 'alpha': 0.0001, 'activation': 'tanh'}\n"
          ]
        }
      ]
    },
    {
      "cell_type": "code",
      "source": [
        "# Obter os melhores parâmetros encontrados pelo RandomizedSearchCV\n",
        "best_params = random_search.best_params_\n",
        "\n",
        "# Criar um novo modelo MLPClassifier com os melhores parâmetros encontrados\n",
        "optimized_mlp_clf = MLPClassifier(\n",
        "    hidden_layer_sizes=best_params['hidden_layer_sizes'],  # Configuração das camadas ocultas encontrada.\n",
        "    activation=best_params['activation'],  # Função de ativação encontrada.\n",
        "    solver=best_params['solver'],  # Algoritmo de otimização encontrado.\n",
        "    alpha=best_params['alpha'],  # Termo de regularização encontrado.\n",
        "    learning_rate=best_params['learning_rate'],  # Estratégia de ajuste da taxa de aprendizado encontrada.\n",
        "    batch_size=best_params['batch_size'],  # Tamanho do batch encontrado.\n",
        "    random_state=42  # Semente aleatória fixa para reprodutibilidade.\n",
        ")\n",
        "\n",
        "# Ajustar o modelo otimizado com os dados de treinamento\n",
        "optimized_mlp_clf.fit(X_train, y_train)  # Ajusta o modelo MLP otimizado ao conjunto de treinamento (X_train, y_train)."
      ],
      "metadata": {
        "colab": {
          "base_uri": "https://localhost:8080/",
          "height": 146
        },
        "id": "LsL-CJs1JWJf",
        "outputId": "87f6072c-65e6-4f53-8b39-e896ac0ec806"
      },
      "execution_count": null,
      "outputs": [
        {
          "output_type": "stream",
          "name": "stderr",
          "text": [
            "/usr/local/lib/python3.10/dist-packages/sklearn/neural_network/_multilayer_perceptron.py:691: ConvergenceWarning: Stochastic Optimizer: Maximum iterations (200) reached and the optimization hasn't converged yet.\n",
            "  warnings.warn(\n"
          ]
        },
        {
          "output_type": "execute_result",
          "data": {
            "text/plain": [
              "MLPClassifier(activation='tanh', batch_size=64, hidden_layer_sizes=(100, 50),\n",
              "              learning_rate='adaptive', random_state=42)"
            ],
            "text/html": [
              "<style>#sk-container-id-6 {color: black;}#sk-container-id-6 pre{padding: 0;}#sk-container-id-6 div.sk-toggleable {background-color: white;}#sk-container-id-6 label.sk-toggleable__label {cursor: pointer;display: block;width: 100%;margin-bottom: 0;padding: 0.3em;box-sizing: border-box;text-align: center;}#sk-container-id-6 label.sk-toggleable__label-arrow:before {content: \"▸\";float: left;margin-right: 0.25em;color: #696969;}#sk-container-id-6 label.sk-toggleable__label-arrow:hover:before {color: black;}#sk-container-id-6 div.sk-estimator:hover label.sk-toggleable__label-arrow:before {color: black;}#sk-container-id-6 div.sk-toggleable__content {max-height: 0;max-width: 0;overflow: hidden;text-align: left;background-color: #f0f8ff;}#sk-container-id-6 div.sk-toggleable__content pre {margin: 0.2em;color: black;border-radius: 0.25em;background-color: #f0f8ff;}#sk-container-id-6 input.sk-toggleable__control:checked~div.sk-toggleable__content {max-height: 200px;max-width: 100%;overflow: auto;}#sk-container-id-6 input.sk-toggleable__control:checked~label.sk-toggleable__label-arrow:before {content: \"▾\";}#sk-container-id-6 div.sk-estimator input.sk-toggleable__control:checked~label.sk-toggleable__label {background-color: #d4ebff;}#sk-container-id-6 div.sk-label input.sk-toggleable__control:checked~label.sk-toggleable__label {background-color: #d4ebff;}#sk-container-id-6 input.sk-hidden--visually {border: 0;clip: rect(1px 1px 1px 1px);clip: rect(1px, 1px, 1px, 1px);height: 1px;margin: -1px;overflow: hidden;padding: 0;position: absolute;width: 1px;}#sk-container-id-6 div.sk-estimator {font-family: monospace;background-color: #f0f8ff;border: 1px dotted black;border-radius: 0.25em;box-sizing: border-box;margin-bottom: 0.5em;}#sk-container-id-6 div.sk-estimator:hover {background-color: #d4ebff;}#sk-container-id-6 div.sk-parallel-item::after {content: \"\";width: 100%;border-bottom: 1px solid gray;flex-grow: 1;}#sk-container-id-6 div.sk-label:hover label.sk-toggleable__label {background-color: #d4ebff;}#sk-container-id-6 div.sk-serial::before {content: \"\";position: absolute;border-left: 1px solid gray;box-sizing: border-box;top: 0;bottom: 0;left: 50%;z-index: 0;}#sk-container-id-6 div.sk-serial {display: flex;flex-direction: column;align-items: center;background-color: white;padding-right: 0.2em;padding-left: 0.2em;position: relative;}#sk-container-id-6 div.sk-item {position: relative;z-index: 1;}#sk-container-id-6 div.sk-parallel {display: flex;align-items: stretch;justify-content: center;background-color: white;position: relative;}#sk-container-id-6 div.sk-item::before, #sk-container-id-6 div.sk-parallel-item::before {content: \"\";position: absolute;border-left: 1px solid gray;box-sizing: border-box;top: 0;bottom: 0;left: 50%;z-index: -1;}#sk-container-id-6 div.sk-parallel-item {display: flex;flex-direction: column;z-index: 1;position: relative;background-color: white;}#sk-container-id-6 div.sk-parallel-item:first-child::after {align-self: flex-end;width: 50%;}#sk-container-id-6 div.sk-parallel-item:last-child::after {align-self: flex-start;width: 50%;}#sk-container-id-6 div.sk-parallel-item:only-child::after {width: 0;}#sk-container-id-6 div.sk-dashed-wrapped {border: 1px dashed gray;margin: 0 0.4em 0.5em 0.4em;box-sizing: border-box;padding-bottom: 0.4em;background-color: white;}#sk-container-id-6 div.sk-label label {font-family: monospace;font-weight: bold;display: inline-block;line-height: 1.2em;}#sk-container-id-6 div.sk-label-container {text-align: center;}#sk-container-id-6 div.sk-container {/* jupyter's `normalize.less` sets `[hidden] { display: none; }` but bootstrap.min.css set `[hidden] { display: none !important; }` so we also need the `!important` here to be able to override the default hidden behavior on the sphinx rendered scikit-learn.org. See: https://github.com/scikit-learn/scikit-learn/issues/21755 */display: inline-block !important;position: relative;}#sk-container-id-6 div.sk-text-repr-fallback {display: none;}</style><div id=\"sk-container-id-6\" class=\"sk-top-container\"><div class=\"sk-text-repr-fallback\"><pre>MLPClassifier(activation=&#x27;tanh&#x27;, batch_size=64, hidden_layer_sizes=(100, 50),\n",
              "              learning_rate=&#x27;adaptive&#x27;, random_state=42)</pre><b>In a Jupyter environment, please rerun this cell to show the HTML representation or trust the notebook. <br />On GitHub, the HTML representation is unable to render, please try loading this page with nbviewer.org.</b></div><div class=\"sk-container\" hidden><div class=\"sk-item\"><div class=\"sk-estimator sk-toggleable\"><input class=\"sk-toggleable__control sk-hidden--visually\" id=\"sk-estimator-id-12\" type=\"checkbox\" checked><label for=\"sk-estimator-id-12\" class=\"sk-toggleable__label sk-toggleable__label-arrow\">MLPClassifier</label><div class=\"sk-toggleable__content\"><pre>MLPClassifier(activation=&#x27;tanh&#x27;, batch_size=64, hidden_layer_sizes=(100, 50),\n",
              "              learning_rate=&#x27;adaptive&#x27;, random_state=42)</pre></div></div></div></div></div>"
            ]
          },
          "metadata": {},
          "execution_count": 61
        }
      ]
    },
    {
      "cell_type": "code",
      "source": [
        "# Prever as classes para os dados de teste\n",
        "y_pred = optimized_mlp_clf.predict(X_test)  # Usa o modelo otimizado para prever as classes dos dados de teste (X_test).\n",
        "\n",
        "# Avaliar o modelo\n",
        "accuracy = accuracy_score(y_test, y_pred)  # Calcula a acurácia das previsões comparando com os rótulos reais (y_test).\n",
        "conf_matrix = confusion_matrix(y_test, y_pred)  # Gera a matriz de confusão para avaliar o desempenho do modelo.\n",
        "class_report = classification_report(y_test, y_pred)  # Gera um relatório de classificação com métricas como precisão, recall e F1-score.\n",
        "\n",
        "print(f\"Acurácia: {accuracy}\")\n",
        "print(\"Matriz de Confusão:\")\n",
        "print(conf_matrix)\n",
        "print(\"Relatório de Classificação:\")\n",
        "print(class_report)"
      ],
      "metadata": {
        "colab": {
          "base_uri": "https://localhost:8080/"
        },
        "id": "YDfQC94YfK2w",
        "outputId": "f8a3d1bf-af99-43aa-ca09-3f345aa566ae"
      },
      "execution_count": null,
      "outputs": [
        {
          "output_type": "stream",
          "name": "stdout",
          "text": [
            "Acurácia: 0.7324081632653061\n",
            "Matriz de Confusão:\n",
            "[[1713  117  207]\n",
            " [  79 1407  567]\n",
            " [ 183  486 1366]]\n",
            "Relatório de Classificação:\n",
            "              precision    recall  f1-score   support\n",
            "\n",
            "           0       0.87      0.84      0.85      2037\n",
            "           1       0.70      0.69      0.69      2053\n",
            "           2       0.64      0.67      0.65      2035\n",
            "\n",
            "    accuracy                           0.73      6125\n",
            "   macro avg       0.74      0.73      0.73      6125\n",
            "weighted avg       0.74      0.73      0.73      6125\n",
            "\n"
          ]
        }
      ]
    },
    {
      "cell_type": "code",
      "source": [
        "cm = confusion_matrix(y_test, y_pred)\n",
        "\n",
        "plt.figure(figsize=(6, 5))\n",
        "sns.heatmap(cm, annot=True, fmt='d', cmap='Blues', xticklabels=label_encoder.classes_, yticklabels=label_encoder.classes_)\n",
        "plt.xlabel('Predicted')\n",
        "plt.ylabel('True')\n",
        "plt.title('Matriz de Confusão (Rede Neural - Perceptron de Múltiplas Camadas)')\n",
        "plt.show()"
      ],
      "metadata": {
        "colab": {
          "base_uri": "https://localhost:8080/",
          "height": 488
        },
        "id": "PP2nlcklfOf6",
        "outputId": "c345c574-4747-4955-8dc3-0a426241050a"
      },
      "execution_count": null,
      "outputs": [
        {
          "output_type": "display_data",
          "data": {
            "text/plain": [
              "<Figure size 600x500 with 2 Axes>"
            ],
            "image/png": "[encoded data removed]"
          },
          "metadata": {}
        }
      ]
    },
    {
      "cell_type": "markdown",
      "source": [
        "# **Conclusão**"
      ],
      "metadata": {
        "id": "HAaL7Cm67iTt"
      }
    },
    {
      "cell_type": "markdown",
      "source": [
        "O algoritmo que obteve a maior performance foi o Florestas Aleatórias, com 81% de acurácia e com uma maior quantidade de previsões corretas para a classe Extinto que seria a principal classe para solução do meu problema inicial. Portanto será o modelo no qual irei salvar."
      ],
      "metadata": {
        "id": "eBH2pWTg73hX"
      }
    },
    {
      "cell_type": "code",
      "source": [
        "joblib.dump(optimized_rf_clf, 'model.joblib')"
      ],
      "metadata": {
        "colab": {
          "base_uri": "https://localhost:8080/"
        },
        "id": "0QjvrhV47h-e",
        "outputId": "fcfc035a-ffe5-473f-c929-870849fa4e68"
      },
      "execution_count": null,
      "outputs": [
        {
          "output_type": "execute_result",
          "data": {
            "text/plain": [
              "['model.joblib']"
            ]
          },
          "metadata": {},
          "execution_count": 70
        }
      ]
    }
  ]
}