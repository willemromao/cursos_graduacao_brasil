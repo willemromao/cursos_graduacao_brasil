{
 "cells": [
  {
   "cell_type": "code",
   "execution_count": 133,
   "id": "7dba310d",
   "metadata": {},
   "outputs": [],
   "source": [
    "import pandas as pd\n",
    "import numpy as np\n",
    "import matplotlib.pyplot as plt\n",
    "import seaborn as sns"
   ]
  },
  {
   "cell_type": "code",
   "execution_count": 134,
   "id": "9098b1bd",
   "metadata": {},
   "outputs": [],
   "source": [
    "df = pd.read_csv('/home/willemromao/Downloads/TI/projetos_graduacao/ciencia_de_dados/cursos_graduacao_brasil/data/raw.csv')"
   ]
  },
  {
   "cell_type": "code",
   "execution_count": 135,
   "id": "cd28414d",
   "metadata": {},
   "outputs": [
    {
     "data": {
      "text/html": [
       "<div>\n",
       "<style scoped>\n",
       "    .dataframe tbody tr th:only-of-type {\n",
       "        vertical-align: middle;\n",
       "    }\n",
       "\n",
       "    .dataframe tbody tr th {\n",
       "        vertical-align: top;\n",
       "    }\n",
       "\n",
       "    .dataframe thead th {\n",
       "        text-align: right;\n",
       "    }\n",
       "</style>\n",
       "<table border=\"1\" class=\"dataframe\">\n",
       "  <thead>\n",
       "    <tr style=\"text-align: right;\">\n",
       "      <th></th>\n",
       "      <th>CODIGO_IES</th>\n",
       "      <th>NOME_IES</th>\n",
       "      <th>CATEGORIA_ADMINISTRATIVA</th>\n",
       "      <th>ORGANIZACAO_ACADEMICA</th>\n",
       "      <th>CODIGO_CURSO</th>\n",
       "      <th>NOME_CURSO</th>\n",
       "      <th>GRAU</th>\n",
       "      <th>AREA_OCDE</th>\n",
       "      <th>MODALIDADE</th>\n",
       "      <th>SITUACAO_CURSO</th>\n",
       "      <th>QT_VAGAS_AUTORIZADAS</th>\n",
       "      <th>CARGA_HORARIA</th>\n",
       "      <th>CODIGO_AREA_OCDE_CINE</th>\n",
       "      <th>AREA_OCDE_CINE</th>\n",
       "      <th>CODIGO_MUNICIPIO</th>\n",
       "      <th>MUNICIPIO</th>\n",
       "      <th>UF</th>\n",
       "      <th>REGIAO</th>\n",
       "    </tr>\n",
       "  </thead>\n",
       "  <tbody>\n",
       "    <tr>\n",
       "      <th>0</th>\n",
       "      <td>4751</td>\n",
       "      <td>CENTRO UNIVERSITÁRIO UNIFATECIE</td>\n",
       "      <td>Privada com fins lucrativos</td>\n",
       "      <td>Centro Universitário</td>\n",
       "      <td>1556773</td>\n",
       "      <td>ENGENHARIA AGRONÔMICA</td>\n",
       "      <td>Bacharelado</td>\n",
       "      <td>Agronomia</td>\n",
       "      <td>Educação a Distância</td>\n",
       "      <td>Em atividade</td>\n",
       "      <td>1000</td>\n",
       "      <td>4400</td>\n",
       "      <td>301</td>\n",
       "      <td>Agronomia</td>\n",
       "      <td>3541406</td>\n",
       "      <td>Presidente Prudente</td>\n",
       "      <td>SP</td>\n",
       "      <td>SUDESTE</td>\n",
       "    </tr>\n",
       "    <tr>\n",
       "      <th>1</th>\n",
       "      <td>1491</td>\n",
       "      <td>CENTRO UNIVERSITÁRIO INTERNACIONAL</td>\n",
       "      <td>Privada com fins lucrativos</td>\n",
       "      <td>Centro Universitário</td>\n",
       "      <td>1186955</td>\n",
       "      <td>LETRAS</td>\n",
       "      <td>Licenciatura</td>\n",
       "      <td>Formação de professor de língua/literatura ver...</td>\n",
       "      <td>Educação a Distância</td>\n",
       "      <td>Em atividade</td>\n",
       "      <td>3000</td>\n",
       "      <td>3992</td>\n",
       "      <td>58</td>\n",
       "      <td>Formação de professor de língua/literatura ver...</td>\n",
       "      <td>2516201</td>\n",
       "      <td>Sousa</td>\n",
       "      <td>PB</td>\n",
       "      <td>NORDESTE</td>\n",
       "    </tr>\n",
       "    <tr>\n",
       "      <th>2</th>\n",
       "      <td>1472</td>\n",
       "      <td>CENTRO UNIVERSITÁRIO LEONARDO DA VINCI</td>\n",
       "      <td>Privada com fins lucrativos</td>\n",
       "      <td>Centro Universitário</td>\n",
       "      <td>99950</td>\n",
       "      <td>GEOGRAFIA</td>\n",
       "      <td>Licenciatura</td>\n",
       "      <td>Formação de professor de geografia</td>\n",
       "      <td>Educação a Distância</td>\n",
       "      <td>Em atividade</td>\n",
       "      <td>7620</td>\n",
       "      <td>3500</td>\n",
       "      <td>39</td>\n",
       "      <td>Formação de professor de geografia</td>\n",
       "      <td>2800308</td>\n",
       "      <td>Aracaju</td>\n",
       "      <td>SE</td>\n",
       "      <td>NORDESTE</td>\n",
       "    </tr>\n",
       "    <tr>\n",
       "      <th>3</th>\n",
       "      <td>221</td>\n",
       "      <td>UNIVERSIDADE CRUZEIRO DO SUL</td>\n",
       "      <td>Privada com fins lucrativos</td>\n",
       "      <td>Universidade</td>\n",
       "      <td>1467998</td>\n",
       "      <td>EDUCAÇÃO FÍSICA</td>\n",
       "      <td>Bacharelado</td>\n",
       "      <td>Educação física</td>\n",
       "      <td>Educação a Distância</td>\n",
       "      <td>Em atividade</td>\n",
       "      <td>1200</td>\n",
       "      <td>3200</td>\n",
       "      <td>328</td>\n",
       "      <td>Educação física</td>\n",
       "      <td>4113205</td>\n",
       "      <td>Lapa</td>\n",
       "      <td>PR</td>\n",
       "      <td>SUL</td>\n",
       "    </tr>\n",
       "    <tr>\n",
       "      <th>4</th>\n",
       "      <td>1472</td>\n",
       "      <td>CENTRO UNIVERSITÁRIO LEONARDO DA VINCI</td>\n",
       "      <td>Privada com fins lucrativos</td>\n",
       "      <td>Centro Universitário</td>\n",
       "      <td>1516788</td>\n",
       "      <td>SERVIÇOS PENAIS</td>\n",
       "      <td>Tecnológico</td>\n",
       "      <td>NaN</td>\n",
       "      <td>Educação a Distância</td>\n",
       "      <td>Em atividade</td>\n",
       "      <td>1500</td>\n",
       "      <td>1980</td>\n",
       "      <td>357</td>\n",
       "      <td>Serviços penais</td>\n",
       "      <td>2601706</td>\n",
       "      <td>Belo Jardim</td>\n",
       "      <td>PE</td>\n",
       "      <td>NORDESTE</td>\n",
       "    </tr>\n",
       "  </tbody>\n",
       "</table>\n",
       "</div>"
      ],
      "text/plain": [
       "   CODIGO_IES                                NOME_IES  \\\n",
       "0        4751         CENTRO UNIVERSITÁRIO UNIFATECIE   \n",
       "1        1491      CENTRO UNIVERSITÁRIO INTERNACIONAL   \n",
       "2        1472  CENTRO UNIVERSITÁRIO LEONARDO DA VINCI   \n",
       "3         221            UNIVERSIDADE CRUZEIRO DO SUL   \n",
       "4        1472  CENTRO UNIVERSITÁRIO LEONARDO DA VINCI   \n",
       "\n",
       "      CATEGORIA_ADMINISTRATIVA ORGANIZACAO_ACADEMICA  CODIGO_CURSO  \\\n",
       "0  Privada com fins lucrativos  Centro Universitário       1556773   \n",
       "1  Privada com fins lucrativos  Centro Universitário       1186955   \n",
       "2  Privada com fins lucrativos  Centro Universitário         99950   \n",
       "3  Privada com fins lucrativos          Universidade       1467998   \n",
       "4  Privada com fins lucrativos  Centro Universitário       1516788   \n",
       "\n",
       "              NOME_CURSO          GRAU  \\\n",
       "0  ENGENHARIA AGRONÔMICA   Bacharelado   \n",
       "1                 LETRAS  Licenciatura   \n",
       "2              GEOGRAFIA  Licenciatura   \n",
       "3        EDUCAÇÃO FÍSICA   Bacharelado   \n",
       "4        SERVIÇOS PENAIS   Tecnológico   \n",
       "\n",
       "                                           AREA_OCDE            MODALIDADE  \\\n",
       "0                                          Agronomia  Educação a Distância   \n",
       "1  Formação de professor de língua/literatura ver...  Educação a Distância   \n",
       "2                 Formação de professor de geografia  Educação a Distância   \n",
       "3                                    Educação física  Educação a Distância   \n",
       "4                                                NaN  Educação a Distância   \n",
       "\n",
       "  SITUACAO_CURSO  QT_VAGAS_AUTORIZADAS  CARGA_HORARIA CODIGO_AREA_OCDE_CINE  \\\n",
       "0   Em atividade                  1000           4400                   301   \n",
       "1   Em atividade                  3000           3992                    58   \n",
       "2   Em atividade                  7620           3500                    39   \n",
       "3   Em atividade                  1200           3200                   328   \n",
       "4   Em atividade                  1500           1980                   357   \n",
       "\n",
       "                                      AREA_OCDE_CINE  CODIGO_MUNICIPIO  \\\n",
       "0                                          Agronomia           3541406   \n",
       "1  Formação de professor de língua/literatura ver...           2516201   \n",
       "2                 Formação de professor de geografia           2800308   \n",
       "3                                    Educação física           4113205   \n",
       "4                                    Serviços penais           2601706   \n",
       "\n",
       "             MUNICIPIO  UF    REGIAO  \n",
       "0  Presidente Prudente  SP   SUDESTE  \n",
       "1                Sousa  PB  NORDESTE  \n",
       "2              Aracaju  SE  NORDESTE  \n",
       "3                 Lapa  PR       SUL  \n",
       "4          Belo Jardim  PE  NORDESTE  "
      ]
     },
     "execution_count": 135,
     "metadata": {},
     "output_type": "execute_result"
    }
   ],
   "source": [
    "# Verificando as primeiras linhas do DataFrame\n",
    "\n",
    "df.head()"
   ]
  },
  {
   "cell_type": "code",
   "execution_count": 136,
   "id": "b42e3b95",
   "metadata": {},
   "outputs": [
    {
     "name": "stdout",
     "output_type": "stream",
     "text": [
      "<class 'pandas.core.frame.DataFrame'>\n",
      "RangeIndex: 902676 entries, 0 to 902675\n",
      "Data columns (total 18 columns):\n",
      " #   Column                    Non-Null Count   Dtype \n",
      "---  ------                    --------------   ----- \n",
      " 0   CODIGO_IES                902676 non-null  int64 \n",
      " 1   NOME_IES                  902676 non-null  object\n",
      " 2   CATEGORIA_ADMINISTRATIVA  902676 non-null  object\n",
      " 3   ORGANIZACAO_ACADEMICA     902676 non-null  object\n",
      " 4   CODIGO_CURSO              902676 non-null  int64 \n",
      " 5   NOME_CURSO                902676 non-null  object\n",
      " 6   GRAU                      902676 non-null  object\n",
      " 7   AREA_OCDE                 680577 non-null  object\n",
      " 8   MODALIDADE                902676 non-null  object\n",
      " 9   SITUACAO_CURSO            902676 non-null  object\n",
      " 10  QT_VAGAS_AUTORIZADAS      902676 non-null  int64 \n",
      " 11  CARGA_HORARIA             902676 non-null  int64 \n",
      " 12  CODIGO_AREA_OCDE_CINE     902649 non-null  object\n",
      " 13  AREA_OCDE_CINE            902649 non-null  object\n",
      " 14  CODIGO_MUNICIPIO          902676 non-null  int64 \n",
      " 15  MUNICIPIO                 902676 non-null  object\n",
      " 16  UF                        902676 non-null  object\n",
      " 17  REGIAO                    902676 non-null  object\n",
      "dtypes: int64(5), object(13)\n",
      "memory usage: 124.0+ MB\n"
     ]
    }
   ],
   "source": [
    "# Informações gerais do DataFrame\n",
    "\n",
    "df.info()"
   ]
  },
  {
   "cell_type": "code",
   "execution_count": 137,
   "id": "1e3aa327",
   "metadata": {},
   "outputs": [
    {
     "data": {
      "text/html": [
       "<div>\n",
       "<style scoped>\n",
       "    .dataframe tbody tr th:only-of-type {\n",
       "        vertical-align: middle;\n",
       "    }\n",
       "\n",
       "    .dataframe tbody tr th {\n",
       "        vertical-align: top;\n",
       "    }\n",
       "\n",
       "    .dataframe thead th {\n",
       "        text-align: right;\n",
       "    }\n",
       "</style>\n",
       "<table border=\"1\" class=\"dataframe\">\n",
       "  <thead>\n",
       "    <tr style=\"text-align: right;\">\n",
       "      <th></th>\n",
       "      <th>CODIGO_IES</th>\n",
       "      <th>CODIGO_CURSO</th>\n",
       "      <th>QT_VAGAS_AUTORIZADAS</th>\n",
       "      <th>CARGA_HORARIA</th>\n",
       "      <th>CODIGO_MUNICIPIO</th>\n",
       "    </tr>\n",
       "  </thead>\n",
       "  <tbody>\n",
       "    <tr>\n",
       "      <th>count</th>\n",
       "      <td>902676.000000</td>\n",
       "      <td>9.026760e+05</td>\n",
       "      <td>902676.000000</td>\n",
       "      <td>902676.000000</td>\n",
       "      <td>9.026760e+05</td>\n",
       "    </tr>\n",
       "    <tr>\n",
       "      <th>mean</th>\n",
       "      <td>1467.489141</td>\n",
       "      <td>1.275298e+06</td>\n",
       "      <td>6381.206556</td>\n",
       "      <td>2686.126029</td>\n",
       "      <td>3.338364e+06</td>\n",
       "    </tr>\n",
       "    <tr>\n",
       "      <th>std</th>\n",
       "      <td>2468.932402</td>\n",
       "      <td>6.064209e+05</td>\n",
       "      <td>14285.560618</td>\n",
       "      <td>1053.743238</td>\n",
       "      <td>9.886000e+05</td>\n",
       "    </tr>\n",
       "    <tr>\n",
       "      <th>min</th>\n",
       "      <td>1.000000</td>\n",
       "      <td>1.000000e+00</td>\n",
       "      <td>0.000000</td>\n",
       "      <td>0.000000</td>\n",
       "      <td>1.100015e+06</td>\n",
       "    </tr>\n",
       "    <tr>\n",
       "      <th>25%</th>\n",
       "      <td>322.000000</td>\n",
       "      <td>1.285815e+06</td>\n",
       "      <td>764.000000</td>\n",
       "      <td>1920.000000</td>\n",
       "      <td>2.901007e+06</td>\n",
       "    </tr>\n",
       "    <tr>\n",
       "      <th>50%</th>\n",
       "      <td>1196.000000</td>\n",
       "      <td>1.440098e+06</td>\n",
       "      <td>2000.000000</td>\n",
       "      <td>2580.000000</td>\n",
       "      <td>3.304557e+06</td>\n",
       "    </tr>\n",
       "    <tr>\n",
       "      <th>75%</th>\n",
       "      <td>1491.000000</td>\n",
       "      <td>1.541397e+06</td>\n",
       "      <td>5000.000000</td>\n",
       "      <td>3324.000000</td>\n",
       "      <td>4.114609e+06</td>\n",
       "    </tr>\n",
       "    <tr>\n",
       "      <th>max</th>\n",
       "      <td>26777.000000</td>\n",
       "      <td>5.001705e+07</td>\n",
       "      <td>150000.000000</td>\n",
       "      <td>400000.000000</td>\n",
       "      <td>9.000001e+06</td>\n",
       "    </tr>\n",
       "  </tbody>\n",
       "</table>\n",
       "</div>"
      ],
      "text/plain": [
       "          CODIGO_IES  CODIGO_CURSO  QT_VAGAS_AUTORIZADAS  CARGA_HORARIA  \\\n",
       "count  902676.000000  9.026760e+05         902676.000000  902676.000000   \n",
       "mean     1467.489141  1.275298e+06           6381.206556    2686.126029   \n",
       "std      2468.932402  6.064209e+05          14285.560618    1053.743238   \n",
       "min         1.000000  1.000000e+00              0.000000       0.000000   \n",
       "25%       322.000000  1.285815e+06            764.000000    1920.000000   \n",
       "50%      1196.000000  1.440098e+06           2000.000000    2580.000000   \n",
       "75%      1491.000000  1.541397e+06           5000.000000    3324.000000   \n",
       "max     26777.000000  5.001705e+07         150000.000000  400000.000000   \n",
       "\n",
       "       CODIGO_MUNICIPIO  \n",
       "count      9.026760e+05  \n",
       "mean       3.338364e+06  \n",
       "std        9.886000e+05  \n",
       "min        1.100015e+06  \n",
       "25%        2.901007e+06  \n",
       "50%        3.304557e+06  \n",
       "75%        4.114609e+06  \n",
       "max        9.000001e+06  "
      ]
     },
     "execution_count": 137,
     "metadata": {},
     "output_type": "execute_result"
    }
   ],
   "source": [
    "# Estatísticas descritivas\n",
    "\n",
    "df.describe()"
   ]
  },
  {
   "cell_type": "code",
   "execution_count": 138,
   "id": "dd645dcd",
   "metadata": {},
   "outputs": [
    {
     "name": "stdout",
     "output_type": "stream",
     "text": [
      "Dimensões: (902676, 18) (linhas, colunas)\n"
     ]
    }
   ],
   "source": [
    "# Dimensões do DataFrame\n",
    "\n",
    "print(f\"Dimensões: {df.shape} (linhas, colunas)\")"
   ]
  },
  {
   "cell_type": "code",
   "execution_count": 139,
   "id": "75a9c148",
   "metadata": {},
   "outputs": [
    {
     "name": "stdout",
     "output_type": "stream",
     "text": [
      "CODIGO_IES                   int64\n",
      "NOME_IES                    object\n",
      "CATEGORIA_ADMINISTRATIVA    object\n",
      "ORGANIZACAO_ACADEMICA       object\n",
      "CODIGO_CURSO                 int64\n",
      "NOME_CURSO                  object\n",
      "GRAU                        object\n",
      "AREA_OCDE                   object\n",
      "MODALIDADE                  object\n",
      "SITUACAO_CURSO              object\n",
      "QT_VAGAS_AUTORIZADAS         int64\n",
      "CARGA_HORARIA                int64\n",
      "CODIGO_AREA_OCDE_CINE       object\n",
      "AREA_OCDE_CINE              object\n",
      "CODIGO_MUNICIPIO             int64\n",
      "MUNICIPIO                   object\n",
      "UF                          object\n",
      "REGIAO                      object\n",
      "dtype: object\n"
     ]
    }
   ],
   "source": [
    "# Tipos de dados de cada coluna\n",
    "\n",
    "print(df.dtypes)"
   ]
  },
  {
   "cell_type": "code",
   "execution_count": 140,
   "id": "feaada41",
   "metadata": {},
   "outputs": [
    {
     "name": "stdout",
     "output_type": "stream",
     "text": [
      "CODIGO_IES                       0\n",
      "NOME_IES                         0\n",
      "CATEGORIA_ADMINISTRATIVA         0\n",
      "ORGANIZACAO_ACADEMICA            0\n",
      "CODIGO_CURSO                     0\n",
      "NOME_CURSO                       0\n",
      "GRAU                             0\n",
      "AREA_OCDE                   222099\n",
      "MODALIDADE                       0\n",
      "SITUACAO_CURSO                   0\n",
      "QT_VAGAS_AUTORIZADAS             0\n",
      "CARGA_HORARIA                    0\n",
      "CODIGO_AREA_OCDE_CINE           27\n",
      "AREA_OCDE_CINE                  27\n",
      "CODIGO_MUNICIPIO                 0\n",
      "MUNICIPIO                        0\n",
      "UF                               0\n",
      "REGIAO                           0\n",
      "dtype: int64\n"
     ]
    }
   ],
   "source": [
    "# Total de valores ausentes por coluna\n",
    "\n",
    "print(df.isna().sum())"
   ]
  },
  {
   "cell_type": "code",
   "execution_count": 141,
   "id": "847d8146",
   "metadata": {},
   "outputs": [
    {
     "name": "stdout",
     "output_type": "stream",
     "text": [
      "CODIGO_IES                   0.000000\n",
      "NOME_IES                     0.000000\n",
      "CATEGORIA_ADMINISTRATIVA     0.000000\n",
      "ORGANIZACAO_ACADEMICA        0.000000\n",
      "CODIGO_CURSO                 0.000000\n",
      "NOME_CURSO                   0.000000\n",
      "GRAU                         0.000000\n",
      "AREA_OCDE                   24.604509\n",
      "MODALIDADE                   0.000000\n",
      "SITUACAO_CURSO               0.000000\n",
      "QT_VAGAS_AUTORIZADAS         0.000000\n",
      "CARGA_HORARIA                0.000000\n",
      "CODIGO_AREA_OCDE_CINE        0.002991\n",
      "AREA_OCDE_CINE               0.002991\n",
      "CODIGO_MUNICIPIO             0.000000\n",
      "MUNICIPIO                    0.000000\n",
      "UF                           0.000000\n",
      "REGIAO                       0.000000\n",
      "dtype: float64\n"
     ]
    }
   ],
   "source": [
    "# Percentual de valores ausentes\n",
    "\n",
    "print((df.isna().sum() / len(df)) * 100)"
   ]
  },
  {
   "cell_type": "code",
   "execution_count": 142,
   "id": "fb10cea5",
   "metadata": {},
   "outputs": [],
   "source": [
    "# Remover colunas com valores ausentes\n",
    "\n",
    "df = df.dropna(axis=1)"
   ]
  },
  {
   "cell_type": "code",
   "execution_count": 143,
   "id": "f2c824e8",
   "metadata": {},
   "outputs": [
    {
     "name": "stdout",
     "output_type": "stream",
     "text": [
      "CODIGO_IES                  0\n",
      "NOME_IES                    0\n",
      "CATEGORIA_ADMINISTRATIVA    0\n",
      "ORGANIZACAO_ACADEMICA       0\n",
      "CODIGO_CURSO                0\n",
      "NOME_CURSO                  0\n",
      "GRAU                        0\n",
      "MODALIDADE                  0\n",
      "SITUACAO_CURSO              0\n",
      "QT_VAGAS_AUTORIZADAS        0\n",
      "CARGA_HORARIA               0\n",
      "CODIGO_MUNICIPIO            0\n",
      "MUNICIPIO                   0\n",
      "UF                          0\n",
      "REGIAO                      0\n",
      "dtype: int64\n"
     ]
    }
   ],
   "source": [
    "# Total de valores ausentes por coluna após remoção\n",
    "\n",
    "print(df.isna().sum())"
   ]
  },
  {
   "cell_type": "code",
   "execution_count": 144,
   "id": "334d1c6c",
   "metadata": {},
   "outputs": [
    {
     "name": "stdout",
     "output_type": "stream",
     "text": [
      "30\n"
     ]
    }
   ],
   "source": [
    "# Total de linhas duplicadas\n",
    "\n",
    "print(df.duplicated().sum())"
   ]
  },
  {
   "cell_type": "code",
   "execution_count": 145,
   "id": "a24e4a1a",
   "metadata": {},
   "outputs": [],
   "source": [
    "# Removendo linhas duplicadas\n",
    "\n",
    "df = df.drop_duplicates()"
   ]
  },
  {
   "cell_type": "code",
   "execution_count": 146,
   "id": "ab535bad",
   "metadata": {},
   "outputs": [
    {
     "name": "stdout",
     "output_type": "stream",
     "text": [
      "0\n"
     ]
    }
   ],
   "source": [
    "# Total de linhas duplicadas após remoção\n",
    "\n",
    "print(df.duplicated().sum())"
   ]
  },
  {
   "cell_type": "code",
   "execution_count": 147,
   "id": "abff9154",
   "metadata": {},
   "outputs": [
    {
     "data": {
      "image/png": "[encoded data removed]",
      "text/plain": [
       "<Figure size 500x500 with 1 Axes>"
      ]
     },
     "metadata": {},
     "output_type": "display_data"
    }
   ],
   "source": [
    "# Boxplot para visualizar distribuição e outliers\n",
    "\n",
    "plt.figure(figsize=(5, 5))\n",
    "df[['QT_VAGAS_AUTORIZADAS', 'CARGA_HORARIA']].boxplot()\n",
    "plt.title('Boxplots para Detecção de Outliers')\n",
    "plt.yscale('log')\n",
    "plt.xticks(rotation=45)\n",
    "plt.tight_layout()\n",
    "plt.show()"
   ]
  },
  {
   "cell_type": "code",
   "execution_count": 148,
   "id": "ce98d08f",
   "metadata": {},
   "outputs": [
    {
     "name": "stdout",
     "output_type": "stream",
     "text": [
      "Removendo outliers em QT_VAGAS_AUTORIZADAS...\n",
      "Coluna QT_VAGAS_AUTORIZADAS:\n",
      "  Limite inferior: -5590.0\n",
      "  Limite superior: 11354.0\n",
      "  Outliers: 75854 de 902646 registros\n",
      "\n",
      "Removendo outliers em CARGA_HORARIA...\n",
      "Coluna CARGA_HORARIA:\n",
      "  Limite inferior: -180.0\n",
      "  Limite superior: 5420.0\n",
      "  Outliers: 1501 de 826792 registros\n",
      "\n",
      "Tamanho do DataFrame original: 902646\n",
      "Tamanho do DataFrame após remover outliers: 825291\n",
      "Registros removidos: 77355 (8.57%)\n"
     ]
    }
   ],
   "source": [
    "# Função para remover outliers usando IQR em uma coluna específica\n",
    "def remove_outliers_iqr(df, column, multiplier=1.5):\n",
    "    Q1 = df[column].quantile(0.25)\n",
    "    Q3 = df[column].quantile(0.75)\n",
    "    IQR = Q3 - Q1\n",
    "    \n",
    "    lower_limit = Q1 - multiplier * IQR\n",
    "    upper_limit = Q3 + multiplier * IQR\n",
    "    \n",
    "    print(f\"Coluna {column}:\")\n",
    "    print(f\"  Limite inferior: {lower_limit}\")\n",
    "    print(f\"  Limite superior: {upper_limit}\")\n",
    "    print(f\"  Outliers: {((df[column] < lower_limit) | (df[column] > upper_limit)).sum()} de {len(df)} registros\")\n",
    "    \n",
    "    return df[(df[column] >= lower_limit) & (df[column] <= upper_limit)]\n",
    "\n",
    "# Criar uma cópia do DataFrame original\n",
    "df_clean = df.copy()\n",
    "\n",
    "# Aplicar IQR em cada coluna - primeiro em QT_VAGAS_AUTORIZADAS\n",
    "print(\"Removendo outliers em QT_VAGAS_AUTORIZADAS...\")\n",
    "df_clean = remove_outliers_iqr(df_clean, 'QT_VAGAS_AUTORIZADAS')\n",
    "\n",
    "# Depois em CARGA_HORARIA\n",
    "print(\"\\nRemovendo outliers em CARGA_HORARIA...\")\n",
    "df_clean = remove_outliers_iqr(df_clean, 'CARGA_HORARIA')\n",
    "\n",
    "# Mostrar o tamanho do DataFrame antes e depois\n",
    "print(f\"\\nTamanho do DataFrame original: {len(df)}\")\n",
    "print(f\"Tamanho do DataFrame após remover outliers: {len(df_clean)}\")\n",
    "print(f\"Registros removidos: {len(df) - len(df_clean)} ({(len(df) - len(df_clean))/len(df)*100:.2f}%)\")\n",
    "\n",
    "# Atribuir o DataFrame limpo à variável df para continuar a análise\n",
    "df = df_clean"
   ]
  },
  {
   "cell_type": "code",
   "execution_count": 149,
   "id": "f6e4a4b3",
   "metadata": {},
   "outputs": [
    {
     "data": {
      "image/png": "[encoded data removed]",
      "text/plain": [
       "<Figure size 640x480 with 1 Axes>"
      ]
     },
     "metadata": {},
     "output_type": "display_data"
    }
   ],
   "source": [
    "# Visualizar boxplot após remover outliers\n",
    "\n",
    "plt.subplot(1, 2, 2)\n",
    "df_clean[['QT_VAGAS_AUTORIZADAS', 'CARGA_HORARIA']].boxplot()\n",
    "plt.title('Boxplots Sem Outliers')\n",
    "plt.yscale('log')\n",
    "plt.xticks(rotation=45)\n",
    "\n",
    "plt.tight_layout()\n",
    "plt.show()"
   ]
  },
  {
   "cell_type": "code",
   "execution_count": 156,
   "id": "6ee9da6d",
   "metadata": {},
   "outputs": [],
   "source": [
    "# Remover colunas não necessárias\n",
    "\n",
    "columns_to_remove = ['CODIGO_IES', 'NOME_IES', 'CODIGO_CURSO', 'CODIGO_MUNICIPIO']\n",
    "\n",
    "df = df.drop(columns=columns_to_remove)"
   ]
  },
  {
   "cell_type": "code",
   "execution_count": 158,
   "id": "7541b6b6",
   "metadata": {},
   "outputs": [
    {
     "data": {
      "text/plain": [
       "Index(['CATEGORIA_ADMINISTRATIVA', 'ORGANIZACAO_ACADEMICA', 'NOME_CURSO',\n",
       "       'GRAU', 'MODALIDADE', 'SITUACAO_CURSO', 'QT_VAGAS_AUTORIZADAS',\n",
       "       'CARGA_HORARIA', 'MUNICIPIO', 'UF', 'REGIAO'],\n",
       "      dtype='object')"
      ]
     },
     "execution_count": 158,
     "metadata": {},
     "output_type": "execute_result"
    }
   ],
   "source": [
    "df.columns"
   ]
  },
  {
   "cell_type": "code",
   "execution_count": 159,
   "id": "c38f9d3d",
   "metadata": {},
   "outputs": [],
   "source": [
    "# Definir a nova ordem das colunas\n",
    "\n",
    "sort_columns = [ 'NOME_CURSO', 'GRAU', 'MODALIDADE', \n",
    "                'CATEGORIA_ADMINISTRATIVA', 'ORGANIZACAO_ACADEMICA',\n",
    "                'MUNICIPIO', 'UF', 'REGIAO', 'QT_VAGAS_AUTORIZADAS',\n",
    "                'CARGA_HORARIA', 'SITUACAO_CURSO']\n",
    "\n",
    "df = df[sort_columns]"
   ]
  },
  {
   "cell_type": "code",
   "execution_count": 161,
   "id": "631d28a8",
   "metadata": {},
   "outputs": [
    {
     "data": {
      "text/html": [
       "<div>\n",
       "<style scoped>\n",
       "    .dataframe tbody tr th:only-of-type {\n",
       "        vertical-align: middle;\n",
       "    }\n",
       "\n",
       "    .dataframe tbody tr th {\n",
       "        vertical-align: top;\n",
       "    }\n",
       "\n",
       "    .dataframe thead th {\n",
       "        text-align: right;\n",
       "    }\n",
       "</style>\n",
       "<table border=\"1\" class=\"dataframe\">\n",
       "  <thead>\n",
       "    <tr style=\"text-align: right;\">\n",
       "      <th></th>\n",
       "      <th>NOME_CURSO</th>\n",
       "      <th>GRAU</th>\n",
       "      <th>MODALIDADE</th>\n",
       "      <th>CATEGORIA_ADMINISTRATIVA</th>\n",
       "      <th>ORGANIZACAO_ACADEMICA</th>\n",
       "      <th>MUNICIPIO</th>\n",
       "      <th>UF</th>\n",
       "      <th>REGIAO</th>\n",
       "      <th>QT_VAGAS_AUTORIZADAS</th>\n",
       "      <th>CARGA_HORARIA</th>\n",
       "      <th>SITUACAO_CURSO</th>\n",
       "    </tr>\n",
       "  </thead>\n",
       "  <tbody>\n",
       "    <tr>\n",
       "      <th>0</th>\n",
       "      <td>ENGENHARIA AGRONÔMICA</td>\n",
       "      <td>Bacharelado</td>\n",
       "      <td>Educação a Distância</td>\n",
       "      <td>Privada com fins lucrativos</td>\n",
       "      <td>Centro Universitário</td>\n",
       "      <td>Presidente Prudente</td>\n",
       "      <td>SP</td>\n",
       "      <td>SUDESTE</td>\n",
       "      <td>1000</td>\n",
       "      <td>4400</td>\n",
       "      <td>Em atividade</td>\n",
       "    </tr>\n",
       "    <tr>\n",
       "      <th>1</th>\n",
       "      <td>LETRAS</td>\n",
       "      <td>Licenciatura</td>\n",
       "      <td>Educação a Distância</td>\n",
       "      <td>Privada com fins lucrativos</td>\n",
       "      <td>Centro Universitário</td>\n",
       "      <td>Sousa</td>\n",
       "      <td>PB</td>\n",
       "      <td>NORDESTE</td>\n",
       "      <td>3000</td>\n",
       "      <td>3992</td>\n",
       "      <td>Em atividade</td>\n",
       "    </tr>\n",
       "    <tr>\n",
       "      <th>2</th>\n",
       "      <td>GEOGRAFIA</td>\n",
       "      <td>Licenciatura</td>\n",
       "      <td>Educação a Distância</td>\n",
       "      <td>Privada com fins lucrativos</td>\n",
       "      <td>Centro Universitário</td>\n",
       "      <td>Aracaju</td>\n",
       "      <td>SE</td>\n",
       "      <td>NORDESTE</td>\n",
       "      <td>7620</td>\n",
       "      <td>3500</td>\n",
       "      <td>Em atividade</td>\n",
       "    </tr>\n",
       "    <tr>\n",
       "      <th>3</th>\n",
       "      <td>EDUCAÇÃO FÍSICA</td>\n",
       "      <td>Bacharelado</td>\n",
       "      <td>Educação a Distância</td>\n",
       "      <td>Privada com fins lucrativos</td>\n",
       "      <td>Universidade</td>\n",
       "      <td>Lapa</td>\n",
       "      <td>PR</td>\n",
       "      <td>SUL</td>\n",
       "      <td>1200</td>\n",
       "      <td>3200</td>\n",
       "      <td>Em atividade</td>\n",
       "    </tr>\n",
       "    <tr>\n",
       "      <th>4</th>\n",
       "      <td>SERVIÇOS PENAIS</td>\n",
       "      <td>Tecnológico</td>\n",
       "      <td>Educação a Distância</td>\n",
       "      <td>Privada com fins lucrativos</td>\n",
       "      <td>Centro Universitário</td>\n",
       "      <td>Belo Jardim</td>\n",
       "      <td>PE</td>\n",
       "      <td>NORDESTE</td>\n",
       "      <td>1500</td>\n",
       "      <td>1980</td>\n",
       "      <td>Em atividade</td>\n",
       "    </tr>\n",
       "  </tbody>\n",
       "</table>\n",
       "</div>"
      ],
      "text/plain": [
       "              NOME_CURSO          GRAU            MODALIDADE  \\\n",
       "0  ENGENHARIA AGRONÔMICA   Bacharelado  Educação a Distância   \n",
       "1                 LETRAS  Licenciatura  Educação a Distância   \n",
       "2              GEOGRAFIA  Licenciatura  Educação a Distância   \n",
       "3        EDUCAÇÃO FÍSICA   Bacharelado  Educação a Distância   \n",
       "4        SERVIÇOS PENAIS   Tecnológico  Educação a Distância   \n",
       "\n",
       "      CATEGORIA_ADMINISTRATIVA ORGANIZACAO_ACADEMICA            MUNICIPIO  UF  \\\n",
       "0  Privada com fins lucrativos  Centro Universitário  Presidente Prudente  SP   \n",
       "1  Privada com fins lucrativos  Centro Universitário                Sousa  PB   \n",
       "2  Privada com fins lucrativos  Centro Universitário              Aracaju  SE   \n",
       "3  Privada com fins lucrativos          Universidade                 Lapa  PR   \n",
       "4  Privada com fins lucrativos  Centro Universitário          Belo Jardim  PE   \n",
       "\n",
       "     REGIAO  QT_VAGAS_AUTORIZADAS  CARGA_HORARIA SITUACAO_CURSO  \n",
       "0   SUDESTE                  1000           4400   Em atividade  \n",
       "1  NORDESTE                  3000           3992   Em atividade  \n",
       "2  NORDESTE                  7620           3500   Em atividade  \n",
       "3       SUL                  1200           3200   Em atividade  \n",
       "4  NORDESTE                  1500           1980   Em atividade  "
      ]
     },
     "execution_count": 161,
     "metadata": {},
     "output_type": "execute_result"
    }
   ],
   "source": [
    "df.head()"
   ]
  },
  {
   "cell_type": "code",
   "execution_count": 162,
   "id": "3580ced9",
   "metadata": {},
   "outputs": [],
   "source": [
    "# Salvar o DataFrame limpo em um novo arquivo CSV\n",
    "\n",
    "df.to_csv('/home/willemromao/Downloads/TI/projetos_graduacao/ciencia_de_dados/cursos_graduacao_brasil/data/clean.csv', index=False)"
   ]
  }
 ],
 "metadata": {
  "kernelspec": {
   "display_name": "base",
   "language": "python",
   "name": "python3"
  },
  "language_info": {
   "codemirror_mode": {
    "name": "ipython",
    "version": 3
   },
   "file_extension": ".py",
   "mimetype": "text/x-python",
   "name": "python",
   "nbconvert_exporter": "python",
   "pygments_lexer": "ipython3",
   "version": "3.12.2"
  }
 },
 "nbformat": 4,
 "nbformat_minor": 5
}
